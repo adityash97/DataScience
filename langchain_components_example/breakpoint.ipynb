{
 "cells": [
  {
   "cell_type": "markdown",
   "metadata": {},
   "source": [
    "\n",
    "<center>\n",
    "<font color=\"cyan\"><h2 > BreakPoint(Human in Loop)</h2></font>\n",
    "<center>\n",
    "<h3>interupt before</h3>\n",
    "<h3>interupt before</h3>\n",
    "<h3>Node Interrupt</h3>\n",
    "</center>\n",
    "</center>\n",
    "\n"
   ]
  },
  {
   "cell_type": "markdown",
   "metadata": {},
   "source": [
    "<p>Langgraph offers several ways to get or update agent state systematically to support various human-in-loop workflows</p>\n",
    "<ul>\n",
    "<li>Approval : We can interupt agent, surface state to a user, and allow the user to accept an action.</li>\n",
    "<li>Debugging : We can rewind the graph to reproduce or avoid issues </li>\n",
    "<li>Editing : You can modify the state</li>\n",
    "</ul>\n",
    "\n",
    "Let's see the <code>breakpoints</code> , which provide a simple way to stop the graph at specific steps.\n"
   ]
  },
  {
   "cell_type": "markdown",
   "metadata": {},
   "source": [
    "BreakPoint for Human approval\n",
    "<p>All we need to do is simply compile the graph with interrupt_before=[\"tools\"] where tools is our tools node </p>"
   ]
  },
  {
   "cell_type": "code",
   "execution_count": 1,
   "metadata": {},
   "outputs": [],
   "source": [
    "# defining tools\n",
    "from langchain_openai import ChatOpenAI\n",
    "\n",
    "def multiply(a:int,b:int)-> int:\n",
    "    \"\"\"helps to multiply two number \n",
    "\n",
    "    Args:\n",
    "        a : first int\n",
    "        b : second int\n",
    "    \"\"\"\n",
    "    return a*b\n",
    "tools = [multiply]\n",
    "llm = ChatOpenAI(model='gpt-4o-mini')\n",
    "llm_with_tools = llm.bind_tools(tools)\n"
   ]
  },
  {
   "cell_type": "code",
   "execution_count": 2,
   "metadata": {},
   "outputs": [
    {
     "data": {
      "image/jpeg": "[encoded data removed]",
      "text/plain": [
       "<IPython.core.display.Image object>"
      ]
     },
     "metadata": {},
     "output_type": "display_data"
    }
   ],
   "source": [
    "from langgraph.graph import START,END,StateGraph,MessagesState\n",
    "from IPython.display import display,Image\n",
    "from langchain_core.messages import SystemMessage\n",
    "from langgraph.prebuilt import tools_condition,ToolNode\n",
    "from langgraph.checkpoint.memory import MemorySaver\n",
    "system_message = SystemMessage(content=\"You are a helpful assistant who can perform arithmetic operations.\")\n",
    "#state\n",
    "class State(MessagesState):\n",
    "    pass\n",
    "\n",
    "#node\n",
    "def call_llm(state:State):\n",
    "    response = llm_with_tools.invoke([system_message]+state['messages'])\n",
    "    return {'messages':response}\n",
    "\n",
    "# graph\n",
    "builder = StateGraph(State)\n",
    "builder.add_node('call_llm',call_llm)\n",
    "builder.add_node('tools',ToolNode(tools))\n",
    "\n",
    "\n",
    "builder.add_edge(START,'call_llm')\n",
    "builder.add_conditional_edges('call_llm',tools_condition)\n",
    "builder.add_edge('tools','call_llm')\n",
    "\n",
    "\n",
    "#compile\n",
    "memory = MemorySaver()\n",
    "graph = builder.compile(interrupt_before=['tools'],checkpointer=memory)\n",
    "\n",
    "\n",
    "\n",
    "display(Image(graph.get_graph().draw_mermaid_png()))"
   ]
  },
  {
   "cell_type": "code",
   "execution_count": 12,
   "metadata": {},
   "outputs": [
    {
     "name": "stdout",
     "output_type": "stream",
     "text": [
      "================================\u001b[1m Human Message \u001b[0m=================================\n",
      "\n",
      "Multiply 2 and 3\n",
      "None\n",
      "==================================\u001b[1m Ai Message \u001b[0m==================================\n",
      "Tool Calls:\n",
      "  multiply (call_yai3wJnsft6dfYNPhTdtyGiu)\n",
      " Call ID: call_yai3wJnsft6dfYNPhTdtyGiu\n",
      "  Args:\n",
      "    a: 2\n",
      "    b: 3\n",
      "None\n"
     ]
    }
   ],
   "source": [
    "config = {'configurable':{'thread_id':1}}\n",
    "events = []\n",
    "for event in graph.stream({'messages':\"Multiply 2 and 3\"}, config,stream_mode='values'):\n",
    "    events.append(event)\n",
    "    print(event['messages'][-1].pretty_print())"
   ]
  },
  {
   "cell_type": "code",
   "execution_count": 13,
   "metadata": {},
   "outputs": [
    {
     "data": {
      "text/plain": [
       "{'messages': [HumanMessage(content='Multiply 2 and 3', additional_kwargs={}, response_metadata={}, id='b23c58f4-8518-4d23-a008-c1ce9e8f4901'),\n",
       "  AIMessage(content='', additional_kwargs={'tool_calls': [{'id': 'call_yai3wJnsft6dfYNPhTdtyGiu', 'function': {'arguments': '{\"a\":2,\"b\":3}', 'name': 'multiply'}, 'type': 'function'}], 'refusal': None}, response_metadata={'token_usage': {'completion_tokens': 17, 'prompt_tokens': 70, 'total_tokens': 87, 'completion_tokens_details': {'audio_tokens': 0, 'reasoning_tokens': 0, 'accepted_prediction_tokens': 0, 'rejected_prediction_tokens': 0}, 'prompt_tokens_details': {'audio_tokens': 0, 'cached_tokens': 0}}, 'model_name': 'gpt-4o-mini-2024-07-18', 'system_fingerprint': 'fp_0ba0d124f1', 'finish_reason': 'tool_calls', 'logprobs': None}, id='run-c1cc7e65-8c83-4b46-93cd-ad3e59fc9b0a-0', tool_calls=[{'name': 'multiply', 'args': {'a': 2, 'b': 3}, 'id': 'call_yai3wJnsft6dfYNPhTdtyGiu', 'type': 'tool_call'}], usage_metadata={'input_tokens': 70, 'output_tokens': 17, 'total_tokens': 87, 'input_token_details': {'audio': 0, 'cache_read': 0}, 'output_token_details': {'audio': 0, 'reasoning': 0}})]}"
      ]
     },
     "execution_count": 13,
     "metadata": {},
     "output_type": "execute_result"
    }
   ],
   "source": [
    "event"
   ]
  },
  {
   "cell_type": "code",
   "execution_count": 15,
   "metadata": {},
   "outputs": [
    {
     "data": {
      "text/plain": [
       "('tools',)"
      ]
     },
     "execution_count": 15,
     "metadata": {},
     "output_type": "execute_result"
    }
   ],
   "source": [
    "state = graph.get_state(config)\n",
    "state.next"
   ]
  },
  {
   "cell_type": "code",
   "execution_count": 17,
   "metadata": {},
   "outputs": [
    {
     "name": "stdout",
     "output_type": "stream",
     "text": [
      "StateSnapshot(values={'messages': [HumanMessage(content='Multiply 2 and 3', additional_kwargs={}, response_metadata={}, id='b23c58f4-8518-4d23-a008-c1ce9e8f4901'), AIMessage(content='', additional_kwargs={'tool_calls': [{'id': 'call_yai3wJnsft6dfYNPhTdtyGiu', 'function': {'arguments': '{\"a\":2,\"b\":3}', 'name': 'multiply'}, 'type': 'function'}], 'refusal': None}, response_metadata={'token_usage': {'completion_tokens': 17, 'prompt_tokens': 70, 'total_tokens': 87, 'completion_tokens_details': {'audio_tokens': 0, 'reasoning_tokens': 0, 'accepted_prediction_tokens': 0, 'rejected_prediction_tokens': 0}, 'prompt_tokens_details': {'audio_tokens': 0, 'cached_tokens': 0}}, 'model_name': 'gpt-4o-mini-2024-07-18', 'system_fingerprint': 'fp_0ba0d124f1', 'finish_reason': 'tool_calls', 'logprobs': None}, id='run-c1cc7e65-8c83-4b46-93cd-ad3e59fc9b0a-0', tool_calls=[{'name': 'multiply', 'args': {'a': 2, 'b': 3}, 'id': 'call_yai3wJnsft6dfYNPhTdtyGiu', 'type': 'tool_call'}], usage_metadata={'input_tokens': 70, 'output_tokens': 17, 'total_tokens': 87, 'input_token_details': {'audio': 0, 'cache_read': 0}, 'output_token_details': {'audio': 0, 'reasoning': 0}})]}, next=('tools',), config={'configurable': {'thread_id': 1, 'checkpoint_ns': '', 'checkpoint_id': '1efa2490-b463-6cf4-8001-239f1abbd3dc'}}, metadata={'source': 'loop', 'writes': {'call_llm': {'messages': AIMessage(content='', additional_kwargs={'tool_calls': [{'id': 'call_yai3wJnsft6dfYNPhTdtyGiu', 'function': {'arguments': '{\"a\":2,\"b\":3}', 'name': 'multiply'}, 'type': 'function'}], 'refusal': None}, response_metadata={'token_usage': {'completion_tokens': 17, 'prompt_tokens': 70, 'total_tokens': 87, 'completion_tokens_details': {'audio_tokens': 0, 'reasoning_tokens': 0, 'accepted_prediction_tokens': 0, 'rejected_prediction_tokens': 0}, 'prompt_tokens_details': {'audio_tokens': 0, 'cached_tokens': 0}}, 'model_name': 'gpt-4o-mini-2024-07-18', 'system_fingerprint': 'fp_0ba0d124f1', 'finish_reason': 'tool_calls', 'logprobs': None}, id='run-c1cc7e65-8c83-4b46-93cd-ad3e59fc9b0a-0', tool_calls=[{'name': 'multiply', 'args': {'a': 2, 'b': 3}, 'id': 'call_yai3wJnsft6dfYNPhTdtyGiu', 'type': 'tool_call'}], usage_metadata={'input_tokens': 70, 'output_tokens': 17, 'total_tokens': 87, 'input_token_details': {'audio': 0, 'cache_read': 0}, 'output_token_details': {'audio': 0, 'reasoning': 0}})}}, 'step': 1, 'parents': {}}, created_at='2024-11-14T05:26:47.723933+00:00', parent_config={'configurable': {'thread_id': 1, 'checkpoint_ns': '', 'checkpoint_id': '1efa2490-a5ab-687e-8000-10ac9252972c'}}, tasks=(PregelTask(id='1e144ac5-a32b-a461-a53f-e094e632d89f', name='tools', path=('__pregel_pull', 'tools'), error=None, interrupts=(), state=None, result=None),))\n"
     ]
    }
   ],
   "source": [
    "print(state)"
   ]
  },
  {
   "cell_type": "code",
   "execution_count": 18,
   "metadata": {},
   "outputs": [
    {
     "data": {
      "text/plain": [
       "[{'messages': [HumanMessage(content='Multiply 2 and 3', additional_kwargs={}, response_metadata={}, id='b23c58f4-8518-4d23-a008-c1ce9e8f4901')]},\n",
       " {'messages': [HumanMessage(content='Multiply 2 and 3', additional_kwargs={}, response_metadata={}, id='b23c58f4-8518-4d23-a008-c1ce9e8f4901'),\n",
       "   AIMessage(content='', additional_kwargs={'tool_calls': [{'id': 'call_yai3wJnsft6dfYNPhTdtyGiu', 'function': {'arguments': '{\"a\":2,\"b\":3}', 'name': 'multiply'}, 'type': 'function'}], 'refusal': None}, response_metadata={'token_usage': {'completion_tokens': 17, 'prompt_tokens': 70, 'total_tokens': 87, 'completion_tokens_details': {'audio_tokens': 0, 'reasoning_tokens': 0, 'accepted_prediction_tokens': 0, 'rejected_prediction_tokens': 0}, 'prompt_tokens_details': {'audio_tokens': 0, 'cached_tokens': 0}}, 'model_name': 'gpt-4o-mini-2024-07-18', 'system_fingerprint': 'fp_0ba0d124f1', 'finish_reason': 'tool_calls', 'logprobs': None}, id='run-c1cc7e65-8c83-4b46-93cd-ad3e59fc9b0a-0', tool_calls=[{'name': 'multiply', 'args': {'a': 2, 'b': 3}, 'id': 'call_yai3wJnsft6dfYNPhTdtyGiu', 'type': 'tool_call'}], usage_metadata={'input_tokens': 70, 'output_tokens': 17, 'total_tokens': 87, 'input_token_details': {'audio': 0, 'cache_read': 0}, 'output_token_details': {'audio': 0, 'reasoning': 0}})]}]"
      ]
     },
     "execution_count": 18,
     "metadata": {},
     "output_type": "execute_result"
    }
   ],
   "source": [
    "events"
   ]
  },
  {
   "cell_type": "code",
   "execution_count": 19,
   "metadata": {},
   "outputs": [
    {
     "data": {
      "text/plain": [
       "2"
      ]
     },
     "execution_count": 19,
     "metadata": {},
     "output_type": "execute_result"
    }
   ],
   "source": [
    "len(events)"
   ]
  },
  {
   "cell_type": "code",
   "execution_count": 20,
   "metadata": {},
   "outputs": [
    {
     "name": "stdout",
     "output_type": "stream",
     "text": [
      "==================================\u001b[1m Ai Message \u001b[0m==================================\n",
      "Tool Calls:\n",
      "  multiply (call_yai3wJnsft6dfYNPhTdtyGiu)\n",
      " Call ID: call_yai3wJnsft6dfYNPhTdtyGiu\n",
      "  Args:\n",
      "    a: 2\n",
      "    b: 3\n",
      "None\n",
      "=================================\u001b[1m Tool Message \u001b[0m=================================\n",
      "Name: multiply\n",
      "\n",
      "6\n",
      "None\n",
      "==================================\u001b[1m Ai Message \u001b[0m==================================\n",
      "\n",
      "The result of multiplying 2 and 3 is 6.\n",
      "None\n"
     ]
    }
   ],
   "source": [
    "for event in graph.stream(None, config,stream_mode='values'):\n",
    "    events.append(event)\n",
    "    print(event['messages'][-1].pretty_print())"
   ]
  },
  {
   "cell_type": "code",
   "execution_count": 21,
   "metadata": {},
   "outputs": [
    {
     "data": {
      "text/plain": [
       "5"
      ]
     },
     "execution_count": 21,
     "metadata": {},
     "output_type": "execute_result"
    }
   ],
   "source": [
    "len(events)"
   ]
  },
  {
   "cell_type": "markdown",
   "metadata": {},
   "source": [
    "#### User Approval"
   ]
  },
  {
   "cell_type": "code",
   "execution_count": 9,
   "metadata": {},
   "outputs": [
    {
     "name": "stdout",
     "output_type": "stream",
     "text": [
      "state history :  <generator object Pregel.get_state_history at 0x10f9b3b00> \n",
      "********************================================\u001b[1m Human Message \u001b[0m=================================\n",
      "\n",
      "What is 3 * 3?\n",
      "None\n",
      "==================================\u001b[1m Ai Message \u001b[0m==================================\n",
      "Tool Calls:\n",
      "  multiply (call_22IdEgGGboLqdH8Yt5axfedt)\n",
      " Call ID: call_22IdEgGGboLqdH8Yt5axfedt\n",
      "  Args:\n",
      "    a: 3\n",
      "    b: 3\n",
      "None\n",
      "Current History of state : \n",
      " StateSnapshot(values={'messages': [HumanMessage(content='What is 3 * 3?', additional_kwargs={}, response_metadata={}, id='0a1abbd4-3886-4ea3-ad0d-a25b34188a54'), AIMessage(content='', additional_kwargs={'tool_calls': [{'id': 'call_22IdEgGGboLqdH8Yt5axfedt', 'function': {'arguments': '{\"a\":3,\"b\":3}', 'name': 'multiply'}, 'type': 'function'}], 'refusal': None}, response_metadata={'token_usage': {'completion_tokens': 17, 'prompt_tokens': 72, 'total_tokens': 89, 'completion_tokens_details': {'audio_tokens': 0, 'reasoning_tokens': 0, 'accepted_prediction_tokens': 0, 'rejected_prediction_tokens': 0}, 'prompt_tokens_details': {'audio_tokens': 0, 'cached_tokens': 0}}, 'model_name': 'gpt-4o-mini-2024-07-18', 'system_fingerprint': 'fp_0ba0d124f1', 'finish_reason': 'tool_calls', 'logprobs': None}, id='run-8f5ccea7-4070-440e-99e1-84c1a8f31d4c-0', tool_calls=[{'name': 'multiply', 'args': {'a': 3, 'b': 3}, 'id': 'call_22IdEgGGboLqdH8Yt5axfedt', 'type': 'tool_call'}], usage_metadata={'input_tokens': 72, 'output_tokens': 17, 'total_tokens': 89, 'input_token_details': {'audio': 0, 'cache_read': 0}, 'output_token_details': {'audio': 0, 'reasoning': 0}})]}, next=('tools',), config={'configurable': {'thread_id': 21, 'checkpoint_ns': '', 'checkpoint_id': '1efa291d-113c-6f1c-8001-76ecfdefe07d'}}, metadata={'source': 'loop', 'writes': {'call_llm': {'messages': AIMessage(content='', additional_kwargs={'tool_calls': [{'id': 'call_22IdEgGGboLqdH8Yt5axfedt', 'function': {'arguments': '{\"a\":3,\"b\":3}', 'name': 'multiply'}, 'type': 'function'}], 'refusal': None}, response_metadata={'token_usage': {'completion_tokens': 17, 'prompt_tokens': 72, 'total_tokens': 89, 'completion_tokens_details': {'audio_tokens': 0, 'reasoning_tokens': 0, 'accepted_prediction_tokens': 0, 'rejected_prediction_tokens': 0}, 'prompt_tokens_details': {'audio_tokens': 0, 'cached_tokens': 0}}, 'model_name': 'gpt-4o-mini-2024-07-18', 'system_fingerprint': 'fp_0ba0d124f1', 'finish_reason': 'tool_calls', 'logprobs': None}, id='run-8f5ccea7-4070-440e-99e1-84c1a8f31d4c-0', tool_calls=[{'name': 'multiply', 'args': {'a': 3, 'b': 3}, 'id': 'call_22IdEgGGboLqdH8Yt5axfedt', 'type': 'tool_call'}], usage_metadata={'input_tokens': 72, 'output_tokens': 17, 'total_tokens': 89, 'input_token_details': {'audio': 0, 'cache_read': 0}, 'output_token_details': {'audio': 0, 'reasoning': 0}})}}, 'step': 1, 'parents': {}}, created_at='2024-11-14T14:07:43.346836+00:00', parent_config={'configurable': {'thread_id': 21, 'checkpoint_ns': '', 'checkpoint_id': '1efa291d-073f-61b8-8000-c2b384b176b9'}}, tasks=(PregelTask(id='809bc93a-26e0-1963-a4f2-433e55965397', name='tools', path=('__pregel_pull', 'tools'), error=None, interrupts=(), state=None, result=None),)) \n",
      "-------------------------"
     ]
    }
   ],
   "source": [
    "config = {'configurable':{'thread_id':21}}\n",
    "print(\"state history : \",graph.get_state_history(config),\"\\n\", end=\"*\"*20)\n",
    "for event in graph.stream({'messages':\"What is 3 * 3?\"},config,stream_mode='values'):\n",
    "    print(event['messages'][-1].pretty_print())\n",
    "print(\"Current History of state : \\n\",graph.get_state(config),\"\\n\",end=\"-\"*25)\n"
   ]
  },
  {
   "cell_type": "code",
   "execution_count": 10,
   "metadata": {},
   "outputs": [
    {
     "name": "stdout",
     "output_type": "stream",
     "text": [
      "User approval: yes\n"
     ]
    }
   ],
   "source": [
    "user_approval = \"yes\"\n",
    "print(f'User approval: {user_approval}')\n"
   ]
  },
  {
   "cell_type": "code",
   "execution_count": null,
   "metadata": {},
   "outputs": [],
   "source": [
    "user_approval = \"no\"\n",
    "print(f'User approval: {user_approval}')"
   ]
  },
  {
   "cell_type": "code",
   "execution_count": 11,
   "metadata": {},
   "outputs": [
    {
     "name": "stdout",
     "output_type": "stream",
     "text": [
      "==================================\u001b[1m Ai Message \u001b[0m==================================\n",
      "Tool Calls:\n",
      "  multiply (call_22IdEgGGboLqdH8Yt5axfedt)\n",
      " Call ID: call_22IdEgGGboLqdH8Yt5axfedt\n",
      "  Args:\n",
      "    a: 3\n",
      "    b: 3\n",
      "None\n",
      "=================================\u001b[1m Tool Message \u001b[0m=================================\n",
      "Name: multiply\n",
      "\n",
      "9\n",
      "None\n",
      "==================================\u001b[1m Ai Message \u001b[0m==================================\n",
      "\n",
      "3 * 3 is 9.\n",
      "None\n",
      "Again Current History of state : \n",
      " StateSnapshot(values={'messages': [HumanMessage(content='What is 3 * 3?', additional_kwargs={}, response_metadata={}, id='0a1abbd4-3886-4ea3-ad0d-a25b34188a54'), AIMessage(content='', additional_kwargs={'tool_calls': [{'id': 'call_22IdEgGGboLqdH8Yt5axfedt', 'function': {'arguments': '{\"a\":3,\"b\":3}', 'name': 'multiply'}, 'type': 'function'}], 'refusal': None}, response_metadata={'token_usage': {'completion_tokens': 17, 'prompt_tokens': 72, 'total_tokens': 89, 'completion_tokens_details': {'audio_tokens': 0, 'reasoning_tokens': 0, 'accepted_prediction_tokens': 0, 'rejected_prediction_tokens': 0}, 'prompt_tokens_details': {'audio_tokens': 0, 'cached_tokens': 0}}, 'model_name': 'gpt-4o-mini-2024-07-18', 'system_fingerprint': 'fp_0ba0d124f1', 'finish_reason': 'tool_calls', 'logprobs': None}, id='run-8f5ccea7-4070-440e-99e1-84c1a8f31d4c-0', tool_calls=[{'name': 'multiply', 'args': {'a': 3, 'b': 3}, 'id': 'call_22IdEgGGboLqdH8Yt5axfedt', 'type': 'tool_call'}], usage_metadata={'input_tokens': 72, 'output_tokens': 17, 'total_tokens': 89, 'input_token_details': {'audio': 0, 'cache_read': 0}, 'output_token_details': {'audio': 0, 'reasoning': 0}}), ToolMessage(content='9', name='multiply', id='2e0157a5-ec3a-4397-9457-5a23b5d5fd7b', tool_call_id='call_22IdEgGGboLqdH8Yt5axfedt'), AIMessage(content='3 * 3 is 9.', additional_kwargs={'refusal': None}, response_metadata={'token_usage': {'completion_tokens': 9, 'prompt_tokens': 97, 'total_tokens': 106, 'completion_tokens_details': {'audio_tokens': 0, 'reasoning_tokens': 0, 'accepted_prediction_tokens': 0, 'rejected_prediction_tokens': 0}, 'prompt_tokens_details': {'audio_tokens': 0, 'cached_tokens': 0}}, 'model_name': 'gpt-4o-mini-2024-07-18', 'system_fingerprint': 'fp_0ba0d124f1', 'finish_reason': 'stop', 'logprobs': None}, id='run-abdda5ac-adb4-42a4-ada3-c15df698c4ce-0', usage_metadata={'input_tokens': 97, 'output_tokens': 9, 'total_tokens': 106, 'input_token_details': {'audio': 0, 'cache_read': 0}, 'output_token_details': {'audio': 0, 'reasoning': 0}})]}, next=(), config={'configurable': {'thread_id': 21, 'checkpoint_ns': '', 'checkpoint_id': '1efa291d-992f-688e-8003-b91f69d64c11'}}, metadata={'source': 'loop', 'writes': {'call_llm': {'messages': AIMessage(content='3 * 3 is 9.', additional_kwargs={'refusal': None}, response_metadata={'token_usage': {'completion_tokens': 9, 'prompt_tokens': 97, 'total_tokens': 106, 'completion_tokens_details': {'audio_tokens': 0, 'reasoning_tokens': 0, 'accepted_prediction_tokens': 0, 'rejected_prediction_tokens': 0}, 'prompt_tokens_details': {'audio_tokens': 0, 'cached_tokens': 0}}, 'model_name': 'gpt-4o-mini-2024-07-18', 'system_fingerprint': 'fp_0ba0d124f1', 'finish_reason': 'stop', 'logprobs': None}, id='run-abdda5ac-adb4-42a4-ada3-c15df698c4ce-0', usage_metadata={'input_tokens': 97, 'output_tokens': 9, 'total_tokens': 106, 'input_token_details': {'audio': 0, 'cache_read': 0}, 'output_token_details': {'audio': 0, 'reasoning': 0}})}}, 'step': 3, 'parents': {}}, created_at='2024-11-14T14:07:57.601976+00:00', parent_config={'configurable': {'thread_id': 21, 'checkpoint_ns': '', 'checkpoint_id': '1efa291d-8cd5-6944-8002-06c707abbfe4'}}, tasks=()) \n",
      "-------------------------state history :  <generator object Pregel.get_state_history at 0x10f9b3b00> \n",
      "********************"
     ]
    }
   ],
   "source": [
    "if user_approval.lower() == 'yes':\n",
    "    for event in graph.stream(None,config,stream_mode='values'):\n",
    "        print(event['messages'][-1].pretty_print())\n",
    "print(\"Again Current History of state : \\n\",graph.get_state(config),\"\\n\",end=\"-\"*25)\n",
    "print(\"state history : \",graph.get_state_history(config),\"\\n\",end=\"*\"*20)"
   ]
  },
  {
   "cell_type": "markdown",
   "metadata": {},
   "source": [
    "## We can modify the graph state when we use breakpoint."
   ]
  },
  {
   "cell_type": "code",
   "execution_count": 25,
   "metadata": {},
   "outputs": [],
   "source": [
    "# simple tool\n",
    "from langchain_openai import ChatOpenAI\n",
    "def multiply(a:int,b:int)-> int:\n",
    "    \"\"\"helps to muplitply two number\n",
    "\n",
    "    Args:\n",
    "        a : first number\n",
    "        b : second number\n",
    "    \"\"\"\n",
    "    return a * b\n",
    "llm = ChatOpenAI(model='gpt-4o-mini')\n",
    "tools = [multiply]\n",
    "llm_with_tools = llm.bind_tools(tools)"
   ]
  },
  {
   "cell_type": "code",
   "execution_count": 26,
   "metadata": {},
   "outputs": [
    {
     "data": {
      "image/jpeg": "[encoded data removed]",
      "text/plain": [
       "<IPython.core.display.Image object>"
      ]
     },
     "metadata": {},
     "output_type": "display_data"
    }
   ],
   "source": [
    "from langchain_core.messages import SystemMessage,HumanMessage\n",
    "from langgraph.graph import START,END,StateGraph,MessagesState\n",
    "from langgraph.prebuilt import tools_condition,ToolNode\n",
    "from IPython.display import display,Image\n",
    "from langgraph.checkpoint.memory import MemorySaver\n",
    "\n",
    "memory = MemorySaver()\n",
    "# state\n",
    "class State(MessagesState):\n",
    "    pass\n",
    "\n",
    "# node\n",
    "def call_llm(state):\n",
    "    return({'messages':[SystemMessage(content='You are an AI assistant who can do arithmatic operations.')] + [llm_with_tools.invoke(state['messages'])]})    \n",
    "\n",
    "builder = StateGraph(State)\n",
    "builder.add_node('call_llm',call_llm)\n",
    "builder.add_node('tools',ToolNode(tools))\n",
    "\n",
    "builder.add_edge(START,'call_llm')\n",
    "builder.add_conditional_edges('call_llm',tools_condition)\n",
    "builder.add_edge('tools','call_llm')\n",
    "\n",
    "graph = builder.compile(checkpointer=memory,interrupt_before=['call_llm'])\n",
    "\n",
    "display(Image(graph.get_graph().draw_mermaid_png()))"
   ]
  },
  {
   "cell_type": "code",
   "execution_count": 27,
   "metadata": {},
   "outputs": [
    {
     "data": {
      "text/plain": [
       "{'messages': [HumanMessage(content='What is 4 * 4', additional_kwargs={}, response_metadata={}, id='ad5092b5-059a-4e88-8fec-044b83cf1a47')]}"
      ]
     },
     "execution_count": 27,
     "metadata": {},
     "output_type": "execute_result"
    }
   ],
   "source": [
    "config = {'configurable':{'thread_id':123}}\n",
    "graph.invoke({'messages':[HumanMessage(content=\"What is 4 * 4\")]}, config)"
   ]
  },
  {
   "cell_type": "code",
   "execution_count": 28,
   "metadata": {},
   "outputs": [
    {
     "name": "stdout",
     "output_type": "stream",
     "text": [
      "StateSnapshot(values={'messages': [HumanMessage(content='What is 4 * 4', additional_kwargs={}, response_metadata={}, id='ad5092b5-059a-4e88-8fec-044b83cf1a47')]}, next=('call_llm',), config={'configurable': {'thread_id': 123, 'checkpoint_ns': '', 'checkpoint_id': '1efa2a37-42a0-6fa2-8000-006c2a901b76'}}, metadata={'source': 'loop', 'writes': None, 'step': 0, 'parents': {}}, created_at='2024-11-14T16:13:58.405713+00:00', parent_config={'configurable': {'thread_id': 123, 'checkpoint_ns': '', 'checkpoint_id': '1efa2a37-429e-6a2c-bfff-57db507316da'}}, tasks=(PregelTask(id='058511b4-239e-3885-4f41-bf8406705f25', name='call_llm', path=('__pregel_pull', 'call_llm'), error=None, interrupts=(), state=None, result=None),))\n"
     ]
    }
   ],
   "source": [
    "graph_state = graph.get_state(config)\n",
    "print(graph_state)"
   ]
  },
  {
   "cell_type": "code",
   "execution_count": 29,
   "metadata": {},
   "outputs": [
    {
     "name": "stdout",
     "output_type": "stream",
     "text": [
      "('call_llm',)\n"
     ]
    }
   ],
   "source": [
    "print(graph_state.next)"
   ]
  },
  {
   "cell_type": "markdown",
   "metadata": {},
   "source": [
    "## Modify the state before the next node will call."
   ]
  },
  {
   "cell_type": "code",
   "execution_count": 30,
   "metadata": {},
   "outputs": [
    {
     "data": {
      "text/plain": [
       "{'configurable': {'thread_id': 123,\n",
       "  'checkpoint_ns': '',\n",
       "  'checkpoint_id': '1efa2a37-42d4-6ed8-8001-5d26f702d180'}}"
      ]
     },
     "execution_count": 30,
     "metadata": {},
     "output_type": "execute_result"
    }
   ],
   "source": [
    "graph.update_state(\n",
    "    config=config,\n",
    "    values={'messages' : [HumanMessage(content=\"No,what is 9 * 9?\")]}\n",
    ")"
   ]
  },
  {
   "cell_type": "markdown",
   "metadata": {},
   "source": [
    "<p>As we are passing new message , and used MessageSatate while defining the class. The default reducer will append to messages. To update the existing message we need to pass the message id.</p>"
   ]
  },
  {
   "cell_type": "code",
   "execution_count": 31,
   "metadata": {},
   "outputs": [
    {
     "name": "stdout",
     "output_type": "stream",
     "text": [
      "StateSnapshot(values={'messages': [HumanMessage(content='What is 4 * 4', additional_kwargs={}, response_metadata={}, id='ad5092b5-059a-4e88-8fec-044b83cf1a47'), HumanMessage(content='No,what is 9 * 9?', additional_kwargs={}, response_metadata={}, id='0e29fca9-51db-4f7a-a33b-3bd702861650')]}, next=('call_llm',), config={'configurable': {'thread_id': 123, 'checkpoint_ns': '', 'checkpoint_id': '1efa2a37-42d4-6ed8-8001-5d26f702d180'}}, metadata={'source': 'update', 'step': 1, 'writes': {'__start__': {'messages': [HumanMessage(content='No,what is 9 * 9?', additional_kwargs={}, response_metadata={}, id='0e29fca9-51db-4f7a-a33b-3bd702861650')]}}, 'parents': {}}, created_at='2024-11-14T16:13:58.426990+00:00', parent_config={'configurable': {'thread_id': 123, 'checkpoint_ns': '', 'checkpoint_id': '1efa2a37-42a0-6fa2-8000-006c2a901b76'}}, tasks=(PregelTask(id='d69424b0-ca22-b202-711c-9120848db9a5', name='call_llm', path=('__pregel_pull', 'call_llm'), error=None, interrupts=(), state=None, result=None),))\n"
     ]
    }
   ],
   "source": [
    "print(graph.get_state(config))"
   ]
  },
  {
   "cell_type": "code",
   "execution_count": 32,
   "metadata": {},
   "outputs": [
    {
     "data": {
      "text/plain": [
       "{'messages': [HumanMessage(content='What is 4 * 4', additional_kwargs={}, response_metadata={}, id='ad5092b5-059a-4e88-8fec-044b83cf1a47'),\n",
       "  HumanMessage(content='No,what is 9 * 9?', additional_kwargs={}, response_metadata={}, id='0e29fca9-51db-4f7a-a33b-3bd702861650'),\n",
       "  SystemMessage(content='You are an AI assistant who can do arithmatic operations.', additional_kwargs={}, response_metadata={}, id='a39c4ad9-9cea-4ba3-b10b-d8643e050a7d'),\n",
       "  AIMessage(content='', additional_kwargs={'tool_calls': [{'id': 'call_5gd36Mb0qibQyihesG62rMEs', 'function': {'arguments': '{\"a\": 4, \"b\": 4}', 'name': 'multiply'}, 'type': 'function'}, {'id': 'call_fnhK5T0LBTM45eazXSRCRdBP', 'function': {'arguments': '{\"a\": 9, \"b\": 9}', 'name': 'multiply'}, 'type': 'function'}], 'refusal': None}, response_metadata={'token_usage': {'completion_tokens': 50, 'prompt_tokens': 76, 'total_tokens': 126, 'completion_tokens_details': {'audio_tokens': 0, 'reasoning_tokens': 0, 'accepted_prediction_tokens': 0, 'rejected_prediction_tokens': 0}, 'prompt_tokens_details': {'audio_tokens': 0, 'cached_tokens': 0}}, 'model_name': 'gpt-4o-mini-2024-07-18', 'system_fingerprint': 'fp_0ba0d124f1', 'finish_reason': 'tool_calls', 'logprobs': None}, id='run-1175def4-fcb7-4083-9159-b4cbd25f64df-0', tool_calls=[{'name': 'multiply', 'args': {'a': 4, 'b': 4}, 'id': 'call_5gd36Mb0qibQyihesG62rMEs', 'type': 'tool_call'}, {'name': 'multiply', 'args': {'a': 9, 'b': 9}, 'id': 'call_fnhK5T0LBTM45eazXSRCRdBP', 'type': 'tool_call'}], usage_metadata={'input_tokens': 76, 'output_tokens': 50, 'total_tokens': 126, 'input_token_details': {'audio': 0, 'cache_read': 0}, 'output_token_details': {'audio': 0, 'reasoning': 0}}),\n",
       "  ToolMessage(content='16', name='multiply', id='dbf3d178-e9b7-47de-85b4-a60f0ce44634', tool_call_id='call_5gd36Mb0qibQyihesG62rMEs'),\n",
       "  ToolMessage(content='81', name='multiply', id='23af65e0-af71-4d79-a869-d6c5fea8afe6', tool_call_id='call_fnhK5T0LBTM45eazXSRCRdBP')]}"
      ]
     },
     "execution_count": 32,
     "metadata": {},
     "output_type": "execute_result"
    }
   ],
   "source": [
    "graph.invoke(None,config)"
   ]
  },
  {
   "cell_type": "markdown",
   "metadata": {},
   "source": [
    "# We can Interrupt the node in the middle.To stop the execution of graph at some point.\n",
    "<code> from langgraph.errors import NodeInterrupt </code>"
   ]
  },
  {
   "cell_type": "markdown",
   "metadata": {},
   "source": []
  }
 ],
 "metadata": {
  "kernelspec": {
   "display_name": "Python 3",
   "language": "python",
   "name": "python3"
  },
  "language_info": {
   "codemirror_mode": {
    "name": "ipython",
    "version": 3
   },
   "file_extension": ".py",
   "mimetype": "text/x-python",
   "name": "python",
   "nbconvert_exporter": "python",
   "pygments_lexer": "ipython3",
   "version": "3.11.7"
  }
 },
 "nbformat": 4,
 "nbformat_minor": 2
}
