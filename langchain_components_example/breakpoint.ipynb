{
 "cells": [
  {
   "cell_type": "markdown",
   "metadata": {},
   "source": [
    "\n",
    "<center>\n",
    "<font color=\"cyan\"><h2 > BreakPoint(Human in Loop)</h2></font>\n",
    "<center>\n",
    "<h3>interupt before</h3>\n",
    "<h3>interupt before</h3>\n",
    "</center>\n",
    "</center>\n",
    "\n"
   ]
  },
  {
   "cell_type": "markdown",
   "metadata": {},
   "source": [
    "<p>Langgraph offers several ways to get or update agent state systematically to support various human-in-loop workflows</p>\n",
    "<ul>\n",
    "<li>Approval : We can interupt agent, surface state to a user, and allow the user to accept an action.</li>\n",
    "<li>Debugging : We can rewind the graph to reproduce or avoid issues </li>\n",
    "<li>Editing : You can modify the state</li>\n",
    "</ul>\n",
    "\n",
    "Let's see the <code>breakpoints</code> , which provide a simple way to stop the graph at specific steps.\n"
   ]
  },
  {
   "cell_type": "markdown",
   "metadata": {},
   "source": [
    "BreakPoint for Human approval\n",
    "<p>All we need to do is simply compile the graph with interrupt_before=[\"tools\"] where tools is our tools node </p>"
   ]
  },
  {
   "cell_type": "code",
   "execution_count": 4,
   "metadata": {},
   "outputs": [],
   "source": [
    "# defining tools\n",
    "from langchain_openai import ChatOpenAI\n",
    "\n",
    "def multiply(a:int,b:int)-> int:\n",
    "    \"\"\"helps to multiply two number \n",
    "\n",
    "    Args:\n",
    "        a : first int\n",
    "        b : second int\n",
    "    \"\"\"\n",
    "    return a*b\n",
    "tools = [multiply]\n",
    "llm = ChatOpenAI(model='gpt-4o-mini')\n",
    "llm_with_tools = llm.bind_tools(tools)\n"
   ]
  },
  {
   "cell_type": "code",
   "execution_count": 11,
   "metadata": {},
   "outputs": [
    {
     "data": {
      "image/jpeg": "[encoded data removed]",
      "text/plain": [
       "<IPython.core.display.Image object>"
      ]
     },
     "metadata": {},
     "output_type": "display_data"
    }
   ],
   "source": [
    "from langgraph.graph import START,END,StateGraph,MessagesState\n",
    "from IPython.display import display,Image\n",
    "from langchain_core.messages import SystemMessage\n",
    "from langgraph.prebuilt import tools_condition,ToolNode\n",
    "from langgraph.checkpoint.memory import MemorySaver\n",
    "system_message = SystemMessage(content=\"You are a helpful assistant who can perform arithmetic operations.\")\n",
    "#state\n",
    "class State(MessagesState):\n",
    "    pass\n",
    "\n",
    "#node\n",
    "def call_llm(state:State):\n",
    "    response = llm_with_tools.invoke([system_message]+state['messages'])\n",
    "    return {'messages':response}\n",
    "\n",
    "# graph\n",
    "builder = StateGraph(State)\n",
    "builder.add_node('call_llm',call_llm)\n",
    "builder.add_node('tools',ToolNode(tools))\n",
    "\n",
    "\n",
    "builder.add_edge(START,'call_llm')\n",
    "builder.add_conditional_edges('call_llm',tools_condition)\n",
    "builder.add_edge('tools','call_llm')\n",
    "\n",
    "\n",
    "#compile\n",
    "memory = MemorySaver()\n",
    "graph = builder.compile(interrupt_before=['tools'],checkpointer=memory)\n",
    "\n",
    "\n",
    "\n",
    "display(Image(graph.get_graph().draw_mermaid_png()))"
   ]
  },
  {
   "cell_type": "code",
   "execution_count": 12,
   "metadata": {},
   "outputs": [
    {
     "name": "stdout",
     "output_type": "stream",
     "text": [
      "================================\u001b[1m Human Message \u001b[0m=================================\n",
      "\n",
      "Multiply 2 and 3\n",
      "None\n",
      "==================================\u001b[1m Ai Message \u001b[0m==================================\n",
      "Tool Calls:\n",
      "  multiply (call_yai3wJnsft6dfYNPhTdtyGiu)\n",
      " Call ID: call_yai3wJnsft6dfYNPhTdtyGiu\n",
      "  Args:\n",
      "    a: 2\n",
      "    b: 3\n",
      "None\n"
     ]
    }
   ],
   "source": [
    "config = {'configurable':{'thread_id':1}}\n",
    "events = []\n",
    "for event in graph.stream({'messages':\"Multiply 2 and 3\"}, config,stream_mode='values'):\n",
    "    events.append(event)\n",
    "    print(event['messages'][-1].pretty_print())"
   ]
  },
  {
   "cell_type": "code",
   "execution_count": 13,
   "metadata": {},
   "outputs": [
    {
     "data": {
      "text/plain": [
       "{'messages': [HumanMessage(content='Multiply 2 and 3', additional_kwargs={}, response_metadata={}, id='b23c58f4-8518-4d23-a008-c1ce9e8f4901'),\n",
       "  AIMessage(content='', additional_kwargs={'tool_calls': [{'id': 'call_yai3wJnsft6dfYNPhTdtyGiu', 'function': {'arguments': '{\"a\":2,\"b\":3}', 'name': 'multiply'}, 'type': 'function'}], 'refusal': None}, response_metadata={'token_usage': {'completion_tokens': 17, 'prompt_tokens': 70, 'total_tokens': 87, 'completion_tokens_details': {'audio_tokens': 0, 'reasoning_tokens': 0, 'accepted_prediction_tokens': 0, 'rejected_prediction_tokens': 0}, 'prompt_tokens_details': {'audio_tokens': 0, 'cached_tokens': 0}}, 'model_name': 'gpt-4o-mini-2024-07-18', 'system_fingerprint': 'fp_0ba0d124f1', 'finish_reason': 'tool_calls', 'logprobs': None}, id='run-c1cc7e65-8c83-4b46-93cd-ad3e59fc9b0a-0', tool_calls=[{'name': 'multiply', 'args': {'a': 2, 'b': 3}, 'id': 'call_yai3wJnsft6dfYNPhTdtyGiu', 'type': 'tool_call'}], usage_metadata={'input_tokens': 70, 'output_tokens': 17, 'total_tokens': 87, 'input_token_details': {'audio': 0, 'cache_read': 0}, 'output_token_details': {'audio': 0, 'reasoning': 0}})]}"
      ]
     },
     "execution_count": 13,
     "metadata": {},
     "output_type": "execute_result"
    }
   ],
   "source": [
    "event"
   ]
  },
  {
   "cell_type": "code",
   "execution_count": 15,
   "metadata": {},
   "outputs": [
    {
     "data": {
      "text/plain": [
       "('tools',)"
      ]
     },
     "execution_count": 15,
     "metadata": {},
     "output_type": "execute_result"
    }
   ],
   "source": [
    "state = graph.get_state(config)\n",
    "state.next"
   ]
  },
  {
   "cell_type": "code",
   "execution_count": 17,
   "metadata": {},
   "outputs": [
    {
     "name": "stdout",
     "output_type": "stream",
     "text": [
      "StateSnapshot(values={'messages': [HumanMessage(content='Multiply 2 and 3', additional_kwargs={}, response_metadata={}, id='b23c58f4-8518-4d23-a008-c1ce9e8f4901'), AIMessage(content='', additional_kwargs={'tool_calls': [{'id': 'call_yai3wJnsft6dfYNPhTdtyGiu', 'function': {'arguments': '{\"a\":2,\"b\":3}', 'name': 'multiply'}, 'type': 'function'}], 'refusal': None}, response_metadata={'token_usage': {'completion_tokens': 17, 'prompt_tokens': 70, 'total_tokens': 87, 'completion_tokens_details': {'audio_tokens': 0, 'reasoning_tokens': 0, 'accepted_prediction_tokens': 0, 'rejected_prediction_tokens': 0}, 'prompt_tokens_details': {'audio_tokens': 0, 'cached_tokens': 0}}, 'model_name': 'gpt-4o-mini-2024-07-18', 'system_fingerprint': 'fp_0ba0d124f1', 'finish_reason': 'tool_calls', 'logprobs': None}, id='run-c1cc7e65-8c83-4b46-93cd-ad3e59fc9b0a-0', tool_calls=[{'name': 'multiply', 'args': {'a': 2, 'b': 3}, 'id': 'call_yai3wJnsft6dfYNPhTdtyGiu', 'type': 'tool_call'}], usage_metadata={'input_tokens': 70, 'output_tokens': 17, 'total_tokens': 87, 'input_token_details': {'audio': 0, 'cache_read': 0}, 'output_token_details': {'audio': 0, 'reasoning': 0}})]}, next=('tools',), config={'configurable': {'thread_id': 1, 'checkpoint_ns': '', 'checkpoint_id': '1efa2490-b463-6cf4-8001-239f1abbd3dc'}}, metadata={'source': 'loop', 'writes': {'call_llm': {'messages': AIMessage(content='', additional_kwargs={'tool_calls': [{'id': 'call_yai3wJnsft6dfYNPhTdtyGiu', 'function': {'arguments': '{\"a\":2,\"b\":3}', 'name': 'multiply'}, 'type': 'function'}], 'refusal': None}, response_metadata={'token_usage': {'completion_tokens': 17, 'prompt_tokens': 70, 'total_tokens': 87, 'completion_tokens_details': {'audio_tokens': 0, 'reasoning_tokens': 0, 'accepted_prediction_tokens': 0, 'rejected_prediction_tokens': 0}, 'prompt_tokens_details': {'audio_tokens': 0, 'cached_tokens': 0}}, 'model_name': 'gpt-4o-mini-2024-07-18', 'system_fingerprint': 'fp_0ba0d124f1', 'finish_reason': 'tool_calls', 'logprobs': None}, id='run-c1cc7e65-8c83-4b46-93cd-ad3e59fc9b0a-0', tool_calls=[{'name': 'multiply', 'args': {'a': 2, 'b': 3}, 'id': 'call_yai3wJnsft6dfYNPhTdtyGiu', 'type': 'tool_call'}], usage_metadata={'input_tokens': 70, 'output_tokens': 17, 'total_tokens': 87, 'input_token_details': {'audio': 0, 'cache_read': 0}, 'output_token_details': {'audio': 0, 'reasoning': 0}})}}, 'step': 1, 'parents': {}}, created_at='2024-11-14T05:26:47.723933+00:00', parent_config={'configurable': {'thread_id': 1, 'checkpoint_ns': '', 'checkpoint_id': '1efa2490-a5ab-687e-8000-10ac9252972c'}}, tasks=(PregelTask(id='1e144ac5-a32b-a461-a53f-e094e632d89f', name='tools', path=('__pregel_pull', 'tools'), error=None, interrupts=(), state=None, result=None),))\n"
     ]
    }
   ],
   "source": [
    "print(state)"
   ]
  },
  {
   "cell_type": "code",
   "execution_count": 18,
   "metadata": {},
   "outputs": [
    {
     "data": {
      "text/plain": [
       "[{'messages': [HumanMessage(content='Multiply 2 and 3', additional_kwargs={}, response_metadata={}, id='b23c58f4-8518-4d23-a008-c1ce9e8f4901')]},\n",
       " {'messages': [HumanMessage(content='Multiply 2 and 3', additional_kwargs={}, response_metadata={}, id='b23c58f4-8518-4d23-a008-c1ce9e8f4901'),\n",
       "   AIMessage(content='', additional_kwargs={'tool_calls': [{'id': 'call_yai3wJnsft6dfYNPhTdtyGiu', 'function': {'arguments': '{\"a\":2,\"b\":3}', 'name': 'multiply'}, 'type': 'function'}], 'refusal': None}, response_metadata={'token_usage': {'completion_tokens': 17, 'prompt_tokens': 70, 'total_tokens': 87, 'completion_tokens_details': {'audio_tokens': 0, 'reasoning_tokens': 0, 'accepted_prediction_tokens': 0, 'rejected_prediction_tokens': 0}, 'prompt_tokens_details': {'audio_tokens': 0, 'cached_tokens': 0}}, 'model_name': 'gpt-4o-mini-2024-07-18', 'system_fingerprint': 'fp_0ba0d124f1', 'finish_reason': 'tool_calls', 'logprobs': None}, id='run-c1cc7e65-8c83-4b46-93cd-ad3e59fc9b0a-0', tool_calls=[{'name': 'multiply', 'args': {'a': 2, 'b': 3}, 'id': 'call_yai3wJnsft6dfYNPhTdtyGiu', 'type': 'tool_call'}], usage_metadata={'input_tokens': 70, 'output_tokens': 17, 'total_tokens': 87, 'input_token_details': {'audio': 0, 'cache_read': 0}, 'output_token_details': {'audio': 0, 'reasoning': 0}})]}]"
      ]
     },
     "execution_count": 18,
     "metadata": {},
     "output_type": "execute_result"
    }
   ],
   "source": [
    "events"
   ]
  },
  {
   "cell_type": "code",
   "execution_count": 19,
   "metadata": {},
   "outputs": [
    {
     "data": {
      "text/plain": [
       "2"
      ]
     },
     "execution_count": 19,
     "metadata": {},
     "output_type": "execute_result"
    }
   ],
   "source": [
    "len(events)"
   ]
  },
  {
   "cell_type": "code",
   "execution_count": 20,
   "metadata": {},
   "outputs": [
    {
     "name": "stdout",
     "output_type": "stream",
     "text": [
      "==================================\u001b[1m Ai Message \u001b[0m==================================\n",
      "Tool Calls:\n",
      "  multiply (call_yai3wJnsft6dfYNPhTdtyGiu)\n",
      " Call ID: call_yai3wJnsft6dfYNPhTdtyGiu\n",
      "  Args:\n",
      "    a: 2\n",
      "    b: 3\n",
      "None\n",
      "=================================\u001b[1m Tool Message \u001b[0m=================================\n",
      "Name: multiply\n",
      "\n",
      "6\n",
      "None\n",
      "==================================\u001b[1m Ai Message \u001b[0m==================================\n",
      "\n",
      "The result of multiplying 2 and 3 is 6.\n",
      "None\n"
     ]
    }
   ],
   "source": [
    "for event in graph.stream(None, config,stream_mode='values'):\n",
    "    events.append(event)\n",
    "    print(event['messages'][-1].pretty_print())"
   ]
  },
  {
   "cell_type": "code",
   "execution_count": 21,
   "metadata": {},
   "outputs": [
    {
     "data": {
      "text/plain": [
       "5"
      ]
     },
     "execution_count": 21,
     "metadata": {},
     "output_type": "execute_result"
    }
   ],
   "source": [
    "len(events)"
   ]
  },
  {
   "cell_type": "code",
   "execution_count": null,
   "metadata": {},
   "outputs": [],
   "source": []
  }
 ],
 "metadata": {
  "kernelspec": {
   "display_name": "Python 3",
   "language": "python",
   "name": "python3"
  },
  "language_info": {
   "codemirror_mode": {
    "name": "ipython",
    "version": 3
   },
   "file_extension": ".py",
   "mimetype": "text/x-python",
   "name": "python",
   "nbconvert_exporter": "python",
   "pygments_lexer": "ipython3",
   "version": "3.11.7"
  }
 },
 "nbformat": 4,
 "nbformat_minor": 2
}
