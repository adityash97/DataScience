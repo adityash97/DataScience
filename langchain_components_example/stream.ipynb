{
 "cells": [
  {
   "cell_type": "markdown",
   "metadata": {
    "vscode": {
     "languageId": "plaintext"
    }
   },
   "source": [
    "\n",
    "<center>\n",
    "<font color=\"cyan\"><h2 > Streaming</h2></font>\n",
    "<center>\n",
    "<h3>Stream Response</h3>\n",
    "<ul>\n",
    "</ul>\n",
    "</center>\n",
    "</center>\n",
    "\n"
   ]
  },
  {
   "cell_type": "markdown",
   "metadata": {},
   "source": []
  },
  {
   "cell_type": "markdown",
   "metadata": {},
   "source": [
    "### Summarize of chat using ChatGPT"
   ]
  },
  {
   "cell_type": "code",
   "execution_count": 6,
   "metadata": {},
   "outputs": [
    {
     "data": {
      "image/jpeg": "[encoded data removed]",
      "text/plain": [
       "<IPython.core.display.Image object>"
      ]
     },
     "metadata": {},
     "output_type": "display_data"
    }
   ],
   "source": [
    "from langchain_core.messages import HumanMessage\n",
    "from langchain_openai import ChatOpenAI\n",
    "from langgraph.graph import START,END,StateGraph,MessagesState\n",
    "from dotenv import load_dotenv\n",
    "from IPython.display import display,Image\n",
    "import sqlite3\n",
    "from langgraph.checkpoint.sqlite import SqliteSaver\n",
    "path = 'summarize.db'\n",
    "conm = sqlite3.connect(path,check_same_thread=False)\n",
    "memory = SqliteSaver(conm)\n",
    "load_dotenv()\n",
    "\n",
    "llm = ChatOpenAI(model='gpt-4o-mini')\n",
    "\n",
    "class State(MessagesState):\n",
    "    summary : str\n",
    "    \n",
    "    \n",
    "def call_llm(state):\n",
    "    response = llm.invoke(state['messages'])\n",
    "    return {'messages' : response}\n",
    "\n",
    "def generate_summary(state):\n",
    "    prev_summary = state.get('summary','')\n",
    "    if prev_summary:\n",
    "        summary = f\"This is the previous summary {prev_summary}. Update the summary with the latest chat.\"\n",
    "    else:\n",
    "        summary = \"Create the summary of the previous chat.\"\n",
    "    message = state['messages']+[HumanMessage(content=summary)]\n",
    "    response = llm.invoke(message)\n",
    "    return {'summary': response.content,'messages':state['messages']}\n",
    "\n",
    "def conditional_call(state):\n",
    "    if len(state['messages']) > 3:\n",
    "        return 'generate_summary'\n",
    "    return END\n",
    "\n",
    "\n",
    "builder = StateGraph(State)\n",
    "\n",
    "builder.add_node('call_llm',call_llm)\n",
    "builder.add_node('generate_summary',generate_summary)\n",
    "\n",
    "builder.add_edge(START,'call_llm')\n",
    "builder.add_conditional_edges('call_llm',conditional_call)\n",
    "builder.add_edge('generate_summary',END)\n",
    "\n",
    "graph = builder.compile(checkpointer=memory)\n",
    "display(Image(graph.get_graph().draw_mermaid_png()))\n"
   ]
  },
  {
   "cell_type": "code",
   "execution_count": 7,
   "metadata": {},
   "outputs": [],
   "source": [
    "config = {'configurable':{'thread_id':1}}\n",
    "response = graph.invoke({'messages':\"Hey I name is aditya.\"},config=config)"
   ]
  },
  {
   "cell_type": "code",
   "execution_count": 8,
   "metadata": {},
   "outputs": [
    {
     "data": {
      "text/plain": [
       "{'messages': [HumanMessage(content='Hey I name is aditya.', additional_kwargs={}, response_metadata={}, id='942f4d64-5874-46b5-86f2-f0db621e0827'),\n",
       "  HumanMessage(content='Hey I name is aditya.', additional_kwargs={}, response_metadata={}, id='f45fa66e-baab-49d9-a915-28beb2e443a2'),\n",
       "  AIMessage(content='Hi Aditya! How can I assist you today?', additional_kwargs={'refusal': None}, response_metadata={'token_usage': {'completion_tokens': 11, 'prompt_tokens': 25, 'total_tokens': 36, 'completion_tokens_details': {'audio_tokens': 0, 'reasoning_tokens': 0, 'accepted_prediction_tokens': 0, 'rejected_prediction_tokens': 0}, 'prompt_tokens_details': {'audio_tokens': 0, 'cached_tokens': 0}}, 'model_name': 'gpt-4o-mini-2024-07-18', 'system_fingerprint': 'fp_9b78b61c52', 'finish_reason': 'stop', 'logprobs': None}, id='run-79b9ba26-2cdc-464c-a7ab-c4b2d0e39a15-0', usage_metadata={'input_tokens': 25, 'output_tokens': 11, 'total_tokens': 36, 'input_token_details': {'audio': 0, 'cache_read': 0}, 'output_token_details': {'audio': 0, 'reasoning': 0}})]}"
      ]
     },
     "execution_count": 8,
     "metadata": {},
     "output_type": "execute_result"
    }
   ],
   "source": [
    "response"
   ]
  },
  {
   "cell_type": "code",
   "execution_count": 9,
   "metadata": {},
   "outputs": [
    {
     "data": {
      "text/plain": [
       "{'messages': [HumanMessage(content='Hey I name is aditya.', additional_kwargs={}, response_metadata={}, id='942f4d64-5874-46b5-86f2-f0db621e0827'),\n",
       "  HumanMessage(content='Hey I name is aditya.', additional_kwargs={}, response_metadata={}, id='f45fa66e-baab-49d9-a915-28beb2e443a2'),\n",
       "  AIMessage(content='Hi Aditya! How can I assist you today?', additional_kwargs={'refusal': None}, response_metadata={'token_usage': {'completion_tokens': 11, 'prompt_tokens': 25, 'total_tokens': 36, 'completion_tokens_details': {'audio_tokens': 0, 'reasoning_tokens': 0, 'accepted_prediction_tokens': 0, 'rejected_prediction_tokens': 0}, 'prompt_tokens_details': {'audio_tokens': 0, 'cached_tokens': 0}}, 'model_name': 'gpt-4o-mini-2024-07-18', 'system_fingerprint': 'fp_9b78b61c52', 'finish_reason': 'stop', 'logprobs': None}, id='run-79b9ba26-2cdc-464c-a7ab-c4b2d0e39a15-0', usage_metadata={'input_tokens': 25, 'output_tokens': 11, 'total_tokens': 36, 'input_token_details': {'audio': 0, 'cache_read': 0}, 'output_token_details': {'audio': 0, 'reasoning': 0}}),\n",
       "  HumanMessage(content='What is my name', additional_kwargs={}, response_metadata={}, id='9f896639-a0ee-4195-b7de-daaf82f5f365'),\n",
       "  AIMessage(content='Your name is Aditya. How can I help you today, Aditya?', additional_kwargs={'refusal': None}, response_metadata={'token_usage': {'completion_tokens': 16, 'prompt_tokens': 48, 'total_tokens': 64, 'completion_tokens_details': {'audio_tokens': 0, 'reasoning_tokens': 0, 'accepted_prediction_tokens': 0, 'rejected_prediction_tokens': 0}, 'prompt_tokens_details': {'audio_tokens': 0, 'cached_tokens': 0}}, 'model_name': 'gpt-4o-mini-2024-07-18', 'system_fingerprint': 'fp_0ba0d124f1', 'finish_reason': 'stop', 'logprobs': None}, id='run-7cc82199-cf8f-48de-b473-19ffe3bf0223-0', usage_metadata={'input_tokens': 48, 'output_tokens': 16, 'total_tokens': 64, 'input_token_details': {'audio': 0, 'cache_read': 0}, 'output_token_details': {'audio': 0, 'reasoning': 0}})],\n",
       " 'summary': 'In the previous chat, you introduced yourself as Aditya and asked me to identify your name. I confirmed that your name is Aditya and offered to assist you further.'}"
      ]
     },
     "execution_count": 9,
     "metadata": {},
     "output_type": "execute_result"
    }
   ],
   "source": [
    "graph.invoke({'messages':\"What is my name\"},config=config)"
   ]
  },
  {
   "cell_type": "markdown",
   "metadata": {},
   "source": [
    "## stream and astream demo"
   ]
  },
  {
   "cell_type": "markdown",
   "metadata": {},
   "source": []
  }
 ],
 "metadata": {
  "kernelspec": {
   "display_name": "Python 3",
   "language": "python",
   "name": "python3"
  },
  "language_info": {
   "codemirror_mode": {
    "name": "ipython",
    "version": 3
   },
   "file_extension": ".py",
   "mimetype": "text/x-python",
   "name": "python",
   "nbconvert_exporter": "python",
   "pygments_lexer": "ipython3",
   "version": "3.11.7"
  }
 },
 "nbformat": 4,
 "nbformat_minor": 2
}
