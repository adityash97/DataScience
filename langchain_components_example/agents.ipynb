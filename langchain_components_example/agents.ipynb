{
 "cells": [
  {
   "cell_type": "markdown",
   "metadata": {},
   "source": [
    "<center>\n",
    "<h3>Agents Example(creating custom agents)</h3>\n",
    "<h4>Below we can see the example that how agents help LLM to call the tools</h4>\n",
    "</center>"
   ]
  },
  {
   "cell_type": "markdown",
   "metadata": {},
   "source": [
    "## Agents\n",
    "\n",
    "<p>By themselves language model can't take actions- they just ouput text</p>\n",
    "<p>Agents are system that use LLM as a reasoning engine to determine which action to take(means which tool should be called.) and what the input to those actions should be. The result of those action can be feed back into the agent and it determine whether more actions are needed or whether it is okay to finish.</p>\n",
    "\n",
    "<p><code>LangGraph</code> is used to create highly controllable and cutomizable agents</p>"
   ]
  },
  {
   "cell_type": "code",
   "execution_count": 18,
   "metadata": {},
   "outputs": [],
   "source": [
    "from langgraph.graph import START,END,StateGraph #for graph\n",
    "from langchain_core.tools import BaseTool # for tools \n",
    "from pydantic import BaseModel,Field # for type\n",
    "from typing import Optional,Type,Literal,TypedDict\n",
    "from langchain_core.callbacks import CallbackManagerForToolRun,AsyncCallbackManagerForToolRun\n",
    "\n"
   ]
  },
  {
   "cell_type": "markdown",
   "metadata": {},
   "source": [
    "#### Tool using BaseTool"
   ]
  },
  {
   "cell_type": "code",
   "execution_count": 17,
   "metadata": {},
   "outputs": [],
   "source": [
    "class BaseInputType(BaseModel):\n",
    "    a : int = Field(\"First Number\")\n",
    "    b: int = Field(\"Second Number\")\n",
    "\n",
    "class BaseOutputType(BaseModel):\n",
    "    c : int = Field(\"Result\")\n",
    "    \n",
    "# Tool Implementation\n",
    "\n",
    "# Note: It's important that every field has type hints. BaseTool is a\n",
    "# Pydantic class and not having type hints can lead to unexpected behavior.\n",
    "\n",
    "class SimpleCalculator(BaseTool):\n",
    "    name : str = \"Simple Calculator\"\n",
    "    description : str = \"Helpful for simple math question\"\n",
    "    args_schema: Type[BaseModel] = BaseInputType\n",
    "    return_direct:bool = True\n",
    "    \n",
    "    \n",
    "    # for normal calls\n",
    "    def _run(self,a : int,b:int,run_manager:Optional[CallbackManagerForToolRun] = None) -> BaseOutputType:\n",
    "        return a*b\n",
    "    \n",
    "    # If the calculation is cheap, you can just delegate to the sync implementation\n",
    "    # as shown below.\n",
    "    # If the sync calculation is expensive, you should delete the entire _arun method.\n",
    "    # LangChain will automatically provide a better implementation that will\n",
    "    # kick off the task in a thread to make sure it doesn't block other async code. \n",
    "        \n",
    "    # for async calls\n",
    "    async def _arun(self,a:int,b:int, run_manager:Optional[AsyncCallbackManagerForToolRun] = None)->BaseOutputType:\n",
    "        return self._run(a,b,run_manager)\n",
    "\n",
    "# checking the tool\n",
    "multiply = SimpleCalculator()"
   ]
  },
  {
   "cell_type": "code",
   "execution_count": 5,
   "metadata": {},
   "outputs": [
    {
     "name": "stdout",
     "output_type": "stream",
     "text": [
      "Simple Calculator\n",
      "Helpful for simple math question\n",
      "<class '__main__.BaseInputType'>\n"
     ]
    }
   ],
   "source": [
    "print(multiply.name)\n",
    "print(multiply.description)\n",
    "print(multiply.args_schema)"
   ]
  },
  {
   "cell_type": "code",
   "execution_count": 15,
   "metadata": {},
   "outputs": [
    {
     "name": "stdout",
     "output_type": "stream",
     "text": [
      "6\n",
      "625\n"
     ]
    }
   ],
   "source": [
    "print(multiply.invoke({\"a\":2,\"b\":3}))\n",
    "print(await multiply.ainvoke({\"a\":25,\"b\":25}))"
   ]
  },
  {
   "cell_type": "markdown",
   "metadata": {},
   "source": [
    "#### <font style=\"color:green\">Simple agent  implementation using LangGraph</font>"
   ]
  },
  {
   "cell_type": "code",
   "execution_count": 29,
   "metadata": {},
   "outputs": [],
   "source": [
    "# Type of state\n",
    "class State(TypedDict):\n",
    "    first_num : int\n",
    "    sec_num : int\n",
    "    result : int\n",
    "\n",
    "# Defining the functionality of Node\n",
    "def node_1(state):\n",
    "    # let's update the state in node 1\n",
    "    print(\"--- Inside Node 1 (Updating the state) ---- \\n\")\n",
    "    print(\"State : \",state,\"\\n\")\n",
    "    return ({\"first_num\" : state[\"first_num\"], \"sec_num\":state[\"sec_num\"]})\n",
    "\n",
    "def node_2(state):\n",
    "    print(\"---- Inside Node 2 (returning multiply) ----\\n\")\n",
    "    return({\"result\":state[\"first_num\"] * state[\"sec_num\"]})\n",
    "\n",
    "def node_3(state):\n",
    "    print(\"---- Inside node 3 (returning addition) ----\\n\")\n",
    "    return({\"result\" : state[\"first_num\"] + state[\"sec_num\"]})\n",
    "\n",
    "def deciding_node(state)-> Literal[\"node_2\",\"node_3\"]:\n",
    "    if state[\"first_num\"] < state[\"sec_num\"]:\n",
    "        return \"node_2\"\n",
    "    return \"node_3\"\n",
    "\n",
    "# Creating Graph\n",
    "builder = StateGraph(State)\n",
    "\n",
    "# Adding node to graph\n",
    "builder.add_node(\"node_1\",node_1)\n",
    "builder.add_node(\"node_2\",node_2)\n",
    "builder.add_node(\"node_3\",node_3)\n",
    "\n",
    "# Adding edge between graph\n",
    "builder.add_edge(START,\"node_1\")\n",
    "builder.add_conditional_edges(\"node_1\",deciding_node)\n",
    "builder.add_edge(\"node_2\",END)\n",
    "builder.add_edge(\"node_3\",END)\n",
    "\n",
    "# at last compiling the graph\n",
    "graph = builder.compile()"
   ]
  },
  {
   "cell_type": "code",
   "execution_count": 30,
   "metadata": {},
   "outputs": [
    {
     "name": "stdout",
     "output_type": "stream",
     "text": [
      "--- Inside Node 1 (Updating the state) ---- \n",
      "\n",
      "State :  {'first_num': 10, 'sec_num': 30} \n",
      "\n",
      "---- Inside Node 2 (returning multiply) ----\n",
      "\n"
     ]
    },
    {
     "data": {
      "text/plain": [
       "{'first_num': 10, 'sec_num': 30, 'result': 300}"
      ]
     },
     "execution_count": 30,
     "metadata": {},
     "output_type": "execute_result"
    }
   ],
   "source": [
    "graph.invoke({\"first_num\":10,\"sec_num\":30})"
   ]
  },
  {
   "cell_type": "code",
   "execution_count": 31,
   "metadata": {},
   "outputs": [
    {
     "name": "stdout",
     "output_type": "stream",
     "text": [
      "--- Inside Node 1 (Updating the state) ---- \n",
      "\n",
      "State :  {'first_num': 100, 'sec_num': 30} \n",
      "\n",
      "---- Inside node 3 (returning addition) ----\n",
      "\n"
     ]
    },
    {
     "data": {
      "text/plain": [
       "{'first_num': 100, 'sec_num': 30, 'result': 130}"
      ]
     },
     "execution_count": 31,
     "metadata": {},
     "output_type": "execute_result"
    }
   ],
   "source": [
    "graph.invoke({\"first_num\":100,\"sec_num\":30})"
   ]
  },
  {
   "cell_type": "markdown",
   "metadata": {},
   "source": [
    "#### <code><strong>Exmaple of 4 key concept using agent</strong></code>\n",
    "<ul>\n",
    "<li>Using <code>Chat message</code> in our graph</li>\n",
    "<li>using <code>Chat Models </code></li>\n",
    "<li><code>Binding tools</code> to LLM</li>\n",
    "<li>Executing <code>toolcall</code> in graph</li>\n",
    "</ul>"
   ]
  },
  {
   "cell_type": "markdown",
   "metadata": {},
   "source": [
    "#### Message\n",
    "--desc-- chain timestamp : 0.31"
   ]
  },
  {
   "cell_type": "code",
   "execution_count": 13,
   "metadata": {},
   "outputs": [
    {
     "name": "stdout",
     "output_type": "stream",
     "text": [
      "==================================\u001b[1m Ai Message \u001b[0m==================================\n",
      "Name: model\n",
      "\n",
      "So you said you were searching ocean manmals?\n",
      "None\n",
      "================================\u001b[1m Human Message \u001b[0m=================================\n",
      "Name: user\n",
      "\n",
      "Yes that's right.\n",
      "None\n",
      "==================================\u001b[1m Ai Message \u001b[0m==================================\n",
      "Name: model\n",
      "\n",
      "Great, what would you like to learn about\n",
      "None\n",
      "================================\u001b[1m Human Message \u001b[0m=================================\n",
      "Name: user\n",
      "\n",
      "I want to learn about the whale in ocean\n",
      "None\n"
     ]
    }
   ],
   "source": [
    "from pprint import pprint\n",
    "from langchain_core.messages import AIMessage,HumanMessage,SystemMessage\n",
    "messages = [AIMessage(content=\"So you said you were searching ocean manmals?\",role=\"model\",name=\"model\")]\n",
    "messages.extend([HumanMessage(content=\"Yes that's right.\", role=\"user\",name=\"user\")])\n",
    "messages.extend([AIMessage(content=\"Great, what would you like to learn about\", role=\"model\",name=\"model\")])\n",
    "messages.extend([HumanMessage(content=\"I want to learn about the whale in ocean\",role=\"user\",name=\"user\")])\n",
    "\n",
    "for m in messages:\n",
    "    print(m.pretty_print())"
   ]
  },
  {
   "cell_type": "markdown",
   "metadata": {},
   "source": [
    "#### Chat Models\n",
    "--desc 1.03"
   ]
  },
  {
   "cell_type": "code",
   "execution_count": 16,
   "metadata": {},
   "outputs": [
    {
     "data": {
      "text/plain": [
       "str"
      ]
     },
     "execution_count": 16,
     "metadata": {},
     "output_type": "execute_result"
    }
   ],
   "source": [
    "from langchain_community.llms.ollama import Ollama\n",
    "llm = Ollama(model=\"llama3.1\")\n",
    "result = llm.invoke(messages)\n",
    "type(result)"
   ]
  },
  {
   "cell_type": "code",
   "execution_count": 18,
   "metadata": {},
   "outputs": [
    {
     "name": "stdout",
     "output_type": "stream",
     "text": [
      "There are so many fascinating things about whales.\n",
      "\n",
      "Let's dive into it (pun intended). Whales are massive marine mammals that belong to the order Cetacea. There are two suborders: toothed whales (Odontoceti) and baleen whales (Mysticeti).\n",
      "\n",
      "Toothed whales include dolphins, porpoises, and sperm whales. They have a highly developed sense of hearing and echolocation, which helps them navigate and hunt in the dark depths of the ocean.\n",
      "\n",
      "Baleen whales, on the other hand, are filter feeders that use their baleen plates to strain tiny crustaceans, plankton, and small fish from the water. The largest animal to have ever existed on Earth is a blue whale, which can grow up to 100 feet (30 meters) in length and weigh around 200 tons!\n",
      "\n",
      "Some interesting facts about whales include:\n",
      "\n",
      "* Whales are highly social creatures that often live in groups called pods.\n",
      "* They are incredibly intelligent animals that have been observed using complex behaviors like cooperative hunting and even playing.\n",
      "* Some species of whales migrate thousands of miles each year to reach their breeding grounds.\n",
      "* Whales have a unique communication system that involves clicks, whistles, and moans.\n",
      "\n",
      "Which aspect of whales would you like to learn more about? Their behavior, habitat, or perhaps something else?\n"
     ]
    }
   ],
   "source": [
    "print(result)"
   ]
  },
  {
   "cell_type": "code",
   "execution_count": 21,
   "metadata": {},
   "outputs": [],
   "source": [
    "# Implement tool yo give below capability TODO"
   ]
  },
  {
   "cell_type": "code",
   "execution_count": 20,
   "metadata": {},
   "outputs": [
    {
     "name": "stdout",
     "output_type": "stream",
     "text": [
      "I'm happy to help, but I don't have real-time access to your current date and time. However, I can suggest a few options:\n",
      "\n",
      "1. **Check your phone or computer**: Take a look at the clock on your device to see the current date.\n",
      "2. **Use an online calendar**: Websites like Google Calendar, Apple Calendar, or any other digital calendar you might use should be able to tell you the day of the week and date.\n",
      "3. **Ask me about general information**: If you're looking for something specific (e.g., today's weather forecast), feel free to ask!\n",
      "\n",
      "Which option sounds most convenient for you?\n"
     ]
    }
   ],
   "source": [
    "print(llm.invoke([HumanMessage(content=\"what's the day today\",role=\"user\")]))"
   ]
  },
  {
   "cell_type": "markdown",
   "metadata": {},
   "source": [
    "#### Tools\n",
    "---dec 1.32"
   ]
  },
  {
   "cell_type": "code",
   "execution_count": 3,
   "metadata": {},
   "outputs": [],
   "source": [
    "from langchain_openai import ChatOpenAI\n",
    "from dotenv import load_dotenv\n",
    "# API keys and Lang Smith \n",
    "import os\n",
    "load_dotenv()\n",
    "os.environ[\"OPENAI_API_KEY\"] = os.getenv(\"OPENAI_API_KEY\")\n",
    "llm = ChatOpenAI(model=\"gpt-4o-mini\")\n"
   ]
  },
  {
   "cell_type": "code",
   "execution_count": 17,
   "metadata": {},
   "outputs": [],
   "source": [
    "from langchain_core.tools import Tool\n",
    "from langchain_core.tools import tool\n",
    "\n",
    "@tool\n",
    "def multiply(a : int,b:int) -> int:\n",
    "    \"\"\"Add two integers.\n",
    "\n",
    "    Args:\n",
    "        a: First integer\n",
    "        b: Second integer\n",
    "    \"\"\"\n",
    "    return a*b\n",
    "\n",
    "# Bind the tool to the LLM\n",
    "llm_with_tool = llm.bind_tools([multiply])"
   ]
  },
  {
   "cell_type": "code",
   "execution_count": 18,
   "metadata": {},
   "outputs": [],
   "source": [
    "query = \"What is 3 * 12?\"\n",
    "\n",
    "ai_message = llm_with_tool.invoke(query)"
   ]
  },
  {
   "cell_type": "code",
   "execution_count": 19,
   "metadata": {},
   "outputs": [
    {
     "name": "stdout",
     "output_type": "stream",
     "text": [
      "content='' additional_kwargs={'tool_calls': [{'id': 'call_XysdXilX82HhY4Tsg6mCnC78', 'function': {'arguments': '{\"a\":3,\"b\":12}', 'name': 'multiply'}, 'type': 'function'}], 'refusal': None} response_metadata={'token_usage': {'completion_tokens': 17, 'prompt_tokens': 65, 'total_tokens': 82, 'prompt_tokens_details': {'cached_tokens': 0}, 'completion_tokens_details': {'reasoning_tokens': 0}}, 'model_name': 'gpt-4o-mini-2024-07-18', 'system_fingerprint': 'fp_e2bde53e6e', 'finish_reason': 'tool_calls', 'logprobs': None} id='run-1ac203e1-161c-46b9-8435-da4322c61f88-0' tool_calls=[{'name': 'multiply', 'args': {'a': 3, 'b': 12}, 'id': 'call_XysdXilX82HhY4Tsg6mCnC78', 'type': 'tool_call'}] usage_metadata={'input_tokens': 65, 'output_tokens': 17, 'total_tokens': 82}\n"
     ]
    }
   ],
   "source": [
    "print(ai_message)"
   ]
  },
  {
   "cell_type": "code",
   "execution_count": 20,
   "metadata": {},
   "outputs": [
    {
     "data": {
      "text/plain": [
       "{'name': 'multiply',\n",
       " 'args': {'a': 3, 'b': 12},\n",
       " 'id': 'call_XysdXilX82HhY4Tsg6mCnC78',\n",
       " 'type': 'tool_call'}"
      ]
     },
     "execution_count": 20,
     "metadata": {},
     "output_type": "execute_result"
    }
   ],
   "source": [
    "ai_msg = ai_message\n",
    "ai_msg.tool_calls[0]"
   ]
  },
  {
   "cell_type": "code",
   "execution_count": 31,
   "metadata": {},
   "outputs": [
    {
     "data": {
      "text/plain": [
       "AIMessage(content='', additional_kwargs={'tool_calls': [{'id': 'call_XysdXilX82HhY4Tsg6mCnC78', 'function': {'arguments': '{\"a\":3,\"b\":12}', 'name': 'multiply'}, 'type': 'function'}], 'refusal': None}, response_metadata={'token_usage': {'completion_tokens': 17, 'prompt_tokens': 65, 'total_tokens': 82, 'prompt_tokens_details': {'cached_tokens': 0}, 'completion_tokens_details': {'reasoning_tokens': 0}}, 'model_name': 'gpt-4o-mini-2024-07-18', 'system_fingerprint': 'fp_e2bde53e6e', 'finish_reason': 'tool_calls', 'logprobs': None}, id='run-1ac203e1-161c-46b9-8435-da4322c61f88-0', tool_calls=[{'name': 'multiply', 'args': {'a': 3, 'b': 12}, 'id': 'call_XysdXilX82HhY4Tsg6mCnC78', 'type': 'tool_call'}], usage_metadata={'input_tokens': 65, 'output_tokens': 17, 'total_tokens': 82})"
      ]
     },
     "execution_count": 31,
     "metadata": {},
     "output_type": "execute_result"
    }
   ],
   "source": [
    "ai_msg"
   ]
  },
  {
   "cell_type": "markdown",
   "metadata": {},
   "source": [
    "#### Binding Tool to LLM(use ChatOpenAI model)"
   ]
  },
  {
   "cell_type": "code",
   "execution_count": 1,
   "metadata": {},
   "outputs": [],
   "source": [
    "from langchain_openai import ChatOpenAI\n",
    "llm = ChatOpenAI(model=\"gpt-4o-mini\")\n",
    "toolkit= [] # list of tools\n",
    "llm_tool = llm.bind_tools(toolkit)"
   ]
  },
  {
   "cell_type": "markdown",
   "metadata": {},
   "source": [
    "#### Calling Tools when LLM needs it"
   ]
  },
  {
   "cell_type": "code",
   "execution_count": 2,
   "metadata": {},
   "outputs": [
    {
     "data": {
      "text/plain": [
       "True"
      ]
     },
     "execution_count": 2,
     "metadata": {},
     "output_type": "execute_result"
    }
   ],
   "source": [
    "from IPython.display import display,Image\n",
    "from langgraph.graph.message import MessagesState\n",
    "from langgraph.prebuilt import ToolNode, tools_condition\n",
    "from langgraph.graph import START,StateGraph\n",
    "from langchain_openai import ChatOpenAI\n",
    "from langchain_core.messages import HumanMessage,SystemMessage\n",
    "from pprint import pprint\n",
    "from dotenv import load_dotenv\n",
    "\n",
    "load_dotenv()"
   ]
  },
  {
   "cell_type": "code",
   "execution_count": 29,
   "metadata": {},
   "outputs": [
    {
     "data": {
      "image/jpeg": "[encoded data removed]",
      "text/plain": [
       "<IPython.core.display.Image object>"
      ]
     },
     "metadata": {},
     "output_type": "display_data"
    }
   ],
   "source": [
    "# tools\n",
    "def add(a:int,b:int)-> int:\n",
    "    \"\"\"Help To add two numbers\n",
    "\n",
    "    Args:\n",
    "        a : First Number\n",
    "        b : Second Number\n",
    "\n",
    "    Returns:\n",
    "        int : Result Output\n",
    "    \"\"\"\n",
    "    return a+b\n",
    "\n",
    "def multiply(a:int,b:int)-> int:\n",
    "    \"\"\"Help To multiply two numbers\n",
    "\n",
    "    Args:\n",
    "        a : First Number\n",
    "        b : Second Number\n",
    "\n",
    "    Returns:\n",
    "        int : Result Output\n",
    "    \"\"\"\n",
    "    return a*b\n",
    "llm = ChatOpenAI(model=\"gpt-4o-mini\")\n",
    "llm_tools = llm.bind_tools([add,multiply])\n",
    "\n",
    "\n",
    "# node\n",
    "def call_tool_or_reponse_to_user_by_llm(state:MessagesState):\n",
    "    return {\"messages\":[llm_tools.invoke(state['messages'])]}  # here deciosion will be taken place wether to call the tool or reponse directly to the user\n",
    "\n",
    "builder = StateGraph(MessagesState)\n",
    "builder.add_node(\"call_tool_or_reponse_to_user_by_llm\",call_tool_or_reponse_to_user_by_llm)\n",
    "builder.add_node(\"tools\",ToolNode([add,multiply]))\n",
    "\n",
    "builder.add_edge(START,\"call_tool_or_reponse_to_user_by_llm\")\n",
    "builder.add_conditional_edges(\"call_tool_or_reponse_to_user_by_llm\",tools_condition) # routing between \"__end__\" or \"tools call\"\n",
    "builder.add_edge(\"tools\",\"call_tool_or_reponse_to_user_by_llm\")\n",
    "\n",
    "graph = builder.compile()\n",
    "display(Image(graph.get_graph().draw_mermaid_png()))\n",
    "\n"
   ]
  },
  {
   "cell_type": "code",
   "execution_count": 12,
   "metadata": {},
   "outputs": [],
   "source": [
    "def display_message(response):\n",
    "    for message in response['messages']:\n",
    "        print(message.pretty_print())"
   ]
  },
  {
   "cell_type": "code",
   "execution_count": 4,
   "metadata": {},
   "outputs": [],
   "source": [
    "query = \"Hey How are you doing?\"\n",
    "response = graph.invoke({\"messages\":HumanMessage(content=query,role = 'user')})"
   ]
  },
  {
   "cell_type": "code",
   "execution_count": 5,
   "metadata": {},
   "outputs": [
    {
     "data": {
      "text/plain": [
       "{'messages': [HumanMessage(content='Hey How are you doing?', additional_kwargs={}, response_metadata={}, id='c68e4804-2db4-459a-a029-6edeac0e7c37', role='user'),\n",
       "  AIMessage(content=\"I'm just a program, so I don't have feelings, but I'm here and ready to help you! How can I assist you today?\", additional_kwargs={'refusal': None}, response_metadata={'token_usage': {'completion_tokens': 28, 'prompt_tokens': 89, 'total_tokens': 117, 'completion_tokens_details': {'audio_tokens': None, 'reasoning_tokens': 0}, 'prompt_tokens_details': {'audio_tokens': None, 'cached_tokens': 0}}, 'model_name': 'gpt-4o-mini-2024-07-18', 'system_fingerprint': 'fp_e2bde53e6e', 'finish_reason': 'stop', 'logprobs': None}, id='run-eddeb042-1ef2-497c-b9f2-03ea7a458ba5-0', usage_metadata={'input_tokens': 89, 'output_tokens': 28, 'total_tokens': 117, 'input_token_details': {'cache_read': 0}, 'output_token_details': {'reasoning': 0}})]}"
      ]
     },
     "execution_count": 5,
     "metadata": {},
     "output_type": "execute_result"
    }
   ],
   "source": [
    "response"
   ]
  },
  {
   "cell_type": "code",
   "execution_count": 13,
   "metadata": {},
   "outputs": [
    {
     "name": "stdout",
     "output_type": "stream",
     "text": [
      "================================\u001b[1m Human Message \u001b[0m=================================\n",
      "\n",
      "Hey How are you doing?\n",
      "None\n",
      "==================================\u001b[1m Ai Message \u001b[0m==================================\n",
      "\n",
      "I'm just a program, so I don't have feelings, but I'm here and ready to help you! How can I assist you today?\n",
      "None\n"
     ]
    }
   ],
   "source": [
    "display_message(response)"
   ]
  },
  {
   "cell_type": "code",
   "execution_count": 6,
   "metadata": {},
   "outputs": [],
   "source": [
    "query = \"what is 2 multiply by 2\"\n",
    "response1 = graph.invoke({\"messages\":HumanMessage(content=query,role = 'user')})"
   ]
  },
  {
   "cell_type": "code",
   "execution_count": 7,
   "metadata": {},
   "outputs": [
    {
     "data": {
      "text/plain": [
       "{'messages': [HumanMessage(content='what is 2 multiply by 2', additional_kwargs={}, response_metadata={}, id='704d73d5-6f5d-4004-97c6-8c415cab9dd3', role='user'),\n",
       "  AIMessage(content='', additional_kwargs={'tool_calls': [{'id': 'call_DDPTpQUs25jXqecW6D2tA3WI', 'function': {'arguments': '{\"a\":2,\"b\":2}', 'name': 'multiply'}, 'type': 'function'}], 'refusal': None}, response_metadata={'token_usage': {'completion_tokens': 17, 'prompt_tokens': 91, 'total_tokens': 108, 'completion_tokens_details': {'audio_tokens': None, 'reasoning_tokens': 0}, 'prompt_tokens_details': {'audio_tokens': None, 'cached_tokens': 0}}, 'model_name': 'gpt-4o-mini-2024-07-18', 'system_fingerprint': 'fp_e2bde53e6e', 'finish_reason': 'tool_calls', 'logprobs': None}, id='run-5ca85a91-6e8a-46f7-a2a7-36ebed3695d6-0', tool_calls=[{'name': 'multiply', 'args': {'a': 2, 'b': 2}, 'id': 'call_DDPTpQUs25jXqecW6D2tA3WI', 'type': 'tool_call'}], usage_metadata={'input_tokens': 91, 'output_tokens': 17, 'total_tokens': 108, 'input_token_details': {'cache_read': 0}, 'output_token_details': {'reasoning': 0}}),\n",
       "  ToolMessage(content='4', name='multiply', id='6fef9aec-e9ed-41df-885d-41fb20c46927', tool_call_id='call_DDPTpQUs25jXqecW6D2tA3WI'),\n",
       "  AIMessage(content='2 multiplied by 2 equals 4.', additional_kwargs={'refusal': None}, response_metadata={'token_usage': {'completion_tokens': 10, 'prompt_tokens': 116, 'total_tokens': 126, 'completion_tokens_details': {'audio_tokens': None, 'reasoning_tokens': 0}, 'prompt_tokens_details': {'audio_tokens': None, 'cached_tokens': 0}}, 'model_name': 'gpt-4o-mini-2024-07-18', 'system_fingerprint': 'fp_e2bde53e6e', 'finish_reason': 'stop', 'logprobs': None}, id='run-6932a21a-1159-4074-94d8-6f52f8843b00-0', usage_metadata={'input_tokens': 116, 'output_tokens': 10, 'total_tokens': 126, 'input_token_details': {'cache_read': 0}, 'output_token_details': {'reasoning': 0}})]}"
      ]
     },
     "execution_count": 7,
     "metadata": {},
     "output_type": "execute_result"
    }
   ],
   "source": [
    "response1"
   ]
  },
  {
   "cell_type": "code",
   "execution_count": 14,
   "metadata": {},
   "outputs": [
    {
     "name": "stdout",
     "output_type": "stream",
     "text": [
      "================================\u001b[1m Human Message \u001b[0m=================================\n",
      "\n",
      "what is 2 multiply by 2\n",
      "None\n",
      "==================================\u001b[1m Ai Message \u001b[0m==================================\n",
      "Tool Calls:\n",
      "  multiply (call_DDPTpQUs25jXqecW6D2tA3WI)\n",
      " Call ID: call_DDPTpQUs25jXqecW6D2tA3WI\n",
      "  Args:\n",
      "    a: 2\n",
      "    b: 2\n",
      "None\n",
      "=================================\u001b[1m Tool Message \u001b[0m=================================\n",
      "Name: multiply\n",
      "\n",
      "4\n",
      "None\n",
      "==================================\u001b[1m Ai Message \u001b[0m==================================\n",
      "\n",
      "2 multiplied by 2 equals 4.\n",
      "None\n"
     ]
    }
   ],
   "source": [
    "display_message(response1)\n"
   ]
  },
  {
   "cell_type": "code",
   "execution_count": 8,
   "metadata": {},
   "outputs": [],
   "source": [
    "query = \"what is 2 +  2\"\n",
    "response2 = graph.invoke({\"messages\":HumanMessage(content=query,role = 'user')})"
   ]
  },
  {
   "cell_type": "code",
   "execution_count": 9,
   "metadata": {},
   "outputs": [
    {
     "data": {
      "text/plain": [
       "{'messages': [HumanMessage(content='what is 2 +  2', additional_kwargs={}, response_metadata={}, id='a65d029a-bc07-49bf-9700-f1aef31caf8c', role='user'),\n",
       "  AIMessage(content='', additional_kwargs={'tool_calls': [{'id': 'call_SnoZ1WRbaOtflTq1OYwWAzNf', 'function': {'arguments': '{\"a\":2,\"b\":2}', 'name': 'add'}, 'type': 'function'}], 'refusal': None}, response_metadata={'token_usage': {'completion_tokens': 17, 'prompt_tokens': 91, 'total_tokens': 108, 'completion_tokens_details': {'audio_tokens': None, 'reasoning_tokens': 0}, 'prompt_tokens_details': {'audio_tokens': None, 'cached_tokens': 0}}, 'model_name': 'gpt-4o-mini-2024-07-18', 'system_fingerprint': 'fp_e2bde53e6e', 'finish_reason': 'tool_calls', 'logprobs': None}, id='run-1875182c-5b73-4891-ac97-6abe0988f497-0', tool_calls=[{'name': 'add', 'args': {'a': 2, 'b': 2}, 'id': 'call_SnoZ1WRbaOtflTq1OYwWAzNf', 'type': 'tool_call'}], usage_metadata={'input_tokens': 91, 'output_tokens': 17, 'total_tokens': 108, 'input_token_details': {'cache_read': 0}, 'output_token_details': {'reasoning': 0}}),\n",
       "  ToolMessage(content='4', name='add', id='93d1041a-d26e-4abe-ac63-a2faebda889b', tool_call_id='call_SnoZ1WRbaOtflTq1OYwWAzNf'),\n",
       "  AIMessage(content='2 + 2 equals 4.', additional_kwargs={'refusal': None}, response_metadata={'token_usage': {'completion_tokens': 9, 'prompt_tokens': 116, 'total_tokens': 125, 'completion_tokens_details': {'audio_tokens': None, 'reasoning_tokens': 0}, 'prompt_tokens_details': {'audio_tokens': None, 'cached_tokens': 0}}, 'model_name': 'gpt-4o-mini-2024-07-18', 'system_fingerprint': 'fp_e2bde53e6e', 'finish_reason': 'stop', 'logprobs': None}, id='run-246c0c01-3419-4208-a8d3-f1cbae2c893a-0', usage_metadata={'input_tokens': 116, 'output_tokens': 9, 'total_tokens': 125, 'input_token_details': {'cache_read': 0}, 'output_token_details': {'reasoning': 0}})]}"
      ]
     },
     "execution_count": 9,
     "metadata": {},
     "output_type": "execute_result"
    }
   ],
   "source": [
    "response2"
   ]
  },
  {
   "cell_type": "code",
   "execution_count": 15,
   "metadata": {},
   "outputs": [
    {
     "name": "stdout",
     "output_type": "stream",
     "text": [
      "================================\u001b[1m Human Message \u001b[0m=================================\n",
      "\n",
      "what is 2 +  2\n",
      "None\n",
      "==================================\u001b[1m Ai Message \u001b[0m==================================\n",
      "Tool Calls:\n",
      "  add (call_SnoZ1WRbaOtflTq1OYwWAzNf)\n",
      " Call ID: call_SnoZ1WRbaOtflTq1OYwWAzNf\n",
      "  Args:\n",
      "    a: 2\n",
      "    b: 2\n",
      "None\n",
      "=================================\u001b[1m Tool Message \u001b[0m=================================\n",
      "Name: add\n",
      "\n",
      "4\n",
      "None\n",
      "==================================\u001b[1m Ai Message \u001b[0m==================================\n",
      "\n",
      "2 + 2 equals 4.\n",
      "None\n"
     ]
    }
   ],
   "source": [
    "display_message(response2)\n"
   ]
  },
  {
   "cell_type": "code",
   "execution_count": 10,
   "metadata": {},
   "outputs": [],
   "source": [
    "query = \"what is 2 +  2 and multiply it by 10.\"\n",
    "response3 = graph.invoke({\"messages\":HumanMessage(content=query,role = 'user')})"
   ]
  },
  {
   "cell_type": "code",
   "execution_count": 16,
   "metadata": {},
   "outputs": [
    {
     "data": {
      "text/plain": [
       "{'messages': [HumanMessage(content='what is 2 +  2 and multiply it by 10.', additional_kwargs={}, response_metadata={}, id='0b34cb0f-6635-4bf6-919c-12fcc7ddbe41', role='user'),\n",
       "  AIMessage(content='', additional_kwargs={'tool_calls': [{'id': 'call_wfZugVjIL5oyf7CszvYJtLml', 'function': {'arguments': '{\"a\": 2, \"b\": 2}', 'name': 'add'}, 'type': 'function'}, {'id': 'call_Ukx2qJ2ZCHT4RW1il8xDoIik', 'function': {'arguments': '{\"a\": 4, \"b\": 10}', 'name': 'multiply'}, 'type': 'function'}], 'refusal': None}, response_metadata={'token_usage': {'completion_tokens': 50, 'prompt_tokens': 98, 'total_tokens': 148, 'completion_tokens_details': {'audio_tokens': None, 'reasoning_tokens': 0}, 'prompt_tokens_details': {'audio_tokens': None, 'cached_tokens': 0}}, 'model_name': 'gpt-4o-mini-2024-07-18', 'system_fingerprint': 'fp_e2bde53e6e', 'finish_reason': 'tool_calls', 'logprobs': None}, id='run-423e6919-efd9-4f62-a7fd-e7adf3567735-0', tool_calls=[{'name': 'add', 'args': {'a': 2, 'b': 2}, 'id': 'call_wfZugVjIL5oyf7CszvYJtLml', 'type': 'tool_call'}, {'name': 'multiply', 'args': {'a': 4, 'b': 10}, 'id': 'call_Ukx2qJ2ZCHT4RW1il8xDoIik', 'type': 'tool_call'}], usage_metadata={'input_tokens': 98, 'output_tokens': 50, 'total_tokens': 148, 'input_token_details': {'cache_read': 0}, 'output_token_details': {'reasoning': 0}}),\n",
       "  ToolMessage(content='4', name='add', id='40a24465-5039-40a1-b288-0db3e181d313', tool_call_id='call_wfZugVjIL5oyf7CszvYJtLml'),\n",
       "  ToolMessage(content='40', name='multiply', id='dd02935f-189f-448f-bc61-6e9d21b66d7c', tool_call_id='call_Ukx2qJ2ZCHT4RW1il8xDoIik'),\n",
       "  AIMessage(content='The result of \\\\(2 + 2\\\\) is \\\\(4\\\\), and when you multiply it by \\\\(10\\\\), the result is \\\\(40\\\\).', additional_kwargs={'refusal': None}, response_metadata={'token_usage': {'completion_tokens': 33, 'prompt_tokens': 164, 'total_tokens': 197, 'completion_tokens_details': {'audio_tokens': None, 'reasoning_tokens': 0}, 'prompt_tokens_details': {'audio_tokens': None, 'cached_tokens': 0}}, 'model_name': 'gpt-4o-mini-2024-07-18', 'system_fingerprint': 'fp_e2bde53e6e', 'finish_reason': 'stop', 'logprobs': None}, id='run-2aad7057-a244-4c25-8d68-210f4e9668bb-0', usage_metadata={'input_tokens': 164, 'output_tokens': 33, 'total_tokens': 197, 'input_token_details': {'cache_read': 0}, 'output_token_details': {'reasoning': 0}})]}"
      ]
     },
     "execution_count": 16,
     "metadata": {},
     "output_type": "execute_result"
    }
   ],
   "source": [
    "response3"
   ]
  },
  {
   "cell_type": "code",
   "execution_count": 17,
   "metadata": {},
   "outputs": [
    {
     "name": "stdout",
     "output_type": "stream",
     "text": [
      "================================\u001b[1m Human Message \u001b[0m=================================\n",
      "\n",
      "what is 2 +  2 and multiply it by 10.\n",
      "None\n",
      "==================================\u001b[1m Ai Message \u001b[0m==================================\n",
      "Tool Calls:\n",
      "  add (call_wfZugVjIL5oyf7CszvYJtLml)\n",
      " Call ID: call_wfZugVjIL5oyf7CszvYJtLml\n",
      "  Args:\n",
      "    a: 2\n",
      "    b: 2\n",
      "  multiply (call_Ukx2qJ2ZCHT4RW1il8xDoIik)\n",
      " Call ID: call_Ukx2qJ2ZCHT4RW1il8xDoIik\n",
      "  Args:\n",
      "    a: 4\n",
      "    b: 10\n",
      "None\n",
      "=================================\u001b[1m Tool Message \u001b[0m=================================\n",
      "Name: add\n",
      "\n",
      "4\n",
      "None\n",
      "=================================\u001b[1m Tool Message \u001b[0m=================================\n",
      "Name: multiply\n",
      "\n",
      "40\n",
      "None\n",
      "==================================\u001b[1m Ai Message \u001b[0m==================================\n",
      "\n",
      "The result of \\(2 + 2\\) is \\(4\\), and when you multiply it by \\(10\\), the result is \\(40\\).\n",
      "None\n"
     ]
    }
   ],
   "source": [
    "display_message(response3)\n"
   ]
  },
  {
   "cell_type": "markdown",
   "metadata": {},
   "source": [
    "now query is = Add 5 to the <code>result</code>\n",
    "\n",
    "As graph don't have access to memory currently it don't what is result here.\n",
    "i.e Ans will be wrong"
   ]
  },
  {
   "cell_type": "code",
   "execution_count": 19,
   "metadata": {},
   "outputs": [],
   "source": [
    "query = \"And Add 5 to the result\"\n",
    "response4 = graph.invoke({\"messages\":HumanMessage(content=query,role = 'user')})"
   ]
  },
  {
   "cell_type": "code",
   "execution_count": 20,
   "metadata": {},
   "outputs": [
    {
     "name": "stdout",
     "output_type": "stream",
     "text": [
      "================================\u001b[1m Human Message \u001b[0m=================================\n",
      "\n",
      "And Add 5 to the result\n",
      "None\n",
      "==================================\u001b[1m Ai Message \u001b[0m==================================\n",
      "Tool Calls:\n",
      "  add (call_ST8eyKt8bg6J7IMwt8sbnqJ1)\n",
      " Call ID: call_ST8eyKt8bg6J7IMwt8sbnqJ1\n",
      "  Args:\n",
      "    a: 5\n",
      "    b: 0\n",
      "None\n",
      "=================================\u001b[1m Tool Message \u001b[0m=================================\n",
      "Name: add\n",
      "\n",
      "5\n",
      "None\n",
      "==================================\u001b[1m Ai Message \u001b[0m==================================\n",
      "\n",
      "The result of adding 5 to 0 is 5.\n",
      "None\n"
     ]
    }
   ],
   "source": [
    "display_message(response4)"
   ]
  },
  {
   "cell_type": "markdown",
   "metadata": {},
   "source": [
    "# <font color=\"green\">Agent With Memory</font>\n",
    "Giving access to memory to graph."
   ]
  },
  {
   "cell_type": "code",
   "execution_count": null,
   "metadata": {},
   "outputs": [],
   "source": []
  },
  {
   "cell_type": "code",
   "execution_count": 33,
   "metadata": {},
   "outputs": [],
   "source": [
    "from langgraph.checkpoint.memory import MemorySaver\n",
    "memory = MemorySaver()\n",
    "memory.memory={}  # clearing out any previous saved checkpoint.\n",
    "react_graph_memory = builder.compile(checkpointer=memory)  # calling out graph object to attach memory\n"
   ]
  },
  {
   "cell_type": "code",
   "execution_count": 34,
   "metadata": {},
   "outputs": [
    {
     "name": "stdout",
     "output_type": "stream",
     "text": [
      "================================\u001b[1m Human Message \u001b[0m=================================\n",
      "\n",
      "what is 2 multiply 2\n",
      "None\n",
      "==================================\u001b[1m Ai Message \u001b[0m==================================\n",
      "Tool Calls:\n",
      "  multiply (call_8m4tGktkc6esnPSe27y0GuXh)\n",
      " Call ID: call_8m4tGktkc6esnPSe27y0GuXh\n",
      "  Args:\n",
      "    a: 2\n",
      "    b: 2\n",
      "None\n",
      "=================================\u001b[1m Tool Message \u001b[0m=================================\n",
      "Name: multiply\n",
      "\n",
      "4\n",
      "None\n",
      "==================================\u001b[1m Ai Message \u001b[0m==================================\n",
      "\n",
      "2 multiplied by 2 is 4.\n",
      "None\n"
     ]
    }
   ],
   "source": [
    "config = {\"configurable\":{\"thread_id\":1}}\n",
    "query1 = \"what is 2 multiply 2\"\n",
    "response5 = react_graph_memory.invoke({\"messages\":HumanMessage(content=query1,role = 'user')},config=config)\n",
    "display_message(response5)"
   ]
  },
  {
   "cell_type": "code",
   "execution_count": 35,
   "metadata": {},
   "outputs": [],
   "source": [
    "query2 = \"And Add 10 to the previous esult\"\n",
    "response6 = react_graph_memory.invoke({\"messages\":HumanMessage(content=query2,role = 'user')},config=config)"
   ]
  },
  {
   "cell_type": "markdown",
   "metadata": {},
   "source": [
    "Now it has the access to the memory. As it knows what is previous result."
   ]
  },
  {
   "cell_type": "code",
   "execution_count": 37,
   "metadata": {},
   "outputs": [
    {
     "name": "stdout",
     "output_type": "stream",
     "text": [
      "================================\u001b[1m Human Message \u001b[0m=================================\n",
      "\n",
      "what is 2 multiply 2\n",
      "None\n",
      "==================================\u001b[1m Ai Message \u001b[0m==================================\n",
      "Tool Calls:\n",
      "  multiply (call_8m4tGktkc6esnPSe27y0GuXh)\n",
      " Call ID: call_8m4tGktkc6esnPSe27y0GuXh\n",
      "  Args:\n",
      "    a: 2\n",
      "    b: 2\n",
      "None\n",
      "=================================\u001b[1m Tool Message \u001b[0m=================================\n",
      "Name: multiply\n",
      "\n",
      "4\n",
      "None\n",
      "==================================\u001b[1m Ai Message \u001b[0m==================================\n",
      "\n",
      "2 multiplied by 2 is 4.\n",
      "None\n",
      "================================\u001b[1m Human Message \u001b[0m=================================\n",
      "\n",
      "And Add 10 to the previous esult\n",
      "None\n",
      "==================================\u001b[1m Ai Message \u001b[0m==================================\n",
      "Tool Calls:\n",
      "  add (call_mI1mJMxHutBOOdGSEpQ6JA5u)\n",
      " Call ID: call_mI1mJMxHutBOOdGSEpQ6JA5u\n",
      "  Args:\n",
      "    a: 4\n",
      "    b: 10\n",
      "None\n",
      "=================================\u001b[1m Tool Message \u001b[0m=================================\n",
      "Name: add\n",
      "\n",
      "14\n",
      "None\n",
      "==================================\u001b[1m Ai Message \u001b[0m==================================\n",
      "\n",
      "Adding 10 to the previous result gives you 14.\n",
      "None\n"
     ]
    }
   ],
   "source": [
    "display_message(response6)"
   ]
  },
  {
   "cell_type": "code",
   "execution_count": null,
   "metadata": {},
   "outputs": [],
   "source": []
  }
 ],
 "metadata": {
  "kernelspec": {
   "display_name": "Python 3",
   "language": "python",
   "name": "python3"
  },
  "language_info": {
   "codemirror_mode": {
    "name": "ipython",
    "version": 3
   },
   "file_extension": ".py",
   "mimetype": "text/x-python",
   "name": "python",
   "nbconvert_exporter": "python",
   "pygments_lexer": "ipython3",
   "version": "3.11.7"
  }
 },
 "nbformat": 4,
 "nbformat_minor": 2
}
