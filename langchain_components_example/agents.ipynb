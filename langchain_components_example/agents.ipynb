{
 "cells": [
  {
   "cell_type": "markdown",
   "metadata": {},
   "source": [
    "<center>\n",
    "<h3>Agents Example(creating custom agents)</h3>\n",
    "</center>"
   ]
  },
  {
   "cell_type": "markdown",
   "metadata": {},
   "source": [
    "## Agents\n",
    "\n",
    "<p>By themselves language model can't take actions- they just ouput text</p>\n",
    "<p>Agents are system that use LLM as a reasoning engine to determine which action to take(means which tool should be called.) and what the input to those actions should be. The result of those action can be feed back into the agent and it determine whether more actions are needed or whether it is okay to finish.</p>\n",
    "\n",
    "<p><code>LangGraph</code> is used to create highly controllable and cutomizable agents</p>"
   ]
  },
  {
   "cell_type": "markdown",
   "metadata": {},
   "source": [
    "#### Simple agent  implementation using LangGraph"
   ]
  },
  {
   "cell_type": "code",
   "execution_count": 18,
   "metadata": {},
   "outputs": [],
   "source": [
    "from langgraph.graph import START,END,StateGraph #for graph\n",
    "from langchain_core.tools import BaseTool # for tools \n",
    "from pydantic import BaseModel,Field # for type\n",
    "from typing import Optional,Type,Literal,TypedDict\n",
    "from langchain_core.callbacks import CallbackManagerForToolRun,AsyncCallbackManagerForToolRun\n",
    "\n"
   ]
  },
  {
   "cell_type": "code",
   "execution_count": 17,
   "metadata": {},
   "outputs": [],
   "source": [
    "class BaseInputType(BaseModel):\n",
    "    a : int = Field(\"First Number\")\n",
    "    b: int = Field(\"Second Number\")\n",
    "\n",
    "class BaseOutputType(BaseModel):\n",
    "    c : int = Field(\"Result\")\n",
    "    \n",
    "# Tool Implementation\n",
    "\n",
    "# Note: It's important that every field has type hints. BaseTool is a\n",
    "# Pydantic class and not having type hints can lead to unexpected behavior.\n",
    "\n",
    "class SimpleCalculator(BaseTool):\n",
    "    name : str = \"Simple Calculator\"\n",
    "    description : str = \"Helpful for simple math question\"\n",
    "    args_schema: Type[BaseModel] = BaseInputType\n",
    "    return_direct:bool = True\n",
    "    \n",
    "    \n",
    "    # for normal calls\n",
    "    def _run(self,a : int,b:int,run_manager:Optional[CallbackManagerForToolRun] = None) -> BaseOutputType:\n",
    "        return a*b\n",
    "    \n",
    "    # If the calculation is cheap, you can just delegate to the sync implementation\n",
    "    # as shown below.\n",
    "    # If the sync calculation is expensive, you should delete the entire _arun method.\n",
    "    # LangChain will automatically provide a better implementation that will\n",
    "    # kick off the task in a thread to make sure it doesn't block other async code. \n",
    "        \n",
    "    # for async calls\n",
    "    async def _arun(self,a:int,b:int, run_manager:Optional[AsyncCallbackManagerForToolRun] = None)->BaseOutputType:\n",
    "        return self._run(a,b,run_manager)\n",
    "\n",
    "# checking the tool\n",
    "multiply = SimpleCalculator()"
   ]
  },
  {
   "cell_type": "code",
   "execution_count": 5,
   "metadata": {},
   "outputs": [
    {
     "name": "stdout",
     "output_type": "stream",
     "text": [
      "Simple Calculator\n",
      "Helpful for simple math question\n",
      "<class '__main__.BaseInputType'>\n"
     ]
    }
   ],
   "source": [
    "print(multiply.name)\n",
    "print(multiply.description)\n",
    "print(multiply.args_schema)"
   ]
  },
  {
   "cell_type": "code",
   "execution_count": 15,
   "metadata": {},
   "outputs": [
    {
     "name": "stdout",
     "output_type": "stream",
     "text": [
      "6\n",
      "625\n"
     ]
    }
   ],
   "source": [
    "print(multiply.invoke({\"a\":2,\"b\":3}))\n",
    "print(await multiply.ainvoke({\"a\":25,\"b\":25}))"
   ]
  },
  {
   "cell_type": "markdown",
   "metadata": {},
   "source": [
    "### Agent(using LangGraph)"
   ]
  },
  {
   "cell_type": "code",
   "execution_count": 29,
   "metadata": {},
   "outputs": [],
   "source": [
    "# Type of state\n",
    "class State(TypedDict):\n",
    "    first_num : int\n",
    "    sec_num : int\n",
    "    result : int\n",
    "\n",
    "# Defining the functionality of Node\n",
    "def node_1(state):\n",
    "    # let's update the state in node 1\n",
    "    print(\"--- Inside Node 1 (Updating the state) ---- \\n\")\n",
    "    print(\"State : \",state,\"\\n\")\n",
    "    return ({\"first_num\" : state[\"first_num\"], \"sec_num\":state[\"sec_num\"]})\n",
    "\n",
    "def node_2(state):\n",
    "    print(\"---- Inside Node 2 (returning multiply) ----\\n\")\n",
    "    return({\"result\":state[\"first_num\"] * state[\"sec_num\"]})\n",
    "\n",
    "def node_3(state):\n",
    "    print(\"---- Inside node 3 (returning addition) ----\\n\")\n",
    "    return({\"result\" : state[\"first_num\"] + state[\"sec_num\"]})\n",
    "\n",
    "def deciding_node(state)-> Literal[\"node_2\",\"node_3\"]:\n",
    "    if state[\"first_num\"] < state[\"sec_num\"]:\n",
    "        return \"node_2\"\n",
    "    return \"node_3\"\n",
    "\n",
    "# Creating Graph\n",
    "builder = StateGraph(State)\n",
    "\n",
    "# Adding node to graph\n",
    "builder.add_node(\"node_1\",node_1)\n",
    "builder.add_node(\"node_2\",node_2)\n",
    "builder.add_node(\"node_3\",node_3)\n",
    "\n",
    "# Adding edge between graph\n",
    "builder.add_edge(START,\"node_1\")\n",
    "builder.add_conditional_edges(\"node_1\",deciding_node)\n",
    "builder.add_edge(\"node_2\",END)\n",
    "builder.add_edge(\"node_3\",END)\n",
    "\n",
    "# at last compiling the graph\n",
    "graph = builder.compile()"
   ]
  },
  {
   "cell_type": "code",
   "execution_count": 30,
   "metadata": {},
   "outputs": [
    {
     "name": "stdout",
     "output_type": "stream",
     "text": [
      "--- Inside Node 1 (Updating the state) ---- \n",
      "\n",
      "State :  {'first_num': 10, 'sec_num': 30} \n",
      "\n",
      "---- Inside Node 2 (returning multiply) ----\n",
      "\n"
     ]
    },
    {
     "data": {
      "text/plain": [
       "{'first_num': 10, 'sec_num': 30, 'result': 300}"
      ]
     },
     "execution_count": 30,
     "metadata": {},
     "output_type": "execute_result"
    }
   ],
   "source": [
    "graph.invoke({\"first_num\":10,\"sec_num\":30})"
   ]
  },
  {
   "cell_type": "code",
   "execution_count": 31,
   "metadata": {},
   "outputs": [
    {
     "name": "stdout",
     "output_type": "stream",
     "text": [
      "--- Inside Node 1 (Updating the state) ---- \n",
      "\n",
      "State :  {'first_num': 100, 'sec_num': 30} \n",
      "\n",
      "---- Inside node 3 (returning addition) ----\n",
      "\n"
     ]
    },
    {
     "data": {
      "text/plain": [
       "{'first_num': 100, 'sec_num': 30, 'result': 130}"
      ]
     },
     "execution_count": 31,
     "metadata": {},
     "output_type": "execute_result"
    }
   ],
   "source": [
    "graph.invoke({\"first_num\":100,\"sec_num\":30})"
   ]
  },
  {
   "cell_type": "code",
   "execution_count": null,
   "metadata": {},
   "outputs": [],
   "source": []
  }
 ],
 "metadata": {
  "kernelspec": {
   "display_name": "Python 3",
   "language": "python",
   "name": "python3"
  },
  "language_info": {
   "codemirror_mode": {
    "name": "ipython",
    "version": 3
   },
   "file_extension": ".py",
   "mimetype": "text/x-python",
   "name": "python",
   "nbconvert_exporter": "python",
   "pygments_lexer": "ipython3",
   "version": "3.11.7"
  }
 },
 "nbformat": 4,
 "nbformat_minor": 2
}
