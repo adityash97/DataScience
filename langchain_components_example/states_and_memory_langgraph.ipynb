{
 "cells": [
  {
   "cell_type": "markdown",
   "metadata": {},
   "source": [
    "<center>\n",
    "\n",
    "\n",
    "<h3>States and Memory demonstrations</h3>\n",
    "<ul>\n",
    "<li><h3>State Schema </h3></li>\n",
    "<li><h3>Branching(parallel execution) </h3></li>\n",
    "<li><h3>State Reducer(prebuilt,custom) </h3></li>\n",
    "<li><h3>Multiple Schemas </h3></li>\n",
    "<li><h3>Filtering Trimming messages(Advance ways to work with Messages in Langgraph)</h3>\n",
    "\n",
    "</li>\n",
    "<li><h3>Saving State in Memory/external DB </h3></li>\n",
    "\n",
    "</ul>\n",
    "\n",
    "</center>"
   ]
  },
  {
   "cell_type": "markdown",
   "metadata": {},
   "source": [
    "# State Schema \n",
    "<ul>\n",
    "<li>When creating Graph we define StateGraph and we use State.</li>\n",
    "<li>The State Schema represents the structure and type of data that our graph will use.</li>\n",
    "<li>All Nodes are expected to communicate with that schema.</li>\n",
    "</ul>\n",
    "There are various ways we can define the type / structure of our schema.\n",
    "<ul>\n",
    "<li>TypedDict  (Not inforced at runtime)</li>\n",
    "<li>DataClass (Not inforced at runtime)</li>\n",
    "<li>Pydantic <code>(Enforced at runtime)</code></li>\n",
    "</ul>\n",
    "Use <code>Pydentic</code> to define states of graph as it is being implemeted at the runtime so that any unvalidated data won't go into the system.\n",
    "Other than TypedDict or DataClass these are not being implemented at the run time."
   ]
  },
  {
   "cell_type": "code",
   "execution_count": 1,
   "metadata": {},
   "outputs": [
    {
     "name": "stdout",
     "output_type": "stream",
     "text": [
      "1 validation error for PydanticState\n",
      "mood\n",
      "  unexpected value; permitted: 'happy', 'sad' (type=value_error.const; given=mad; permitted=('happy', 'sad'))\n"
     ]
    },
    {
     "name": "stderr",
     "output_type": "stream",
     "text": [
      "/Users/adityaanand/Desktop/Desktop/DataScience/env/lib/python3.11/site-packages/IPython/core/interactiveshell.py:3577: LangChainDeprecationWarning: As of langchain-core 0.3.0, LangChain uses pydantic v2 internally. The langchain_core.pydantic_v1 module was a compatibility shim for pydantic v1, and should no longer be used. Please update the code to import from Pydantic directly.\n",
      "\n",
      "For example, replace imports like: `from langchain_core.pydantic_v1 import BaseModel`\n",
      "with: `from pydantic import BaseModel`\n",
      "or the v1 compatibility namespace if you are working in a code base that has not been fully upgraded to pydantic 2 yet. \tfrom pydantic.v1 import BaseModel\n",
      "\n",
      "  exec(code_obj, self.user_global_ns, self.user_ns)\n"
     ]
    }
   ],
   "source": [
    "from langchain_core.pydantic_v1 import BaseModel,validator,ValidationError\n",
    "from typing import Literal\n",
    "\n",
    "class PydanticState(BaseModel):\n",
    "    name: str\n",
    "    mood: Literal[\"happy\",\"sad\"]\n",
    "    \n",
    "    @validator('mood')\n",
    "    def validate_mood(cls,value):\n",
    "        if value in [\"happy\",\"sad\"]:\n",
    "            return value\n",
    "        raise ValidationError(\"Mood should be in ['happy','sad'] \")\n",
    "    \n",
    "try:\n",
    "    state = PydanticState(name=\"aditya\",mood=\"mad\")\n",
    "except Exception as e:\n",
    "    print(e)"
   ]
  },
  {
   "cell_type": "code",
   "execution_count": 5,
   "metadata": {},
   "outputs": [
    {
     "data": {
      "image/jpeg": "[encoded data removed]",
      "text/plain": [
       "<IPython.core.display.Image object>"
      ]
     },
     "metadata": {},
     "output_type": "display_data"
    }
   ],
   "source": [
    "from langgraph.graph import START,END,StateGraph\n",
    "from IPython.display import Image,display\n",
    "\n",
    "def display_mood(state:PydanticState):\n",
    "    return {'name':state.name,'mood':state.mood}\n",
    "\n",
    "builder = StateGraph(PydanticState)\n",
    "builder.add_node('display_node',display_mood)\n",
    "\n",
    "builder.add_edge(START,'display_node')\n",
    "builder.add_edge('display_node',END)\n",
    "\n",
    "graph = builder.compile()\n",
    "\n",
    "display(Image(graph.get_graph().draw_mermaid_png()))"
   ]
  },
  {
   "cell_type": "code",
   "execution_count": 6,
   "metadata": {},
   "outputs": [
    {
     "data": {
      "text/plain": [
       "{'name': 'Aditya', 'mood': 'happy'}"
      ]
     },
     "execution_count": 6,
     "metadata": {},
     "output_type": "execute_result"
    }
   ],
   "source": [
    "graph.invoke({'name':'Aditya','mood':'happy'})"
   ]
  },
  {
   "cell_type": "code",
   "execution_count": 7,
   "metadata": {},
   "outputs": [
    {
     "ename": "ValidationError",
     "evalue": "1 validation error for PydanticState\nmood\n  unexpected value; permitted: 'happy', 'sad' (type=value_error.const; given=good; permitted=('happy', 'sad'))",
     "output_type": "error",
     "traceback": [
      "\u001b[0;31m---------------------------------------------------------------------------\u001b[0m",
      "\u001b[0;31mValidationError\u001b[0m                           Traceback (most recent call last)",
      "Cell \u001b[0;32mIn[7], line 2\u001b[0m\n\u001b[1;32m      1\u001b[0m \u001b[38;5;66;03m# Will throw error at execution time\u001b[39;00m\n\u001b[0;32m----> 2\u001b[0m \u001b[43mgraph\u001b[49m\u001b[38;5;241;43m.\u001b[39;49m\u001b[43minvoke\u001b[49m\u001b[43m(\u001b[49m\u001b[43m{\u001b[49m\u001b[38;5;124;43m'\u001b[39;49m\u001b[38;5;124;43mname\u001b[39;49m\u001b[38;5;124;43m'\u001b[39;49m\u001b[43m:\u001b[49m\u001b[38;5;124;43m'\u001b[39;49m\u001b[38;5;124;43mAditya\u001b[39;49m\u001b[38;5;124;43m'\u001b[39;49m\u001b[43m,\u001b[49m\u001b[38;5;124;43m'\u001b[39;49m\u001b[38;5;124;43mmood\u001b[39;49m\u001b[38;5;124;43m'\u001b[39;49m\u001b[43m:\u001b[49m\u001b[38;5;124;43m'\u001b[39;49m\u001b[38;5;124;43mgood\u001b[39;49m\u001b[38;5;124;43m'\u001b[39;49m\u001b[43m}\u001b[49m\u001b[43m)\u001b[49m\n",
      "File \u001b[0;32m~/Desktop/Desktop/DataScience/env/lib/python3.11/site-packages/langgraph/pregel/__init__.py:1586\u001b[0m, in \u001b[0;36mPregel.invoke\u001b[0;34m(self, input, config, stream_mode, output_keys, interrupt_before, interrupt_after, debug, **kwargs)\u001b[0m\n\u001b[1;32m   1584\u001b[0m \u001b[38;5;28;01melse\u001b[39;00m:\n\u001b[1;32m   1585\u001b[0m     chunks \u001b[38;5;241m=\u001b[39m []\n\u001b[0;32m-> 1586\u001b[0m \u001b[43m\u001b[49m\u001b[38;5;28;43;01mfor\u001b[39;49;00m\u001b[43m \u001b[49m\u001b[43mchunk\u001b[49m\u001b[43m \u001b[49m\u001b[38;5;129;43;01min\u001b[39;49;00m\u001b[43m \u001b[49m\u001b[38;5;28;43mself\u001b[39;49m\u001b[38;5;241;43m.\u001b[39;49m\u001b[43mstream\u001b[49m\u001b[43m(\u001b[49m\n\u001b[1;32m   1587\u001b[0m \u001b[43m    \u001b[49m\u001b[38;5;28;43minput\u001b[39;49m\u001b[43m,\u001b[49m\n\u001b[1;32m   1588\u001b[0m \u001b[43m    \u001b[49m\u001b[43mconfig\u001b[49m\u001b[43m,\u001b[49m\n\u001b[1;32m   1589\u001b[0m \u001b[43m    \u001b[49m\u001b[43mstream_mode\u001b[49m\u001b[38;5;241;43m=\u001b[39;49m\u001b[43mstream_mode\u001b[49m\u001b[43m,\u001b[49m\n\u001b[1;32m   1590\u001b[0m \u001b[43m    \u001b[49m\u001b[43moutput_keys\u001b[49m\u001b[38;5;241;43m=\u001b[39;49m\u001b[43moutput_keys\u001b[49m\u001b[43m,\u001b[49m\n\u001b[1;32m   1591\u001b[0m \u001b[43m    \u001b[49m\u001b[43minterrupt_before\u001b[49m\u001b[38;5;241;43m=\u001b[39;49m\u001b[43minterrupt_before\u001b[49m\u001b[43m,\u001b[49m\n\u001b[1;32m   1592\u001b[0m \u001b[43m    \u001b[49m\u001b[43minterrupt_after\u001b[49m\u001b[38;5;241;43m=\u001b[39;49m\u001b[43minterrupt_after\u001b[49m\u001b[43m,\u001b[49m\n\u001b[1;32m   1593\u001b[0m \u001b[43m    \u001b[49m\u001b[43mdebug\u001b[49m\u001b[38;5;241;43m=\u001b[39;49m\u001b[43mdebug\u001b[49m\u001b[43m,\u001b[49m\n\u001b[1;32m   1594\u001b[0m \u001b[43m    \u001b[49m\u001b[38;5;241;43m*\u001b[39;49m\u001b[38;5;241;43m*\u001b[39;49m\u001b[43mkwargs\u001b[49m\u001b[43m,\u001b[49m\n\u001b[1;32m   1595\u001b[0m \u001b[43m\u001b[49m\u001b[43m)\u001b[49m\u001b[43m:\u001b[49m\n\u001b[1;32m   1596\u001b[0m \u001b[43m    \u001b[49m\u001b[38;5;28;43;01mif\u001b[39;49;00m\u001b[43m \u001b[49m\u001b[43mstream_mode\u001b[49m\u001b[43m \u001b[49m\u001b[38;5;241;43m==\u001b[39;49m\u001b[43m \u001b[49m\u001b[38;5;124;43m\"\u001b[39;49m\u001b[38;5;124;43mvalues\u001b[39;49m\u001b[38;5;124;43m\"\u001b[39;49m\u001b[43m:\u001b[49m\n\u001b[1;32m   1597\u001b[0m \u001b[43m        \u001b[49m\u001b[43mlatest\u001b[49m\u001b[43m \u001b[49m\u001b[38;5;241;43m=\u001b[39;49m\u001b[43m \u001b[49m\u001b[43mchunk\u001b[49m\n",
      "File \u001b[0;32m~/Desktop/Desktop/DataScience/env/lib/python3.11/site-packages/langgraph/pregel/__init__.py:1309\u001b[0m, in \u001b[0;36mPregel.stream\u001b[0;34m(self, input, config, stream_mode, output_keys, interrupt_before, interrupt_after, debug, subgraphs)\u001b[0m\n\u001b[1;32m   1303\u001b[0m     get_waiter \u001b[38;5;241m=\u001b[39m \u001b[38;5;28;01mNone\u001b[39;00m  \u001b[38;5;66;03m# type: ignore[assignment]\u001b[39;00m\n\u001b[1;32m   1304\u001b[0m \u001b[38;5;66;03m# Similarly to Bulk Synchronous Parallel / Pregel model\u001b[39;00m\n\u001b[1;32m   1305\u001b[0m \u001b[38;5;66;03m# computation proceeds in steps, while there are channel updates\u001b[39;00m\n\u001b[1;32m   1306\u001b[0m \u001b[38;5;66;03m# channel updates from step N are only visible in step N+1\u001b[39;00m\n\u001b[1;32m   1307\u001b[0m \u001b[38;5;66;03m# channels are guaranteed to be immutable for the duration of the step,\u001b[39;00m\n\u001b[1;32m   1308\u001b[0m \u001b[38;5;66;03m# with channel updates applied only at the transition between steps\u001b[39;00m\n\u001b[0;32m-> 1309\u001b[0m \u001b[38;5;28;01mwhile\u001b[39;00m \u001b[43mloop\u001b[49m\u001b[38;5;241;43m.\u001b[39;49m\u001b[43mtick\u001b[49m\u001b[43m(\u001b[49m\n\u001b[1;32m   1310\u001b[0m \u001b[43m    \u001b[49m\u001b[43minput_keys\u001b[49m\u001b[38;5;241;43m=\u001b[39;49m\u001b[38;5;28;43mself\u001b[39;49m\u001b[38;5;241;43m.\u001b[39;49m\u001b[43minput_channels\u001b[49m\u001b[43m,\u001b[49m\n\u001b[1;32m   1311\u001b[0m \u001b[43m    \u001b[49m\u001b[43minterrupt_before\u001b[49m\u001b[38;5;241;43m=\u001b[39;49m\u001b[43minterrupt_before_\u001b[49m\u001b[43m,\u001b[49m\n\u001b[1;32m   1312\u001b[0m \u001b[43m    \u001b[49m\u001b[43minterrupt_after\u001b[49m\u001b[38;5;241;43m=\u001b[39;49m\u001b[43minterrupt_after_\u001b[49m\u001b[43m,\u001b[49m\n\u001b[1;32m   1313\u001b[0m \u001b[43m    \u001b[49m\u001b[43mmanager\u001b[49m\u001b[38;5;241;43m=\u001b[39;49m\u001b[43mrun_manager\u001b[49m\u001b[43m,\u001b[49m\n\u001b[1;32m   1314\u001b[0m \u001b[43m\u001b[49m\u001b[43m)\u001b[49m:\n\u001b[1;32m   1315\u001b[0m     \u001b[38;5;28;01mfor\u001b[39;00m _ \u001b[38;5;129;01min\u001b[39;00m runner\u001b[38;5;241m.\u001b[39mtick(\n\u001b[1;32m   1316\u001b[0m         loop\u001b[38;5;241m.\u001b[39mtasks\u001b[38;5;241m.\u001b[39mvalues(),\n\u001b[1;32m   1317\u001b[0m         timeout\u001b[38;5;241m=\u001b[39m\u001b[38;5;28mself\u001b[39m\u001b[38;5;241m.\u001b[39mstep_timeout,\n\u001b[0;32m   (...)\u001b[0m\n\u001b[1;32m   1320\u001b[0m     ):\n\u001b[1;32m   1321\u001b[0m         \u001b[38;5;66;03m# emit output\u001b[39;00m\n\u001b[1;32m   1322\u001b[0m         \u001b[38;5;28;01myield from\u001b[39;00m output()\n",
      "File \u001b[0;32m~/Desktop/Desktop/DataScience/env/lib/python3.11/site-packages/langgraph/pregel/loop.py:335\u001b[0m, in \u001b[0;36mPregelLoop.tick\u001b[0;34m(self, input_keys, interrupt_after, interrupt_before, manager)\u001b[0m\n\u001b[1;32m    332\u001b[0m     \u001b[38;5;28;01mreturn\u001b[39;00m \u001b[38;5;28;01mFalse\u001b[39;00m\n\u001b[1;32m    334\u001b[0m \u001b[38;5;66;03m# prepare next tasks\u001b[39;00m\n\u001b[0;32m--> 335\u001b[0m \u001b[38;5;28mself\u001b[39m\u001b[38;5;241m.\u001b[39mtasks \u001b[38;5;241m=\u001b[39m \u001b[43mprepare_next_tasks\u001b[49m\u001b[43m(\u001b[49m\n\u001b[1;32m    336\u001b[0m \u001b[43m    \u001b[49m\u001b[38;5;28;43mself\u001b[39;49m\u001b[38;5;241;43m.\u001b[39;49m\u001b[43mcheckpoint\u001b[49m\u001b[43m,\u001b[49m\n\u001b[1;32m    337\u001b[0m \u001b[43m    \u001b[49m\u001b[38;5;28;43mself\u001b[39;49m\u001b[38;5;241;43m.\u001b[39;49m\u001b[43mnodes\u001b[49m\u001b[43m,\u001b[49m\n\u001b[1;32m    338\u001b[0m \u001b[43m    \u001b[49m\u001b[38;5;28;43mself\u001b[39;49m\u001b[38;5;241;43m.\u001b[39;49m\u001b[43mchannels\u001b[49m\u001b[43m,\u001b[49m\n\u001b[1;32m    339\u001b[0m \u001b[43m    \u001b[49m\u001b[38;5;28;43mself\u001b[39;49m\u001b[38;5;241;43m.\u001b[39;49m\u001b[43mmanaged\u001b[49m\u001b[43m,\u001b[49m\n\u001b[1;32m    340\u001b[0m \u001b[43m    \u001b[49m\u001b[38;5;28;43mself\u001b[39;49m\u001b[38;5;241;43m.\u001b[39;49m\u001b[43mconfig\u001b[49m\u001b[43m,\u001b[49m\n\u001b[1;32m    341\u001b[0m \u001b[43m    \u001b[49m\u001b[38;5;28;43mself\u001b[39;49m\u001b[38;5;241;43m.\u001b[39;49m\u001b[43mstep\u001b[49m\u001b[43m,\u001b[49m\n\u001b[1;32m    342\u001b[0m \u001b[43m    \u001b[49m\u001b[43mfor_execution\u001b[49m\u001b[38;5;241;43m=\u001b[39;49m\u001b[38;5;28;43;01mTrue\u001b[39;49;00m\u001b[43m,\u001b[49m\n\u001b[1;32m    343\u001b[0m \u001b[43m    \u001b[49m\u001b[43mmanager\u001b[49m\u001b[38;5;241;43m=\u001b[39;49m\u001b[43mmanager\u001b[49m\u001b[43m,\u001b[49m\n\u001b[1;32m    344\u001b[0m \u001b[43m    \u001b[49m\u001b[43mstore\u001b[49m\u001b[38;5;241;43m=\u001b[39;49m\u001b[38;5;28;43mself\u001b[39;49m\u001b[38;5;241;43m.\u001b[39;49m\u001b[43mstore\u001b[49m\u001b[43m,\u001b[49m\n\u001b[1;32m    345\u001b[0m \u001b[43m    \u001b[49m\u001b[43mcheckpointer\u001b[49m\u001b[38;5;241;43m=\u001b[39;49m\u001b[38;5;28;43mself\u001b[39;49m\u001b[38;5;241;43m.\u001b[39;49m\u001b[43mcheckpointer\u001b[49m\u001b[43m,\u001b[49m\n\u001b[1;32m    346\u001b[0m \u001b[43m\u001b[49m\u001b[43m)\u001b[49m\n\u001b[1;32m    348\u001b[0m \u001b[38;5;66;03m# produce debug output\u001b[39;00m\n\u001b[1;32m    349\u001b[0m \u001b[38;5;28;01mif\u001b[39;00m \u001b[38;5;28mself\u001b[39m\u001b[38;5;241m.\u001b[39m_checkpointer_put_after_previous \u001b[38;5;129;01mis\u001b[39;00m \u001b[38;5;129;01mnot\u001b[39;00m \u001b[38;5;28;01mNone\u001b[39;00m:\n",
      "File \u001b[0;32m~/Desktop/Desktop/DataScience/env/lib/python3.11/site-packages/langgraph/pregel/algo.py:339\u001b[0m, in \u001b[0;36mprepare_next_tasks\u001b[0;34m(checkpoint, processes, channels, managed, config, step, for_execution, store, checkpointer, manager)\u001b[0m\n\u001b[1;32m    336\u001b[0m \u001b[38;5;66;03m# Check if any processes should be run in next step\u001b[39;00m\n\u001b[1;32m    337\u001b[0m \u001b[38;5;66;03m# If so, prepare the values to be passed to them\u001b[39;00m\n\u001b[1;32m    338\u001b[0m \u001b[38;5;28;01mfor\u001b[39;00m name \u001b[38;5;129;01min\u001b[39;00m processes:\n\u001b[0;32m--> 339\u001b[0m     \u001b[38;5;28;01mif\u001b[39;00m task \u001b[38;5;241m:=\u001b[39m \u001b[43mprepare_single_task\u001b[49m\u001b[43m(\u001b[49m\n\u001b[1;32m    340\u001b[0m \u001b[43m        \u001b[49m\u001b[43m(\u001b[49m\u001b[43mPULL\u001b[49m\u001b[43m,\u001b[49m\u001b[43m \u001b[49m\u001b[43mname\u001b[49m\u001b[43m)\u001b[49m\u001b[43m,\u001b[49m\n\u001b[1;32m    341\u001b[0m \u001b[43m        \u001b[49m\u001b[38;5;28;43;01mNone\u001b[39;49;00m\u001b[43m,\u001b[49m\n\u001b[1;32m    342\u001b[0m \u001b[43m        \u001b[49m\u001b[43mcheckpoint\u001b[49m\u001b[38;5;241;43m=\u001b[39;49m\u001b[43mcheckpoint\u001b[49m\u001b[43m,\u001b[49m\n\u001b[1;32m    343\u001b[0m \u001b[43m        \u001b[49m\u001b[43mprocesses\u001b[49m\u001b[38;5;241;43m=\u001b[39;49m\u001b[43mprocesses\u001b[49m\u001b[43m,\u001b[49m\n\u001b[1;32m    344\u001b[0m \u001b[43m        \u001b[49m\u001b[43mchannels\u001b[49m\u001b[38;5;241;43m=\u001b[39;49m\u001b[43mchannels\u001b[49m\u001b[43m,\u001b[49m\n\u001b[1;32m    345\u001b[0m \u001b[43m        \u001b[49m\u001b[43mmanaged\u001b[49m\u001b[38;5;241;43m=\u001b[39;49m\u001b[43mmanaged\u001b[49m\u001b[43m,\u001b[49m\n\u001b[1;32m    346\u001b[0m \u001b[43m        \u001b[49m\u001b[43mconfig\u001b[49m\u001b[38;5;241;43m=\u001b[39;49m\u001b[43mconfig\u001b[49m\u001b[43m,\u001b[49m\n\u001b[1;32m    347\u001b[0m \u001b[43m        \u001b[49m\u001b[43mstep\u001b[49m\u001b[38;5;241;43m=\u001b[39;49m\u001b[43mstep\u001b[49m\u001b[43m,\u001b[49m\n\u001b[1;32m    348\u001b[0m \u001b[43m        \u001b[49m\u001b[43mfor_execution\u001b[49m\u001b[38;5;241;43m=\u001b[39;49m\u001b[43mfor_execution\u001b[49m\u001b[43m,\u001b[49m\n\u001b[1;32m    349\u001b[0m \u001b[43m        \u001b[49m\u001b[43mstore\u001b[49m\u001b[38;5;241;43m=\u001b[39;49m\u001b[43mstore\u001b[49m\u001b[43m,\u001b[49m\n\u001b[1;32m    350\u001b[0m \u001b[43m        \u001b[49m\u001b[43mcheckpointer\u001b[49m\u001b[38;5;241;43m=\u001b[39;49m\u001b[43mcheckpointer\u001b[49m\u001b[43m,\u001b[49m\n\u001b[1;32m    351\u001b[0m \u001b[43m        \u001b[49m\u001b[43mmanager\u001b[49m\u001b[38;5;241;43m=\u001b[39;49m\u001b[43mmanager\u001b[49m\u001b[43m,\u001b[49m\n\u001b[1;32m    352\u001b[0m \u001b[43m    \u001b[49m\u001b[43m)\u001b[49m:\n\u001b[1;32m    353\u001b[0m         tasks[task\u001b[38;5;241m.\u001b[39mid] \u001b[38;5;241m=\u001b[39m task\n\u001b[1;32m    354\u001b[0m \u001b[38;5;28;01mreturn\u001b[39;00m tasks\n",
      "File \u001b[0;32m~/Desktop/Desktop/DataScience/env/lib/python3.11/site-packages/langgraph/pregel/algo.py:495\u001b[0m, in \u001b[0;36mprepare_single_task\u001b[0;34m(task_path, task_id_checksum, checkpoint, processes, channels, managed, config, step, for_execution, store, checkpointer, manager)\u001b[0m\n\u001b[1;32m    485\u001b[0m \u001b[38;5;28;01mif\u001b[39;00m triggers \u001b[38;5;241m:=\u001b[39m \u001b[38;5;28msorted\u001b[39m(\n\u001b[1;32m    486\u001b[0m     chan\n\u001b[1;32m    487\u001b[0m     \u001b[38;5;28;01mfor\u001b[39;00m chan \u001b[38;5;129;01min\u001b[39;00m proc\u001b[38;5;241m.\u001b[39mtriggers\n\u001b[0;32m   (...)\u001b[0m\n\u001b[1;32m    492\u001b[0m     \u001b[38;5;241m>\u001b[39m seen\u001b[38;5;241m.\u001b[39mget(chan, null_version)\n\u001b[1;32m    493\u001b[0m ):\n\u001b[1;32m    494\u001b[0m     \u001b[38;5;28;01mtry\u001b[39;00m:\n\u001b[0;32m--> 495\u001b[0m         val \u001b[38;5;241m=\u001b[39m \u001b[38;5;28mnext\u001b[39m(\n\u001b[1;32m    496\u001b[0m             _proc_input(proc, managed, channels, for_execution\u001b[38;5;241m=\u001b[39mfor_execution)\n\u001b[1;32m    497\u001b[0m         )\n\u001b[1;32m    498\u001b[0m     \u001b[38;5;28;01mexcept\u001b[39;00m \u001b[38;5;167;01mStopIteration\u001b[39;00m:\n\u001b[1;32m    499\u001b[0m         \u001b[38;5;28;01mreturn\u001b[39;00m\n",
      "File \u001b[0;32m~/Desktop/Desktop/DataScience/env/lib/python3.11/site-packages/langgraph/pregel/algo.py:624\u001b[0m, in \u001b[0;36m_proc_input\u001b[0;34m(proc, managed, channels, for_execution)\u001b[0m\n\u001b[1;32m    622\u001b[0m \u001b[38;5;66;03m# If the process has a mapper, apply it to the value\u001b[39;00m\n\u001b[1;32m    623\u001b[0m \u001b[38;5;28;01mif\u001b[39;00m for_execution \u001b[38;5;129;01mand\u001b[39;00m proc\u001b[38;5;241m.\u001b[39mmapper \u001b[38;5;129;01mis\u001b[39;00m \u001b[38;5;129;01mnot\u001b[39;00m \u001b[38;5;28;01mNone\u001b[39;00m:\n\u001b[0;32m--> 624\u001b[0m     val \u001b[38;5;241m=\u001b[39m \u001b[43mproc\u001b[49m\u001b[38;5;241;43m.\u001b[39;49m\u001b[43mmapper\u001b[49m\u001b[43m(\u001b[49m\u001b[43mval\u001b[49m\u001b[43m)\u001b[49m\n\u001b[1;32m    626\u001b[0m \u001b[38;5;28;01myield\u001b[39;00m val\n",
      "File \u001b[0;32m~/Desktop/Desktop/DataScience/env/lib/python3.11/site-packages/langgraph/graph/state.py:708\u001b[0m, in \u001b[0;36m_coerce_state\u001b[0;34m(schema, input)\u001b[0m\n\u001b[1;32m    707\u001b[0m \u001b[38;5;28;01mdef\u001b[39;00m \u001b[38;5;21m_coerce_state\u001b[39m(schema: Type[Any], \u001b[38;5;28minput\u001b[39m: \u001b[38;5;28mdict\u001b[39m[\u001b[38;5;28mstr\u001b[39m, Any]) \u001b[38;5;241m-\u001b[39m\u001b[38;5;241m>\u001b[39m \u001b[38;5;28mdict\u001b[39m[\u001b[38;5;28mstr\u001b[39m, Any]:\n\u001b[0;32m--> 708\u001b[0m     \u001b[38;5;28;01mreturn\u001b[39;00m \u001b[43mschema\u001b[49m\u001b[43m(\u001b[49m\u001b[38;5;241;43m*\u001b[39;49m\u001b[38;5;241;43m*\u001b[39;49m\u001b[38;5;28;43minput\u001b[39;49m\u001b[43m)\u001b[49m\n",
      "File \u001b[0;32m~/Desktop/Desktop/DataScience/env/lib/python3.11/site-packages/pydantic/v1/main.py:341\u001b[0m, in \u001b[0;36mBaseModel.__init__\u001b[0;34m(__pydantic_self__, **data)\u001b[0m\n\u001b[1;32m    339\u001b[0m values, fields_set, validation_error \u001b[38;5;241m=\u001b[39m validate_model(__pydantic_self__\u001b[38;5;241m.\u001b[39m\u001b[38;5;18m__class__\u001b[39m, data)\n\u001b[1;32m    340\u001b[0m \u001b[38;5;28;01mif\u001b[39;00m validation_error:\n\u001b[0;32m--> 341\u001b[0m     \u001b[38;5;28;01mraise\u001b[39;00m validation_error\n\u001b[1;32m    342\u001b[0m \u001b[38;5;28;01mtry\u001b[39;00m:\n\u001b[1;32m    343\u001b[0m     object_setattr(__pydantic_self__, \u001b[38;5;124m'\u001b[39m\u001b[38;5;124m__dict__\u001b[39m\u001b[38;5;124m'\u001b[39m, values)\n",
      "\u001b[0;31mValidationError\u001b[0m: 1 validation error for PydanticState\nmood\n  unexpected value; permitted: 'happy', 'sad' (type=value_error.const; given=good; permitted=('happy', 'sad'))"
     ]
    }
   ],
   "source": [
    "# Will throw error at execution time\n",
    "graph.invoke({'name':'Aditya','mood':'good'})"
   ]
  },
  {
   "cell_type": "markdown",
   "metadata": {},
   "source": [
    "# <font color=\"green\">State Reducer</font>\n",
    "<p><strong>Branching</strong>,<strong>Reducer</strong>,<strong>add_message</strong>(reducer for MessagesState).</p></br>\n",
    "State Reducer specify how state updates are performed on specific keys/channels in the state Schema."
   ]
  },
  {
   "cell_type": "code",
   "execution_count": 8,
   "metadata": {},
   "outputs": [],
   "source": [
    "# Normal State\n",
    "from typing import TypedDict\n",
    "\n",
    "class TestState(TypedDict):\n",
    "    counter : int\n",
    "\n",
    "# node\n",
    "def update_counter(state:TestState):\n",
    "    return {'counter':state['counter']+1}\n",
    "\n",
    "builder = StateGraph(TestState)\n",
    "builder.add_node('update_counter',update_counter)\n",
    "\n",
    "builder.add_edge(START,'update_counter')\n",
    "builder.add_edge('update_counter',END)\n",
    "\n",
    "graph = builder.compile()\n"
   ]
  },
  {
   "cell_type": "code",
   "execution_count": 9,
   "metadata": {},
   "outputs": [
    {
     "data": {
      "image/jpeg": "[encoded data removed]",
      "text/plain": [
       "<IPython.core.display.Image object>"
      ]
     },
     "metadata": {},
     "output_type": "display_data"
    }
   ],
   "source": [
    "display(Image(graph.get_graph().draw_mermaid_png()))"
   ]
  },
  {
   "cell_type": "code",
   "execution_count": 10,
   "metadata": {},
   "outputs": [
    {
     "data": {
      "text/plain": [
       "{'counter': 6}"
      ]
     },
     "execution_count": 10,
     "metadata": {},
     "output_type": "execute_result"
    }
   ],
   "source": [
    "graph.invoke({'counter':5})"
   ]
  },
  {
   "cell_type": "markdown",
   "metadata": {},
   "source": [
    "# Branching\n",
    "<p>When our nodes branch, it might execute in parallel and are supposed to use same state.\n",
    "When we update the same state in parallel it will throw error as graph dont knows which value to override first.</p>\n",
    "<p>This is where we'll need <code>Reducer </code></p>\n",
    "<p>Node running in prallel are the part of same graph execution.</p>\n",
    "<p>By default Graph don't know how to update the State Schema so it <code>overrides</code> it.</p>\n"
   ]
  },
  {
   "cell_type": "code",
   "execution_count": 11,
   "metadata": {},
   "outputs": [
    {
     "data": {
      "image/jpeg": "[encoded data removed]",
      "text/plain": [
       "<IPython.core.display.Image object>"
      ]
     },
     "metadata": {},
     "output_type": "display_data"
    }
   ],
   "source": [
    "# nodes\n",
    "def update_counter1(state:TestState):\n",
    "    return {'counter':state['counter']+1}\n",
    "\n",
    "\n",
    "def update_counter2(state:TestState):\n",
    "    return {'counter':state['counter']+1}\n",
    "\n",
    "\n",
    "def update_counter3(state:TestState):\n",
    "    return {'counter':state['counter']+1}\n",
    "\n",
    "builder = StateGraph(TestState)\n",
    "builder.add_node('update_conuter1',update_counter1)\n",
    "builder.add_node('update_conuter2',update_counter2)\n",
    "builder.add_node('update_conuter3',update_counter3)\n",
    "\n",
    "builder.add_edge(START,'update_conuter1')\n",
    "builder.add_edge('update_conuter1','update_conuter2') #parallel to node 'update_conuter3'\n",
    "builder.add_edge('update_conuter1','update_conuter3') #parallel to node 'update_conuter2'\n",
    "builder.add_edge('update_conuter2',END)\n",
    "builder.add_edge('update_conuter3',END)\n",
    "\n",
    "graph = builder.compile()\n",
    "\n",
    "display(Image(graph.get_graph().draw_mermaid_png()))\n"
   ]
  },
  {
   "cell_type": "markdown",
   "metadata": {},
   "source": [
    "This is where we need reducers"
   ]
  },
  {
   "cell_type": "code",
   "execution_count": 12,
   "metadata": {},
   "outputs": [
    {
     "name": "stdout",
     "output_type": "stream",
     "text": [
      "At key 'counter': Can receive only one value per step. Use an Annotated key to handle multiple values.\n",
      "For troubleshooting, visit: https://python.langchain.com/docs/troubleshooting/errors/INVALID_CONCURRENT_GRAPH_UPDATE\n"
     ]
    }
   ],
   "source": [
    "# InvalidUpdateError: At key 'counter': Can receive only one value per step\n",
    "from langgraph.errors import InvalidUpdateError\n",
    "try:\n",
    " graph.invoke({'counter':5})\n",
    "except InvalidUpdateError as e:\n",
    "    print(e)\n"
   ]
  },
  {
   "cell_type": "markdown",
   "metadata": {},
   "source": [
    "# Reducers\n",
    "<ul>\n",
    "<li>Predefined Reducer</li>\n",
    "<li>Custom Reducer</li>\n",
    "</ul>"
   ]
  },
  {
   "cell_type": "markdown",
   "metadata": {},
   "source": [
    "Predefined Reducer"
   ]
  },
  {
   "cell_type": "code",
   "execution_count": 13,
   "metadata": {},
   "outputs": [],
   "source": [
    "# update the state schema and give reducer function at the time of defining\n",
    "from operator import add\n",
    "from typing import Annotated\n",
    "\n",
    "class TestState(TypedDict):\n",
    "    counter : Annotated[list[int],add]  # Here add is a predefined function in python that has been used as reducer\n",
    "\n",
    "\n"
   ]
  },
  {
   "cell_type": "code",
   "execution_count": 14,
   "metadata": {},
   "outputs": [
    {
     "data": {
      "image/jpeg": "[encoded data removed]",
      "text/plain": [
       "<IPython.core.display.Image object>"
      ]
     },
     "metadata": {},
     "output_type": "display_data"
    }
   ],
   "source": [
    "# nodes\n",
    "def update_counter1(state:TestState):\n",
    "    print(\"_________________________________\")\n",
    "    print(\"---- Node 1 ----\")\n",
    "    print(\"State : \",state)\n",
    "    value = {'counter':[state['counter'][0]+1]}\n",
    "    print(\"After updating state : \",state['counter']+[state['counter'][0]+1])\n",
    "    return value\n",
    "\n",
    "\n",
    "def update_counter2(state:TestState):\n",
    "    print(\"_________________________________\")\n",
    "    print(\"---- Node 2 ----\")\n",
    "    print(\"State : \",state)\n",
    "    value = {'counter':[state['counter'][0]+1]}\n",
    "    print(\"After updating state : \",state['counter']+[state['counter'][0]+1])\n",
    "    \n",
    "    return value\n",
    "\n",
    "\n",
    "def update_counter3(state:TestState):\n",
    "    print(\"_________________________________\")\n",
    "    print(\"---- Node 3 ----\")\n",
    "    print(\"State : \",state)\n",
    "    value = {'counter':[state['counter'][0]+1]}\n",
    "    print(\"After updating state : \",state['counter']+[state['counter'][0]+1])\n",
    "    \n",
    "    return value\n",
    "\n",
    "builder = StateGraph(TestState)\n",
    "builder.add_node('update_conuter1',update_counter1)\n",
    "builder.add_node('update_conuter2',update_counter2)\n",
    "builder.add_node('update_conuter3',update_counter3)\n",
    "\n",
    "builder.add_edge(START,'update_conuter1')\n",
    "builder.add_edge('update_conuter1','update_conuter2') #parallel to node 'update_conuter3'\n",
    "builder.add_edge('update_conuter1','update_conuter3') #parallel to node 'update_conuter2'\n",
    "builder.add_edge('update_conuter2',END)\n",
    "builder.add_edge('update_conuter3',END)\n",
    "\n",
    "graph = builder.compile()\n",
    "\n",
    "display(Image(graph.get_graph().draw_mermaid_png()))"
   ]
  },
  {
   "cell_type": "code",
   "execution_count": 15,
   "metadata": {},
   "outputs": [
    {
     "name": "stdout",
     "output_type": "stream",
     "text": [
      "_________________________________\n",
      "---- Node 1 ----\n",
      "State :  {'counter': [5]}\n",
      "After updating state :  [5, 6]\n",
      "_________________________________\n",
      "---- Node 2 ----\n",
      "State :  {'counter': [5, 6]}\n",
      "After updating state :  [5, 6, 6]\n",
      "_________________________________\n",
      "---- Node 3 ----\n",
      "State :  {'counter': [5, 6]}\n",
      "After updating state :  [5, 6, 6]\n",
      "\n",
      "\n",
      "final output from graph :  {'counter': [5, 6, 6, 6]}\n"
     ]
    }
   ],
   "source": [
    "print(\"\\n\\nfinal output from graph : \" ,graph.invoke({'counter':[5]}))"
   ]
  },
  {
   "cell_type": "markdown",
   "metadata": {},
   "source": [
    "# Expecting Error"
   ]
  },
  {
   "cell_type": "code",
   "execution_count": 16,
   "metadata": {},
   "outputs": [
    {
     "ename": "TypeError",
     "evalue": "can only concatenate list (not \"NoneType\") to list",
     "output_type": "error",
     "traceback": [
      "\u001b[0;31m---------------------------------------------------------------------------\u001b[0m",
      "\u001b[0;31mTypeError\u001b[0m                                 Traceback (most recent call last)",
      "Cell \u001b[0;32mIn[16], line 1\u001b[0m\n\u001b[0;32m----> 1\u001b[0m \u001b[38;5;28mprint\u001b[39m(\u001b[38;5;124m\"\u001b[39m\u001b[38;5;130;01m\\n\u001b[39;00m\u001b[38;5;130;01m\\n\u001b[39;00m\u001b[38;5;124mfinal output from graph : \u001b[39m\u001b[38;5;124m\"\u001b[39m ,\u001b[43mgraph\u001b[49m\u001b[38;5;241;43m.\u001b[39;49m\u001b[43minvoke\u001b[49m\u001b[43m(\u001b[49m\u001b[43m{\u001b[49m\u001b[38;5;124;43m'\u001b[39;49m\u001b[38;5;124;43mcounter\u001b[39;49m\u001b[38;5;124;43m'\u001b[39;49m\u001b[43m:\u001b[49m\u001b[38;5;28;43;01mNone\u001b[39;49;00m\u001b[43m}\u001b[49m\u001b[43m)\u001b[49m)\n",
      "File \u001b[0;32m~/Desktop/Desktop/DataScience/env/lib/python3.11/site-packages/langgraph/pregel/__init__.py:1586\u001b[0m, in \u001b[0;36mPregel.invoke\u001b[0;34m(self, input, config, stream_mode, output_keys, interrupt_before, interrupt_after, debug, **kwargs)\u001b[0m\n\u001b[1;32m   1584\u001b[0m \u001b[38;5;28;01melse\u001b[39;00m:\n\u001b[1;32m   1585\u001b[0m     chunks \u001b[38;5;241m=\u001b[39m []\n\u001b[0;32m-> 1586\u001b[0m \u001b[43m\u001b[49m\u001b[38;5;28;43;01mfor\u001b[39;49;00m\u001b[43m \u001b[49m\u001b[43mchunk\u001b[49m\u001b[43m \u001b[49m\u001b[38;5;129;43;01min\u001b[39;49;00m\u001b[43m \u001b[49m\u001b[38;5;28;43mself\u001b[39;49m\u001b[38;5;241;43m.\u001b[39;49m\u001b[43mstream\u001b[49m\u001b[43m(\u001b[49m\n\u001b[1;32m   1587\u001b[0m \u001b[43m    \u001b[49m\u001b[38;5;28;43minput\u001b[39;49m\u001b[43m,\u001b[49m\n\u001b[1;32m   1588\u001b[0m \u001b[43m    \u001b[49m\u001b[43mconfig\u001b[49m\u001b[43m,\u001b[49m\n\u001b[1;32m   1589\u001b[0m \u001b[43m    \u001b[49m\u001b[43mstream_mode\u001b[49m\u001b[38;5;241;43m=\u001b[39;49m\u001b[43mstream_mode\u001b[49m\u001b[43m,\u001b[49m\n\u001b[1;32m   1590\u001b[0m \u001b[43m    \u001b[49m\u001b[43moutput_keys\u001b[49m\u001b[38;5;241;43m=\u001b[39;49m\u001b[43moutput_keys\u001b[49m\u001b[43m,\u001b[49m\n\u001b[1;32m   1591\u001b[0m \u001b[43m    \u001b[49m\u001b[43minterrupt_before\u001b[49m\u001b[38;5;241;43m=\u001b[39;49m\u001b[43minterrupt_before\u001b[49m\u001b[43m,\u001b[49m\n\u001b[1;32m   1592\u001b[0m \u001b[43m    \u001b[49m\u001b[43minterrupt_after\u001b[49m\u001b[38;5;241;43m=\u001b[39;49m\u001b[43minterrupt_after\u001b[49m\u001b[43m,\u001b[49m\n\u001b[1;32m   1593\u001b[0m \u001b[43m    \u001b[49m\u001b[43mdebug\u001b[49m\u001b[38;5;241;43m=\u001b[39;49m\u001b[43mdebug\u001b[49m\u001b[43m,\u001b[49m\n\u001b[1;32m   1594\u001b[0m \u001b[43m    \u001b[49m\u001b[38;5;241;43m*\u001b[39;49m\u001b[38;5;241;43m*\u001b[39;49m\u001b[43mkwargs\u001b[49m\u001b[43m,\u001b[49m\n\u001b[1;32m   1595\u001b[0m \u001b[43m\u001b[49m\u001b[43m)\u001b[49m\u001b[43m:\u001b[49m\n\u001b[1;32m   1596\u001b[0m \u001b[43m    \u001b[49m\u001b[38;5;28;43;01mif\u001b[39;49;00m\u001b[43m \u001b[49m\u001b[43mstream_mode\u001b[49m\u001b[43m \u001b[49m\u001b[38;5;241;43m==\u001b[39;49m\u001b[43m \u001b[49m\u001b[38;5;124;43m\"\u001b[39;49m\u001b[38;5;124;43mvalues\u001b[39;49m\u001b[38;5;124;43m\"\u001b[39;49m\u001b[43m:\u001b[49m\n\u001b[1;32m   1597\u001b[0m \u001b[43m        \u001b[49m\u001b[43mlatest\u001b[49m\u001b[43m \u001b[49m\u001b[38;5;241;43m=\u001b[39;49m\u001b[43m \u001b[49m\u001b[43mchunk\u001b[49m\n",
      "File \u001b[0;32m~/Desktop/Desktop/DataScience/env/lib/python3.11/site-packages/langgraph/pregel/__init__.py:1309\u001b[0m, in \u001b[0;36mPregel.stream\u001b[0;34m(self, input, config, stream_mode, output_keys, interrupt_before, interrupt_after, debug, subgraphs)\u001b[0m\n\u001b[1;32m   1303\u001b[0m     get_waiter \u001b[38;5;241m=\u001b[39m \u001b[38;5;28;01mNone\u001b[39;00m  \u001b[38;5;66;03m# type: ignore[assignment]\u001b[39;00m\n\u001b[1;32m   1304\u001b[0m \u001b[38;5;66;03m# Similarly to Bulk Synchronous Parallel / Pregel model\u001b[39;00m\n\u001b[1;32m   1305\u001b[0m \u001b[38;5;66;03m# computation proceeds in steps, while there are channel updates\u001b[39;00m\n\u001b[1;32m   1306\u001b[0m \u001b[38;5;66;03m# channel updates from step N are only visible in step N+1\u001b[39;00m\n\u001b[1;32m   1307\u001b[0m \u001b[38;5;66;03m# channels are guaranteed to be immutable for the duration of the step,\u001b[39;00m\n\u001b[1;32m   1308\u001b[0m \u001b[38;5;66;03m# with channel updates applied only at the transition between steps\u001b[39;00m\n\u001b[0;32m-> 1309\u001b[0m \u001b[38;5;28;01mwhile\u001b[39;00m \u001b[43mloop\u001b[49m\u001b[38;5;241;43m.\u001b[39;49m\u001b[43mtick\u001b[49m\u001b[43m(\u001b[49m\n\u001b[1;32m   1310\u001b[0m \u001b[43m    \u001b[49m\u001b[43minput_keys\u001b[49m\u001b[38;5;241;43m=\u001b[39;49m\u001b[38;5;28;43mself\u001b[39;49m\u001b[38;5;241;43m.\u001b[39;49m\u001b[43minput_channels\u001b[49m\u001b[43m,\u001b[49m\n\u001b[1;32m   1311\u001b[0m \u001b[43m    \u001b[49m\u001b[43minterrupt_before\u001b[49m\u001b[38;5;241;43m=\u001b[39;49m\u001b[43minterrupt_before_\u001b[49m\u001b[43m,\u001b[49m\n\u001b[1;32m   1312\u001b[0m \u001b[43m    \u001b[49m\u001b[43minterrupt_after\u001b[49m\u001b[38;5;241;43m=\u001b[39;49m\u001b[43minterrupt_after_\u001b[49m\u001b[43m,\u001b[49m\n\u001b[1;32m   1313\u001b[0m \u001b[43m    \u001b[49m\u001b[43mmanager\u001b[49m\u001b[38;5;241;43m=\u001b[39;49m\u001b[43mrun_manager\u001b[49m\u001b[43m,\u001b[49m\n\u001b[1;32m   1314\u001b[0m \u001b[43m\u001b[49m\u001b[43m)\u001b[49m:\n\u001b[1;32m   1315\u001b[0m     \u001b[38;5;28;01mfor\u001b[39;00m _ \u001b[38;5;129;01min\u001b[39;00m runner\u001b[38;5;241m.\u001b[39mtick(\n\u001b[1;32m   1316\u001b[0m         loop\u001b[38;5;241m.\u001b[39mtasks\u001b[38;5;241m.\u001b[39mvalues(),\n\u001b[1;32m   1317\u001b[0m         timeout\u001b[38;5;241m=\u001b[39m\u001b[38;5;28mself\u001b[39m\u001b[38;5;241m.\u001b[39mstep_timeout,\n\u001b[0;32m   (...)\u001b[0m\n\u001b[1;32m   1320\u001b[0m     ):\n\u001b[1;32m   1321\u001b[0m         \u001b[38;5;66;03m# emit output\u001b[39;00m\n\u001b[1;32m   1322\u001b[0m         \u001b[38;5;28;01myield from\u001b[39;00m output()\n",
      "File \u001b[0;32m~/Desktop/Desktop/DataScience/env/lib/python3.11/site-packages/langgraph/pregel/loop.py:295\u001b[0m, in \u001b[0;36mPregelLoop.tick\u001b[0;34m(self, input_keys, interrupt_after, interrupt_before, manager)\u001b[0m\n\u001b[1;32m    285\u001b[0m     print_step_writes(\n\u001b[1;32m    286\u001b[0m         \u001b[38;5;28mself\u001b[39m\u001b[38;5;241m.\u001b[39mstep,\n\u001b[1;32m    287\u001b[0m         writes,\n\u001b[0;32m   (...)\u001b[0m\n\u001b[1;32m    292\u001b[0m         ),\n\u001b[1;32m    293\u001b[0m     )\n\u001b[1;32m    294\u001b[0m \u001b[38;5;66;03m# all tasks have finished\u001b[39;00m\n\u001b[0;32m--> 295\u001b[0m mv_writes \u001b[38;5;241m=\u001b[39m \u001b[43mapply_writes\u001b[49m\u001b[43m(\u001b[49m\n\u001b[1;32m    296\u001b[0m \u001b[43m    \u001b[49m\u001b[38;5;28;43mself\u001b[39;49m\u001b[38;5;241;43m.\u001b[39;49m\u001b[43mcheckpoint\u001b[49m\u001b[43m,\u001b[49m\n\u001b[1;32m    297\u001b[0m \u001b[43m    \u001b[49m\u001b[38;5;28;43mself\u001b[39;49m\u001b[38;5;241;43m.\u001b[39;49m\u001b[43mchannels\u001b[49m\u001b[43m,\u001b[49m\n\u001b[1;32m    298\u001b[0m \u001b[43m    \u001b[49m\u001b[38;5;28;43mself\u001b[39;49m\u001b[38;5;241;43m.\u001b[39;49m\u001b[43mtasks\u001b[49m\u001b[38;5;241;43m.\u001b[39;49m\u001b[43mvalues\u001b[49m\u001b[43m(\u001b[49m\u001b[43m)\u001b[49m\u001b[43m,\u001b[49m\n\u001b[1;32m    299\u001b[0m \u001b[43m    \u001b[49m\u001b[38;5;28;43mself\u001b[39;49m\u001b[38;5;241;43m.\u001b[39;49m\u001b[43mcheckpointer_get_next_version\u001b[49m\u001b[43m,\u001b[49m\n\u001b[1;32m    300\u001b[0m \u001b[43m\u001b[49m\u001b[43m)\u001b[49m\n\u001b[1;32m    301\u001b[0m \u001b[38;5;66;03m# apply writes to managed values\u001b[39;00m\n\u001b[1;32m    302\u001b[0m \u001b[38;5;28;01mfor\u001b[39;00m key, values \u001b[38;5;129;01min\u001b[39;00m mv_writes\u001b[38;5;241m.\u001b[39mitems():\n",
      "File \u001b[0;32m~/Desktop/Desktop/DataScience/env/lib/python3.11/site-packages/langgraph/pregel/algo.py:250\u001b[0m, in \u001b[0;36mapply_writes\u001b[0;34m(checkpoint, channels, tasks, get_next_version)\u001b[0m\n\u001b[1;32m    248\u001b[0m \u001b[38;5;28;01mfor\u001b[39;00m chan, vals \u001b[38;5;129;01min\u001b[39;00m pending_writes_by_channel\u001b[38;5;241m.\u001b[39mitems():\n\u001b[1;32m    249\u001b[0m     \u001b[38;5;28;01mif\u001b[39;00m chan \u001b[38;5;129;01min\u001b[39;00m channels:\n\u001b[0;32m--> 250\u001b[0m         \u001b[38;5;28;01mif\u001b[39;00m \u001b[43mchannels\u001b[49m\u001b[43m[\u001b[49m\u001b[43mchan\u001b[49m\u001b[43m]\u001b[49m\u001b[38;5;241;43m.\u001b[39;49m\u001b[43mupdate\u001b[49m\u001b[43m(\u001b[49m\u001b[43mvals\u001b[49m\u001b[43m)\u001b[49m \u001b[38;5;129;01mand\u001b[39;00m get_next_version \u001b[38;5;129;01mis\u001b[39;00m \u001b[38;5;129;01mnot\u001b[39;00m \u001b[38;5;28;01mNone\u001b[39;00m:\n\u001b[1;32m    251\u001b[0m             checkpoint[\u001b[38;5;124m\"\u001b[39m\u001b[38;5;124mchannel_versions\u001b[39m\u001b[38;5;124m\"\u001b[39m][chan] \u001b[38;5;241m=\u001b[39m get_next_version(\n\u001b[1;32m    252\u001b[0m                 max_version,\n\u001b[1;32m    253\u001b[0m                 channels[chan],\n\u001b[1;32m    254\u001b[0m             )\n\u001b[1;32m    255\u001b[0m         updated_channels\u001b[38;5;241m.\u001b[39madd(chan)\n",
      "File \u001b[0;32m~/Desktop/Desktop/DataScience/env/lib/python3.11/site-packages/langgraph/channels/binop.py:88\u001b[0m, in \u001b[0;36mBinaryOperatorAggregate.update\u001b[0;34m(self, values)\u001b[0m\n\u001b[1;32m     86\u001b[0m     values \u001b[38;5;241m=\u001b[39m values[\u001b[38;5;241m1\u001b[39m:]\n\u001b[1;32m     87\u001b[0m \u001b[38;5;28;01mfor\u001b[39;00m value \u001b[38;5;129;01min\u001b[39;00m values:\n\u001b[0;32m---> 88\u001b[0m     \u001b[38;5;28mself\u001b[39m\u001b[38;5;241m.\u001b[39mvalue \u001b[38;5;241m=\u001b[39m \u001b[38;5;28mself\u001b[39m\u001b[38;5;241m.\u001b[39moperator(\u001b[38;5;28mself\u001b[39m\u001b[38;5;241m.\u001b[39mvalue, value)\n\u001b[1;32m     89\u001b[0m \u001b[38;5;28;01mreturn\u001b[39;00m \u001b[38;5;28;01mTrue\u001b[39;00m\n",
      "\u001b[0;31mTypeError\u001b[0m: can only concatenate list (not \"NoneType\") to list"
     ]
    }
   ],
   "source": [
    "\n",
    "print(\"\\n\\nfinal output from graph : \" ,graph.invoke({'counter':None}))"
   ]
  },
  {
   "cell_type": "markdown",
   "metadata": {},
   "source": [
    "<strong>Custom Reducer</strong>\n",
    "<p>What if we ran into error or passed some invalid data inside prebuilt reducer.</p>\n",
    "<p>To handle it we need to define our own reducer sometime. </p>\n",
    "<p>When we want somemore way to handle/update the state. </p>"
   ]
  },
  {
   "cell_type": "code",
   "execution_count": 17,
   "metadata": {},
   "outputs": [],
   "source": [
    "def validated_reducer(prev_list: list| None, new_list: list | None):\n",
    "    if prev_list is None:\n",
    "        prev_list = []\n",
    "    if new_list is None:\n",
    "        new_list = []\n",
    "    return prev_list + new_list\n",
    "\n",
    "class TestState(TypedDict):\n",
    "    counter : Annotated[list[int],validated_reducer]\n"
   ]
  },
  {
   "cell_type": "code",
   "execution_count": 18,
   "metadata": {},
   "outputs": [
    {
     "data": {
      "image/jpeg": "[encoded data removed]",
      "text/plain": [
       "<IPython.core.display.Image object>"
      ]
     },
     "metadata": {},
     "output_type": "display_data"
    }
   ],
   "source": [
    "# nodes\n",
    "def update_counter1(state:TestState):\n",
    "    print(\"_________________________________\")\n",
    "    print(\"---- Node 1 ----\")\n",
    "    print(\"State : \",state)\n",
    "    value = {'counter':[10]}\n",
    "    print(\"After updating state : \",validated_reducer(state['counter'],[10]))\n",
    "    return value\n",
    "\n",
    "\n",
    "    return value\n",
    "builder = StateGraph(TestState)\n",
    "builder.add_node('update_conuter1',update_counter1)\n",
    "\n",
    "\n",
    "builder.add_edge(START,'update_conuter1')\n",
    "builder.add_edge('update_conuter1',END)\n",
    "\n",
    "graph = builder.compile()\n",
    "\n",
    "display(Image(graph.get_graph().draw_mermaid_png()))"
   ]
  },
  {
   "cell_type": "code",
   "execution_count": 19,
   "metadata": {},
   "outputs": [
    {
     "name": "stdout",
     "output_type": "stream",
     "text": [
      "_________________________________\n",
      "---- Node 1 ----\n",
      "State :  {'counter': []}\n",
      "After updating state :  [10]\n",
      "\n",
      "\n",
      "final output from graph :  {'counter': [10]}\n"
     ]
    }
   ],
   "source": [
    "print(\"\\n\\nfinal output from graph : \" ,graph.invoke({'counter':None}))"
   ]
  },
  {
   "cell_type": "markdown",
   "metadata": {},
   "source": [
    "### <font color=\"red\">add_messages</font> reducer\n",
    "<p>When we pass ID to add_message reducer it updates the message which has same id.</p>"
   ]
  },
  {
   "cell_type": "code",
   "execution_count": 21,
   "metadata": {},
   "outputs": [
    {
     "data": {
      "text/plain": [
       "[HumanMessage(content='Hey ,how are you?', additional_kwargs={}, response_metadata={}, id='1'),\n",
       " AIMessage(content='Hey I am doing good.', additional_kwargs={}, response_metadata={}, id='2'),\n",
       " AIMessage(content='Thanks for asking', additional_kwargs={}, response_metadata={}, id='3')]"
      ]
     },
     "execution_count": 21,
     "metadata": {},
     "output_type": "execute_result"
    }
   ],
   "source": [
    "from langchain_core.messages import HumanMessage,AIMessage,SystemMessage\n",
    "from langgraph.graph.message import add_messages\n",
    "\n",
    "messages = [HumanMessage(content=\"Hey ,how are you?\",id=1),AIMessage(content=\"Hey I am doing good.\",id=2)]\n",
    "new_message = [AIMessage(content=\"Thanks for asking\",id=3)]\n",
    "\n",
    "add_messages(messages,new_message)\n"
   ]
  },
  {
   "cell_type": "code",
   "execution_count": 22,
   "metadata": {},
   "outputs": [
    {
     "data": {
      "text/plain": [
       "[HumanMessage(content='Hey ,how are you?', additional_kwargs={}, response_metadata={}, id='1'),\n",
       " AIMessage(content='Hey I am doing good.Thanks for asking.', additional_kwargs={}, response_metadata={}, id='2')]"
      ]
     },
     "execution_count": 22,
     "metadata": {},
     "output_type": "execute_result"
    }
   ],
   "source": [
    "messages = [HumanMessage(content=\"Hey ,how are you?\",id=1),AIMessage(content=\"Hey I am doing good.\",id=2)]\n",
    "new_message = [AIMessage(content=\"Hey I am doing good.Thanks for asking.\",id=2)]\n",
    "\n",
    "add_messages(messages,new_message)"
   ]
  },
  {
   "cell_type": "markdown",
   "metadata": {},
   "source": [
    "Removal of messages"
   ]
  },
  {
   "cell_type": "code",
   "execution_count": 23,
   "metadata": {},
   "outputs": [
    {
     "data": {
      "text/plain": [
       "[SystemMessage(content='You are a smart assistance with good suggestions skills.', additional_kwargs={}, response_metadata={}, id='2323'),\n",
       " HumanMessage(content='Hey ,how are you?', additional_kwargs={}, response_metadata={}, id='1'),\n",
       " AIMessage(content='Hey I am doing good.', additional_kwargs={}, response_metadata={}, id='2'),\n",
       " AIMessage(content='Thanks for asking', additional_kwargs={}, response_metadata={}, id='3'),\n",
       " HumanMessage(content='Tell me about oceans', additional_kwargs={}, response_metadata={}, id='4')]"
      ]
     },
     "execution_count": 23,
     "metadata": {},
     "output_type": "execute_result"
    }
   ],
   "source": [
    "# Delete messages using Delete Message\n",
    "from langchain_core.messages import RemoveMessage\n",
    "messages = [SystemMessage(content=\"You are a smart assistance with good suggestions skills.\",id=\"2323\"),HumanMessage(content=\"Hey ,how are you?\",id=1),AIMessage(content=\"Hey I am doing good.\",id=2),AIMessage(content=\"Thanks for asking\",id=3),HumanMessage(content=\"Tell me about oceans\",id=4)]\n",
    "messages"
   ]
  },
  {
   "cell_type": "code",
   "execution_count": 24,
   "metadata": {},
   "outputs": [
    {
     "data": {
      "text/plain": [
       "[RemoveMessage(content='', additional_kwargs={}, response_metadata={}, id='2323'),\n",
       " RemoveMessage(content='', additional_kwargs={}, response_metadata={}, id='1'),\n",
       " RemoveMessage(content='', additional_kwargs={}, response_metadata={}, id='2')]"
      ]
     },
     "execution_count": 24,
     "metadata": {},
     "output_type": "execute_result"
    }
   ],
   "source": [
    "delete_messages = [RemoveMessage(m.id) for m in messages[:-2]]\n",
    "delete_messages"
   ]
  },
  {
   "cell_type": "markdown",
   "metadata": {},
   "source": [
    "#### add_message will also delete the messages if RemoveMessage is proved"
   ]
  },
  {
   "cell_type": "code",
   "execution_count": 25,
   "metadata": {},
   "outputs": [
    {
     "data": {
      "text/plain": [
       "[AIMessage(content='Thanks for asking', additional_kwargs={}, response_metadata={}, id='3'),\n",
       " HumanMessage(content='Tell me about oceans', additional_kwargs={}, response_metadata={}, id='4')]"
      ]
     },
     "execution_count": 25,
     "metadata": {},
     "output_type": "execute_result"
    }
   ],
   "source": [
    "add_messages(messages,delete_messages)"
   ]
  },
  {
   "cell_type": "markdown",
   "metadata": {},
   "source": [
    "# Multiple Schemas\n",
    "Typically all graph node communicate with a single schema\n",
    "also single schema contains graph input and output keys/channel.\n",
    "\n",
    "But there are cases where we may want more control over this.\n",
    "<ul>\n",
    "<li>Internal node may pass infromation that is not required in the graph input/output. </li>\n",
    "<li>We may also want the different Input/Output schema for graph. </li>\n",
    "</ul>\n",
    "<p>Customizing Graph with multiple schmea </p>\n"
   ]
  },
  {
   "cell_type": "markdown",
   "metadata": {},
   "source": [
    "Private State"
   ]
  },
  {
   "cell_type": "code",
   "execution_count": 34,
   "metadata": {},
   "outputs": [
    {
     "data": {
      "image/jpeg": "[encoded data removed]",
      "text/plain": [
       "<IPython.core.display.Image object>"
      ]
     },
     "metadata": {},
     "output_type": "display_data"
    }
   ],
   "source": [
    "from typing import TypedDict\n",
    "class PrivateState(TypedDict):\n",
    "    counter: int\n",
    "class OverAllState(TypedDict):\n",
    "    input : int\n",
    "    output: int\n",
    "\n",
    "    \n",
    "def node1(state : OverAllState)-> PrivateState: # giving output as Private State, then can use this private information into another node.\n",
    "    return {'counter':state['input']+2}\n",
    "def node2(state : PrivateState)-> OverAllState:  # Accessing private information.\n",
    "    return {'output':state['counter']+1}\n",
    "\n",
    "builder = StateGraph(OverAllState)\n",
    "builder.add_node('node_1',node1)\n",
    "builder.add_node('node_2',node2)\n",
    "\n",
    "builder.add_edge(START,'node_1')\n",
    "builder.add_edge('node_1','node_2')\n",
    "builder.add_edge('node_2',END)\n",
    "\n",
    "graph = builder.compile()\n",
    "display(Image(graph.get_graph().draw_mermaid_png()))"
   ]
  },
  {
   "cell_type": "code",
   "execution_count": 35,
   "metadata": {},
   "outputs": [
    {
     "data": {
      "text/plain": [
       "{'input': 10, 'output': 13}"
      ]
     },
     "execution_count": 35,
     "metadata": {},
     "output_type": "execute_result"
    }
   ],
   "source": [
    "graph.invoke({'input' : 10})"
   ]
  },
  {
   "cell_type": "code",
   "execution_count": 41,
   "metadata": {},
   "outputs": [
    {
     "data": {
      "image/jpeg": "[encoded data removed]",
      "text/plain": [
       "<IPython.core.display.Image object>"
      ]
     },
     "metadata": {},
     "output_type": "display_data"
    }
   ],
   "source": [
    "from typing import TypedDict\n",
    "\n",
    "\n",
    "class InputState(TypedDict):\n",
    "    input:int\n",
    "    \n",
    "class OutputState(TypedDict):\n",
    "    output:int\n",
    "    \n",
    "    \n",
    "class PrivateState(TypedDict):\n",
    "    counter: int\n",
    "    \n",
    "    \n",
    "class OverAllState(TypedDict):\n",
    "    input : int\n",
    "    output: int\n",
    "\n",
    "    \n",
    "def node1(state : InputState)-> PrivateState: # giving output as Private State, then can use this private information into another node.\n",
    "    return {'counter':state['input']+2}\n",
    "def node2(state : PrivateState)-> OutputState:  # Accessing private information.\n",
    "    return {'output':state['counter']+1}\n",
    "\n",
    "builder = StateGraph(OverAllState,input=InputState,output=OutputState)\n",
    "# builder = StateGraph(OverAllState,output=OutputState)\n",
    "builder.add_node('node_1',node1)\n",
    "builder.add_node('node_2',node2)\n",
    "\n",
    "builder.add_edge(START,'node_1')\n",
    "builder.add_edge('node_1','node_2')\n",
    "builder.add_edge('node_2',END)\n",
    "\n",
    "graph = builder.compile()\n",
    "display(Image(graph.get_graph().draw_mermaid_png()))"
   ]
  },
  {
   "cell_type": "code",
   "execution_count": 42,
   "metadata": {},
   "outputs": [
    {
     "data": {
      "text/plain": [
       "{'output': 13}"
      ]
     },
     "execution_count": 42,
     "metadata": {},
     "output_type": "execute_result"
    }
   ],
   "source": [
    "graph.invoke({'input' : 10})"
   ]
  },
  {
   "cell_type": "markdown",
   "metadata": {},
   "source": [
    "# Filtering Trimming messages\n",
    "Advance ways to work with Messages in Langgraph."
   ]
  },
  {
   "cell_type": "code",
   "execution_count": 45,
   "metadata": {},
   "outputs": [],
   "source": [
    "from langchain_openai import ChatOpenAI\n",
    "from langchain_core.messages import RemoveMessage,SystemMessage,HumanMessage,AIMessage\n",
    "from langgraph.graph.message   import MessagesState,add_messages\n",
    "from langgraph.graph import StateGraph,START,END\n",
    "from IPython.display import display,Image\n",
    "from dotenv import load_dotenv\n",
    "load_dotenv()\n",
    "llm = ChatOpenAI(model=\"gpt-4o-mini\")\n",
    "messages = [SystemMessage(content=\"You are a smart assistance with good suggestions skills.\",id=2323),HumanMessage(content=\"Hey ,how are you?\",id=1),AIMessage(content=\"Hey I am doing good.\",id=2),AIMessage(content=\"Thanks for asking\",id=3),HumanMessage(content=\"I want to know about oceans.Tell me interesting things.\",id=4)]\n"
   ]
  },
  {
   "cell_type": "markdown",
   "metadata": {},
   "source": [
    "Deleting messages"
   ]
  },
  {
   "cell_type": "code",
   "execution_count": 58,
   "metadata": {},
   "outputs": [
    {
     "data": {
      "image/jpeg": "[encoded data removed]",
      "text/plain": [
       "<IPython.core.display.Image object>"
      ]
     },
     "metadata": {},
     "output_type": "display_data"
    }
   ],
   "source": [
    "# Delete messages.\n",
    "\n",
    "# Agent\n",
    "\n",
    "#node\n",
    "def delete_messages(state:MessagesState):\n",
    "    print(\"------- Deleting Messages leaving recent one --------\\n\")\n",
    "    messages_for_chat = [RemoveMessage(m.id) for m in state['messages'][:-1]]\n",
    "    value = {'messages':messages_for_chat}\n",
    "    return value\n",
    "\n",
    "\n",
    "\n",
    "def call_llm(state:MessagesState):\n",
    "    print(\"------ Calling LLM for response----\\n\")\n",
    "    print(\"message to llm : \",state['messages'],\"\\n\")\n",
    "    # return {'messages':llm.invoke(state['messages'])} # uncomment it to call LLM\n",
    "\n",
    "#building Graph\n",
    "builder = StateGraph(MessagesState)\n",
    "builder.add_node(\"updated_messages\",delete_messages)\n",
    "builder.add_node(\"call_llm\",call_llm)\n",
    "builder.add_edge(START,\"updated_messages\")\n",
    "builder.add_edge('updated_messages','call_llm')\n",
    "builder.add_edge('call_llm',END)\n",
    "\n",
    "graph = builder.compile()\n",
    "\n",
    "display(Image(graph.get_graph().draw_mermaid_png()))\n",
    "\n"
   ]
  },
  {
   "cell_type": "code",
   "execution_count": 59,
   "metadata": {},
   "outputs": [
    {
     "name": "stdout",
     "output_type": "stream",
     "text": [
      "------- Deleting Messages leaving recent one --------\n",
      "\n",
      "------ Calling LLM for response----\n",
      "\n",
      "message to llm :  [HumanMessage(content='I want to know about oceans.Tell me interesting things.', additional_kwargs={}, response_metadata={}, id='4')] \n",
      "\n",
      "================================\u001b[1m Human Message \u001b[0m=================================\n",
      "\n",
      "I want to know about oceans.Tell me interesting things.\n",
      "None\n",
      "==================================\u001b[1m Ai Message \u001b[0m==================================\n",
      "\n",
      "Sure! Oceans are fascinating and play a crucial role in our planet's health and climate. Here are some interesting facts about oceans:\n",
      "\n",
      "1. **Coverage**: Oceans cover about 71% of the Earth's surface, with the Pacific Ocean being the largest, followed by the Atlantic, Indian, Southern, and Arctic Oceans.\n",
      "\n",
      "2. **Depth**: The average depth of the oceans is about 12,080 feet (3,682 meters). The deepest part, the Mariana Trench, reaches about 36,000 feet (over 10,900 meters) deep.\n",
      "\n",
      "3. **Biodiversity**: Oceans are home to an incredible diversity of life. It's estimated that around 230,000 marine species have been described, but scientists believe that there could be over 2 million species yet to be discovered.\n",
      "\n",
      "4. **Oxygen Production**: Phytoplankton, tiny marine plants, produce about 50% of the Earth's oxygen through photosynthesis, making oceans vital for life on land.\n",
      "\n",
      "5. **Tides**: Tides are caused by the gravitational pull of the moon and the sun on Earth’s oceans. They can vary significantly in height and frequency, influenced by the positions of these celestial bodies.\n",
      "\n",
      "6. **Coral Reefs**: Coral reefs, often referred to as the \"rainforests of the sea,\" are incredibly diverse ecosystems. They cover less than 0.1% of the ocean's surface but support 25% of all marine species.\n",
      "\n",
      "7. **Underwater Volcanoes**: The ocean floor is home to many underwater volcanoes and hydrothermal vents. These vents release superheated water and minerals, creating unique ecosystems that thrive without sunlight.\n",
      "\n",
      "8. **Ocean Currents**: Ocean currents are large-scale water movements that influence climate. The Gulf Stream, for example, carries warm water from the Gulf of Mexico to the North Atlantic, affecting weather patterns in Europe.\n",
      "\n",
      "9. **Historical Role**: Oceans have played a significant role in human history, facilitating trade, exploration, and cultural exchange. Many ancient civilizations arose along coastlines due to the resources oceans provide.\n",
      "\n",
      "10. **Plastic Pollution**: Unfortunately, oceans face significant threats from pollution, particularly plastic waste. It’s estimated that millions of tons of plastic enter the oceans each year, harming marine life and ecosystems.\n",
      "\n",
      "11. **Sound Travel**: Sound travels faster in water than in air. In fact, sound can travel about four times faster in water, allowing marine animals like whales to communicate over long distances.\n",
      "\n",
      "12. **Ocean Exploration**: Despite covering such a large part of the Earth, over 80% of the ocean remains unexplored and unmapped, making it one of the last frontiers for scientific discovery.\n",
      "\n",
      "These points highlight just a fraction of the wonders and complexities of the world's oceans! If you have any specific area of interest related to oceans, feel free to ask!\n",
      "None\n"
     ]
    }
   ],
   "source": [
    "reponse = graph.invoke({'messages':messages})\n",
    "for message in reponse['messages']:\n",
    "    print(message.pretty_print())"
   ]
  },
  {
   "cell_type": "code",
   "execution_count": 60,
   "metadata": {},
   "outputs": [
    {
     "data": {
      "text/plain": [
       "{'messages': [HumanMessage(content='I want to know about oceans.Tell me interesting things.', additional_kwargs={}, response_metadata={}, id='4'),\n",
       "  AIMessage(content='Sure! Oceans are fascinating and play a crucial role in our planet\\'s health and climate. Here are some interesting facts about oceans:\\n\\n1. **Coverage**: Oceans cover about 71% of the Earth\\'s surface, with the Pacific Ocean being the largest, followed by the Atlantic, Indian, Southern, and Arctic Oceans.\\n\\n2. **Depth**: The average depth of the oceans is about 12,080 feet (3,682 meters). The deepest part, the Mariana Trench, reaches about 36,000 feet (over 10,900 meters) deep.\\n\\n3. **Biodiversity**: Oceans are home to an incredible diversity of life. It\\'s estimated that around 230,000 marine species have been described, but scientists believe that there could be over 2 million species yet to be discovered.\\n\\n4. **Oxygen Production**: Phytoplankton, tiny marine plants, produce about 50% of the Earth\\'s oxygen through photosynthesis, making oceans vital for life on land.\\n\\n5. **Tides**: Tides are caused by the gravitational pull of the moon and the sun on Earth’s oceans. They can vary significantly in height and frequency, influenced by the positions of these celestial bodies.\\n\\n6. **Coral Reefs**: Coral reefs, often referred to as the \"rainforests of the sea,\" are incredibly diverse ecosystems. They cover less than 0.1% of the ocean\\'s surface but support 25% of all marine species.\\n\\n7. **Underwater Volcanoes**: The ocean floor is home to many underwater volcanoes and hydrothermal vents. These vents release superheated water and minerals, creating unique ecosystems that thrive without sunlight.\\n\\n8. **Ocean Currents**: Ocean currents are large-scale water movements that influence climate. The Gulf Stream, for example, carries warm water from the Gulf of Mexico to the North Atlantic, affecting weather patterns in Europe.\\n\\n9. **Historical Role**: Oceans have played a significant role in human history, facilitating trade, exploration, and cultural exchange. Many ancient civilizations arose along coastlines due to the resources oceans provide.\\n\\n10. **Plastic Pollution**: Unfortunately, oceans face significant threats from pollution, particularly plastic waste. It’s estimated that millions of tons of plastic enter the oceans each year, harming marine life and ecosystems.\\n\\n11. **Sound Travel**: Sound travels faster in water than in air. In fact, sound can travel about four times faster in water, allowing marine animals like whales to communicate over long distances.\\n\\n12. **Ocean Exploration**: Despite covering such a large part of the Earth, over 80% of the ocean remains unexplored and unmapped, making it one of the last frontiers for scientific discovery.\\n\\nThese points highlight just a fraction of the wonders and complexities of the world\\'s oceans! If you have any specific area of interest related to oceans, feel free to ask!', additional_kwargs={'refusal': None}, response_metadata={'token_usage': {'completion_tokens': 584, 'prompt_tokens': 19, 'total_tokens': 603, 'completion_tokens_details': {'audio_tokens': None, 'reasoning_tokens': 0}, 'prompt_tokens_details': {'audio_tokens': None, 'cached_tokens': 0}}, 'model_name': 'gpt-4o-mini-2024-07-18', 'system_fingerprint': 'fp_482c22a7bc', 'finish_reason': 'stop', 'logprobs': None}, id='run-80a1aa26-ef7d-4fe3-b7d9-36e877a1cf39-0', usage_metadata={'input_tokens': 19, 'output_tokens': 584, 'total_tokens': 603, 'input_token_details': {'cache_read': 0}, 'output_token_details': {'reasoning': 0}})]}"
      ]
     },
     "execution_count": 60,
     "metadata": {},
     "output_type": "execute_result"
    }
   ],
   "source": [
    "reponse"
   ]
  },
  {
   "cell_type": "markdown",
   "metadata": {},
   "source": [
    "Filter messages "
   ]
  },
  {
   "cell_type": "code",
   "execution_count": null,
   "metadata": {},
   "outputs": [],
   "source": [
    "#node\n",
    "\n",
    "def call_llm(state:MessagesState):\n",
    "    (\"------- filtering Messages leaving recent one(send only current message) --------\\n\")\n",
    "    print(\"------ Calling LLM for response----\\n\")\n",
    "    print(\"message to llm : \",state['messages'][-1:],\"\\n\")\n",
    "    # return {'messages':llm.invoke(state['messages'][-1:])} # uncomment it to call LLM\n",
    "\n",
    "#building Graph\n",
    "builder = StateGraph(MessagesState)\n",
    "builder.add_node(\"call_llm\",call_llm)\n",
    "builder.add_edge(START,\"call_llm\")\n",
    "builder.add_edge('call_llm',END)\n",
    "\n",
    "graph = builder.compile()\n",
    "\n",
    "display(Image(graph.get_graph().draw_mermaid_png()))\n",
    "\n"
   ]
  },
  {
   "cell_type": "code",
   "execution_count": 80,
   "metadata": {},
   "outputs": [
    {
     "name": "stdout",
     "output_type": "stream",
     "text": [
      "------ Calling LLM for response----\n",
      "\n",
      "message to llm :  [HumanMessage(content='I want to know about oceans.Tell me interesting things.', additional_kwargs={}, response_metadata={}, id='4')] \n",
      "\n",
      "================================\u001b[1m System Message \u001b[0m================================\n",
      "\n",
      "You are a smart assistance with good suggestions skills.\n",
      "None\n",
      "================================\u001b[1m Human Message \u001b[0m=================================\n",
      "\n",
      "Hey ,how are you?\n",
      "None\n",
      "==================================\u001b[1m Ai Message \u001b[0m==================================\n",
      "\n",
      "Hey I am doing good.\n",
      "None\n",
      "==================================\u001b[1m Ai Message \u001b[0m==================================\n",
      "\n",
      "Thanks for asking\n",
      "None\n",
      "================================\u001b[1m Human Message \u001b[0m=================================\n",
      "\n",
      "I want to know about oceans.Tell me interesting things.\n",
      "None\n",
      "==================================\u001b[1m Ai Message \u001b[0m==================================\n",
      "\n",
      "Oceans are vast and fascinating bodies of water that cover about 71% of the Earth's surface. Here are some interesting facts and insights about oceans:\n",
      "\n",
      "1. **Five Major Oceans**: The Earth has five major oceans: the Pacific, Atlantic, Indian, Southern (or Antarctic), and Arctic. The Pacific Ocean is the largest and deepest, covering more than 63 million square miles.\n",
      "\n",
      "2. **Marine Biodiversity**: Oceans are home to an incredible diversity of life. It is estimated that more than 230,000 marine species have been identified, but scientists believe that over 2 million species may exist, many of which are still undiscovered.\n",
      "\n",
      "3. **Deepest Point**: The Mariana Trench, located in the Pacific Ocean, is the deepest part of the world's oceans. The Challenger Deep, its deepest point, reaches about 36,000 feet (nearly 11,000 meters) below sea level.\n",
      "\n",
      "4. **Ocean Currents**: Ocean currents play a critical role in regulating the Earth's climate by distributing heat around the planet. The Gulf Stream, for instance, carries warm water from the Gulf of Mexico to the North Atlantic, significantly influencing weather patterns.\n",
      "\n",
      "5. **Coral Reefs**: Coral reefs, often referred to as the \"rainforests of the sea,\" are among the most diverse ecosystems on Earth. They provide habitat for numerous marine species and are vital for coastal protection and tourism.\n",
      "\n",
      "6. **Oxygen Production**: Oceans produce about 50% of the Earth's oxygen through phytoplankton, tiny plant-like organisms that perform photosynthesis. This makes them crucial for maintaining atmospheric oxygen levels.\n",
      "\n",
      "7. **The Ocean Floor**: The ocean floor is a dynamic environment with features like mid-ocean ridges, abyssal plains, and underwater volcanoes. Hydrothermal vents found along these ridges support unique ecosystems that thrive in extreme conditions.\n",
      "\n",
      "8. **Salinity**: The average salinity of ocean water is about 3.5%, meaning that every liter of seawater contains approximately 35 grams of dissolved salts, primarily sodium chloride (table salt).\n",
      "\n",
      "9. **Tsunamis and Waves**: Tsunamis are large ocean waves caused by underwater earthquakes or volcanic eruptions. Unlike regular waves, which are driven by wind, tsunamis can travel across entire ocean basins at speeds of up to 500-600 miles per hour.\n",
      "\n",
      "10. **Climate Change Impact**: Oceans absorb about 30% of the carbon dioxide produced by human activities, leading to ocean acidification, which can harm marine life, particularly organisms with calcium carbonate shells or skeletons, like corals and shellfish.\n",
      "\n",
      "11. **Exploration**: Despite covering most of the Earth's surface, more than 80% of the ocean is still unexplored. The challenges of pressure, temperature, and darkness make ocean exploration difficult, but new technologies are helping scientists uncover its mysteries.\n",
      "\n",
      "12. **Marine Protected Areas**: To conserve marine biodiversity, various regions of the oceans have been designated as marine protected areas (MPAs), where human activity is restricted to protect ecosystems and species.\n",
      "\n",
      "Oceans are crucial to life on Earth, influencing weather patterns, supporting biodiversity, and providing resources for human activities. Understanding and protecting these vast bodies of water is essential for the health of our planet.\n",
      "None\n"
     ]
    }
   ],
   "source": [
    "reponse = graph.invoke({'messages':messages})\n",
    "for message in reponse['messages']:\n",
    "    print(message.pretty_print())"
   ]
  },
  {
   "cell_type": "code",
   "execution_count": 70,
   "metadata": {},
   "outputs": [
    {
     "data": {
      "text/plain": [
       "HumanMessage(content='I want to know about oceans.Tell me interesting things.', additional_kwargs={}, response_metadata={}, id='4')"
      ]
     },
     "execution_count": 70,
     "metadata": {},
     "output_type": "execute_result"
    }
   ],
   "source": [
    "messages[-1]"
   ]
  },
  {
   "cell_type": "markdown",
   "metadata": {},
   "source": [
    "Trimming messages"
   ]
  },
  {
   "cell_type": "code",
   "execution_count": 6,
   "metadata": {},
   "outputs": [],
   "source": [
    "from langchain_core.messages import trim_messages\n",
    "from langchain_core.messages import SystemMessage,HumanMessage,AIMessage\n",
    "messages = [\n",
    "                SystemMessage(\"you're a good assistant, you always respond with a joke.\"),\n",
    "                HumanMessage(\"i wonder why it's called langchain\"),\n",
    "                AIMessage(\n",
    "                    'Well, I guess they thought \"WordRope\" and \"SentenceString\" just didn\\'t have the same ring to it!'\n",
    "                ),\n",
    "                HumanMessage(\"and who is harrison chasing anyways\"),\n",
    "                AIMessage(\n",
    "                    \"Hmmm let me think.\\n\\nWhy, he's probably chasing after the last cup of coffee in the office!\"\n",
    "                ),\n",
    "                HumanMessage(\"what do you call a speechless parrot\"),\n",
    "            ]\n",
    "trimmed_message = trim_messages(\n",
    "                messages,\n",
    "                # When `len` is passed in as the token counter function,\n",
    "                # max_tokens will count the number of messages in the chat history.\n",
    "                max_tokens=3,\n",
    "                strategy=\"last\",\n",
    "                # Passing in `len` as a token counter function will\n",
    "                # count the number of messages in the chat history.\n",
    "                token_counter=len,\n",
    "                # Most chat models expect that chat history starts with either:\n",
    "                # (1) a HumanMessage or\n",
    "                # (2) a SystemMessage followed by a HumanMessage\n",
    "                start_on=\"human\",\n",
    "                # Usually, we want to keep the SystemMessage\n",
    "                # if it's present in the original history.\n",
    "                # The SystemMessage has special instructions for the model.\n",
    "                include_system=True,\n",
    "                allow_partial=False,\n",
    "            )"
   ]
  },
  {
   "cell_type": "code",
   "execution_count": 7,
   "metadata": {},
   "outputs": [
    {
     "data": {
      "text/plain": [
       "[SystemMessage(content=\"you're a good assistant, you always respond with a joke.\", additional_kwargs={}, response_metadata={}),\n",
       " HumanMessage(content='what do you call a speechless parrot', additional_kwargs={}, response_metadata={})]"
      ]
     },
     "execution_count": 7,
     "metadata": {},
     "output_type": "execute_result"
    }
   ],
   "source": [
    "trimmed_message"
   ]
  },
  {
   "cell_type": "markdown",
   "metadata": {},
   "source": [
    "# Chat Bot with MessageSummarization\n",
    "<p>Rather than trimming or filtering the messages, let's use LLM to produce running summary of the conversatation.</p>\n",
    "<p>The allow us to have the compressed representation of the of the full conversatation, rather than just removing it with trimming or filtering.</p>\n",
    "<p>We'll incorporate this summarization into a simple chat bot.</p>\n",
    "<p>And we'll also enquipt the chatbot with memory , supporting long running-conversatation without incurring high token cost/latency.</p>"
   ]
  },
  {
   "cell_type": "code",
   "execution_count": 8,
   "metadata": {},
   "outputs": [],
   "source": [
    "from langchain_openai import ChatOpenAI\n",
    "from langgraph.graph.message import MessagesState\n",
    "from langchain_core.messages import HumanMessage,SystemMessage,RemoveMessage\n",
    "from dotenv import load_dotenv\n",
    "\n",
    "load_dotenv()\n",
    "\n",
    "llm = ChatOpenAI(model = 'gpt-4o-mini')\n",
    "\n",
    "class State(MessagesState):\n",
    "    summary : str\n",
    "\n",
    "# nodes\n",
    "def call_model(state:State):\n",
    "    summary = state.get(\"summary\",\"\")\n",
    "    if summary:\n",
    "        # if previous summary available\n",
    "        prev_summary = f\"summary of the conversatation earlier : {summary}\"\n",
    "        \n",
    "        messages = [SystemMessage(content=prev_summary) + state['messages']]\n",
    "    else:\n",
    "        messages = state['messages']\n",
    "    response = llm.invoke(messages)\n",
    "    \n",
    "    return {\"messages\" : response}\n",
    "\n",
    "def create_summary(state : State):\n",
    "    summary = state.get(\"summary\",\"\")\n",
    "    if summary:\n",
    "        summary_message = f\"This is the summary of the previous conversatation : {summary}.\\n\\n Extend the summary by taking the new message above.\"\n",
    "    else:\n",
    "        summary_message = \"Create the summary of the conversatation above.\"\n",
    "    messages = state['messages']+[HumanMessage(content=summary_message)]\n",
    "    response  = llm.invoke(messages)\n",
    "    \n",
    "    # shortening the messages\n",
    "    delete_messages = [RemoveMessage(id=m.id) for m in state['messages'][:-2]]\n",
    "    \n",
    "    return {\"summary\":response.content , \"messages\":delete_messages}\n",
    "    \n",
    "\n"
   ]
  },
  {
   "cell_type": "markdown",
   "metadata": {},
   "source": [
    "### Adding Memory to Graph"
   ]
  },
  {
   "cell_type": "code",
   "execution_count": 14,
   "metadata": {},
   "outputs": [
    {
     "data": {
      "image/jpeg": "[encoded data removed]",
      "text/plain": [
       "<IPython.core.display.Image object>"
      ]
     },
     "metadata": {},
     "output_type": "display_data"
    }
   ],
   "source": [
    "from langgraph.graph import START,END,StateGraph\n",
    "from langgraph.checkpoint.memory import MemorySaver\n",
    "from IPython.display import display,Image\n",
    "\n",
    "#conditional edge\n",
    "def conditional_create_summary(state:State):\n",
    "    if len(state['messages']) > 3:\n",
    "        return 'create_summary'\n",
    "    else:\n",
    "        return END\n",
    "\n",
    "# defining graph\n",
    "builder = StateGraph(State)\n",
    "builder.add_node('call_model',call_model)\n",
    "builder.add_node('create_summary',create_summary)\n",
    "\n",
    "builder.add_edge(START,'call_model')\n",
    "builder.add_conditional_edges('call_model',conditional_create_summary)\n",
    "builder.add_edge('create_summary',END)\n",
    "\n",
    "memory = MemorySaver()\n",
    "\n",
    "\n",
    "graph = builder.compile(checkpointer=memory)\n",
    "display(Image(graph.get_graph().draw_mermaid_png()))\n"
   ]
  },
  {
   "cell_type": "markdown",
   "metadata": {},
   "source": [
    "#### About Theread\n",
    "<p>Checkpointer save the state at each step as a checkpoint.</p>\n",
    "<p>The saved checkpoint can be grouped into a thread of conversatation.</p>"
   ]
  },
  {
   "cell_type": "code",
   "execution_count": 15,
   "metadata": {},
   "outputs": [],
   "source": [
    "config = {\"configurable\":{\"thread_id\":1}}\n",
    "\n",
    "output = graph.invoke({\"messages\" : [HumanMessage(content=\"Hey my name is Aditya\")]},config)\n"
   ]
  },
  {
   "cell_type": "code",
   "execution_count": 16,
   "metadata": {},
   "outputs": [
    {
     "data": {
      "text/plain": [
       "{'messages': [HumanMessage(content='Hey my name is Aditya', additional_kwargs={}, response_metadata={}, id='67eac5a3-86cb-4035-b706-8a80ce2496e4'),\n",
       "  AIMessage(content='Hi Aditya! How can I assist you today?', additional_kwargs={'refusal': None}, response_metadata={'token_usage': {'completion_tokens': 11, 'prompt_tokens': 13, 'total_tokens': 24, 'completion_tokens_details': {'audio_tokens': None, 'reasoning_tokens': 0}, 'prompt_tokens_details': {'audio_tokens': None, 'cached_tokens': 0}}, 'model_name': 'gpt-4o-mini-2024-07-18', 'system_fingerprint': 'fp_482c22a7bc', 'finish_reason': 'stop', 'logprobs': None}, id='run-78c86e4d-7859-4c33-8618-bdc83af09073-0', usage_metadata={'input_tokens': 13, 'output_tokens': 11, 'total_tokens': 24, 'input_token_details': {'cache_read': 0}, 'output_token_details': {'reasoning': 0}})]}"
      ]
     },
     "execution_count": 16,
     "metadata": {},
     "output_type": "execute_result"
    }
   ],
   "source": [
    "output\n"
   ]
  },
  {
   "cell_type": "code",
   "execution_count": 17,
   "metadata": {},
   "outputs": [
    {
     "data": {
      "text/plain": [
       "{'messages': [HumanMessage(content='what is my name?', additional_kwargs={}, response_metadata={}, id='3cc4a8ab-5de1-4c83-b008-9d637788bbb8'),\n",
       "  AIMessage(content='Your name is Aditya. How can I help you today?', additional_kwargs={'refusal': None}, response_metadata={'token_usage': {'completion_tokens': 13, 'prompt_tokens': 37, 'total_tokens': 50, 'completion_tokens_details': {'audio_tokens': None, 'reasoning_tokens': 0}, 'prompt_tokens_details': {'audio_tokens': None, 'cached_tokens': 0}}, 'model_name': 'gpt-4o-mini-2024-07-18', 'system_fingerprint': 'fp_482c22a7bc', 'finish_reason': 'stop', 'logprobs': None}, id='run-41e698d4-ba15-4ada-a3b7-e39fa46a1013-0', usage_metadata={'input_tokens': 37, 'output_tokens': 13, 'total_tokens': 50, 'input_token_details': {'cache_read': 0}, 'output_token_details': {'reasoning': 0}})],\n",
       " 'summary': 'In the conversation, Aditya introduces himself and asks what his name is. I respond by confirming that his name is Aditya and offer assistance for the day.'}"
      ]
     },
     "execution_count": 17,
     "metadata": {},
     "output_type": "execute_result"
    }
   ],
   "source": [
    "output = graph.invoke({\"messages\" : [HumanMessage(content=\"what is my name?\")]},config)\n",
    "output"
   ]
  },
  {
   "cell_type": "markdown",
   "metadata": {},
   "source": [
    "## <font color=\"green\">Storing in external database</font>\n",
    "save thread in our SQLlite db we can also use Postgres\n"
   ]
  },
  {
   "cell_type": "code",
   "execution_count": 6,
   "metadata": {},
   "outputs": [
    {
     "data": {
      "image/jpeg": "[encoded data removed]",
      "text/plain": [
       "<IPython.core.display.Image object>"
      ]
     },
     "metadata": {},
     "output_type": "display_data"
    }
   ],
   "source": [
    "import sqlite3\n",
    "# connect to a database and using RAM\n",
    "# conn = sqlite3.connect(\":memory:\") # it will create  in memory sqllit-db. \n",
    "path = \"example.db\"\n",
    "conn = sqlite3.connect(path,check_same_thread=False)\n",
    "\n",
    "\n",
    "from langgraph.graph import START,END,StateGraph\n",
    "from IPython.display import display,Image\n",
    "from langchain_openai import ChatOpenAI\n",
    "from langgraph.graph.message import MessagesState\n",
    "from langchain_core.messages import HumanMessage,SystemMessage,RemoveMessage\n",
    "from dotenv import load_dotenv\n",
    "\n",
    "load_dotenv()\n",
    "\n",
    "llm = ChatOpenAI(model = 'gpt-4o-mini')\n",
    "\n",
    "# using external DB\n",
    "from langgraph.checkpoint.sqlite import SqliteSaver\n",
    "memory = SqliteSaver(conn)\n",
    "\n",
    "\n",
    "\n",
    "class State(MessagesState):\n",
    "    summary : str\n",
    "\n",
    "# nodes\n",
    "\n",
    "#conditional edge\n",
    "def conditional_create_summary(state:State):\n",
    "    if len(state['messages']) > 3:\n",
    "        return 'create_summary'\n",
    "    else:\n",
    "        return END\n",
    "\n",
    "# nodes\n",
    "def call_model(state:State):\n",
    "    summary = state.get(\"summary\",\"\")\n",
    "    if summary:\n",
    "        # if previous summary available\n",
    "        prev_summary = f\"summary of the conversatation earlier : {summary}\"\n",
    "        \n",
    "        messages = [SystemMessage(content=prev_summary) + state['messages']]\n",
    "    else:\n",
    "        messages = state['messages']\n",
    "    response = llm.invoke(messages)\n",
    "    \n",
    "    return {\"messages\" : response}\n",
    "\n",
    "def create_summary(state : State):\n",
    "    summary = state.get(\"summary\",\"\")\n",
    "    if summary:\n",
    "        summary_message = f\"This is the summary of the previous conversatation : {summary}.\\n\\n Extend the summary by taking the new message above.\"\n",
    "    else:\n",
    "        summary_message = \"Create the summary of the conversatation above.\"\n",
    "    messages = state['messages']+[HumanMessage(content=summary_message)]\n",
    "    response  = llm.invoke(messages)\n",
    "    \n",
    "    # shortening the messages\n",
    "    delete_messages = [RemoveMessage(id=m.id) for m in state['messages'][:-2]]\n",
    "    \n",
    "    return {\"summary\":response.content , \"messages\":delete_messages}\n",
    "    \n",
    "\n",
    "\n",
    "\n",
    "# defining graph\n",
    "builder = StateGraph(State)\n",
    "builder.add_node('call_model',call_model)\n",
    "builder.add_node('create_summary',create_summary)\n",
    "\n",
    "builder.add_edge(START,'call_model')\n",
    "builder.add_conditional_edges('call_model',conditional_create_summary)\n",
    "builder.add_edge('create_summary',END)\n",
    "\n",
    "# memory = MemorySaver()\n",
    "\n",
    "\n",
    "graph = builder.compile(checkpointer=memory)\n",
    "display(Image(graph.get_graph().draw_mermaid_png()))"
   ]
  },
  {
   "cell_type": "code",
   "execution_count": 10,
   "metadata": {},
   "outputs": [],
   "source": [
    "config = {\"configurable\":{\"thread_id\":1}}"
   ]
  },
  {
   "cell_type": "code",
   "execution_count": 11,
   "metadata": {},
   "outputs": [],
   "source": [
    "output = graph.invoke({\"messages\" : [HumanMessage(content=\"Hey my name is Aditya\")]},config)"
   ]
  },
  {
   "cell_type": "code",
   "execution_count": 11,
   "metadata": {},
   "outputs": [
    {
     "data": {
      "text/plain": [
       "{'messages': [HumanMessage(content='Hey my name is Aditya', additional_kwargs={}, response_metadata={}, id='cc02797f-3149-4be6-91ed-d3118366e8ed'),\n",
       "  AIMessage(content='Hi Aditya! How can I assist you today?', additional_kwargs={'refusal': None}, response_metadata={'token_usage': {'completion_tokens': 11, 'prompt_tokens': 13, 'total_tokens': 24, 'completion_tokens_details': {'audio_tokens': None, 'reasoning_tokens': 0}, 'prompt_tokens_details': {'audio_tokens': None, 'cached_tokens': 0}}, 'model_name': 'gpt-4o-mini-2024-07-18', 'system_fingerprint': 'fp_482c22a7bc', 'finish_reason': 'stop', 'logprobs': None}, id='run-0f527e9c-cce6-454d-810a-a94d0bb0c862-0', usage_metadata={'input_tokens': 13, 'output_tokens': 11, 'total_tokens': 24, 'input_token_details': {'cache_read': 0}, 'output_token_details': {'reasoning': 0}})]}"
      ]
     },
     "execution_count": 11,
     "metadata": {},
     "output_type": "execute_result"
    }
   ],
   "source": [
    "output"
   ]
  },
  {
   "cell_type": "code",
   "execution_count": 24,
   "metadata": {},
   "outputs": [
    {
     "data": {
      "text/plain": [
       "{'messages': [HumanMessage(content='what is my name?', additional_kwargs={}, response_metadata={}, id='429f1e90-9ce9-4dec-b0a5-febccb29fbaf'),\n",
       "  AIMessage(content='Your name is Aditya! How can I help you today?', additional_kwargs={'refusal': None}, response_metadata={'token_usage': {'completion_tokens': 13, 'prompt_tokens': 37, 'total_tokens': 50, 'completion_tokens_details': {'audio_tokens': None, 'reasoning_tokens': 0}, 'prompt_tokens_details': {'audio_tokens': None, 'cached_tokens': 0}}, 'model_name': 'gpt-4o-mini-2024-07-18', 'system_fingerprint': 'fp_482c22a7bc', 'finish_reason': 'stop', 'logprobs': None}, id='run-15839b47-3e86-4982-b095-3cedb06beaf7-0', usage_metadata={'input_tokens': 37, 'output_tokens': 13, 'total_tokens': 50, 'input_token_details': {'cache_read': 0}, 'output_token_details': {'reasoning': 0}})],\n",
       " 'summary': 'In the conversation, Aditya introduces himself and asks for confirmation of his name. I acknowledge his name and offer assistance.'}"
      ]
     },
     "execution_count": 24,
     "metadata": {},
     "output_type": "execute_result"
    }
   ],
   "source": [
    "output = graph.invoke({\"messages\" : [HumanMessage(content=\"what is my name?\")]},config)\n",
    "output"
   ]
  },
  {
   "cell_type": "markdown",
   "metadata": {},
   "source": [
    "# To check the saved state in db\n",
    "1. Restart the kernal\n",
    "2. Run the graph where sqllite as checkpointer\n",
    "3. check the graph state with thread id."
   ]
  },
  {
   "cell_type": "code",
   "execution_count": 8,
   "metadata": {},
   "outputs": [
    {
     "data": {
      "text/plain": [
       "StateSnapshot(values={'messages': [HumanMessage(content='Hey my name is Aditya', additional_kwargs={}, response_metadata={}, id='1f30852e-a7ff-4d5f-938c-f072d4c9b68c'), AIMessage(content='Hi Aditya! How can I assist you today?', additional_kwargs={'refusal': None}, response_metadata={'token_usage': {'completion_tokens': 11, 'prompt_tokens': 13, 'total_tokens': 24, 'completion_tokens_details': {'audio_tokens': None, 'reasoning_tokens': 0}, 'prompt_tokens_details': {'audio_tokens': None, 'cached_tokens': 0}}, 'model_name': 'gpt-4o-mini-2024-07-18', 'system_fingerprint': 'fp_482c22a7bc', 'finish_reason': 'stop', 'logprobs': None}, id='run-1f65811c-730d-4b56-8ef4-4eca4781d05d-0', usage_metadata={'input_tokens': 13, 'output_tokens': 11, 'total_tokens': 24, 'input_token_details': {'cache_read': 0}, 'output_token_details': {'reasoning': 0}})]}, next=(), config={'configurable': {'thread_id': '1', 'checkpoint_ns': '', 'checkpoint_id': '1ef90139-bd70-62e6-8001-a939052a706b'}}, metadata={'source': 'loop', 'writes': {'call_model': {'messages': AIMessage(content='Hi Aditya! How can I assist you today?', additional_kwargs={'refusal': None}, response_metadata={'token_usage': {'completion_tokens': 11, 'prompt_tokens': 13, 'total_tokens': 24, 'completion_tokens_details': {'audio_tokens': None, 'reasoning_tokens': 0}, 'prompt_tokens_details': {'audio_tokens': None, 'cached_tokens': 0}}, 'model_name': 'gpt-4o-mini-2024-07-18', 'system_fingerprint': 'fp_482c22a7bc', 'finish_reason': 'stop', 'logprobs': None}, id='run-1f65811c-730d-4b56-8ef4-4eca4781d05d-0', usage_metadata={'input_tokens': 13, 'output_tokens': 11, 'total_tokens': 24, 'input_token_details': {'cache_read': 0}, 'output_token_details': {'reasoning': 0}})}}, 'step': 1, 'parents': {}}, created_at='2024-10-22T01:18:56.511237+00:00', parent_config={'configurable': {'thread_id': '1', 'checkpoint_ns': '', 'checkpoint_id': '1ef90139-b145-6b56-8000-50f999cf2875'}}, tasks=())"
      ]
     },
     "execution_count": 8,
     "metadata": {},
     "output_type": "execute_result"
    }
   ],
   "source": [
    "config = {\"configurable\":{\"thread_id\":1}}\n",
    "graph.get_state(config)"
   ]
  },
  {
   "cell_type": "code",
   "execution_count": null,
   "metadata": {},
   "outputs": [],
   "source": []
  }
 ],
 "metadata": {
  "kernelspec": {
   "display_name": "Python 3",
   "language": "python",
   "name": "python3"
  },
  "language_info": {
   "codemirror_mode": {
    "name": "ipython",
    "version": 3
   },
   "file_extension": ".py",
   "mimetype": "text/x-python",
   "name": "python",
   "nbconvert_exporter": "python",
   "pygments_lexer": "ipython3",
   "version": "3.11.7"
  }
 },
 "nbformat": 4,
 "nbformat_minor": 2
}
