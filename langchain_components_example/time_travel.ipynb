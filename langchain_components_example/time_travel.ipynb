{
 "cells": [
  {
   "cell_type": "markdown",
   "metadata": {},
   "source": [
    "\n",
    "<center>\n",
    "<font color=\"cyan\"><h2 > TimeTravel(Human in Loop)(Debugging)</h2></font>\n",
    "<center>\n",
    "<p>Langgraph supports debugging by vewing , re-playing and even forking from past states </p>\n",
    "</center>\n",
    "</center>\n",
    "\n"
   ]
  },
  {
   "cell_type": "code",
   "execution_count": 87,
   "metadata": {},
   "outputs": [
    {
     "data": {
      "image/jpeg": "[encoded data removed]",
      "text/plain": [
       "<IPython.core.display.Image object>"
      ]
     },
     "metadata": {},
     "output_type": "display_data"
    }
   ],
   "source": [
    "from langchain_core.messages import HumanMessage\n",
    "from IPython.display import display, Image\n",
    "from langgraph.graph import START,END,StateGraph,MessagesState\n",
    "from langgraph.checkpoint.memory import MemorySaver\n",
    "\n",
    "memory = MemorySaver()\n",
    "\n",
    "class SimpleState(MessagesState):\n",
    "    pass\n",
    "\n",
    "def node_1(state):\n",
    "    return {\"messages\" : state['messages']}\n",
    "\n",
    "def node_2(state):\n",
    "    return state\n",
    "\n",
    "builder = StateGraph(SimpleState)\n",
    "builder.add_node('node_1',node_1)\n",
    "builder.add_node('node_2',node_2)\n",
    "builder.add_edge(START,'node_1')\n",
    "builder.add_edge('node_1','node_2')\n",
    "builder.add_edge('node_2',END)\n",
    "\n",
    "graph = builder.compile(checkpointer=memory)\n",
    "display(Image(graph.get_graph().draw_mermaid_png()))\n",
    "\n",
    "\n"
   ]
  },
  {
   "cell_type": "code",
   "execution_count": 123,
   "metadata": {},
   "outputs": [
    {
     "name": "stdout",
     "output_type": "stream",
     "text": [
      "{'messages': [HumanMessage(content='Hey!! My name is Aditya', additional_kwargs={}, response_metadata={}, id='41318678-5a91-4759-9b21-3acb50b29b69')]}\n"
     ]
    }
   ],
   "source": [
    "config = {'configurable':{'thread_id':5}}\n",
    "print(graph.invoke({'messages':[HumanMessage(content=\"Hey!! My name is Aditya\")]}, config))"
   ]
  },
  {
   "cell_type": "markdown",
   "metadata": {},
   "source": [
    "#### Currrent State"
   ]
  },
  {
   "cell_type": "code",
   "execution_count": 124,
   "metadata": {},
   "outputs": [
    {
     "name": "stdout",
     "output_type": "stream",
     "text": [
      "StateSnapshot(values={'messages': [HumanMessage(content='Hey!! My name is Aditya', additional_kwargs={}, response_metadata={}, id='41318678-5a91-4759-9b21-3acb50b29b69')]}, next=(), config={'configurable': {'thread_id': 5, 'checkpoint_ns': '', 'checkpoint_id': '1efa35c4-a902-6956-8002-e411d9e7a905'}}, metadata={'source': 'loop', 'writes': {'node_2': {'messages': [HumanMessage(content='Hey!! My name is Aditya', additional_kwargs={}, response_metadata={}, id='41318678-5a91-4759-9b21-3acb50b29b69')]}}, 'step': 2, 'parents': {}}, created_at='2024-11-15T14:17:05.505471+00:00', parent_config={'configurable': {'thread_id': 5, 'checkpoint_ns': '', 'checkpoint_id': '1efa35c4-a8ff-6940-8001-35e39e4bf98f'}}, tasks=())\n"
     ]
    }
   ],
   "source": [
    "state = graph.get_state(config)\n",
    "print(state)"
   ]
  },
  {
   "cell_type": "markdown",
   "metadata": {},
   "source": [
    "#### Full Satate"
   ]
  },
  {
   "cell_type": "code",
   "execution_count": 125,
   "metadata": {},
   "outputs": [
    {
     "name": "stdout",
     "output_type": "stream",
     "text": [
      "StateSnapshot(values={'messages': [HumanMessage(content='Hey!! My name is Aditya', additional_kwargs={}, response_metadata={}, id='41318678-5a91-4759-9b21-3acb50b29b69')]}, next=(), config={'configurable': {'thread_id': 5, 'checkpoint_ns': '', 'checkpoint_id': '1efa35c4-a902-6956-8002-e411d9e7a905'}}, metadata={'source': 'loop', 'writes': {'node_2': {'messages': [HumanMessage(content='Hey!! My name is Aditya', additional_kwargs={}, response_metadata={}, id='41318678-5a91-4759-9b21-3acb50b29b69')]}}, 'step': 2, 'parents': {}}, created_at='2024-11-15T14:17:05.505471+00:00', parent_config={'configurable': {'thread_id': 5, 'checkpoint_ns': '', 'checkpoint_id': '1efa35c4-a8ff-6940-8001-35e39e4bf98f'}}, tasks=())\n",
      "\n",
      "\n",
      "StateSnapshot(values={'messages': [HumanMessage(content='Hey!! My name is Aditya', additional_kwargs={}, response_metadata={}, id='41318678-5a91-4759-9b21-3acb50b29b69')]}, next=('node_2',), config={'configurable': {'thread_id': 5, 'checkpoint_ns': '', 'checkpoint_id': '1efa35c4-a8ff-6940-8001-35e39e4bf98f'}}, metadata={'source': 'loop', 'writes': {'node_1': {'messages': [HumanMessage(content='Hey!! My name is Aditya', additional_kwargs={}, response_metadata={}, id='41318678-5a91-4759-9b21-3acb50b29b69')]}}, 'step': 1, 'parents': {}}, created_at='2024-11-15T14:17:05.504270+00:00', parent_config={'configurable': {'thread_id': 5, 'checkpoint_ns': '', 'checkpoint_id': '1efa35c4-a8fd-61c2-8000-3f717ac8eeb3'}}, tasks=(PregelTask(id='a8879837-61fe-94a4-3baf-b3cfa03832ab', name='node_2', path=('__pregel_pull', 'node_2'), error=None, interrupts=(), state=None, result={'messages': [HumanMessage(content='Hey!! My name is Aditya', additional_kwargs={}, response_metadata={}, id='41318678-5a91-4759-9b21-3acb50b29b69')]}),))\n",
      "\n",
      "\n",
      "StateSnapshot(values={'messages': [HumanMessage(content='Hey!! My name is Aditya', additional_kwargs={}, response_metadata={}, id='41318678-5a91-4759-9b21-3acb50b29b69')]}, next=('node_1',), config={'configurable': {'thread_id': 5, 'checkpoint_ns': '', 'checkpoint_id': '1efa35c4-a8fd-61c2-8000-3f717ac8eeb3'}}, metadata={'source': 'loop', 'writes': None, 'step': 0, 'parents': {}}, created_at='2024-11-15T14:17:05.503252+00:00', parent_config={'configurable': {'thread_id': 5, 'checkpoint_ns': '', 'checkpoint_id': '1efa35c4-a8f9-6400-bfff-71b9564e5d8d'}}, tasks=(PregelTask(id='f1a2c3e3-e874-7005-1b2c-92ffc8a56a7b', name='node_1', path=('__pregel_pull', 'node_1'), error=None, interrupts=(), state=None, result={'messages': [HumanMessage(content='Hey!! My name is Aditya', additional_kwargs={}, response_metadata={}, id='41318678-5a91-4759-9b21-3acb50b29b69')]}),))\n",
      "\n",
      "\n",
      "StateSnapshot(values={'messages': []}, next=('__start__',), config={'configurable': {'thread_id': 5, 'checkpoint_ns': '', 'checkpoint_id': '1efa35c4-a8f9-6400-bfff-71b9564e5d8d'}}, metadata={'source': 'input', 'writes': {'__start__': {'messages': [HumanMessage(content='Hey!! My name is Aditya', additional_kwargs={}, response_metadata={})]}}, 'step': -1, 'parents': {}}, created_at='2024-11-15T14:17:05.501691+00:00', parent_config=None, tasks=(PregelTask(id='ccfb6716-06cf-e8fe-cbb9-255bd4218798', name='__start__', path=('__pregel_pull', '__start__'), error=None, interrupts=(), state=None, result={'messages': [HumanMessage(content='Hey!! My name is Aditya', additional_kwargs={}, response_metadata={}, id='41318678-5a91-4759-9b21-3acb50b29b69')]}),))\n",
      "\n",
      "\n"
     ]
    }
   ],
   "source": [
    "full_state = [s for s in graph.get_state_history(config)]\n",
    "for f in full_state:\n",
    "    print(f,end=\"\\n\\n\\n\")"
   ]
  },
  {
   "cell_type": "code",
   "execution_count": 126,
   "metadata": {},
   "outputs": [
    {
     "data": {
      "text/plain": [
       "4"
      ]
     },
     "execution_count": 126,
     "metadata": {},
     "output_type": "execute_result"
    }
   ],
   "source": [
    "len(full_state)"
   ]
  },
  {
   "cell_type": "markdown",
   "metadata": {},
   "source": [
    "## Updating the snapshot and message(updating the esixting message)\n",
    "#### Updating state at node 1.So when graph will invoke again it will execute instead of replay."
   ]
  },
  {
   "cell_type": "code",
   "execution_count": 127,
   "metadata": {},
   "outputs": [
    {
     "name": "stdout",
     "output_type": "stream",
     "text": [
      "StateSnapshot(values={'messages': [HumanMessage(content='Hey!! My name is Aditya', additional_kwargs={}, response_metadata={}, id='41318678-5a91-4759-9b21-3acb50b29b69')]}, next=('node_2',), config={'configurable': {'thread_id': 5, 'checkpoint_ns': '', 'checkpoint_id': '1efa35c4-a8ff-6940-8001-35e39e4bf98f'}}, metadata={'source': 'loop', 'writes': {'node_1': {'messages': [HumanMessage(content='Hey!! My name is Aditya', additional_kwargs={}, response_metadata={}, id='41318678-5a91-4759-9b21-3acb50b29b69')]}}, 'step': 1, 'parents': {}}, created_at='2024-11-15T14:17:05.504270+00:00', parent_config={'configurable': {'thread_id': 5, 'checkpoint_ns': '', 'checkpoint_id': '1efa35c4-a8fd-61c2-8000-3f717ac8eeb3'}}, tasks=(PregelTask(id='a8879837-61fe-94a4-3baf-b3cfa03832ab', name='node_2', path=('__pregel_pull', 'node_2'), error=None, interrupts=(), state=None, result={'messages': [HumanMessage(content='Hey!! My name is Aditya', additional_kwargs={}, response_metadata={}, id='41318678-5a91-4759-9b21-3acb50b29b69')]}),))\n"
     ]
    }
   ],
   "source": [
    "\n",
    "print(full_state[-3])\n",
    "to_fork = full_state[-3]"
   ]
  },
  {
   "cell_type": "markdown",
   "metadata": {},
   "source": [
    "### Modifying latest snapshot"
   ]
  },
  {
   "cell_type": "code",
   "execution_count": 128,
   "metadata": {},
   "outputs": [
    {
     "data": {
      "text/plain": [
       "{'configurable': {'thread_id': 5,\n",
       "  'checkpoint_ns': '',\n",
       "  'checkpoint_id': '1efa35c4-b617-6f1a-8002-495ca5c40d34'}}"
      ]
     },
     "execution_count": 128,
     "metadata": {},
     "output_type": "execute_result"
    }
   ],
   "source": [
    "graph.update_state(to_fork.config,{'messages':[\n",
    "    HumanMessage(content='Hey My name is Aditya Anand', id = to_fork.values['messages'][0].id)\n",
    "    ]})"
   ]
  },
  {
   "cell_type": "code",
   "execution_count": 129,
   "metadata": {},
   "outputs": [
    {
     "name": "stdout",
     "output_type": "stream",
     "text": [
      "StateSnapshot(values={'messages': [HumanMessage(content='Hey My name is Aditya Anand', additional_kwargs={}, response_metadata={}, id='41318678-5a91-4759-9b21-3acb50b29b69')]}, next=('node_2',), config={'configurable': {'thread_id': 5, 'checkpoint_ns': '', 'checkpoint_id': '1efa35c4-b617-6f1a-8002-495ca5c40d34'}}, metadata={'source': 'update', 'step': 2, 'writes': {'node_1': {'messages': [HumanMessage(content='Hey My name is Aditya Anand', additional_kwargs={}, response_metadata={}, id='41318678-5a91-4759-9b21-3acb50b29b69')]}}, 'parents': {}}, created_at='2024-11-15T14:17:06.877399+00:00', parent_config={'configurable': {'thread_id': 5, 'checkpoint_ns': '', 'checkpoint_id': '1efa35c4-a8ff-6940-8001-35e39e4bf98f'}}, tasks=(PregelTask(id='48eeab77-324a-a38f-f347-5446cd38d29b', name='node_2', path=('__pregel_pull', 'node_2'), error=None, interrupts=(), state=None, result=None),))\n",
      "\n",
      "\n",
      "StateSnapshot(values={'messages': [HumanMessage(content='Hey!! My name is Aditya', additional_kwargs={}, response_metadata={}, id='41318678-5a91-4759-9b21-3acb50b29b69')]}, next=(), config={'configurable': {'thread_id': 5, 'checkpoint_ns': '', 'checkpoint_id': '1efa35c4-a902-6956-8002-e411d9e7a905'}}, metadata={'source': 'loop', 'writes': {'node_2': {'messages': [HumanMessage(content='Hey!! My name is Aditya', additional_kwargs={}, response_metadata={}, id='41318678-5a91-4759-9b21-3acb50b29b69')]}}, 'step': 2, 'parents': {}}, created_at='2024-11-15T14:17:05.505471+00:00', parent_config={'configurable': {'thread_id': 5, 'checkpoint_ns': '', 'checkpoint_id': '1efa35c4-a8ff-6940-8001-35e39e4bf98f'}}, tasks=())\n",
      "\n",
      "\n",
      "StateSnapshot(values={'messages': [HumanMessage(content='Hey!! My name is Aditya', additional_kwargs={}, response_metadata={}, id='41318678-5a91-4759-9b21-3acb50b29b69')]}, next=('node_2',), config={'configurable': {'thread_id': 5, 'checkpoint_ns': '', 'checkpoint_id': '1efa35c4-a8ff-6940-8001-35e39e4bf98f'}}, metadata={'source': 'loop', 'writes': {'node_1': {'messages': [HumanMessage(content='Hey!! My name is Aditya', additional_kwargs={}, response_metadata={}, id='41318678-5a91-4759-9b21-3acb50b29b69')]}}, 'step': 1, 'parents': {}}, created_at='2024-11-15T14:17:05.504270+00:00', parent_config={'configurable': {'thread_id': 5, 'checkpoint_ns': '', 'checkpoint_id': '1efa35c4-a8fd-61c2-8000-3f717ac8eeb3'}}, tasks=(PregelTask(id='a8879837-61fe-94a4-3baf-b3cfa03832ab', name='node_2', path=('__pregel_pull', 'node_2'), error=None, interrupts=(), state=None, result={'messages': [HumanMessage(content='Hey!! My name is Aditya', additional_kwargs={}, response_metadata={}, id='41318678-5a91-4759-9b21-3acb50b29b69')]}),))\n",
      "\n",
      "\n",
      "StateSnapshot(values={'messages': [HumanMessage(content='Hey!! My name is Aditya', additional_kwargs={}, response_metadata={}, id='41318678-5a91-4759-9b21-3acb50b29b69')]}, next=('node_1',), config={'configurable': {'thread_id': 5, 'checkpoint_ns': '', 'checkpoint_id': '1efa35c4-a8fd-61c2-8000-3f717ac8eeb3'}}, metadata={'source': 'loop', 'writes': None, 'step': 0, 'parents': {}}, created_at='2024-11-15T14:17:05.503252+00:00', parent_config={'configurable': {'thread_id': 5, 'checkpoint_ns': '', 'checkpoint_id': '1efa35c4-a8f9-6400-bfff-71b9564e5d8d'}}, tasks=(PregelTask(id='f1a2c3e3-e874-7005-1b2c-92ffc8a56a7b', name='node_1', path=('__pregel_pull', 'node_1'), error=None, interrupts=(), state=None, result={'messages': [HumanMessage(content='Hey!! My name is Aditya', additional_kwargs={}, response_metadata={}, id='41318678-5a91-4759-9b21-3acb50b29b69')]}),))\n",
      "\n",
      "\n",
      "StateSnapshot(values={'messages': []}, next=('__start__',), config={'configurable': {'thread_id': 5, 'checkpoint_ns': '', 'checkpoint_id': '1efa35c4-a8f9-6400-bfff-71b9564e5d8d'}}, metadata={'source': 'input', 'writes': {'__start__': {'messages': [HumanMessage(content='Hey!! My name is Aditya', additional_kwargs={}, response_metadata={})]}}, 'step': -1, 'parents': {}}, created_at='2024-11-15T14:17:05.501691+00:00', parent_config=None, tasks=(PregelTask(id='ccfb6716-06cf-e8fe-cbb9-255bd4218798', name='__start__', path=('__pregel_pull', '__start__'), error=None, interrupts=(), state=None, result={'messages': [HumanMessage(content='Hey!! My name is Aditya', additional_kwargs={}, response_metadata={}, id='41318678-5a91-4759-9b21-3acb50b29b69')]}),))\n",
      "\n",
      "\n"
     ]
    }
   ],
   "source": [
    "updated_full_state = [s for s in graph.get_state_history(config)]\n",
    "for f in updated_full_state:\n",
    "    print(f,end=\"\\n\\n\\n\")"
   ]
  },
  {
   "cell_type": "markdown",
   "metadata": {},
   "source": [
    "#### This is the new checkpoint that has been created."
   ]
  },
  {
   "cell_type": "code",
   "execution_count": 130,
   "metadata": {},
   "outputs": [
    {
     "name": "stdout",
     "output_type": "stream",
     "text": [
      "StateSnapshot(values={'messages': [HumanMessage(content='Hey My name is Aditya Anand', additional_kwargs={}, response_metadata={}, id='41318678-5a91-4759-9b21-3acb50b29b69')]}, next=('node_2',), config={'configurable': {'thread_id': 5, 'checkpoint_ns': '', 'checkpoint_id': '1efa35c4-b617-6f1a-8002-495ca5c40d34'}}, metadata={'source': 'update', 'step': 2, 'writes': {'node_1': {'messages': [HumanMessage(content='Hey My name is Aditya Anand', additional_kwargs={}, response_metadata={}, id='41318678-5a91-4759-9b21-3acb50b29b69')]}}, 'parents': {}}, created_at='2024-11-15T14:17:06.877399+00:00', parent_config={'configurable': {'thread_id': 5, 'checkpoint_ns': '', 'checkpoint_id': '1efa35c4-a8ff-6940-8001-35e39e4bf98f'}}, tasks=(PregelTask(id='48eeab77-324a-a38f-f347-5446cd38d29b', name='node_2', path=('__pregel_pull', 'node_2'), error=None, interrupts=(), state=None, result=None),))\n"
     ]
    }
   ],
   "source": [
    "print(graph.get_state(config))"
   ]
  },
  {
   "cell_type": "code",
   "execution_count": 131,
   "metadata": {},
   "outputs": [
    {
     "name": "stdout",
     "output_type": "stream",
     "text": [
      "4\n"
     ]
    }
   ],
   "source": [
    "print(len(full_state))"
   ]
  },
  {
   "cell_type": "code",
   "execution_count": 132,
   "metadata": {},
   "outputs": [
    {
     "name": "stdout",
     "output_type": "stream",
     "text": [
      "5\n"
     ]
    }
   ],
   "source": [
    "print(len(updated_full_state))\n"
   ]
  },
  {
   "cell_type": "markdown",
   "metadata": {},
   "source": [
    "## Now when graph is being executed it will not replay.It will reexecute.\n",
    "<p>In this way we can go back into time and update the snapshot and do forking </p>"
   ]
  },
  {
   "cell_type": "code",
   "execution_count": 133,
   "metadata": {},
   "outputs": [
    {
     "data": {
      "text/plain": [
       "{'messages': [HumanMessage(content='Hey My name is Aditya Anand', additional_kwargs={}, response_metadata={}, id='41318678-5a91-4759-9b21-3acb50b29b69')]}"
      ]
     },
     "execution_count": 133,
     "metadata": {},
     "output_type": "execute_result"
    }
   ],
   "source": [
    "graph.invoke(None,config)"
   ]
  },
  {
   "cell_type": "code",
   "execution_count": 134,
   "metadata": {},
   "outputs": [
    {
     "name": "stdout",
     "output_type": "stream",
     "text": [
      "StateSnapshot(values={'messages': [HumanMessage(content='Hey My name is Aditya Anand', additional_kwargs={}, response_metadata={}, id='41318678-5a91-4759-9b21-3acb50b29b69')]}, next=(), config={'configurable': {'thread_id': 5, 'checkpoint_ns': '', 'checkpoint_id': '1efa35c5-afee-67b4-8003-e1e39acd02e9'}}, metadata={'source': 'loop', 'writes': {'node_2': {'messages': [HumanMessage(content='Hey My name is Aditya Anand', additional_kwargs={}, response_metadata={}, id='41318678-5a91-4759-9b21-3acb50b29b69')]}}, 'step': 3, 'parents': {}}, created_at='2024-11-15T14:17:33.074821+00:00', parent_config={'configurable': {'thread_id': 5, 'checkpoint_ns': '', 'checkpoint_id': '1efa35c4-b617-6f1a-8002-495ca5c40d34'}}, tasks=())\n",
      "\n",
      "\n",
      "StateSnapshot(values={'messages': [HumanMessage(content='Hey My name is Aditya Anand', additional_kwargs={}, response_metadata={}, id='41318678-5a91-4759-9b21-3acb50b29b69')]}, next=('node_2',), config={'configurable': {'thread_id': 5, 'checkpoint_ns': '', 'checkpoint_id': '1efa35c4-b617-6f1a-8002-495ca5c40d34'}}, metadata={'source': 'update', 'step': 2, 'writes': {'node_1': {'messages': [HumanMessage(content='Hey My name is Aditya Anand', additional_kwargs={}, response_metadata={}, id='41318678-5a91-4759-9b21-3acb50b29b69')]}}, 'parents': {}}, created_at='2024-11-15T14:17:06.877399+00:00', parent_config={'configurable': {'thread_id': 5, 'checkpoint_ns': '', 'checkpoint_id': '1efa35c4-a8ff-6940-8001-35e39e4bf98f'}}, tasks=(PregelTask(id='48eeab77-324a-a38f-f347-5446cd38d29b', name='node_2', path=('__pregel_pull', 'node_2'), error=None, interrupts=(), state=None, result={'messages': [HumanMessage(content='Hey My name is Aditya Anand', additional_kwargs={}, response_metadata={}, id='41318678-5a91-4759-9b21-3acb50b29b69')]}),))\n",
      "\n",
      "\n",
      "StateSnapshot(values={'messages': [HumanMessage(content='Hey!! My name is Aditya', additional_kwargs={}, response_metadata={}, id='41318678-5a91-4759-9b21-3acb50b29b69')]}, next=(), config={'configurable': {'thread_id': 5, 'checkpoint_ns': '', 'checkpoint_id': '1efa35c4-a902-6956-8002-e411d9e7a905'}}, metadata={'source': 'loop', 'writes': {'node_2': {'messages': [HumanMessage(content='Hey!! My name is Aditya', additional_kwargs={}, response_metadata={}, id='41318678-5a91-4759-9b21-3acb50b29b69')]}}, 'step': 2, 'parents': {}}, created_at='2024-11-15T14:17:05.505471+00:00', parent_config={'configurable': {'thread_id': 5, 'checkpoint_ns': '', 'checkpoint_id': '1efa35c4-a8ff-6940-8001-35e39e4bf98f'}}, tasks=())\n",
      "\n",
      "\n",
      "StateSnapshot(values={'messages': [HumanMessage(content='Hey!! My name is Aditya', additional_kwargs={}, response_metadata={}, id='41318678-5a91-4759-9b21-3acb50b29b69')]}, next=('node_2',), config={'configurable': {'thread_id': 5, 'checkpoint_ns': '', 'checkpoint_id': '1efa35c4-a8ff-6940-8001-35e39e4bf98f'}}, metadata={'source': 'loop', 'writes': {'node_1': {'messages': [HumanMessage(content='Hey!! My name is Aditya', additional_kwargs={}, response_metadata={}, id='41318678-5a91-4759-9b21-3acb50b29b69')]}}, 'step': 1, 'parents': {}}, created_at='2024-11-15T14:17:05.504270+00:00', parent_config={'configurable': {'thread_id': 5, 'checkpoint_ns': '', 'checkpoint_id': '1efa35c4-a8fd-61c2-8000-3f717ac8eeb3'}}, tasks=(PregelTask(id='a8879837-61fe-94a4-3baf-b3cfa03832ab', name='node_2', path=('__pregel_pull', 'node_2'), error=None, interrupts=(), state=None, result={'messages': [HumanMessage(content='Hey!! My name is Aditya', additional_kwargs={}, response_metadata={}, id='41318678-5a91-4759-9b21-3acb50b29b69')]}),))\n",
      "\n",
      "\n",
      "StateSnapshot(values={'messages': [HumanMessage(content='Hey!! My name is Aditya', additional_kwargs={}, response_metadata={}, id='41318678-5a91-4759-9b21-3acb50b29b69')]}, next=('node_1',), config={'configurable': {'thread_id': 5, 'checkpoint_ns': '', 'checkpoint_id': '1efa35c4-a8fd-61c2-8000-3f717ac8eeb3'}}, metadata={'source': 'loop', 'writes': None, 'step': 0, 'parents': {}}, created_at='2024-11-15T14:17:05.503252+00:00', parent_config={'configurable': {'thread_id': 5, 'checkpoint_ns': '', 'checkpoint_id': '1efa35c4-a8f9-6400-bfff-71b9564e5d8d'}}, tasks=(PregelTask(id='f1a2c3e3-e874-7005-1b2c-92ffc8a56a7b', name='node_1', path=('__pregel_pull', 'node_1'), error=None, interrupts=(), state=None, result={'messages': [HumanMessage(content='Hey!! My name is Aditya', additional_kwargs={}, response_metadata={}, id='41318678-5a91-4759-9b21-3acb50b29b69')]}),))\n",
      "\n",
      "\n",
      "StateSnapshot(values={'messages': []}, next=('__start__',), config={'configurable': {'thread_id': 5, 'checkpoint_ns': '', 'checkpoint_id': '1efa35c4-a8f9-6400-bfff-71b9564e5d8d'}}, metadata={'source': 'input', 'writes': {'__start__': {'messages': [HumanMessage(content='Hey!! My name is Aditya', additional_kwargs={}, response_metadata={})]}}, 'step': -1, 'parents': {}}, created_at='2024-11-15T14:17:05.501691+00:00', parent_config=None, tasks=(PregelTask(id='ccfb6716-06cf-e8fe-cbb9-255bd4218798', name='__start__', path=('__pregel_pull', '__start__'), error=None, interrupts=(), state=None, result={'messages': [HumanMessage(content='Hey!! My name is Aditya', additional_kwargs={}, response_metadata={}, id='41318678-5a91-4759-9b21-3acb50b29b69')]}),))\n",
      "\n",
      "\n"
     ]
    }
   ],
   "source": [
    "updated_full_state_again = [s for s in graph.get_state_history(config)]\n",
    "for f in updated_full_state_again:\n",
    "    print(f,end=\"\\n\\n\\n\")"
   ]
  },
  {
   "cell_type": "code",
   "execution_count": 135,
   "metadata": {},
   "outputs": [
    {
     "data": {
      "text/plain": [
       "6"
      ]
     },
     "execution_count": 135,
     "metadata": {},
     "output_type": "execute_result"
    }
   ],
   "source": [
    "len(updated_full_state_again)"
   ]
  }
 ],
 "metadata": {
  "kernelspec": {
   "display_name": "Python 3",
   "language": "python",
   "name": "python3"
  },
  "language_info": {
   "codemirror_mode": {
    "name": "ipython",
    "version": 3
   },
   "file_extension": ".py",
   "mimetype": "text/x-python",
   "name": "python",
   "nbconvert_exporter": "python",
   "pygments_lexer": "ipython3",
   "version": "3.11.7"
  }
 },
 "nbformat": 4,
 "nbformat_minor": 2
}
