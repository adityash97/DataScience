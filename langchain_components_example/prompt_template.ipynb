{
 "cells": [
  {
   "cell_type": "markdown",
   "metadata": {},
   "source": [
    "\n",
    "<center>\n",
    "<font color=\"cyan\"><h2 > PromptTemplate Example Implementation</h2></font>\n",
    "</center>\n",
    "\n",
    "<center>\n",
    "<h3> PromptTemplate</h3>\n",
    "</center>\n",
    "<center>\n",
    "<h3>  ChatPromtTemplate</h3>\n",
    "</center>\n",
    "<center>\n",
    "<h3>MessagePlaceholder</h3>\n",
    "</center>\n",
    "\n"
   ]
  },
  {
   "cell_type": "markdown",
   "metadata": {},
   "source": [
    "### PromptTemplate(return StringPromptTemplateValue)\n",
    "\"\"\"_summary_\n",
    "This template are used to format a single string and generally are used for simplar input.\n",
    "\"\"\""
   ]
  },
  {
   "cell_type": "code",
   "execution_count": 5,
   "metadata": {},
   "outputs": [],
   "source": [
    "from langchain_core.prompts import PromptTemplate\n",
    "template = PromptTemplate.from_template(\"Tell me a joke on {topic}\")"
   ]
  },
  {
   "cell_type": "code",
   "execution_count": 2,
   "metadata": {},
   "outputs": [
    {
     "data": {
      "text/plain": [
       "PromptTemplate(input_variables=['topic'], template='Tell me a joke on {topic}')"
      ]
     },
     "execution_count": 2,
     "metadata": {},
     "output_type": "execute_result"
    }
   ],
   "source": [
    "template"
   ]
  },
  {
   "cell_type": "code",
   "execution_count": 3,
   "metadata": {},
   "outputs": [
    {
     "data": {
      "text/plain": [
       "StringPromptValue(text='Tell me a joke on cat')"
      ]
     },
     "execution_count": 3,
     "metadata": {},
     "output_type": "execute_result"
    }
   ],
   "source": [
    "template.invoke({\"topic\":\"cat\"})"
   ]
  },
  {
   "cell_type": "markdown",
   "metadata": {},
   "source": [
    "### ChatPromptTemplate (return ChatPromptValue)\n",
    "\"\"\"_summary_\n",
    "This prompt template take list of messages as input and return output which might contain several others Messages.\n",
    "    \"\"\"\n",
    "<font color=\"cyan\"> <h4>It takes the input as the list of strings which has roles in it.Role could be 'user', 'ai', 'assistant', or 'system'</h4> </font>"
   ]
  },
  {
   "cell_type": "code",
   "execution_count": 15,
   "metadata": {},
   "outputs": [
    {
     "data": {
      "text/plain": [
       "ChatPromptValue(messages=[SystemMessage(content='You are an highly helpfull assistant. And your name is bob'), HumanMessage(content='Hey this is Aditya. What is your name?')])"
      ]
     },
     "execution_count": 15,
     "metadata": {},
     "output_type": "execute_result"
    }
   ],
   "source": [
    "from langchain_core.prompts.chat import ChatPromptTemplate\n",
    "chat_template = ChatPromptTemplate([\n",
    "    (\"system\",\"You are an highly helpfull assistant. And your name is {system_name}\"),\n",
    "    (\"user\",\"Hey this is {user_name}. What is your name?\")\n",
    "]\n",
    ")\n",
    "\n",
    "chat_template.invoke({\"system_name\":\"bob\",\"user_name\":\"Aditya\"})"
   ]
  },
  {
   "cell_type": "markdown",
   "metadata": {},
   "source": [
    "<bold>Here 3 type of messages are being returned inside ChatPromptValue</bold>\n",
    "<ul>\n",
    "<li>SystemMessage -  role ='system'</li>\n",
    "<li>HumanMessage  - role='user'</li>\n",
    "<li>AIMessage     - role='ai'</li>\n",
    "</ul>"
   ]
  },
  {
   "cell_type": "code",
   "execution_count": 16,
   "metadata": {},
   "outputs": [
    {
     "data": {
      "text/plain": [
       "ChatPromptValue(messages=[SystemMessage(content='You are an helpful ai assistant. Your name is Bob'), HumanMessage(content='Hello, how are you doing'), AIMessage(content='I am doing great!'), HumanMessage(content='What is your name?')])"
      ]
     },
     "execution_count": 16,
     "metadata": {},
     "output_type": "execute_result"
    }
   ],
   "source": [
    "another_chat_prompt = ChatPromptTemplate([\n",
    "    ('system','You are an helpful ai assistant. Your name is {system_name}'),\n",
    "    ('user',\"Hello, how are you doing\"),\n",
    "    ('ai','I am doing great!'),\n",
    "    ('user','{query}')\n",
    "])\n",
    "\n",
    "another_chat_prompt.invoke({\"system_name\":\"Bob\",\"query\":\"What is your name?\"})"
   ]
  },
  {
   "cell_type": "markdown",
   "metadata": {},
   "source": [
    "<h4>MessagePrompt</h4>\n",
    "<bold>What if instead of varilable we need to put entire message slot/ list of messages inside some template. To achieve this we use \n",
    "<font color='cyan'> MessagesPlaceholder</font>\n",
    "</bold>\n",
    "\n",
    "<h5>Either use MessagePlaceholder or placeholder(both the examples are defined below). </h5>"
   ]
  },
  {
   "cell_type": "code",
   "execution_count": 31,
   "metadata": {},
   "outputs": [
    {
     "data": {
      "text/plain": [
       "ChatPromptValue(messages=[SystemMessage(content='Your are an AI bot'), HumanMessage(content='what is 2*3?'), AIMessage(content='2*3 is 6.')])"
      ]
     },
     "execution_count": 31,
     "metadata": {},
     "output_type": "execute_result"
    }
   ],
   "source": [
    "from langchain_core.prompts import ChatPromptTemplate,MessagesPlaceholder\n",
    "\n",
    "chat_prompt = ChatPromptTemplate([\n",
    "    ('system','Your are an AI bot'),\n",
    "    MessagesPlaceholder(\"history\"),\n",
    "])\n",
    "\n",
    "chat_prompt.invoke({\n",
    "    'history': [('human','what is 2*3?'),('ai','2*3 is 6.')]\n",
    "})\n",
    "\n"
   ]
  },
  {
   "cell_type": "code",
   "execution_count": 30,
   "metadata": {},
   "outputs": [
    {
     "data": {
      "text/plain": [
       "ChatPromptValue(messages=[SystemMessage(content='Your are an AI bot'), HumanMessage(content='what is 2*3?'), AIMessage(content='2*3 is 6.')])"
      ]
     },
     "execution_count": 30,
     "metadata": {},
     "output_type": "execute_result"
    }
   ],
   "source": [
    "chat_prompt = ChatPromptTemplate([\n",
    "    ('system','Your are an AI bot'),\n",
    "    (\"placeholder\",'{conversation}'),\n",
    "])\n",
    "\n",
    "chat_prompt.invoke({\n",
    "    'conversation': [('human','what is 2*3?'),('ai','2*3 is 6.')]\n",
    "})\n"
   ]
  },
  {
   "cell_type": "code",
   "execution_count": null,
   "metadata": {},
   "outputs": [],
   "source": []
  }
 ],
 "metadata": {
  "kernelspec": {
   "display_name": "Python 3",
   "language": "python",
   "name": "python3"
  },
  "language_info": {
   "codemirror_mode": {
    "name": "ipython",
    "version": 3
   },
   "file_extension": ".py",
   "mimetype": "text/x-python",
   "name": "python",
   "nbconvert_exporter": "python",
   "pygments_lexer": "ipython3",
   "version": "3.11.7"
  }
 },
 "nbformat": 4,
 "nbformat_minor": 2
}
