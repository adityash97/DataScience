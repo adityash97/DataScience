{
 "cells": [
  {
   "cell_type": "markdown",
   "metadata": {},
   "source": [
    "\n",
    "<h3>Types of Longterm momory :</h3>\n",
    "<ul>\n",
    "<li><strong>Symantic</strong> :<p> Personalize application by remembring the facts or concept from the past interaction.</p></li>\n",
    "<li><strong>Episodic</strong> : <p>It is used to help an agent on how to accomplish a task from .</p>\n",
    "        <p>* Use few shot prompting, where agent learns from the past sequence to perform task correctly.</p></li>\n",
    "\n",
    "<li><strong>Procedural</strong> : <p>Agent Modify their own prommpt. Using <a href=\"https://blog.langchain.dev/reflection-agents/\" >reflection </a></p></li>\n",
    "</ul>"
   ]
  },
  {
   "cell_type": "code",
   "execution_count": 13,
   "metadata": {},
   "outputs": [],
   "source": [
    "from dotenv import load_dotenv\n",
    "from langchain_openai import ChatOpenAI\n",
    "from langgraph.graph import START,END,StateGraph,MessagesState\n",
    "from langgraph.store.base import BaseStore\n",
    "from langgraph.checkpoint.memory import MemorySaver\n",
    "from langgraph.store.memory import InMemoryStore\n",
    "from IPython.display import display,Image\n",
    "from langchain_core.runnables import RunnableConfig\n",
    "from langchain_core.messages import SystemMessage,HumanMessage"
   ]
  },
  {
   "cell_type": "code",
   "execution_count": 14,
   "metadata": {},
   "outputs": [],
   "source": [
    "load_dotenv()\n",
    "memory = MemorySaver()\n",
    "store = InMemoryStore()\n",
    "llm = ChatOpenAI(model='gpt-4o-mini')\n"
   ]
  },
  {
   "cell_type": "code",
   "execution_count": 16,
   "metadata": {},
   "outputs": [],
   "source": [
    "# chatbot instruction\n",
    "MODEL_SYSTEM_MESSAGE = \"\"\"You are a helpful assistant with memory that provides information about the user.\n",
    "If you have memory for this user use it to personalize the response.\n",
    "Here is the memory (it may be empty) : {memory}\n",
    "\"\"\"\n",
    "\n",
    "CREATE_MEMORY = \"\"\" You are collecting information about the user to personalize your responses.\n",
    "\n",
    "current user information : {memory}\n",
    "\n",
    "INSTRUCTIONS : \n",
    "1. Review the chat history below carefully.\n",
    "2. Identify new information about the user, such as :\n",
    "    - Personal Details.\n",
    "    - Preferences\n",
    "    - Intrest and hobbies\n",
    "    - Past Experiances\n",
    "    - Goals and feature plans\n",
    "3. Merge any new information with existing memory \n",
    "4. Format the memory as clear , bulleted list.\n",
    "5. If new information conflicts with existing memory , keep the most recent version.\n",
    "\n",
    "Remember : Only use factual information directly stated by the user. Do not make assumtions or infrences.\n",
    "\n",
    "Based on chat history , update the user information.\n",
    "\"\"\""
   ]
  },
  {
   "cell_type": "code",
   "execution_count": 10,
   "metadata": {},
   "outputs": [],
   "source": [
    "def call_model(state : MessagesState, config : RunnableConfig , store : BaseStore):\n",
    "    \"\"\"Load the memory from the store and use it to personalize the chat bot response\"\"\"\n",
    "    \n",
    "    # Get the user_id from store.(User Id will be passed at the time of graph executions)\n",
    "    user_id = config['configurable']['user_id']\n",
    "    \n",
    "    # Retrive memory from store\n",
    "    namespace = (\"memory\",user_id) # assume it as directory name\n",
    "    key=\"user_memory\"    # Assume it as file name inside directory \n",
    "    existing_memory = store.get(namespace,key)  # getting the existing memory\n",
    "    \n",
    "    \n",
    "    if existing_memory:\n",
    "        existing_memory_content = existing_memory.value.get(\"memory\")\n",
    "    else:\n",
    "        existing_memory_content = \"No Existing memory found\"\n",
    "    \n",
    "    # format the memory in the system prompt.\n",
    "    system_prompt = MODEL_SYSTEM_MESSAGE.format(memory = existing_memory_content)\n",
    "    response = llm.invoke([SystemMessage(content=system_prompt)] + state['messages'])\n",
    "    \n",
    "    return {'messages':response}\n",
    "    \n",
    "    "
   ]
  },
  {
   "cell_type": "code",
   "execution_count": 21,
   "metadata": {},
   "outputs": [],
   "source": [
    "# Writing into memory \n",
    "def create_memory(state : MessagesState, config : RunnableConfig, store : BaseStore):\n",
    "    \"\"\" Reflect on the chat history. Save a memory to the store \"\"\"\n",
    "    \n",
    "    user_id = config['configurable']['user_id']\n",
    "    \n",
    "    \n",
    "    namespace = (\"memory\",user_id)\n",
    "    key = \"user_memory\"\n",
    "    \n",
    "    existing_memory = store.get(namespace,key)\n",
    "    \n",
    "    if existing_memory:\n",
    "        existing_memory_content = existing_memory.value.get(\"memory\")\n",
    "    else:\n",
    "        existing_memory_content = \"No existing memory found\"\n",
    "    \n",
    "    system_message = CREATE_MEMORY.format(memory=existing_memory_content)\n",
    "    \n",
    "    new_memory = llm.invoke([SystemMessage(content=system_message)] + state['messages'])\n",
    "    \n",
    "    # Overwrite the existing memory in store\n",
    "    store.put(namespace,key,{\"memory\":new_memory.content})\n",
    "    "
   ]
  },
  {
   "cell_type": "code",
   "execution_count": 22,
   "metadata": {},
   "outputs": [
    {
     "data": {
      "image/jpeg": "[encoded data removed]",
      "text/plain": [
       "<IPython.core.display.Image object>"
      ]
     },
     "metadata": {},
     "output_type": "display_data"
    }
   ],
   "source": [
    "# Create Graph\n",
    "builder = StateGraph(MessagesState)\n",
    "builder.add_node('chat_bot',call_model)\n",
    "builder.add_node('memory',create_memory)\n",
    "\n",
    "builder.add_edge(START,'chat_bot')\n",
    "builder.add_edge('chat_bot','memory')\n",
    "builder.add_edge('memory',END)\n",
    "\n",
    "graph = builder.compile(checkpointer=memory,store=store)\n",
    "display(Image(graph.get_graph().draw_mermaid_png()))"
   ]
  },
  {
   "cell_type": "markdown",
   "metadata": {},
   "source": [
    "#### When we interact with the chatbot, we supply two things.\n",
    "<ul>\n",
    "<li><code>Short-term memory</code> : This is a with  in thread memory. A thread id will be passed for persisting the chat history</li>\n",
    "\n",
    "<li><code>Long-term memory</code>: This is cross thread memory. A user-id will be passed . It is the namespace for longterm memory for the user</li>\n",
    "</ul>"
   ]
  },
  {
   "cell_type": "code",
   "execution_count": 24,
   "metadata": {},
   "outputs": [
    {
     "name": "stdout",
     "output_type": "stream",
     "text": [
      "================================\u001b[1m Human Message \u001b[0m=================================\n",
      "\n",
      "Hi, My name is Aditya. And I love riding Cars.\n",
      "==================================\u001b[1m Ai Message \u001b[0m==================================\n",
      "\n",
      "Hi Aditya! It's great to meet you. Since you love riding cars, do you have a favorite type of car or a specific model you’re passionate about?\n"
     ]
    }
   ],
   "source": [
    "config = {'configurable':{'thread_id':\"1\",'user_id':\"1\"}}\n",
    " \n",
    "# runnig the graph in stream mode\n",
    "input_message = HumanMessage(content=\"Hi, My name is Aditya. And I love riding Cars.\")\n",
    "for chunk in graph.stream({'messages':input_message},config = config,stream_mode='values'):\n",
    "    chunk['messages'][-1].pretty_print()"
   ]
  },
  {
   "cell_type": "markdown",
   "metadata": {},
   "source": []
  },
  {
   "cell_type": "code",
   "execution_count": 25,
   "metadata": {},
   "outputs": [
    {
     "name": "stdout",
     "output_type": "stream",
     "text": [
      "================================\u001b[1m Human Message \u001b[0m=================================\n",
      "\n",
      "Yes swift is my favourite car.\n",
      "==================================\u001b[1m Ai Message \u001b[0m==================================\n",
      "\n",
      "The Maruti Suzuki Swift is a fantastic choice! It's known for its sporty look, compact size, and great fuel efficiency. Do you have any memorable experiences or trips you've taken in your Swift?\n"
     ]
    }
   ],
   "source": [
    "input_message = HumanMessage(content=\"Yes swift is my favourite car.\")\n",
    "for chunk in graph.stream({'messages':input_message},config = config,stream_mode='values'):\n",
    "    chunk['messages'][-1].pretty_print()"
   ]
  },
  {
   "cell_type": "code",
   "execution_count": 27,
   "metadata": {},
   "outputs": [
    {
     "data": {
      "text/plain": [
       "{'value': {'memory': 'User Information:\\n- Name: Aditya\\n- Interests: Riding cars\\n- Favorite Car: Maruti Suzuki Swift'},\n",
       " 'key': 'user_memory',\n",
       " 'namespace': ['memory', '1'],\n",
       " 'created_at': '2024-11-24T12:13:48.353127+00:00',\n",
       " 'updated_at': '2024-11-24T12:15:34.950175+00:00'}"
      ]
     },
     "execution_count": 27,
     "metadata": {},
     "output_type": "execute_result"
    }
   ],
   "source": [
    "user_id  = \"1\"\n",
    "namespace = (\"memory\",user_id)\n",
    "existing_memory = store.get(namespace,\"user_memory\")\n",
    "existing_memory.dict()"
   ]
  },
  {
   "cell_type": "code",
   "execution_count": 29,
   "metadata": {},
   "outputs": [
    {
     "name": "stdout",
     "output_type": "stream",
     "text": [
      "================================\u001b[1m Human Message \u001b[0m=================================\n",
      "\n",
      "Can you suggest me a good car?\n",
      "==================================\u001b[1m Ai Message \u001b[0m==================================\n",
      "\n",
      "Since you're a fan of the Maruti Suzuki Swift, you might enjoy a few other options that offer a similar blend of performance, style, and practicality. Here are some suggestions:\n",
      "\n",
      "1. **Hyundai i20** - Known for its premium features and spacious interior, it offers a comfortable ride with efficient engine options.\n",
      "\n",
      "2. **Tata Altroz** - A stylish hatchback with a strong build quality and advanced safety features. It also comes with a spacious cabin and good fuel efficiency.\n",
      "\n",
      "3. **Honda Jazz** - Offers a versatile interior with its Magic Seat feature, providing ample space for both passengers and cargo. It's known for its reliability and efficient engines.\n",
      "\n",
      "4. **Kia Sonet** - If you're open to a compact SUV, the Sonet provides a bold design, a sporty feel, and numerous features, making it a great choice.\n",
      "\n",
      "5. **Volkswagen Polo** - Known for its solid build quality and driving dynamics, the Polo offers a fun driving experience with various engine options.\n",
      "\n",
      "All these options have their unique advantages, so it would be great to test drive a few to see which one fits your preferences best!\n"
     ]
    }
   ],
   "source": [
    "config = {'configurable':{'thread_id':\"3\",'user_id':\"1\"}}\n",
    "input_message = HumanMessage(content = \"Can you suggest me a good car?\")\n",
    "for chunk in graph.stream({'messages':input_message},config=config,stream_mode='values'):\n",
    "    chunk['messages'][-1].pretty_print()"
   ]
  },
  {
   "cell_type": "markdown",
   "metadata": {},
   "source": [
    "### In Simple Term\n",
    "<p> We can say that. A <code>checkpointer</code> is only accessable within thread which is a <code>short term memory</code>. But on the other hand a store is accessable between threads and it is <code>Long term memory</code></p>"
   ]
  },
  {
   "cell_type": "markdown",
   "metadata": {},
   "source": []
  }
 ],
 "metadata": {
  "kernelspec": {
   "display_name": "Python 3",
   "language": "python",
   "name": "python3"
  },
  "language_info": {
   "codemirror_mode": {
    "name": "ipython",
    "version": 3
   },
   "file_extension": ".py",
   "mimetype": "text/x-python",
   "name": "python",
   "nbconvert_exporter": "python",
   "pygments_lexer": "ipython3",
   "version": "3.11.7"
  }
 },
 "nbformat": 4,
 "nbformat_minor": 2
}
