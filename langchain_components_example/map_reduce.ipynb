{
 "cells": [
  {
   "cell_type": "markdown",
   "metadata": {},
   "source": [
    "\n",
    "<center>\n",
    "<font color=\"cyan\"><h2 >Map Reduce</h2></font>\n",
    "</center>\n",
    "\n",
    "<center>\n",
    "<h3> Using <strong>Send API</strong> to execute parallely</h3>\n",
    "</center>\n",
    "\n",
    "\n"
   ]
  },
  {
   "cell_type": "code",
   "execution_count": 1,
   "metadata": {},
   "outputs": [],
   "source": [
    "from langgraph.graph import StateGraph,START,END\n",
    "from dotenv import load_dotenv\n",
    "from langgraph.types import Send\n",
    "from langchain_openai import ChatOpenAI\n",
    "from typing import TypedDict,Annotated,List\n",
    "from IPython.display import display,Image\n",
    "from pydantic import BaseModel, Field\n",
    "from random import randint\n",
    "import operator\n",
    "load_dotenv()\n",
    "llm = ChatOpenAI(model='gpt-4o-mini')\n"
   ]
  },
  {
   "cell_type": "code",
   "execution_count": 14,
   "metadata": {},
   "outputs": [
    {
     "data": {
      "image/jpeg": "[encoded data removed]",
      "text/plain": [
       "<IPython.core.display.Image object>"
      ]
     },
     "metadata": {},
     "output_type": "display_data"
    }
   ],
   "source": [
    "# models\n",
    "class Subject(BaseModel):\n",
    "    subjects : List[str]\n",
    "\n",
    "class Joke(BaseModel):\n",
    "    joke : List[str]\n",
    "\n",
    "# graph states\n",
    "class State(TypedDict):\n",
    "    topic : str\n",
    "    subjects : List[str]\n",
    "    jokes: Annotated[list[str],operator.add]\n",
    "    bestJoke : str\n",
    "\n",
    "class JokeState(TypedDict):\n",
    "    subject : str\n",
    "# nodes\n",
    "def call_llm(state: State):\n",
    "    prompt = f\"Create Less than 5 more than 3 related subjects to this topic `{state['topic']}` .  \"\n",
    "    response = llm.with_structured_output(Subject).invoke(prompt)\n",
    "    return {'subjects':response.subjects}\n",
    "\n",
    "def create_jokes(state:JokeState): # Getting state from continue_creating_joke\n",
    "    prompt = f\"create one joke on this subject : {state['subject']}\"\n",
    "    response = llm.with_structured_output(Joke).invoke(prompt)\n",
    "    print('*'*20,'response : ',response,'*'*20)\n",
    "    return {'jokes':[response.joke]} # writing to graph states\n",
    "\n",
    "def continue_creating_joke(state):\n",
    "    return [Send('create_jokes',{'subject' : s}) for s in state['subjects']]\n",
    "\n",
    "def best_joke(state):\n",
    "    total_jokes = len(state['jokes'])\n",
    "    best_joke_index = randint(0,total_jokes-1)\n",
    "    bestJokequetion = state['jokes'][best_joke_index]\n",
    "    return {'bestJoke': bestJokequetion }\n",
    "\n",
    "\n",
    "\n",
    "\n",
    "#builder\n",
    "builder = StateGraph(State)\n",
    "builder.add_node('call_llm',call_llm)\n",
    "builder.add_node('create_jokes',create_jokes)\n",
    "builder.add_node('best_joke',best_joke)\n",
    "\n",
    "builder.add_edge(START,'call_llm')\n",
    "builder.add_conditional_edges('call_llm',continue_creating_joke,['create_jokes'])\n",
    "builder.add_edge('create_jokes','best_joke')\n",
    "builder.add_edge('best_joke',END)\n",
    "\n",
    "graph = builder.compile()\n",
    "\n",
    "# graphcompile\n",
    "display(Image(graph.get_graph().draw_mermaid_png()))"
   ]
  },
  {
   "cell_type": "code",
   "execution_count": 15,
   "metadata": {},
   "outputs": [
    {
     "name": "stdout",
     "output_type": "stream",
     "text": [
      "******************** response :  joke=['Why did the cat sit on the computer?', 'Because it wanted to keep an eye on the mouse!'] ********************\n",
      "******************** response :  joke=['Why did the cat go to the vet?', 'Because it was feeling a little paw-sitive, but needed a check-up to be sure!'] ********************\n",
      "******************** response :  joke=['Why did the Siamese cat always get invited to parties?', 'Because it was always the life of the purr-ty!'] ********************\n",
      "******************** response :  joke=['Why did the cat sit on the computer?', 'Because it wanted to keep an eye on the mouse!'] ********************\n",
      "******************** response :  joke=['Why did the cat join the training class?', 'Because it wanted to master the art of purr-suasion!'] ********************\n"
     ]
    },
    {
     "data": {
      "text/plain": [
       "{'topic': 'cat',\n",
       " 'subjects': ['feline behavior',\n",
       "  'cat breeds',\n",
       "  'cat health',\n",
       "  'cat care',\n",
       "  'cat training'],\n",
       " 'jokes': [['Why did the cat sit on the computer?',\n",
       "   'Because it wanted to keep an eye on the mouse!'],\n",
       "  ['Why did the Siamese cat always get invited to parties?',\n",
       "   'Because it was always the life of the purr-ty!'],\n",
       "  ['Why did the cat go to the vet?',\n",
       "   'Because it was feeling a little paw-sitive, but needed a check-up to be sure!'],\n",
       "  ['Why did the cat sit on the computer?',\n",
       "   'Because it wanted to keep an eye on the mouse!'],\n",
       "  ['Why did the cat join the training class?',\n",
       "   'Because it wanted to master the art of purr-suasion!']],\n",
       " 'bestJoke': ['Why did the cat sit on the computer?',\n",
       "  'Because it wanted to keep an eye on the mouse!']}"
      ]
     },
     "execution_count": 15,
     "metadata": {},
     "output_type": "execute_result"
    }
   ],
   "source": [
    "graph.invoke({'topic':'cat'})"
   ]
  },
  {
   "cell_type": "code",
   "execution_count": null,
   "metadata": {},
   "outputs": [],
   "source": []
  }
 ],
 "metadata": {
  "kernelspec": {
   "display_name": "Python 3",
   "language": "python",
   "name": "python3"
  },
  "language_info": {
   "codemirror_mode": {
    "name": "ipython",
    "version": 3
   },
   "file_extension": ".py",
   "mimetype": "text/x-python",
   "name": "python",
   "nbconvert_exporter": "python",
   "pygments_lexer": "ipython3",
   "version": "3.11.7"
  }
 },
 "nbformat": 4,
 "nbformat_minor": 2
}
