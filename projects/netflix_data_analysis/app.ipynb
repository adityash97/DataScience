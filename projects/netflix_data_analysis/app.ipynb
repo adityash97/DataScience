{
 "cells": [
  {
   "cell_type": "code",
   "execution_count": 2,
   "metadata": {},
   "outputs": [],
   "source": [
    "\"\"\"\n",
    "This project aims to replicate pandas.ai using Langgraph.\n",
    "\n",
    "\"\"\"\n",
    "from dotenv import load_dotenv\n",
    "from langchain_openai import ChatOpenAI\n",
    "import pandas as pd\n",
    "from langgraph.graph import StateGraph,START,END\n",
    "from langchain_core.messages import HumanMessage\n",
    "from typing import Optional,Type,Literal,TypedDict\n",
    "from pydantic import BaseModel\n",
    "from typing import List\n",
    "from IPython.display import display,Image\n",
    "\n",
    "load_dotenv()\n",
    "llm = ChatOpenAI(model=\"gpt-4o-mini\")\n"
   ]
  },
  {
   "cell_type": "code",
   "execution_count": 22,
   "metadata": {},
   "outputs": [],
   "source": [
    "movie_data_set = pd.read_csv('./sample_100mb.csv')\n",
    "movie_data_set.drop(columns=['Unnamed: 0'],inplace=True)"
   ]
  },
  {
   "cell_type": "code",
   "execution_count": 23,
   "metadata": {},
   "outputs": [
    {
     "data": {
      "text/plain": [
       "[{'CustId': 2317620,\n",
       "  'Rating': 3,\n",
       "  'Date': '2003-12-31',\n",
       "  'MovieId': 7509,\n",
       "  'ReleaseYear': 2002,\n",
       "  'MovieTitle': 'Die Another Day'}]"
      ]
     },
     "execution_count": 23,
     "metadata": {},
     "output_type": "execute_result"
    }
   ],
   "source": [
    "movie_data_set[2:3].to_dict(orient='records')"
   ]
  },
  {
   "cell_type": "code",
   "execution_count": 24,
   "metadata": {},
   "outputs": [
    {
     "data": {
      "text/html": [
       "<div>\n",
       "<style scoped>\n",
       "    .dataframe tbody tr th:only-of-type {\n",
       "        vertical-align: middle;\n",
       "    }\n",
       "\n",
       "    .dataframe tbody tr th {\n",
       "        vertical-align: top;\n",
       "    }\n",
       "\n",
       "    .dataframe thead th {\n",
       "        text-align: right;\n",
       "    }\n",
       "</style>\n",
       "<table border=\"1\" class=\"dataframe\">\n",
       "  <thead>\n",
       "    <tr style=\"text-align: right;\">\n",
       "      <th></th>\n",
       "      <th>CustId</th>\n",
       "      <th>Rating</th>\n",
       "      <th>Date</th>\n",
       "      <th>MovieId</th>\n",
       "      <th>ReleaseYear</th>\n",
       "      <th>MovieTitle</th>\n",
       "    </tr>\n",
       "  </thead>\n",
       "  <tbody>\n",
       "    <tr>\n",
       "      <th>0</th>\n",
       "      <td>2004524</td>\n",
       "      <td>1</td>\n",
       "      <td>2004-03-20</td>\n",
       "      <td>5113</td>\n",
       "      <td>1985</td>\n",
       "      <td>Subway</td>\n",
       "    </tr>\n",
       "  </tbody>\n",
       "</table>\n",
       "</div>"
      ],
      "text/plain": [
       "    CustId  Rating        Date  MovieId  ReleaseYear MovieTitle\n",
       "0  2004524       1  2004-03-20     5113         1985     Subway"
      ]
     },
     "execution_count": 24,
     "metadata": {},
     "output_type": "execute_result"
    }
   ],
   "source": [
    "movie_data_set[:1]"
   ]
  },
  {
   "cell_type": "code",
   "execution_count": null,
   "metadata": {},
   "outputs": [],
   "source": [
    "#state\n",
    "class DataState(TypedDict):\n",
    "    user_query : str # at invoke\n",
    "    columns :List[str] # at invoke\n",
    "    dataset_name : str # at invoke\n",
    "    llm_response : str\n",
    "    user_to_response: List[dict]\n",
    "    error_message : str | None = None\n",
    "    retry_on_error : int = 2\n",
    "\n",
    "\n",
    "# df.head().to_string(index=False)"
   ]
  },
  {
   "cell_type": "code",
   "execution_count": 82,
   "metadata": {},
   "outputs": [],
   "source": [
    "# Prompts\n",
    "def process_user_query(state:DataState):\n",
    "    return f\"\"\"\n",
    "        You are an AI assistant for data analysis. Your task is to generate Python code directly without any additional text, formatting, or prefixes like \"python\" or \"```\". \n",
    "\n",
    "        Do not include imports, comments, or any other text. Assume the following:\n",
    "        1. Pandas and NumPy are already installed and imported.\n",
    "        2. The dataset is loaded into a DataFrame with the name: {state['dataset_name']}.\n",
    "        3. The dataset has the following columns: {state['columns']}.\n",
    "\n",
    "        Based on the user query: \"{state['user_query']}\", generate the exact Python code to execute the query on the dataset.\n",
    "    \"\"\"\n",
    "def generate_error_prompt(state:DataState):\n",
    "    return f\"\"\"\n",
    "    The generated code caused the following error: {state['error_message']}.\n",
    "    Please rectify the error and regenerate the correct Python code for the query: \"{state['user_query']}\".\n",
    "    \"\"\"\n",
    "def summarize_prompt(state:DataState):\n",
    "    return f\"\"\"\n",
    "        You are an AI assistant. The user asked the following query: \"{state['user_query']}\".\n",
    "\n",
    "        The response retrieved from the dataset is as follows:\n",
    "        {state['user_to_response']}\n",
    "\n",
    "        Please summarize this response in a concise and clear manner relevant to the user query.\n",
    "    \"\"\" \n",
    "    "
   ]
  },
  {
   "cell_type": "code",
   "execution_count": 83,
   "metadata": {},
   "outputs": [],
   "source": [
    "# Nodes\n",
    "def generate_llm_response(state : DataState):\n",
    "    print(\"generate_llm_response called\")\n",
    "    response = llm.invoke([HumanMessage(content=process_user_query(state=state))])\n",
    "    # print(\"response : \",response)\n",
    "    # response = \"movie_data_set.hea()\" # wrong query\n",
    "    state['llm_response'] = response.content\n",
    "    return state\n",
    "\n",
    "def call_llm_again(state: DataState):\n",
    "    print(\"call_llm_again called \")\n",
    "    response = llm.invoke([HumanMessage(content=generate_error_prompt(state=state))])\n",
    "    print(\"response again : \",response)\n",
    "    # response = \"movie_data_set.head()\" # correct query\n",
    "    state['llm_response'] = response.content\n",
    "    return state\n",
    "\n",
    "\n",
    "def summarize_response(state:DataState):\n",
    "    print(\"summarize_response called \")\n",
    "    if state['retry_on_error'] > 0:\n",
    "        response  = llm.invoke([HumanMessage(content=summarize_prompt(state=state))])\n",
    "        state['user_to_response'] = response.content\n",
    "    else:\n",
    "        state['user_to_response'] = f\"Exhausted the limit of retry. Please write the code manually. The recent error is {state['error_message']}\"\n",
    "    return state\n",
    "\n",
    "\n",
    "def fail_condition(state:DataState):\n",
    "        \n",
    "    if state['error_message']:\n",
    "        if state['retry_on_error'] > 0:\n",
    "            return 'call_llm_again'\n",
    "        return 'summarize_response'\n",
    "    return 'summarize_response'\n",
    "\n",
    "\n",
    "        \n",
    "def execute_query(state:DataState):\n",
    "    try: \n",
    "        local_vars = {\"movie_data_set\": movie_data_set}\n",
    "        exec(f\"result = {state['llm_response']}\", {}, local_vars)\n",
    "        state['user_to_response']  = local_vars['result'].to_dict(orient='records')\n",
    "        state['error_message'] =  None\n",
    "        return state\n",
    "        \n",
    "    except Exception as e:\n",
    "        print(\"LLm Response :\",state['llm_response'] ,\"\\n\\n\")\n",
    "        print(\"Error : \", e)\n",
    "        state['error_message'] = e\n",
    "        return state"
   ]
  },
  {
   "cell_type": "code",
   "execution_count": 84,
   "metadata": {},
   "outputs": [
    {
     "data": {
      "image/jpeg": "[encoded data removed]",
      "text/plain": [
       "<IPython.core.display.Image object>"
      ]
     },
     "metadata": {},
     "output_type": "display_data"
    }
   ],
   "source": [
    "builder = StateGraph(DataState)\n",
    "builder.add_node('generate_llm_response',generate_llm_response)\n",
    "builder.add_node('execute_query',execute_query)\n",
    "builder.add_node('call_llm_again',call_llm_again)\n",
    "builder.add_node('summarize_response',summarize_response)\n",
    "builder.add_node('fail_condition',fail_condition)\n",
    "\n",
    "\n",
    "builder.add_edge(START,'generate_llm_response')\n",
    "builder.add_edge('generate_llm_response','execute_query')\n",
    "builder.add_conditional_edges('execute_query',fail_condition)\n",
    "builder.add_edge('call_llm_again','execute_query')\n",
    "builder.add_edge('summarize_response',END)\n",
    "\n",
    "graph = builder.compile()\n",
    "display(Image(graph.get_graph().draw_mermaid_png()))\n"
   ]
  },
  {
   "cell_type": "code",
   "execution_count": null,
   "metadata": {},
   "outputs": [
    {
     "name": "stdout",
     "output_type": "stream",
     "text": [
      "generate_llm_response called\n",
      "summarize_response called \n"
     ]
    },
    {
     "data": {
      "text/plain": [
       "{'user_query': 'Give me 5 rows of the given dataset.',\n",
       " 'columns': ['CustId',\n",
       "  'Rating',\n",
       "  'Date',\n",
       "  'MovieId',\n",
       "  'ReleaseYear',\n",
       "  'MovieTitle'],\n",
       " 'dataset_name': 'movie_data_set',\n",
       " 'llm_response': 'movie_data_set.head(5)',\n",
       " 'user_to_response': \"Here are 5 rows from the dataset:\\n\\n1. CustId: 2004524, Rating: 1, Date: 2004-03-20, MovieId: 5113, ReleaseYear: 1985, MovieTitle: 'Subway'\\n2. CustId: 1803657, Rating: 4, Date: 2005-07-29, MovieId: 10092, ReleaseYear: 1991, MovieTitle: 'Inspector Morse 20: Promised Land'\\n3. CustId: 2317620, Rating: 3, Date: 2003-12-31, MovieId: 7509, ReleaseYear: 2002, MovieTitle: 'Die Another Day'\\n4. CustId: 118318, Rating: 5, Date: 2005-10-13, MovieId: 10429, ReleaseYear: 2003, MovieTitle: 'Final Destination 2'\\n5. CustId: 1280291, Rating: 5, Date: 2005-02-04, MovieId: 6833, ReleaseYear: 1995, MovieTitle: 'Billy Madison'\",\n",
       " 'error_message': None}"
      ]
     },
     "execution_count": 75,
     "metadata": {},
     "output_type": "execute_result"
    }
   ],
   "source": [
    "init_state = {\n",
    "    'user_query': 'Give last row of the given dataset.',\n",
    "    'columns': list(movie_data_set.columns),\n",
    "    'dataset_name': 'movie_data_set',\n",
    "    'llm_response': 'fe',  # Ensure it's initialized\n",
    "    'user_to_response': [{}],  # Ensure it's initialized\n",
    "    'error_message': None  # Optional, but providing it explicitly as None\n",
    "}\n",
    "graph.invoke(init_state)\n",
    "\n"
   ]
  },
  {
   "cell_type": "code",
   "execution_count": 86,
   "metadata": {},
   "outputs": [
    {
     "name": "stdout",
     "output_type": "stream",
     "text": [
      "generate_llm_response called\n",
      "summarize_response called \n"
     ]
    },
    {
     "data": {
      "text/plain": [
       "{'user_query': 'Give last row of the given dataset.',\n",
       " 'columns': ['CustId',\n",
       "  'Rating',\n",
       "  'Date',\n",
       "  'MovieId',\n",
       "  'ReleaseYear',\n",
       "  'MovieTitle'],\n",
       " 'dataset_name': 'movie_data_set',\n",
       " 'llm_response': 'movie_data_set.tail(1)',\n",
       " 'user_to_response': 'The last row of the dataset contains the following information: Customer ID 882483 rated the movie \"Knight Rider: Season 2\" (Release Year: 1983) with a rating of 4 on September 20, 2005.',\n",
       " 'error_message': None,\n",
       " 'retry_on_error': 2}"
      ]
     },
     "execution_count": 86,
     "metadata": {},
     "output_type": "execute_result"
    }
   ],
   "source": [
    "init_state = {\n",
    "    'user_query': 'Give last row of the given dataset.',\n",
    "    'columns': list(movie_data_set.columns),\n",
    "    'dataset_name': 'movie_data_set',\n",
    "    'llm_response': 'fe',  # Ensure it's initialized\n",
    "    'user_to_response': [{}],  # Ensure it's initialized\n",
    "    'error_message': None,  # Optional, but providing it explicitly as None\n",
    "    'retry_on_error':2\n",
    "    \n",
    "}\n",
    "graph.invoke(init_state)"
   ]
  },
  {
   "cell_type": "code",
   "execution_count": null,
   "metadata": {},
   "outputs": [],
   "source": []
  }
 ],
 "metadata": {
  "kernelspec": {
   "display_name": "new_env",
   "language": "python",
   "name": "python3"
  },
  "language_info": {
   "codemirror_mode": {
    "name": "ipython",
    "version": 3
   },
   "file_extension": ".py",
   "mimetype": "text/x-python",
   "name": "python",
   "nbconvert_exporter": "python",
   "pygments_lexer": "ipython3",
   "version": "3.11.6"
  }
 },
 "nbformat": 4,
 "nbformat_minor": 2
}
