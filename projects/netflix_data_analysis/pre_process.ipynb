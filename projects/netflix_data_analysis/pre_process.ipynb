{
 "cells": [
  {
   "cell_type": "markdown",
   "metadata": {
    "vscode": {
     "languageId": "plaintext"
    }
   },
   "source": [
    "### Query to Analysis\n",
    "\n",
    "#### User Behavior Analysis\n",
    "1. **What are the most common rating patterns?**\n",
    "   - Distribution of ratings (e.g., % of 1-star, 2-star, etc.).\n",
    "   - Are users generally lenient (high average ratings) or strict?\n",
    "\n",
    "2. **Which customers are the most active?**\n",
    "   - Identify top users based on the number of ratings given.\n",
    "\n",
    "3. **Are there patterns in user activity over time?**\n",
    "   - Time-series analysis of ratings: Are there seasonal trends in rating activity?\n",
    "   - Do users rate more movies during certain months or years?\n",
    "\n",
    "4. **What are the average ratings by users?**\n",
    "   - Identify users with extreme behavior (always high ratings or always low ratings).\n",
    "\n",
    "---\n",
    "\n",
    "#### Movie Popularity and Trends\n",
    "5. **Which movies are the most rated?**\n",
    "   - Find the movies with the highest number of ratings.\n",
    "\n",
    "6. **What is the average rating of movies?**\n",
    "   - Identify the highest-rated and lowest-rated movies on average.\n",
    "\n",
    "7. **Are there trends in ratings over time for specific movies?**\n",
    "   - For popular movies, analyze how ratings change over time.\n",
    "\n",
    "8. **Does the year of release influence ratings?**\n",
    "   - Are older or newer movies rated more favorably?\n",
    "\n",
    "---\n",
    "\n",
    "#### Correlation and Distribution\n",
    "9. **What is the correlation between the number of ratings a movie receives and its average rating?**\n",
    "   - Do more popular movies tend to have higher or lower ratings?\n",
    "\n",
    "10. **How do ratings vary across different years of movie release?**\n",
    "    - Distribution of ratings for movies by decade or year.\n",
    "\n",
    "---\n",
    "\n",
    "#### Personalized Recommendations\n",
    "11. **Which genres or types of movies do specific users prefer?**\n",
    "    - Cluster users based on their rating history and infer preferences.\n",
    "\n",
    "12. **Can we predict user ratings for a movie?**\n",
    "    - Build a predictive model to estimate how a user might rate a movie they haven’t seen.\n",
    "\n",
    "---\n",
    "\n",
    "#### Temporal Insights\n",
    "13. **How do rating trends evolve over time?**\n",
    "    - Are there periods when users tend to give higher or lower ratings?\n",
    "    - Identify any significant shifts in rating behavior (e.g., during holidays).\n",
    "\n",
    "14. **Are there specific years or months when certain types of movies receive better ratings?**\n",
    "    - E.g., holiday-themed movies around December.\n",
    "\n",
    "---\n",
    "\n",
    "#### Anomalies and Outliers\n",
    "15. **Are there users or movies with unusual patterns?**\n",
    "    - Users who rate all movies the same or movies that receive a disproportionate number of extreme ratings.\n",
    "\n",
    "16. **What are the least-rated movies?**\n",
    "    - Identify movies with the lowest number of ratings and explore why.\n",
    "\n",
    "---\n",
    "\n",
    "#### Cross-Dataset Insights\n",
    "17. **Which movies have the highest rating variance?**\n",
    "    - Movies with polarized opinions (some love, some hate).\n",
    "\n",
    "18. **Are there trends in ratings by movie release year?**\n",
    "    - Compare older classic movies with newer ones.\n",
    "\n",
    "19. **What percentage of users rate movies from every decade?**\n",
    "    - Explore user engagement with movies across time periods.\n",
    "\n",
    "20. **What is the relationship between a movie’s release year and the number of ratings it receives?**\n",
    "    - Do newer movies get rated more frequently?\n",
    "\n",
    "21. **Which year movie user mostly watched**\n",
    "    - mostly watched movie name and year"
   ]
  },
  {
   "cell_type": "code",
   "execution_count": 1,
   "metadata": {},
   "outputs": [],
   "source": [
    "import pandas as pd\n",
    "import numpy as np\n",
    "# import matplotlib.pyplot as plt\n",
    "import seaborn as sns\n",
    "import warnings\n",
    "warnings.filterwarnings('ignore')"
   ]
  },
  {
   "cell_type": "code",
   "execution_count": 2,
   "metadata": {},
   "outputs": [],
   "source": [
    "movie_df = pd.read_csv(\"../../resources/netflix_movies.csv\")"
   ]
  },
  {
   "cell_type": "code",
   "execution_count": 3,
   "metadata": {},
   "outputs": [],
   "source": [
    "\n",
    "user_rating_df = pd.read_csv(\"../../resources/Netflix_User_Ratings.csv\")"
   ]
  },
  {
   "cell_type": "code",
   "execution_count": 4,
   "metadata": {},
   "outputs": [
    {
     "name": "stdout",
     "output_type": "stream",
     "text": [
      "<class 'pandas.core.frame.DataFrame'>\n",
      "RangeIndex: 17770 entries, 0 to 17769\n",
      "Data columns (total 3 columns):\n",
      " #   Column       Non-Null Count  Dtype  \n",
      "---  ------       --------------  -----  \n",
      " 0   MovieId      17770 non-null  int64  \n",
      " 1   ReleaseYear  17763 non-null  float64\n",
      " 2   MovieTitle   17770 non-null  object \n",
      "dtypes: float64(1), int64(1), object(1)\n",
      "memory usage: 416.6+ KB\n"
     ]
    }
   ],
   "source": [
    "movie_df.info()"
   ]
  },
  {
   "cell_type": "markdown",
   "metadata": {},
   "source": [
    "<p>Checking info of both the df , to get little information about the data we have and their type.</p>\n",
    "<p>Having proper type of data will help us to work on it better</p>"
   ]
  },
  {
   "cell_type": "code",
   "execution_count": 5,
   "metadata": {},
   "outputs": [
    {
     "name": "stdout",
     "output_type": "stream",
     "text": [
      "<class 'pandas.core.frame.DataFrame'>\n",
      "RangeIndex: 100480507 entries, 0 to 100480506\n",
      "Data columns (total 4 columns):\n",
      " #   Column   Dtype \n",
      "---  ------   ----- \n",
      " 0   CustId   int64 \n",
      " 1   Rating   int64 \n",
      " 2   Date     object\n",
      " 3   MovieId  int64 \n",
      "dtypes: int64(3), object(1)\n",
      "memory usage: 3.0+ GB\n"
     ]
    }
   ],
   "source": [
    "user_rating_df.info()"
   ]
  },
  {
   "cell_type": "markdown",
   "metadata": {},
   "source": [
    "As the Date has 'object' datatype , we have to convert it into date type."
   ]
  },
  {
   "cell_type": "code",
   "execution_count": 6,
   "metadata": {},
   "outputs": [
    {
     "name": "stdout",
     "output_type": "stream",
     "text": [
      "<class 'pandas.core.frame.DataFrame'>\n",
      "RangeIndex: 100480507 entries, 0 to 100480506\n",
      "Data columns (total 4 columns):\n",
      " #   Column   Dtype               \n",
      "---  ------   -----               \n",
      " 0   CustId   int64               \n",
      " 1   Rating   int64               \n",
      " 2   Date     date32[day][pyarrow]\n",
      " 3   MovieId  int64               \n",
      "dtypes: date32[day][pyarrow](1), int64(3)\n",
      "memory usage: 2.6 GB\n"
     ]
    }
   ],
   "source": [
    "user_rating_df['Date'] = user_rating_df['Date'].astype('date32[pyarrow]')\n",
    "user_rating_df.info()"
   ]
  },
  {
   "cell_type": "code",
   "execution_count": 7,
   "metadata": {},
   "outputs": [
    {
     "name": "stdout",
     "output_type": "stream",
     "text": [
      "<class 'pandas.core.frame.DataFrame'>\n",
      "RangeIndex: 17770 entries, 0 to 17769\n",
      "Data columns (total 3 columns):\n",
      " #   Column       Non-Null Count  Dtype  \n",
      "---  ------       --------------  -----  \n",
      " 0   MovieId      17770 non-null  int64  \n",
      " 1   ReleaseYear  17763 non-null  float64\n",
      " 2   MovieTitle   17770 non-null  object \n",
      "dtypes: float64(1), int64(1), object(1)\n",
      "memory usage: 416.6+ KB\n"
     ]
    }
   ],
   "source": [
    "movie_df.info()"
   ]
  },
  {
   "cell_type": "code",
   "execution_count": 8,
   "metadata": {},
   "outputs": [],
   "source": [
    "# lambda x : int(x) if not pd.isna(x) else pd.NA\n",
    "def process_row(x):\n",
    "    if not pd.isna(x):\n",
    "        return int(x)\n",
    "    return pd.NA"
   ]
  },
  {
   "cell_type": "code",
   "execution_count": 9,
   "metadata": {},
   "outputs": [
    {
     "data": {
      "text/html": [
       "<div>\n",
       "<style scoped>\n",
       "    .dataframe tbody tr th:only-of-type {\n",
       "        vertical-align: middle;\n",
       "    }\n",
       "\n",
       "    .dataframe tbody tr th {\n",
       "        vertical-align: top;\n",
       "    }\n",
       "\n",
       "    .dataframe thead th {\n",
       "        text-align: right;\n",
       "    }\n",
       "</style>\n",
       "<table border=\"1\" class=\"dataframe\">\n",
       "  <thead>\n",
       "    <tr style=\"text-align: right;\">\n",
       "      <th></th>\n",
       "      <th>MovieId</th>\n",
       "      <th>ReleaseYear</th>\n",
       "      <th>MovieTitle</th>\n",
       "    </tr>\n",
       "  </thead>\n",
       "  <tbody>\n",
       "    <tr>\n",
       "      <th>0</th>\n",
       "      <td>1</td>\n",
       "      <td>2003.0</td>\n",
       "      <td>Dinosaur Planet</td>\n",
       "    </tr>\n",
       "    <tr>\n",
       "      <th>1</th>\n",
       "      <td>2</td>\n",
       "      <td>2004.0</td>\n",
       "      <td>Isle of Man TT 2004 Review</td>\n",
       "    </tr>\n",
       "    <tr>\n",
       "      <th>2</th>\n",
       "      <td>3</td>\n",
       "      <td>1997.0</td>\n",
       "      <td>Character</td>\n",
       "    </tr>\n",
       "    <tr>\n",
       "      <th>3</th>\n",
       "      <td>4</td>\n",
       "      <td>1994.0</td>\n",
       "      <td>Paula Abdul's Get Up &amp; Dance</td>\n",
       "    </tr>\n",
       "    <tr>\n",
       "      <th>4</th>\n",
       "      <td>5</td>\n",
       "      <td>2004.0</td>\n",
       "      <td>The Rise and Fall of ECW</td>\n",
       "    </tr>\n",
       "  </tbody>\n",
       "</table>\n",
       "</div>"
      ],
      "text/plain": [
       "   MovieId  ReleaseYear                    MovieTitle\n",
       "0        1       2003.0               Dinosaur Planet\n",
       "1        2       2004.0    Isle of Man TT 2004 Review\n",
       "2        3       1997.0                     Character\n",
       "3        4       1994.0  Paula Abdul's Get Up & Dance\n",
       "4        5       2004.0      The Rise and Fall of ECW"
      ]
     },
     "execution_count": 9,
     "metadata": {},
     "output_type": "execute_result"
    }
   ],
   "source": [
    "movie_df.head()"
   ]
  },
  {
   "cell_type": "code",
   "execution_count": 10,
   "metadata": {},
   "outputs": [
    {
     "name": "stdout",
     "output_type": "stream",
     "text": [
      "<class 'pandas.core.frame.DataFrame'>\n",
      "RangeIndex: 17770 entries, 0 to 17769\n",
      "Data columns (total 3 columns):\n",
      " #   Column       Non-Null Count  Dtype \n",
      "---  ------       --------------  ----- \n",
      " 0   MovieId      17770 non-null  int64 \n",
      " 1   ReleaseYear  17763 non-null  object\n",
      " 2   MovieTitle   17770 non-null  object\n",
      "dtypes: int64(1), object(2)\n",
      "memory usage: 416.6+ KB\n"
     ]
    }
   ],
   "source": [
    "# changing RelaseYear type\n",
    "movie_df['ReleaseYear'] = movie_df['ReleaseYear'].apply(lambda x : int(x) if not pd.isna(x) else pd.NA)\n",
    "movie_df.info()"
   ]
  },
  {
   "cell_type": "code",
   "execution_count": 11,
   "metadata": {},
   "outputs": [
    {
     "data": {
      "text/html": [
       "<div>\n",
       "<style scoped>\n",
       "    .dataframe tbody tr th:only-of-type {\n",
       "        vertical-align: middle;\n",
       "    }\n",
       "\n",
       "    .dataframe tbody tr th {\n",
       "        vertical-align: top;\n",
       "    }\n",
       "\n",
       "    .dataframe thead th {\n",
       "        text-align: right;\n",
       "    }\n",
       "</style>\n",
       "<table border=\"1\" class=\"dataframe\">\n",
       "  <thead>\n",
       "    <tr style=\"text-align: right;\">\n",
       "      <th></th>\n",
       "      <th>MovieId</th>\n",
       "      <th>ReleaseYear</th>\n",
       "      <th>MovieTitle</th>\n",
       "    </tr>\n",
       "  </thead>\n",
       "  <tbody>\n",
       "    <tr>\n",
       "      <th>0</th>\n",
       "      <td>1</td>\n",
       "      <td>2003</td>\n",
       "      <td>Dinosaur Planet</td>\n",
       "    </tr>\n",
       "    <tr>\n",
       "      <th>1</th>\n",
       "      <td>2</td>\n",
       "      <td>2004</td>\n",
       "      <td>Isle of Man TT 2004 Review</td>\n",
       "    </tr>\n",
       "    <tr>\n",
       "      <th>2</th>\n",
       "      <td>3</td>\n",
       "      <td>1997</td>\n",
       "      <td>Character</td>\n",
       "    </tr>\n",
       "    <tr>\n",
       "      <th>3</th>\n",
       "      <td>4</td>\n",
       "      <td>1994</td>\n",
       "      <td>Paula Abdul's Get Up &amp; Dance</td>\n",
       "    </tr>\n",
       "    <tr>\n",
       "      <th>4</th>\n",
       "      <td>5</td>\n",
       "      <td>2004</td>\n",
       "      <td>The Rise and Fall of ECW</td>\n",
       "    </tr>\n",
       "  </tbody>\n",
       "</table>\n",
       "</div>"
      ],
      "text/plain": [
       "   MovieId ReleaseYear                    MovieTitle\n",
       "0        1        2003               Dinosaur Planet\n",
       "1        2        2004    Isle of Man TT 2004 Review\n",
       "2        3        1997                     Character\n",
       "3        4        1994  Paula Abdul's Get Up & Dance\n",
       "4        5        2004      The Rise and Fall of ECW"
      ]
     },
     "execution_count": 11,
     "metadata": {},
     "output_type": "execute_result"
    }
   ],
   "source": [
    "movie_df.head()"
   ]
  },
  {
   "cell_type": "code",
   "execution_count": 12,
   "metadata": {},
   "outputs": [
    {
     "name": "stdout",
     "output_type": "stream",
     "text": [
      "<class 'pandas.core.frame.DataFrame'>\n",
      "RangeIndex: 17770 entries, 0 to 17769\n",
      "Data columns (total 3 columns):\n",
      " #   Column       Non-Null Count  Dtype \n",
      "---  ------       --------------  ----- \n",
      " 0   MovieId      17770 non-null  int64 \n",
      " 1   ReleaseYear  17763 non-null  object\n",
      " 2   MovieTitle   17770 non-null  string\n",
      "dtypes: int64(1), object(1), string(1)\n",
      "memory usage: 416.6+ KB\n"
     ]
    }
   ],
   "source": [
    "# changing movie title to string\n",
    "movie_df['MovieTitle'] = movie_df['MovieTitle'].astype('string')\n",
    "movie_df.info()"
   ]
  },
  {
   "cell_type": "markdown",
   "metadata": {},
   "source": [
    "confirming it's type"
   ]
  },
  {
   "cell_type": "code",
   "execution_count": 13,
   "metadata": {},
   "outputs": [
    {
     "data": {
      "text/plain": [
       "str"
      ]
     },
     "execution_count": 13,
     "metadata": {},
     "output_type": "execute_result"
    }
   ],
   "source": [
    "type(movie_df[:1]['MovieTitle'][0])"
   ]
  },
  {
   "cell_type": "markdown",
   "metadata": {},
   "source": [
    "adding index in movie csv and userrating csv"
   ]
  },
  {
   "cell_type": "code",
   "execution_count": 14,
   "metadata": {},
   "outputs": [
    {
     "name": "stdout",
     "output_type": "stream",
     "text": [
      "<class 'pandas.core.frame.DataFrame'>\n",
      "RangeIndex: 17770 entries, 0 to 17769\n",
      "Data columns (total 4 columns):\n",
      " #   Column       Non-Null Count  Dtype \n",
      "---  ------       --------------  ----- \n",
      " 0   MovieId      17770 non-null  int64 \n",
      " 1   ReleaseYear  17763 non-null  object\n",
      " 2   MovieTitle   17770 non-null  string\n",
      " 3   index        17770 non-null  int64 \n",
      "dtypes: int64(2), object(1), string(1)\n",
      "memory usage: 555.4+ KB\n"
     ]
    }
   ],
   "source": [
    "movie_df['index'] = np.arange(1,movie_df.shape[0]+1) # \n",
    "movie_df.set_index('index',inplace=False)\n",
    "movie_df.info()\n"
   ]
  },
  {
   "cell_type": "code",
   "execution_count": 15,
   "metadata": {},
   "outputs": [
    {
     "name": "stdout",
     "output_type": "stream",
     "text": [
      "<class 'pandas.core.frame.DataFrame'>\n",
      "RangeIndex: 100480507 entries, 0 to 100480506\n",
      "Data columns (total 5 columns):\n",
      " #   Column   Dtype               \n",
      "---  ------   -----               \n",
      " 0   CustId   int64               \n",
      " 1   Rating   int64               \n",
      " 2   Date     date32[day][pyarrow]\n",
      " 3   MovieId  int64               \n",
      " 4   index    int64               \n",
      "dtypes: date32[day][pyarrow](1), int64(4)\n",
      "memory usage: 3.4 GB\n"
     ]
    }
   ],
   "source": [
    "user_rating_df['index'] = np.arange(1,user_rating_df.shape[0]+1)\n",
    "user_rating_df.set_index('index',inplace=False)\n",
    "user_rating_df.info()"
   ]
  },
  {
   "cell_type": "code",
   "execution_count": 16,
   "metadata": {},
   "outputs": [
    {
     "data": {
      "text/html": [
       "<div>\n",
       "<style scoped>\n",
       "    .dataframe tbody tr th:only-of-type {\n",
       "        vertical-align: middle;\n",
       "    }\n",
       "\n",
       "    .dataframe tbody tr th {\n",
       "        vertical-align: top;\n",
       "    }\n",
       "\n",
       "    .dataframe thead th {\n",
       "        text-align: right;\n",
       "    }\n",
       "</style>\n",
       "<table border=\"1\" class=\"dataframe\">\n",
       "  <thead>\n",
       "    <tr style=\"text-align: right;\">\n",
       "      <th></th>\n",
       "      <th>CustId</th>\n",
       "      <th>Rating</th>\n",
       "      <th>Date</th>\n",
       "      <th>MovieId</th>\n",
       "      <th>index</th>\n",
       "    </tr>\n",
       "  </thead>\n",
       "  <tbody>\n",
       "    <tr>\n",
       "      <th>0</th>\n",
       "      <td>1488844</td>\n",
       "      <td>3</td>\n",
       "      <td>2005-09-06</td>\n",
       "      <td>1</td>\n",
       "      <td>1</td>\n",
       "    </tr>\n",
       "    <tr>\n",
       "      <th>1</th>\n",
       "      <td>822109</td>\n",
       "      <td>5</td>\n",
       "      <td>2005-05-13</td>\n",
       "      <td>1</td>\n",
       "      <td>2</td>\n",
       "    </tr>\n",
       "    <tr>\n",
       "      <th>2</th>\n",
       "      <td>885013</td>\n",
       "      <td>4</td>\n",
       "      <td>2005-10-19</td>\n",
       "      <td>1</td>\n",
       "      <td>3</td>\n",
       "    </tr>\n",
       "    <tr>\n",
       "      <th>3</th>\n",
       "      <td>30878</td>\n",
       "      <td>4</td>\n",
       "      <td>2005-12-26</td>\n",
       "      <td>1</td>\n",
       "      <td>4</td>\n",
       "    </tr>\n",
       "    <tr>\n",
       "      <th>4</th>\n",
       "      <td>823519</td>\n",
       "      <td>3</td>\n",
       "      <td>2004-05-03</td>\n",
       "      <td>1</td>\n",
       "      <td>5</td>\n",
       "    </tr>\n",
       "  </tbody>\n",
       "</table>\n",
       "</div>"
      ],
      "text/plain": [
       "    CustId  Rating        Date  MovieId  index\n",
       "0  1488844       3  2005-09-06        1      1\n",
       "1   822109       5  2005-05-13        1      2\n",
       "2   885013       4  2005-10-19        1      3\n",
       "3    30878       4  2005-12-26        1      4\n",
       "4   823519       3  2004-05-03        1      5"
      ]
     },
     "execution_count": 16,
     "metadata": {},
     "output_type": "execute_result"
    }
   ],
   "source": [
    "user_rating_df.head()"
   ]
  },
  {
   "cell_type": "markdown",
   "metadata": {},
   "source": [
    "Checking for null values in datasets, as null in data set will not give us usefull information.And it might mislead the ML model"
   ]
  },
  {
   "cell_type": "code",
   "execution_count": 17,
   "metadata": {},
   "outputs": [
    {
     "data": {
      "text/plain": [
       "CustId     0\n",
       "Rating     0\n",
       "Date       0\n",
       "MovieId    0\n",
       "index      0\n",
       "dtype: int64"
      ]
     },
     "execution_count": 17,
     "metadata": {},
     "output_type": "execute_result"
    }
   ],
   "source": [
    "user_rating_df.isna().sum()"
   ]
  },
  {
   "cell_type": "code",
   "execution_count": 18,
   "metadata": {},
   "outputs": [
    {
     "data": {
      "text/plain": [
       "MovieId        0\n",
       "ReleaseYear    7\n",
       "MovieTitle     0\n",
       "index          0\n",
       "dtype: int64"
      ]
     },
     "execution_count": 18,
     "metadata": {},
     "output_type": "execute_result"
    }
   ],
   "source": [
    "movie_df.isna().sum()"
   ]
  },
  {
   "cell_type": "markdown",
   "metadata": {},
   "source": [
    "As our movie dataset column `ReleaseYear` have some null values and let's check it out and try to get rid of if condition allows else let's try to impute it"
   ]
  },
  {
   "cell_type": "code",
   "execution_count": 19,
   "metadata": {},
   "outputs": [
    {
     "data": {
      "text/html": [
       "<div>\n",
       "<style scoped>\n",
       "    .dataframe tbody tr th:only-of-type {\n",
       "        vertical-align: middle;\n",
       "    }\n",
       "\n",
       "    .dataframe tbody tr th {\n",
       "        vertical-align: top;\n",
       "    }\n",
       "\n",
       "    .dataframe thead th {\n",
       "        text-align: right;\n",
       "    }\n",
       "</style>\n",
       "<table border=\"1\" class=\"dataframe\">\n",
       "  <thead>\n",
       "    <tr style=\"text-align: right;\">\n",
       "      <th></th>\n",
       "      <th>MovieId</th>\n",
       "      <th>ReleaseYear</th>\n",
       "      <th>MovieTitle</th>\n",
       "      <th>index</th>\n",
       "    </tr>\n",
       "  </thead>\n",
       "  <tbody>\n",
       "    <tr>\n",
       "      <th>0</th>\n",
       "      <td>1</td>\n",
       "      <td>2003</td>\n",
       "      <td>Dinosaur Planet</td>\n",
       "      <td>1</td>\n",
       "    </tr>\n",
       "    <tr>\n",
       "      <th>1</th>\n",
       "      <td>2</td>\n",
       "      <td>2004</td>\n",
       "      <td>Isle of Man TT 2004 Review</td>\n",
       "      <td>2</td>\n",
       "    </tr>\n",
       "    <tr>\n",
       "      <th>2</th>\n",
       "      <td>3</td>\n",
       "      <td>1997</td>\n",
       "      <td>Character</td>\n",
       "      <td>3</td>\n",
       "    </tr>\n",
       "    <tr>\n",
       "      <th>3</th>\n",
       "      <td>4</td>\n",
       "      <td>1994</td>\n",
       "      <td>Paula Abdul's Get Up &amp; Dance</td>\n",
       "      <td>4</td>\n",
       "    </tr>\n",
       "    <tr>\n",
       "      <th>4</th>\n",
       "      <td>5</td>\n",
       "      <td>2004</td>\n",
       "      <td>The Rise and Fall of ECW</td>\n",
       "      <td>5</td>\n",
       "    </tr>\n",
       "  </tbody>\n",
       "</table>\n",
       "</div>"
      ],
      "text/plain": [
       "   MovieId ReleaseYear                    MovieTitle  index\n",
       "0        1        2003               Dinosaur Planet      1\n",
       "1        2        2004    Isle of Man TT 2004 Review      2\n",
       "2        3        1997                     Character      3\n",
       "3        4        1994  Paula Abdul's Get Up & Dance      4\n",
       "4        5        2004      The Rise and Fall of ECW      5"
      ]
     },
     "execution_count": 19,
     "metadata": {},
     "output_type": "execute_result"
    }
   ],
   "source": [
    "movie_df.head()"
   ]
  },
  {
   "cell_type": "code",
   "execution_count": null,
   "metadata": {},
   "outputs": [],
   "source": []
  },
  {
   "cell_type": "code",
   "execution_count": 20,
   "metadata": {},
   "outputs": [
    {
     "data": {
      "text/html": [
       "<div>\n",
       "<style scoped>\n",
       "    .dataframe tbody tr th:only-of-type {\n",
       "        vertical-align: middle;\n",
       "    }\n",
       "\n",
       "    .dataframe tbody tr th {\n",
       "        vertical-align: top;\n",
       "    }\n",
       "\n",
       "    .dataframe thead th {\n",
       "        text-align: right;\n",
       "    }\n",
       "</style>\n",
       "<table border=\"1\" class=\"dataframe\">\n",
       "  <thead>\n",
       "    <tr style=\"text-align: right;\">\n",
       "      <th></th>\n",
       "      <th>MovieId</th>\n",
       "      <th>ReleaseYear</th>\n",
       "      <th>MovieTitle</th>\n",
       "      <th>index</th>\n",
       "    </tr>\n",
       "  </thead>\n",
       "  <tbody>\n",
       "    <tr>\n",
       "      <th>4387</th>\n",
       "      <td>4388</td>\n",
       "      <td>&lt;NA&gt;</td>\n",
       "      <td>Ancient Civilizations: Rome and Pompeii</td>\n",
       "      <td>4388</td>\n",
       "    </tr>\n",
       "    <tr>\n",
       "      <th>4793</th>\n",
       "      <td>4794</td>\n",
       "      <td>&lt;NA&gt;</td>\n",
       "      <td>Ancient Civilizations: Land of the Pharaohs</td>\n",
       "      <td>4794</td>\n",
       "    </tr>\n",
       "    <tr>\n",
       "      <th>7240</th>\n",
       "      <td>7241</td>\n",
       "      <td>&lt;NA&gt;</td>\n",
       "      <td>Ancient Civilizations: Athens and Greece</td>\n",
       "      <td>7241</td>\n",
       "    </tr>\n",
       "    <tr>\n",
       "      <th>10781</th>\n",
       "      <td>10782</td>\n",
       "      <td>&lt;NA&gt;</td>\n",
       "      <td>Roti Kapada Aur Makaan</td>\n",
       "      <td>10782</td>\n",
       "    </tr>\n",
       "    <tr>\n",
       "      <th>15917</th>\n",
       "      <td>15918</td>\n",
       "      <td>&lt;NA&gt;</td>\n",
       "      <td>Hote Hote Pyaar Ho Gaya</td>\n",
       "      <td>15918</td>\n",
       "    </tr>\n",
       "    <tr>\n",
       "      <th>16677</th>\n",
       "      <td>16678</td>\n",
       "      <td>&lt;NA&gt;</td>\n",
       "      <td>Jimmy Hollywood</td>\n",
       "      <td>16678</td>\n",
       "    </tr>\n",
       "    <tr>\n",
       "      <th>17666</th>\n",
       "      <td>17667</td>\n",
       "      <td>&lt;NA&gt;</td>\n",
       "      <td>Eros Dance Dhamaka</td>\n",
       "      <td>17667</td>\n",
       "    </tr>\n",
       "  </tbody>\n",
       "</table>\n",
       "</div>"
      ],
      "text/plain": [
       "       MovieId ReleaseYear                                   MovieTitle  index\n",
       "4387      4388        <NA>      Ancient Civilizations: Rome and Pompeii   4388\n",
       "4793      4794        <NA>  Ancient Civilizations: Land of the Pharaohs   4794\n",
       "7240      7241        <NA>     Ancient Civilizations: Athens and Greece   7241\n",
       "10781    10782        <NA>                       Roti Kapada Aur Makaan  10782\n",
       "15917    15918        <NA>                      Hote Hote Pyaar Ho Gaya  15918\n",
       "16677    16678        <NA>                              Jimmy Hollywood  16678\n",
       "17666    17667        <NA>                           Eros Dance Dhamaka  17667"
      ]
     },
     "execution_count": 20,
     "metadata": {},
     "output_type": "execute_result"
    }
   ],
   "source": [
    "movie_df[movie_df['ReleaseYear'].isna()]"
   ]
  },
  {
   "cell_type": "code",
   "execution_count": 21,
   "metadata": {},
   "outputs": [
    {
     "data": {
      "text/html": [
       "<div>\n",
       "<style scoped>\n",
       "    .dataframe tbody tr th:only-of-type {\n",
       "        vertical-align: middle;\n",
       "    }\n",
       "\n",
       "    .dataframe tbody tr th {\n",
       "        vertical-align: top;\n",
       "    }\n",
       "\n",
       "    .dataframe thead th {\n",
       "        text-align: right;\n",
       "    }\n",
       "</style>\n",
       "<table border=\"1\" class=\"dataframe\">\n",
       "  <thead>\n",
       "    <tr style=\"text-align: right;\">\n",
       "      <th></th>\n",
       "      <th>MovieId</th>\n",
       "      <th>ReleaseYear</th>\n",
       "      <th>MovieTitle</th>\n",
       "      <th>index</th>\n",
       "    </tr>\n",
       "  </thead>\n",
       "  <tbody>\n",
       "    <tr>\n",
       "      <th>4387</th>\n",
       "      <td>4388</td>\n",
       "      <td>&lt;NA&gt;</td>\n",
       "      <td>Ancient Civilizations: Rome and Pompeii</td>\n",
       "      <td>4388</td>\n",
       "    </tr>\n",
       "    <tr>\n",
       "      <th>4793</th>\n",
       "      <td>4794</td>\n",
       "      <td>&lt;NA&gt;</td>\n",
       "      <td>Ancient Civilizations: Land of the Pharaohs</td>\n",
       "      <td>4794</td>\n",
       "    </tr>\n",
       "    <tr>\n",
       "      <th>7240</th>\n",
       "      <td>7241</td>\n",
       "      <td>&lt;NA&gt;</td>\n",
       "      <td>Ancient Civilizations: Athens and Greece</td>\n",
       "      <td>7241</td>\n",
       "    </tr>\n",
       "    <tr>\n",
       "      <th>10781</th>\n",
       "      <td>10782</td>\n",
       "      <td>&lt;NA&gt;</td>\n",
       "      <td>Roti Kapada Aur Makaan</td>\n",
       "      <td>10782</td>\n",
       "    </tr>\n",
       "    <tr>\n",
       "      <th>15917</th>\n",
       "      <td>15918</td>\n",
       "      <td>&lt;NA&gt;</td>\n",
       "      <td>Hote Hote Pyaar Ho Gaya</td>\n",
       "      <td>15918</td>\n",
       "    </tr>\n",
       "    <tr>\n",
       "      <th>16677</th>\n",
       "      <td>16678</td>\n",
       "      <td>&lt;NA&gt;</td>\n",
       "      <td>Jimmy Hollywood</td>\n",
       "      <td>16678</td>\n",
       "    </tr>\n",
       "    <tr>\n",
       "      <th>17666</th>\n",
       "      <td>17667</td>\n",
       "      <td>&lt;NA&gt;</td>\n",
       "      <td>Eros Dance Dhamaka</td>\n",
       "      <td>17667</td>\n",
       "    </tr>\n",
       "  </tbody>\n",
       "</table>\n",
       "</div>"
      ],
      "text/plain": [
       "       MovieId ReleaseYear                                   MovieTitle  index\n",
       "4387      4388        <NA>      Ancient Civilizations: Rome and Pompeii   4388\n",
       "4793      4794        <NA>  Ancient Civilizations: Land of the Pharaohs   4794\n",
       "7240      7241        <NA>     Ancient Civilizations: Athens and Greece   7241\n",
       "10781    10782        <NA>                       Roti Kapada Aur Makaan  10782\n",
       "15917    15918        <NA>                      Hote Hote Pyaar Ho Gaya  15918\n",
       "16677    16678        <NA>                              Jimmy Hollywood  16678\n",
       "17666    17667        <NA>                           Eros Dance Dhamaka  17667"
      ]
     },
     "execution_count": 21,
     "metadata": {},
     "output_type": "execute_result"
    }
   ],
   "source": [
    "movie_df[movie_df['ReleaseYear'].isna()]"
   ]
  },
  {
   "cell_type": "markdown",
   "metadata": {},
   "source": [
    "I assume these are the authentic movies, so we can search it on internet for their release year."
   ]
  },
  {
   "cell_type": "code",
   "execution_count": 22,
   "metadata": {},
   "outputs": [],
   "source": [
    "\"\"\"we will inpute the date on the basis of movie titile , so let's first strip the movietitle as it might contains extra space\"\"\"\n",
    "movie_df['MovieTitle'] = movie_df['MovieTitle'].str.strip()"
   ]
  },
  {
   "cell_type": "code",
   "execution_count": 23,
   "metadata": {},
   "outputs": [
    {
     "data": {
      "text/plain": [
       "MovieId        0\n",
       "ReleaseYear    1\n",
       "MovieTitle     0\n",
       "index          0\n",
       "dtype: int64"
      ]
     },
     "execution_count": 23,
     "metadata": {},
     "output_type": "execute_result"
    }
   ],
   "source": [
    "movie_year_map = {'Ancient Civilizations: Rome and Pompeii':int(2001),'Ancient Civilizations: Land of the Pharaohs':int(1995),'Ancient Civilizations: Athens and Greece':int(2010),'Roti Kapada Aur Makaan':1974, 'Hote Hote Pyaar Ho Gaya':1999,'Jimmy Hollywood':int(1994)}\n",
    "\n",
    "# let's impute the year\n",
    "for movie in movie_year_map:\n",
    "    movie_df['ReleaseYear'][movie_df['MovieTitle'] == str(movie)] = movie_year_map[movie]\n",
    "movie_df.isna().sum()"
   ]
  },
  {
   "cell_type": "code",
   "execution_count": 24,
   "metadata": {},
   "outputs": [
    {
     "data": {
      "text/html": [
       "<div>\n",
       "<style scoped>\n",
       "    .dataframe tbody tr th:only-of-type {\n",
       "        vertical-align: middle;\n",
       "    }\n",
       "\n",
       "    .dataframe tbody tr th {\n",
       "        vertical-align: top;\n",
       "    }\n",
       "\n",
       "    .dataframe thead th {\n",
       "        text-align: right;\n",
       "    }\n",
       "</style>\n",
       "<table border=\"1\" class=\"dataframe\">\n",
       "  <thead>\n",
       "    <tr style=\"text-align: right;\">\n",
       "      <th></th>\n",
       "      <th>MovieId</th>\n",
       "      <th>ReleaseYear</th>\n",
       "      <th>MovieTitle</th>\n",
       "      <th>index</th>\n",
       "    </tr>\n",
       "  </thead>\n",
       "  <tbody>\n",
       "    <tr>\n",
       "      <th>17666</th>\n",
       "      <td>17667</td>\n",
       "      <td>&lt;NA&gt;</td>\n",
       "      <td>Eros Dance Dhamaka</td>\n",
       "      <td>17667</td>\n",
       "    </tr>\n",
       "  </tbody>\n",
       "</table>\n",
       "</div>"
      ],
      "text/plain": [
       "       MovieId ReleaseYear          MovieTitle  index\n",
       "17666    17667        <NA>  Eros Dance Dhamaka  17667"
      ]
     },
     "execution_count": 24,
     "metadata": {},
     "output_type": "execute_result"
    }
   ],
   "source": [
    "movie_df[movie_df['ReleaseYear'].isna()]"
   ]
  },
  {
   "cell_type": "code",
   "execution_count": 25,
   "metadata": {},
   "outputs": [
    {
     "data": {
      "text/plain": [
       "0.01"
      ]
     },
     "execution_count": 25,
     "metadata": {},
     "output_type": "execute_result"
    }
   ],
   "source": [
    "weight_of_na_value = round((movie_df['ReleaseYear'].isna().sum().sum()/movie_df.shape[0]) * 100,2)\n",
    "weight_of_na_value"
   ]
  },
  {
   "cell_type": "code",
   "execution_count": 26,
   "metadata": {},
   "outputs": [
    {
     "data": {
      "text/plain": [
       "1"
      ]
     },
     "execution_count": 26,
     "metadata": {},
     "output_type": "execute_result"
    }
   ],
   "source": [
    "movie_df['ReleaseYear'].isna().sum().sum()"
   ]
  },
  {
   "cell_type": "markdown",
   "metadata": {},
   "source": [
    "As we search over the internet and found out that Movie title `Eros Dance Dhamaka` is not a movie and there is no relase date.\n",
    "Also it contains only `0.01 %` of weightage.So we can safely drop it."
   ]
  },
  {
   "cell_type": "code",
   "execution_count": 27,
   "metadata": {},
   "outputs": [
    {
     "data": {
      "text/plain": [
       "MovieId        0\n",
       "ReleaseYear    0\n",
       "MovieTitle     0\n",
       "index          0\n",
       "dtype: int64"
      ]
     },
     "execution_count": 27,
     "metadata": {},
     "output_type": "execute_result"
    }
   ],
   "source": [
    "movie_df.dropna(inplace=True)\n",
    "movie_df.isna().sum()"
   ]
  },
  {
   "cell_type": "markdown",
   "metadata": {},
   "source": [
    "#### Merging both the datasets"
   ]
  },
  {
   "cell_type": "code",
   "execution_count": 28,
   "metadata": {},
   "outputs": [
    {
     "data": {
      "text/html": [
       "<div>\n",
       "<style scoped>\n",
       "    .dataframe tbody tr th:only-of-type {\n",
       "        vertical-align: middle;\n",
       "    }\n",
       "\n",
       "    .dataframe tbody tr th {\n",
       "        vertical-align: top;\n",
       "    }\n",
       "\n",
       "    .dataframe thead th {\n",
       "        text-align: right;\n",
       "    }\n",
       "</style>\n",
       "<table border=\"1\" class=\"dataframe\">\n",
       "  <thead>\n",
       "    <tr style=\"text-align: right;\">\n",
       "      <th></th>\n",
       "      <th>CustId</th>\n",
       "      <th>Rating</th>\n",
       "      <th>Date</th>\n",
       "      <th>MovieId</th>\n",
       "    </tr>\n",
       "  </thead>\n",
       "  <tbody>\n",
       "    <tr>\n",
       "      <th>0</th>\n",
       "      <td>1488844</td>\n",
       "      <td>3</td>\n",
       "      <td>2005-09-06</td>\n",
       "      <td>1</td>\n",
       "    </tr>\n",
       "    <tr>\n",
       "      <th>1</th>\n",
       "      <td>822109</td>\n",
       "      <td>5</td>\n",
       "      <td>2005-05-13</td>\n",
       "      <td>1</td>\n",
       "    </tr>\n",
       "    <tr>\n",
       "      <th>2</th>\n",
       "      <td>885013</td>\n",
       "      <td>4</td>\n",
       "      <td>2005-10-19</td>\n",
       "      <td>1</td>\n",
       "    </tr>\n",
       "    <tr>\n",
       "      <th>3</th>\n",
       "      <td>30878</td>\n",
       "      <td>4</td>\n",
       "      <td>2005-12-26</td>\n",
       "      <td>1</td>\n",
       "    </tr>\n",
       "    <tr>\n",
       "      <th>4</th>\n",
       "      <td>823519</td>\n",
       "      <td>3</td>\n",
       "      <td>2004-05-03</td>\n",
       "      <td>1</td>\n",
       "    </tr>\n",
       "  </tbody>\n",
       "</table>\n",
       "</div>"
      ],
      "text/plain": [
       "    CustId  Rating        Date  MovieId\n",
       "0  1488844       3  2005-09-06        1\n",
       "1   822109       5  2005-05-13        1\n",
       "2   885013       4  2005-10-19        1\n",
       "3    30878       4  2005-12-26        1\n",
       "4   823519       3  2004-05-03        1"
      ]
     },
     "execution_count": 28,
     "metadata": {},
     "output_type": "execute_result"
    }
   ],
   "source": [
    "user_rating_df.drop(columns=['index'],inplace=True)\n",
    "user_rating_df.head()"
   ]
  },
  {
   "cell_type": "code",
   "execution_count": 29,
   "metadata": {},
   "outputs": [
    {
     "data": {
      "text/html": [
       "<div>\n",
       "<style scoped>\n",
       "    .dataframe tbody tr th:only-of-type {\n",
       "        vertical-align: middle;\n",
       "    }\n",
       "\n",
       "    .dataframe tbody tr th {\n",
       "        vertical-align: top;\n",
       "    }\n",
       "\n",
       "    .dataframe thead th {\n",
       "        text-align: right;\n",
       "    }\n",
       "</style>\n",
       "<table border=\"1\" class=\"dataframe\">\n",
       "  <thead>\n",
       "    <tr style=\"text-align: right;\">\n",
       "      <th></th>\n",
       "      <th>MovieId</th>\n",
       "      <th>ReleaseYear</th>\n",
       "      <th>MovieTitle</th>\n",
       "    </tr>\n",
       "  </thead>\n",
       "  <tbody>\n",
       "    <tr>\n",
       "      <th>0</th>\n",
       "      <td>1</td>\n",
       "      <td>2003</td>\n",
       "      <td>Dinosaur Planet</td>\n",
       "    </tr>\n",
       "    <tr>\n",
       "      <th>1</th>\n",
       "      <td>2</td>\n",
       "      <td>2004</td>\n",
       "      <td>Isle of Man TT 2004 Review</td>\n",
       "    </tr>\n",
       "    <tr>\n",
       "      <th>2</th>\n",
       "      <td>3</td>\n",
       "      <td>1997</td>\n",
       "      <td>Character</td>\n",
       "    </tr>\n",
       "    <tr>\n",
       "      <th>3</th>\n",
       "      <td>4</td>\n",
       "      <td>1994</td>\n",
       "      <td>Paula Abdul's Get Up &amp; Dance</td>\n",
       "    </tr>\n",
       "    <tr>\n",
       "      <th>4</th>\n",
       "      <td>5</td>\n",
       "      <td>2004</td>\n",
       "      <td>The Rise and Fall of ECW</td>\n",
       "    </tr>\n",
       "  </tbody>\n",
       "</table>\n",
       "</div>"
      ],
      "text/plain": [
       "   MovieId ReleaseYear                    MovieTitle\n",
       "0        1        2003               Dinosaur Planet\n",
       "1        2        2004    Isle of Man TT 2004 Review\n",
       "2        3        1997                     Character\n",
       "3        4        1994  Paula Abdul's Get Up & Dance\n",
       "4        5        2004      The Rise and Fall of ECW"
      ]
     },
     "execution_count": 29,
     "metadata": {},
     "output_type": "execute_result"
    }
   ],
   "source": [
    "movie_df.drop(columns=['index'],inplace=True)\n",
    "movie_df.head()"
   ]
  },
  {
   "cell_type": "code",
   "execution_count": 30,
   "metadata": {},
   "outputs": [
    {
     "data": {
      "text/plain": [
       "0"
      ]
     },
     "execution_count": 30,
     "metadata": {},
     "output_type": "execute_result"
    }
   ],
   "source": [
    "movie_df.duplicated().sum()"
   ]
  },
  {
   "cell_type": "code",
   "execution_count": 31,
   "metadata": {},
   "outputs": [
    {
     "data": {
      "text/plain": [
       "0"
      ]
     },
     "execution_count": 31,
     "metadata": {},
     "output_type": "execute_result"
    }
   ],
   "source": [
    "user_rating_df.duplicated().sum()"
   ]
  },
  {
   "cell_type": "code",
   "execution_count": 32,
   "metadata": {},
   "outputs": [
    {
     "name": "stdout",
     "output_type": "stream",
     "text": [
      "Movie df shape  (17769, 3) \n",
      "User Rating df shape :  (100480507, 4)\n"
     ]
    }
   ],
   "source": [
    "print(\"Movie df shape \",movie_df.shape, \"\\nUser Rating df shape : \",user_rating_df.shape)"
   ]
  },
  {
   "cell_type": "code",
   "execution_count": 33,
   "metadata": {},
   "outputs": [
    {
     "data": {
      "text/plain": [
       "Index(['CustId', 'Rating', 'Date', 'MovieId'], dtype='object')"
      ]
     },
     "execution_count": 33,
     "metadata": {},
     "output_type": "execute_result"
    }
   ],
   "source": [
    "user_rating_df.columns"
   ]
  },
  {
   "cell_type": "code",
   "execution_count": 34,
   "metadata": {},
   "outputs": [
    {
     "data": {
      "text/html": [
       "<div>\n",
       "<style scoped>\n",
       "    .dataframe tbody tr th:only-of-type {\n",
       "        vertical-align: middle;\n",
       "    }\n",
       "\n",
       "    .dataframe tbody tr th {\n",
       "        vertical-align: top;\n",
       "    }\n",
       "\n",
       "    .dataframe thead th {\n",
       "        text-align: right;\n",
       "    }\n",
       "</style>\n",
       "<table border=\"1\" class=\"dataframe\">\n",
       "  <thead>\n",
       "    <tr style=\"text-align: right;\">\n",
       "      <th></th>\n",
       "      <th>CustId</th>\n",
       "      <th>Rating</th>\n",
       "      <th>RatingDate</th>\n",
       "      <th>MovieId</th>\n",
       "      <th>RatingMonth</th>\n",
       "      <th>RatingYear</th>\n",
       "    </tr>\n",
       "  </thead>\n",
       "  <tbody>\n",
       "    <tr>\n",
       "      <th>0</th>\n",
       "      <td>1488844</td>\n",
       "      <td>3</td>\n",
       "      <td>2005-09-06</td>\n",
       "      <td>1</td>\n",
       "      <td>9</td>\n",
       "      <td>2005</td>\n",
       "    </tr>\n",
       "    <tr>\n",
       "      <th>1</th>\n",
       "      <td>822109</td>\n",
       "      <td>5</td>\n",
       "      <td>2005-05-13</td>\n",
       "      <td>1</td>\n",
       "      <td>5</td>\n",
       "      <td>2005</td>\n",
       "    </tr>\n",
       "    <tr>\n",
       "      <th>2</th>\n",
       "      <td>885013</td>\n",
       "      <td>4</td>\n",
       "      <td>2005-10-19</td>\n",
       "      <td>1</td>\n",
       "      <td>10</td>\n",
       "      <td>2005</td>\n",
       "    </tr>\n",
       "    <tr>\n",
       "      <th>3</th>\n",
       "      <td>30878</td>\n",
       "      <td>4</td>\n",
       "      <td>2005-12-26</td>\n",
       "      <td>1</td>\n",
       "      <td>12</td>\n",
       "      <td>2005</td>\n",
       "    </tr>\n",
       "    <tr>\n",
       "      <th>4</th>\n",
       "      <td>823519</td>\n",
       "      <td>3</td>\n",
       "      <td>2004-05-03</td>\n",
       "      <td>1</td>\n",
       "      <td>5</td>\n",
       "      <td>2004</td>\n",
       "    </tr>\n",
       "  </tbody>\n",
       "</table>\n",
       "</div>"
      ],
      "text/plain": [
       "    CustId  Rating  RatingDate  MovieId  RatingMonth  RatingYear\n",
       "0  1488844       3  2005-09-06        1            9        2005\n",
       "1   822109       5  2005-05-13        1            5        2005\n",
       "2   885013       4  2005-10-19        1           10        2005\n",
       "3    30878       4  2005-12-26        1           12        2005\n",
       "4   823519       3  2004-05-03        1            5        2004"
      ]
     },
     "execution_count": 34,
     "metadata": {},
     "output_type": "execute_result"
    }
   ],
   "source": [
    "user_rating_df.rename(columns={'Date':'RatingDate'},inplace=True)\n",
    "user_rating_df['RatingMonth'] = user_rating_df['RatingDate'].dt.month\n",
    "user_rating_df['RatingYear'] = user_rating_df['RatingDate'].dt.year\n",
    "user_rating_df.head()"
   ]
  },
  {
   "cell_type": "code",
   "execution_count": 43,
   "metadata": {},
   "outputs": [],
   "source": [
    "# Duming cleaned Datasets\n",
    "user_rating_df.to_csv('../../resources/Netflix_User_Ratings.csv',index=False)\n",
    "movie_df.to_csv('../../resources/netflix_movies.csv',index=False)"
   ]
  },
  {
   "cell_type": "code",
   "execution_count": 35,
   "metadata": {},
   "outputs": [],
   "source": [
    "user_rating_movie_df = pd.merge(user_rating_df,movie_df,how=\"inner\",left_on='MovieId',right_on='MovieId')"
   ]
  },
  {
   "cell_type": "code",
   "execution_count": 36,
   "metadata": {},
   "outputs": [
    {
     "name": "stdout",
     "output_type": "stream",
     "text": [
      "Merged dataset shape :  (100480391, 8)\n"
     ]
    }
   ],
   "source": [
    "print(\"Merged dataset shape : \",user_rating_movie_df.shape)"
   ]
  },
  {
   "cell_type": "code",
   "execution_count": 37,
   "metadata": {},
   "outputs": [
    {
     "name": "stdout",
     "output_type": "stream",
     "text": [
      "Lost rows data :  116\n"
     ]
    }
   ],
   "source": [
    "print(\"Lost rows data : \",user_rating_df.shape[0]-user_rating_movie_df.shape[0])"
   ]
  },
  {
   "cell_type": "code",
   "execution_count": 38,
   "metadata": {},
   "outputs": [
    {
     "data": {
      "text/html": [
       "<div>\n",
       "<style scoped>\n",
       "    .dataframe tbody tr th:only-of-type {\n",
       "        vertical-align: middle;\n",
       "    }\n",
       "\n",
       "    .dataframe tbody tr th {\n",
       "        vertical-align: top;\n",
       "    }\n",
       "\n",
       "    .dataframe thead th {\n",
       "        text-align: right;\n",
       "    }\n",
       "</style>\n",
       "<table border=\"1\" class=\"dataframe\">\n",
       "  <thead>\n",
       "    <tr style=\"text-align: right;\">\n",
       "      <th></th>\n",
       "      <th>CustId</th>\n",
       "      <th>Rating</th>\n",
       "      <th>RatingDate</th>\n",
       "      <th>MovieId</th>\n",
       "      <th>RatingMonth</th>\n",
       "      <th>RatingYear</th>\n",
       "      <th>ReleaseYear</th>\n",
       "      <th>MovieTitle</th>\n",
       "    </tr>\n",
       "  </thead>\n",
       "  <tbody>\n",
       "    <tr>\n",
       "      <th>0</th>\n",
       "      <td>1488844</td>\n",
       "      <td>3</td>\n",
       "      <td>2005-09-06</td>\n",
       "      <td>1</td>\n",
       "      <td>9</td>\n",
       "      <td>2005</td>\n",
       "      <td>2003</td>\n",
       "      <td>Dinosaur Planet</td>\n",
       "    </tr>\n",
       "    <tr>\n",
       "      <th>1</th>\n",
       "      <td>822109</td>\n",
       "      <td>5</td>\n",
       "      <td>2005-05-13</td>\n",
       "      <td>1</td>\n",
       "      <td>5</td>\n",
       "      <td>2005</td>\n",
       "      <td>2003</td>\n",
       "      <td>Dinosaur Planet</td>\n",
       "    </tr>\n",
       "    <tr>\n",
       "      <th>2</th>\n",
       "      <td>885013</td>\n",
       "      <td>4</td>\n",
       "      <td>2005-10-19</td>\n",
       "      <td>1</td>\n",
       "      <td>10</td>\n",
       "      <td>2005</td>\n",
       "      <td>2003</td>\n",
       "      <td>Dinosaur Planet</td>\n",
       "    </tr>\n",
       "    <tr>\n",
       "      <th>3</th>\n",
       "      <td>30878</td>\n",
       "      <td>4</td>\n",
       "      <td>2005-12-26</td>\n",
       "      <td>1</td>\n",
       "      <td>12</td>\n",
       "      <td>2005</td>\n",
       "      <td>2003</td>\n",
       "      <td>Dinosaur Planet</td>\n",
       "    </tr>\n",
       "    <tr>\n",
       "      <th>4</th>\n",
       "      <td>823519</td>\n",
       "      <td>3</td>\n",
       "      <td>2004-05-03</td>\n",
       "      <td>1</td>\n",
       "      <td>5</td>\n",
       "      <td>2004</td>\n",
       "      <td>2003</td>\n",
       "      <td>Dinosaur Planet</td>\n",
       "    </tr>\n",
       "  </tbody>\n",
       "</table>\n",
       "</div>"
      ],
      "text/plain": [
       "    CustId  Rating  RatingDate  MovieId  RatingMonth  RatingYear ReleaseYear  \\\n",
       "0  1488844       3  2005-09-06        1            9        2005        2003   \n",
       "1   822109       5  2005-05-13        1            5        2005        2003   \n",
       "2   885013       4  2005-10-19        1           10        2005        2003   \n",
       "3    30878       4  2005-12-26        1           12        2005        2003   \n",
       "4   823519       3  2004-05-03        1            5        2004        2003   \n",
       "\n",
       "        MovieTitle  \n",
       "0  Dinosaur Planet  \n",
       "1  Dinosaur Planet  \n",
       "2  Dinosaur Planet  \n",
       "3  Dinosaur Planet  \n",
       "4  Dinosaur Planet  "
      ]
     },
     "execution_count": 38,
     "metadata": {},
     "output_type": "execute_result"
    }
   ],
   "source": [
    "user_rating_movie_df.head()"
   ]
  },
  {
   "cell_type": "code",
   "execution_count": 39,
   "metadata": {},
   "outputs": [
    {
     "data": {
      "text/html": [
       "<div>\n",
       "<style scoped>\n",
       "    .dataframe tbody tr th:only-of-type {\n",
       "        vertical-align: middle;\n",
       "    }\n",
       "\n",
       "    .dataframe tbody tr th {\n",
       "        vertical-align: top;\n",
       "    }\n",
       "\n",
       "    .dataframe thead th {\n",
       "        text-align: right;\n",
       "    }\n",
       "</style>\n",
       "<table border=\"1\" class=\"dataframe\">\n",
       "  <thead>\n",
       "    <tr style=\"text-align: right;\">\n",
       "      <th></th>\n",
       "      <th>CustId</th>\n",
       "      <th>Rating</th>\n",
       "      <th>RatingDate</th>\n",
       "      <th>MovieId</th>\n",
       "      <th>RatingMonth</th>\n",
       "      <th>RatingYear</th>\n",
       "      <th>ReleaseYear</th>\n",
       "      <th>MovieTitle</th>\n",
       "    </tr>\n",
       "  </thead>\n",
       "  <tbody>\n",
       "    <tr>\n",
       "      <th>11775512</th>\n",
       "      <td>6</td>\n",
       "      <td>4</td>\n",
       "      <td>2005-04-20</td>\n",
       "      <td>2252</td>\n",
       "      <td>4</td>\n",
       "      <td>2005</td>\n",
       "      <td>1992</td>\n",
       "      <td>Bram Stoker's Dracula</td>\n",
       "    </tr>\n",
       "    <tr>\n",
       "      <th>99346159</th>\n",
       "      <td>6</td>\n",
       "      <td>3</td>\n",
       "      <td>2005-11-25</td>\n",
       "      <td>17525</td>\n",
       "      <td>11</td>\n",
       "      <td>2005</td>\n",
       "      <td>1957</td>\n",
       "      <td>The Enemy Below</td>\n",
       "    </tr>\n",
       "    <tr>\n",
       "      <th>65642591</th>\n",
       "      <td>6</td>\n",
       "      <td>4</td>\n",
       "      <td>2004-09-27</td>\n",
       "      <td>12034</td>\n",
       "      <td>9</td>\n",
       "      <td>2004</td>\n",
       "      <td>1980</td>\n",
       "      <td>The Shining</td>\n",
       "    </tr>\n",
       "    <tr>\n",
       "      <th>57693805</th>\n",
       "      <td>6</td>\n",
       "      <td>3</td>\n",
       "      <td>2005-01-12</td>\n",
       "      <td>10554</td>\n",
       "      <td>1</td>\n",
       "      <td>2005</td>\n",
       "      <td>1959</td>\n",
       "      <td>The Diary of Anne Frank</td>\n",
       "    </tr>\n",
       "    <tr>\n",
       "      <th>63517351</th>\n",
       "      <td>6</td>\n",
       "      <td>3</td>\n",
       "      <td>2004-09-15</td>\n",
       "      <td>11573</td>\n",
       "      <td>9</td>\n",
       "      <td>2004</td>\n",
       "      <td>1963</td>\n",
       "      <td>The Great Escape</td>\n",
       "    </tr>\n",
       "  </tbody>\n",
       "</table>\n",
       "</div>"
      ],
      "text/plain": [
       "          CustId  Rating  RatingDate  MovieId  RatingMonth  RatingYear  \\\n",
       "11775512       6       4  2005-04-20     2252            4        2005   \n",
       "99346159       6       3  2005-11-25    17525           11        2005   \n",
       "65642591       6       4  2004-09-27    12034            9        2004   \n",
       "57693805       6       3  2005-01-12    10554            1        2005   \n",
       "63517351       6       3  2004-09-15    11573            9        2004   \n",
       "\n",
       "         ReleaseYear               MovieTitle  \n",
       "11775512        1992    Bram Stoker's Dracula  \n",
       "99346159        1957          The Enemy Below  \n",
       "65642591        1980              The Shining  \n",
       "57693805        1959  The Diary of Anne Frank  \n",
       "63517351        1963         The Great Escape  "
      ]
     },
     "execution_count": 39,
     "metadata": {},
     "output_type": "execute_result"
    }
   ],
   "source": [
    "user_rating_movie_df.sort_values(by='CustId',ascending=True,inplace=True)\n",
    "user_rating_movie_df.head()"
   ]
  },
  {
   "cell_type": "code",
   "execution_count": null,
   "metadata": {},
   "outputs": [],
   "source": [
    "# dumping merged , cleaned Dataset\n",
    "# user_rating_movie_df.to_csv('../../resources/user_rating_movie.csv',index=False)"
   ]
  },
  {
   "cell_type": "code",
   "execution_count": 41,
   "metadata": {},
   "outputs": [],
   "source": [
    "# 100 mb dataset\n",
    "sample = user_rating_movie_df.sample(frac=0.017,random_state=40)\n",
    "sample.to_csv(\"sample_100mb.csv\",index=False)"
   ]
  },
  {
   "cell_type": "markdown",
   "metadata": {},
   "source": [
    "### As Our both the data is cleaned and in desired fomat. Now we can proceed with our data analysis and can find insight into the dataset."
   ]
  }
 ],
 "metadata": {
  "kernelspec": {
   "display_name": "new_env",
   "language": "python",
   "name": "python3"
  },
  "language_info": {
   "codemirror_mode": {
    "name": "ipython",
    "version": 3
   },
   "file_extension": ".py",
   "mimetype": "text/x-python",
   "name": "python",
   "nbconvert_exporter": "python",
   "pygments_lexer": "ipython3",
   "version": "3.11.6"
  }
 },
 "nbformat": 4,
 "nbformat_minor": 2
}
