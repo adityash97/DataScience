{
 "cells": [
  {
   "cell_type": "markdown",
   "metadata": {
    "vscode": {
     "languageId": "plaintext"
    }
   },
   "source": [
    "### Query to Analysis\n",
    "\n",
    "#### User Behavior Analysis\n",
    "1. **What are the most common rating patterns?**\n",
    "   - Distribution of ratings (e.g., % of 1-star, 2-star, etc.).\n",
    "   - Are users generally lenient (high average ratings) or strict?\n",
    "\n",
    "2. **Which customers are the most active?**\n",
    "   - Identify top users based on the number of ratings given.\n",
    "\n",
    "3. **Are there patterns in user activity over time?**\n",
    "   - Time-series analysis of ratings: Are there seasonal trends in rating activity?\n",
    "   - Do users rate more movies during certain months or years?\n",
    "\n",
    "4. **What are the average ratings by users?**\n",
    "   - Identify users with extreme behavior (always high ratings or always low ratings).\n",
    "\n",
    "---\n",
    "\n",
    "#### Movie Popularity and Trends\n",
    "5. **Which movies are the most rated?**\n",
    "   - Find the movies with the highest number of ratings.\n",
    "\n",
    "6. **What is the average rating of movies?**\n",
    "   - Identify the highest-rated and lowest-rated movies on average.\n",
    "\n",
    "7. **Are there trends in ratings over time for specific movies?**\n",
    "   - For popular movies, analyze how ratings change over time.\n",
    "\n",
    "8. **Does the year of release influence ratings?**\n",
    "   - Are older or newer movies rated more favorably?\n",
    "\n",
    "---\n",
    "\n",
    "#### Correlation and Distribution\n",
    "9. **What is the correlation between the number of ratings a movie receives and its average rating?**\n",
    "   - Do more popular movies tend to have higher or lower ratings?\n",
    "\n",
    "10. **How do ratings vary across different years of movie release?**\n",
    "    - Distribution of ratings for movies by decade or year.\n",
    "\n",
    "---\n",
    "\n",
    "#### Personalized Recommendations\n",
    "11. **Which genres or types of movies do specific users prefer?**\n",
    "    - Cluster users based on their rating history and infer preferences.\n",
    "\n",
    "12. **Can we predict user ratings for a movie?**\n",
    "    - Build a predictive model to estimate how a user might rate a movie they haven’t seen.\n",
    "\n",
    "---\n",
    "\n",
    "#### Temporal Insights\n",
    "13. **How do rating trends evolve over time?**\n",
    "    - Are there periods when users tend to give higher or lower ratings?\n",
    "    - Identify any significant shifts in rating behavior (e.g., during holidays).\n",
    "\n",
    "14. **Are there specific years or months when certain types of movies receive better ratings?**\n",
    "    - E.g., holiday-themed movies around December.\n",
    "\n",
    "---\n",
    "\n",
    "#### Anomalies and Outliers\n",
    "15. **Are there users or movies with unusual patterns?**\n",
    "    - Users who rate all movies the same or movies that receive a disproportionate number of extreme ratings.\n",
    "\n",
    "16. **What are the least-rated movies?**\n",
    "    - Identify movies with the lowest number of ratings and explore why.\n",
    "\n",
    "---\n",
    "\n",
    "#### Cross-Dataset Insights\n",
    "17. **Which movies have the highest rating variance?**\n",
    "    - Movies with polarized opinions (some love, some hate).\n",
    "\n",
    "18. **Are there trends in ratings by movie release year?**\n",
    "    - Compare older classic movies with newer ones.\n",
    "\n",
    "19. **What percentage of users rate movies from every decade?**\n",
    "    - Explore user engagement with movies across time periods.\n",
    "\n",
    "20. **What is the relationship between a movie’s release year and the number of ratings it receives?**\n",
    "    - Do newer movies get rated more frequently?"
   ]
  },
  {
   "cell_type": "code",
   "execution_count": 3,
   "metadata": {},
   "outputs": [],
   "source": [
    "import pandas as pd\n",
    "import numpy as np\n",
    "import matplotlib.pyplot as plt\n"
   ]
  },
  {
   "cell_type": "code",
   "execution_count": 36,
   "metadata": {},
   "outputs": [],
   "source": [
    "movie_df = pd.read_csv(\"../../resources/netflix_movies.csv\")\n",
    "user_rating_df = pd.read_csv(\"../../resources/Netflix_User_Ratings.csv\")"
   ]
  },
  {
   "cell_type": "code",
   "execution_count": 37,
   "metadata": {},
   "outputs": [
    {
     "name": "stdout",
     "output_type": "stream",
     "text": [
      "<class 'pandas.core.frame.DataFrame'>\n",
      "RangeIndex: 17770 entries, 0 to 17769\n",
      "Data columns (total 3 columns):\n",
      " #   Column       Non-Null Count  Dtype  \n",
      "---  ------       --------------  -----  \n",
      " 0   MovieId      17770 non-null  int64  \n",
      " 1   ReleaseYear  17763 non-null  float64\n",
      " 2   MovieTitle   17770 non-null  object \n",
      "dtypes: float64(1), int64(1), object(1)\n",
      "memory usage: 416.6+ KB\n"
     ]
    }
   ],
   "source": [
    "movie_df.info()"
   ]
  },
  {
   "cell_type": "markdown",
   "metadata": {},
   "source": [
    "<p>Checking info of both the df , to get little information about the data we have and their type.</p>\n",
    "<p>Having proper type of data will help us to work on it better</p>"
   ]
  },
  {
   "cell_type": "code",
   "execution_count": 38,
   "metadata": {},
   "outputs": [
    {
     "name": "stdout",
     "output_type": "stream",
     "text": [
      "<class 'pandas.core.frame.DataFrame'>\n",
      "RangeIndex: 100480507 entries, 0 to 100480506\n",
      "Data columns (total 4 columns):\n",
      " #   Column   Dtype \n",
      "---  ------   ----- \n",
      " 0   CustId   int64 \n",
      " 1   Rating   int64 \n",
      " 2   Date     object\n",
      " 3   MovieId  int64 \n",
      "dtypes: int64(3), object(1)\n",
      "memory usage: 3.0+ GB\n"
     ]
    }
   ],
   "source": [
    "user_rating_df.info()"
   ]
  },
  {
   "cell_type": "markdown",
   "metadata": {},
   "source": [
    "As the Date has 'object' datatype , we have to convert it into date type."
   ]
  },
  {
   "cell_type": "code",
   "execution_count": 39,
   "metadata": {},
   "outputs": [
    {
     "name": "stdout",
     "output_type": "stream",
     "text": [
      "<class 'pandas.core.frame.DataFrame'>\n",
      "RangeIndex: 100480507 entries, 0 to 100480506\n",
      "Data columns (total 4 columns):\n",
      " #   Column   Dtype               \n",
      "---  ------   -----               \n",
      " 0   CustId   int64               \n",
      " 1   Rating   int64               \n",
      " 2   Date     date32[day][pyarrow]\n",
      " 3   MovieId  int64               \n",
      "dtypes: date32[day][pyarrow](1), int64(3)\n",
      "memory usage: 2.6 GB\n"
     ]
    }
   ],
   "source": [
    "user_rating_df['Date'] = user_rating_df['Date'].astype('date32[pyarrow]')\n",
    "user_rating_df.info()"
   ]
  },
  {
   "cell_type": "code",
   "execution_count": 48,
   "metadata": {},
   "outputs": [],
   "source": [
    "#setting up index \n",
    "user_rating_df['index'] = np.arange(1,user_rating_df.shape[0]+1)"
   ]
  },
  {
   "cell_type": "code",
   "execution_count": 49,
   "metadata": {},
   "outputs": [
    {
     "data": {
      "text/html": [
       "<div>\n",
       "<style scoped>\n",
       "    .dataframe tbody tr th:only-of-type {\n",
       "        vertical-align: middle;\n",
       "    }\n",
       "\n",
       "    .dataframe tbody tr th {\n",
       "        vertical-align: top;\n",
       "    }\n",
       "\n",
       "    .dataframe thead th {\n",
       "        text-align: right;\n",
       "    }\n",
       "</style>\n",
       "<table border=\"1\" class=\"dataframe\">\n",
       "  <thead>\n",
       "    <tr style=\"text-align: right;\">\n",
       "      <th></th>\n",
       "      <th>CustId</th>\n",
       "      <th>Rating</th>\n",
       "      <th>Date</th>\n",
       "      <th>MovieId</th>\n",
       "    </tr>\n",
       "    <tr>\n",
       "      <th>index</th>\n",
       "      <th></th>\n",
       "      <th></th>\n",
       "      <th></th>\n",
       "      <th></th>\n",
       "    </tr>\n",
       "  </thead>\n",
       "  <tbody>\n",
       "    <tr>\n",
       "      <th>1</th>\n",
       "      <td>1488844</td>\n",
       "      <td>3</td>\n",
       "      <td>2005-09-06</td>\n",
       "      <td>1</td>\n",
       "    </tr>\n",
       "    <tr>\n",
       "      <th>2</th>\n",
       "      <td>822109</td>\n",
       "      <td>5</td>\n",
       "      <td>2005-05-13</td>\n",
       "      <td>1</td>\n",
       "    </tr>\n",
       "    <tr>\n",
       "      <th>3</th>\n",
       "      <td>885013</td>\n",
       "      <td>4</td>\n",
       "      <td>2005-10-19</td>\n",
       "      <td>1</td>\n",
       "    </tr>\n",
       "    <tr>\n",
       "      <th>4</th>\n",
       "      <td>30878</td>\n",
       "      <td>4</td>\n",
       "      <td>2005-12-26</td>\n",
       "      <td>1</td>\n",
       "    </tr>\n",
       "    <tr>\n",
       "      <th>5</th>\n",
       "      <td>823519</td>\n",
       "      <td>3</td>\n",
       "      <td>2004-05-03</td>\n",
       "      <td>1</td>\n",
       "    </tr>\n",
       "    <tr>\n",
       "      <th>...</th>\n",
       "      <td>...</td>\n",
       "      <td>...</td>\n",
       "      <td>...</td>\n",
       "      <td>...</td>\n",
       "    </tr>\n",
       "    <tr>\n",
       "      <th>100480503</th>\n",
       "      <td>1790158</td>\n",
       "      <td>4</td>\n",
       "      <td>2005-11-01</td>\n",
       "      <td>17770</td>\n",
       "    </tr>\n",
       "    <tr>\n",
       "      <th>100480504</th>\n",
       "      <td>1608708</td>\n",
       "      <td>3</td>\n",
       "      <td>2005-07-19</td>\n",
       "      <td>17770</td>\n",
       "    </tr>\n",
       "    <tr>\n",
       "      <th>100480505</th>\n",
       "      <td>234275</td>\n",
       "      <td>1</td>\n",
       "      <td>2004-08-07</td>\n",
       "      <td>17770</td>\n",
       "    </tr>\n",
       "    <tr>\n",
       "      <th>100480506</th>\n",
       "      <td>255278</td>\n",
       "      <td>4</td>\n",
       "      <td>2004-05-28</td>\n",
       "      <td>17770</td>\n",
       "    </tr>\n",
       "    <tr>\n",
       "      <th>100480507</th>\n",
       "      <td>453585</td>\n",
       "      <td>2</td>\n",
       "      <td>2005-03-10</td>\n",
       "      <td>17770</td>\n",
       "    </tr>\n",
       "  </tbody>\n",
       "</table>\n",
       "<p>100480507 rows × 4 columns</p>\n",
       "</div>"
      ],
      "text/plain": [
       "            CustId  Rating        Date  MovieId\n",
       "index                                          \n",
       "1          1488844       3  2005-09-06        1\n",
       "2           822109       5  2005-05-13        1\n",
       "3           885013       4  2005-10-19        1\n",
       "4            30878       4  2005-12-26        1\n",
       "5           823519       3  2004-05-03        1\n",
       "...            ...     ...         ...      ...\n",
       "100480503  1790158       4  2005-11-01    17770\n",
       "100480504  1608708       3  2005-07-19    17770\n",
       "100480505   234275       1  2004-08-07    17770\n",
       "100480506   255278       4  2004-05-28    17770\n",
       "100480507   453585       2  2005-03-10    17770\n",
       "\n",
       "[100480507 rows x 4 columns]"
      ]
     },
     "execution_count": 49,
     "metadata": {},
     "output_type": "execute_result"
    }
   ],
   "source": [
    "user_rating_df.set_index('index')\n"
   ]
  },
  {
   "cell_type": "code",
   "execution_count": 50,
   "metadata": {},
   "outputs": [
    {
     "name": "stdout",
     "output_type": "stream",
     "text": [
      "<class 'pandas.core.frame.DataFrame'>\n",
      "RangeIndex: 100480507 entries, 0 to 100480506\n",
      "Data columns (total 5 columns):\n",
      " #   Column   Dtype               \n",
      "---  ------   -----               \n",
      " 0   CustId   int64               \n",
      " 1   Rating   int64               \n",
      " 2   Date     date32[day][pyarrow]\n",
      " 3   MovieId  int64               \n",
      " 4   index    int64               \n",
      "dtypes: date32[day][pyarrow](1), int64(4)\n",
      "memory usage: 3.4 GB\n"
     ]
    }
   ],
   "source": [
    "user_rating_df.info()"
   ]
  },
  {
   "cell_type": "markdown",
   "metadata": {},
   "source": [
    "adding index in movie csv"
   ]
  },
  {
   "cell_type": "code",
   "execution_count": null,
   "metadata": {},
   "outputs": [],
   "source": [
    "movie_df['index'] = np.arange(1,movie_df.shape[0]+1)\n",
    "movie_df.set_index('index',inplace=True)"
   ]
  },
  {
   "cell_type": "code",
   "execution_count": 52,
   "metadata": {},
   "outputs": [
    {
     "data": {
      "text/plain": [
       "17770"
      ]
     },
     "execution_count": 52,
     "metadata": {},
     "output_type": "execute_result"
    }
   ],
   "source": [
    "movie_df.shape[0]"
   ]
  },
  {
   "cell_type": "code",
   "execution_count": 57,
   "metadata": {},
   "outputs": [
    {
     "data": {
      "text/html": [
       "<div>\n",
       "<style scoped>\n",
       "    .dataframe tbody tr th:only-of-type {\n",
       "        vertical-align: middle;\n",
       "    }\n",
       "\n",
       "    .dataframe tbody tr th {\n",
       "        vertical-align: top;\n",
       "    }\n",
       "\n",
       "    .dataframe thead th {\n",
       "        text-align: right;\n",
       "    }\n",
       "</style>\n",
       "<table border=\"1\" class=\"dataframe\">\n",
       "  <thead>\n",
       "    <tr style=\"text-align: right;\">\n",
       "      <th></th>\n",
       "      <th>MovieId</th>\n",
       "      <th>ReleaseYear</th>\n",
       "      <th>MovieTitle</th>\n",
       "    </tr>\n",
       "    <tr>\n",
       "      <th>index</th>\n",
       "      <th></th>\n",
       "      <th></th>\n",
       "      <th></th>\n",
       "    </tr>\n",
       "  </thead>\n",
       "  <tbody>\n",
       "    <tr>\n",
       "      <th>1</th>\n",
       "      <td>1</td>\n",
       "      <td>2003.0</td>\n",
       "      <td>Dinosaur Planet</td>\n",
       "    </tr>\n",
       "    <tr>\n",
       "      <th>2</th>\n",
       "      <td>2</td>\n",
       "      <td>2004.0</td>\n",
       "      <td>Isle of Man TT 2004 Review</td>\n",
       "    </tr>\n",
       "    <tr>\n",
       "      <th>3</th>\n",
       "      <td>3</td>\n",
       "      <td>1997.0</td>\n",
       "      <td>Character</td>\n",
       "    </tr>\n",
       "    <tr>\n",
       "      <th>4</th>\n",
       "      <td>4</td>\n",
       "      <td>1994.0</td>\n",
       "      <td>Paula Abdul's Get Up &amp; Dance</td>\n",
       "    </tr>\n",
       "    <tr>\n",
       "      <th>5</th>\n",
       "      <td>5</td>\n",
       "      <td>2004.0</td>\n",
       "      <td>The Rise and Fall of ECW</td>\n",
       "    </tr>\n",
       "  </tbody>\n",
       "</table>\n",
       "</div>"
      ],
      "text/plain": [
       "       MovieId  ReleaseYear                    MovieTitle\n",
       "index                                                    \n",
       "1            1       2003.0               Dinosaur Planet\n",
       "2            2       2004.0    Isle of Man TT 2004 Review\n",
       "3            3       1997.0                     Character\n",
       "4            4       1994.0  Paula Abdul's Get Up & Dance\n",
       "5            5       2004.0      The Rise and Fall of ECW"
      ]
     },
     "execution_count": 57,
     "metadata": {},
     "output_type": "execute_result"
    }
   ],
   "source": [
    "movie_df.head()"
   ]
  },
  {
   "cell_type": "code",
   "execution_count": 7,
   "metadata": {},
   "outputs": [
    {
     "data": {
      "text/plain": [
       "CustId     0\n",
       "Rating     0\n",
       "Date       0\n",
       "MovieId    0\n",
       "dtype: int64"
      ]
     },
     "execution_count": 7,
     "metadata": {},
     "output_type": "execute_result"
    }
   ],
   "source": [
    "user_rating_df.isna().sum()"
   ]
  },
  {
   "cell_type": "code",
   "execution_count": 8,
   "metadata": {},
   "outputs": [
    {
     "data": {
      "text/plain": [
       "MovieId        0\n",
       "ReleaseYear    7\n",
       "MovieTitle     0\n",
       "dtype: int64"
      ]
     },
     "execution_count": 8,
     "metadata": {},
     "output_type": "execute_result"
    }
   ],
   "source": [
    "movie_df.isna().sum()"
   ]
  },
  {
   "cell_type": "code",
   "execution_count": 14,
   "metadata": {},
   "outputs": [
    {
     "data": {
      "text/html": [
       "<div>\n",
       "<style scoped>\n",
       "    .dataframe tbody tr th:only-of-type {\n",
       "        vertical-align: middle;\n",
       "    }\n",
       "\n",
       "    .dataframe tbody tr th {\n",
       "        vertical-align: top;\n",
       "    }\n",
       "\n",
       "    .dataframe thead th {\n",
       "        text-align: right;\n",
       "    }\n",
       "</style>\n",
       "<table border=\"1\" class=\"dataframe\">\n",
       "  <thead>\n",
       "    <tr style=\"text-align: right;\">\n",
       "      <th></th>\n",
       "      <th>MovieId</th>\n",
       "      <th>ReleaseYear</th>\n",
       "      <th>MovieTitle</th>\n",
       "    </tr>\n",
       "  </thead>\n",
       "  <tbody>\n",
       "    <tr>\n",
       "      <th>0</th>\n",
       "      <td>1</td>\n",
       "      <td>2003.0</td>\n",
       "      <td>Dinosaur Planet</td>\n",
       "    </tr>\n",
       "    <tr>\n",
       "      <th>1</th>\n",
       "      <td>2</td>\n",
       "      <td>2004.0</td>\n",
       "      <td>Isle of Man TT 2004 Review</td>\n",
       "    </tr>\n",
       "    <tr>\n",
       "      <th>2</th>\n",
       "      <td>3</td>\n",
       "      <td>1997.0</td>\n",
       "      <td>Character</td>\n",
       "    </tr>\n",
       "    <tr>\n",
       "      <th>3</th>\n",
       "      <td>4</td>\n",
       "      <td>1994.0</td>\n",
       "      <td>Paula Abdul's Get Up &amp; Dance</td>\n",
       "    </tr>\n",
       "    <tr>\n",
       "      <th>4</th>\n",
       "      <td>5</td>\n",
       "      <td>2004.0</td>\n",
       "      <td>The Rise and Fall of ECW</td>\n",
       "    </tr>\n",
       "  </tbody>\n",
       "</table>\n",
       "</div>"
      ],
      "text/plain": [
       "   MovieId  ReleaseYear                    MovieTitle\n",
       "0        1       2003.0               Dinosaur Planet\n",
       "1        2       2004.0    Isle of Man TT 2004 Review\n",
       "2        3       1997.0                     Character\n",
       "3        4       1994.0  Paula Abdul's Get Up & Dance\n",
       "4        5       2004.0      The Rise and Fall of ECW"
      ]
     },
     "execution_count": 14,
     "metadata": {},
     "output_type": "execute_result"
    }
   ],
   "source": [
    "movie_df.head()"
   ]
  },
  {
   "cell_type": "code",
   "execution_count": null,
   "metadata": {},
   "outputs": [],
   "source": []
  }
 ],
 "metadata": {
  "kernelspec": {
   "display_name": "new_env",
   "language": "python",
   "name": "python3"
  },
  "language_info": {
   "codemirror_mode": {
    "name": "ipython",
    "version": 3
   },
   "file_extension": ".py",
   "mimetype": "text/x-python",
   "name": "python",
   "nbconvert_exporter": "python",
   "pygments_lexer": "ipython3",
   "version": "3.11.6"
  }
 },
 "nbformat": 4,
 "nbformat_minor": 2
}
