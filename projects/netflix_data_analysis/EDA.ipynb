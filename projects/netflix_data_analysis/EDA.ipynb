{
 "cells": [
  {
   "cell_type": "markdown",
   "metadata": {
    "vscode": {
     "languageId": "plaintext"
    }
   },
   "source": [
    "## <center>Exploratory Data Analysis(EDA)</center>"
   ]
  },
  {
   "cell_type": "code",
   "execution_count": 38,
   "metadata": {},
   "outputs": [],
   "source": [
    "import pandas as pd\n",
    "import seaborn as sns\n",
    "import matplotlib.pyplot as plt\n",
    "import numpy as np\n",
    "import warnings\n",
    "warnings.filterwarnings('ignore')"
   ]
  },
  {
   "cell_type": "code",
   "execution_count": null,
   "metadata": {},
   "outputs": [],
   "source": [
    "movie_rating = pd.read_csv()"
   ]
  },
  {
   "cell_type": "code",
   "execution_count": 13,
   "metadata": {},
   "outputs": [],
   "source": [
    "netflix_rating  = pd.read_csv('sample_100mb.csv')\n"
   ]
  },
  {
   "cell_type": "code",
   "execution_count": 14,
   "metadata": {},
   "outputs": [
    {
     "data": {
      "text/plain": [
       "CustId         0\n",
       "Rating         0\n",
       "RatingDate     0\n",
       "MovieId        0\n",
       "RatingMonth    0\n",
       "RatingYear     0\n",
       "ReleaseYear    0\n",
       "MovieTitle     0\n",
       "dtype: int64"
      ]
     },
     "execution_count": 14,
     "metadata": {},
     "output_type": "execute_result"
    }
   ],
   "source": [
    "netflix_rating.isna().sum()"
   ]
  },
  {
   "cell_type": "code",
   "execution_count": 15,
   "metadata": {},
   "outputs": [
    {
     "data": {
      "text/plain": [
       "13665336"
      ]
     },
     "execution_count": 15,
     "metadata": {},
     "output_type": "execute_result"
    }
   ],
   "source": [
    "netflix_rating.size"
   ]
  },
  {
   "cell_type": "code",
   "execution_count": 16,
   "metadata": {},
   "outputs": [
    {
     "data": {
      "text/plain": [
       "(1708167, 8)"
      ]
     },
     "execution_count": 16,
     "metadata": {},
     "output_type": "execute_result"
    }
   ],
   "source": [
    "netflix_rating.shape"
   ]
  },
  {
   "cell_type": "code",
   "execution_count": 17,
   "metadata": {},
   "outputs": [
    {
     "name": "stdout",
     "output_type": "stream",
     "text": [
      "<class 'pandas.core.frame.DataFrame'>\n",
      "RangeIndex: 1708167 entries, 0 to 1708166\n",
      "Data columns (total 8 columns):\n",
      " #   Column       Dtype \n",
      "---  ------       ----- \n",
      " 0   CustId       int64 \n",
      " 1   Rating       int64 \n",
      " 2   RatingDate   object\n",
      " 3   MovieId      int64 \n",
      " 4   RatingMonth  int64 \n",
      " 5   RatingYear   int64 \n",
      " 6   ReleaseYear  int64 \n",
      " 7   MovieTitle   object\n",
      "dtypes: int64(6), object(2)\n",
      "memory usage: 104.3+ MB\n"
     ]
    }
   ],
   "source": [
    "netflix_rating.info()"
   ]
  },
  {
   "cell_type": "code",
   "execution_count": 18,
   "metadata": {},
   "outputs": [
    {
     "data": {
      "text/html": [
       "<div>\n",
       "<style scoped>\n",
       "    .dataframe tbody tr th:only-of-type {\n",
       "        vertical-align: middle;\n",
       "    }\n",
       "\n",
       "    .dataframe tbody tr th {\n",
       "        vertical-align: top;\n",
       "    }\n",
       "\n",
       "    .dataframe thead th {\n",
       "        text-align: right;\n",
       "    }\n",
       "</style>\n",
       "<table border=\"1\" class=\"dataframe\">\n",
       "  <thead>\n",
       "    <tr style=\"text-align: right;\">\n",
       "      <th></th>\n",
       "      <th>CustId</th>\n",
       "      <th>Rating</th>\n",
       "      <th>RatingDate</th>\n",
       "      <th>MovieId</th>\n",
       "      <th>RatingMonth</th>\n",
       "      <th>RatingYear</th>\n",
       "      <th>ReleaseYear</th>\n",
       "      <th>MovieTitle</th>\n",
       "    </tr>\n",
       "  </thead>\n",
       "  <tbody>\n",
       "    <tr>\n",
       "      <th>0</th>\n",
       "      <td>2004524</td>\n",
       "      <td>1</td>\n",
       "      <td>2004-03-20</td>\n",
       "      <td>5113</td>\n",
       "      <td>3</td>\n",
       "      <td>2004</td>\n",
       "      <td>1985</td>\n",
       "      <td>Subway</td>\n",
       "    </tr>\n",
       "    <tr>\n",
       "      <th>1</th>\n",
       "      <td>1803657</td>\n",
       "      <td>4</td>\n",
       "      <td>2005-07-29</td>\n",
       "      <td>10092</td>\n",
       "      <td>7</td>\n",
       "      <td>2005</td>\n",
       "      <td>1991</td>\n",
       "      <td>Inspector Morse 20: Promised Land</td>\n",
       "    </tr>\n",
       "    <tr>\n",
       "      <th>2</th>\n",
       "      <td>2317620</td>\n",
       "      <td>3</td>\n",
       "      <td>2003-12-31</td>\n",
       "      <td>7509</td>\n",
       "      <td>12</td>\n",
       "      <td>2003</td>\n",
       "      <td>2002</td>\n",
       "      <td>Die Another Day</td>\n",
       "    </tr>\n",
       "    <tr>\n",
       "      <th>3</th>\n",
       "      <td>118318</td>\n",
       "      <td>5</td>\n",
       "      <td>2005-10-13</td>\n",
       "      <td>10429</td>\n",
       "      <td>10</td>\n",
       "      <td>2005</td>\n",
       "      <td>2003</td>\n",
       "      <td>Final Destination 2</td>\n",
       "    </tr>\n",
       "    <tr>\n",
       "      <th>4</th>\n",
       "      <td>1280291</td>\n",
       "      <td>5</td>\n",
       "      <td>2005-02-04</td>\n",
       "      <td>6833</td>\n",
       "      <td>2</td>\n",
       "      <td>2005</td>\n",
       "      <td>1995</td>\n",
       "      <td>Billy Madison</td>\n",
       "    </tr>\n",
       "  </tbody>\n",
       "</table>\n",
       "</div>"
      ],
      "text/plain": [
       "    CustId  Rating  RatingDate  MovieId  RatingMonth  RatingYear  ReleaseYear  \\\n",
       "0  2004524       1  2004-03-20     5113            3        2004         1985   \n",
       "1  1803657       4  2005-07-29    10092            7        2005         1991   \n",
       "2  2317620       3  2003-12-31     7509           12        2003         2002   \n",
       "3   118318       5  2005-10-13    10429           10        2005         2003   \n",
       "4  1280291       5  2005-02-04     6833            2        2005         1995   \n",
       "\n",
       "                          MovieTitle  \n",
       "0                             Subway  \n",
       "1  Inspector Morse 20: Promised Land  \n",
       "2                    Die Another Day  \n",
       "3                Final Destination 2  \n",
       "4                      Billy Madison  "
      ]
     },
     "execution_count": 18,
     "metadata": {},
     "output_type": "execute_result"
    }
   ],
   "source": [
    "netflix_rating.head()"
   ]
  },
  {
   "cell_type": "code",
   "execution_count": 20,
   "metadata": {},
   "outputs": [
    {
     "data": {
      "text/html": [
       "<div>\n",
       "<style scoped>\n",
       "    .dataframe tbody tr th:only-of-type {\n",
       "        vertical-align: middle;\n",
       "    }\n",
       "\n",
       "    .dataframe tbody tr th {\n",
       "        vertical-align: top;\n",
       "    }\n",
       "\n",
       "    .dataframe thead th {\n",
       "        text-align: right;\n",
       "    }\n",
       "</style>\n",
       "<table border=\"1\" class=\"dataframe\">\n",
       "  <thead>\n",
       "    <tr style=\"text-align: right;\">\n",
       "      <th></th>\n",
       "      <th>CustId</th>\n",
       "      <th>Rating</th>\n",
       "      <th>MovieId</th>\n",
       "      <th>RatingMonth</th>\n",
       "      <th>RatingYear</th>\n",
       "      <th>ReleaseYear</th>\n",
       "    </tr>\n",
       "  </thead>\n",
       "  <tbody>\n",
       "    <tr>\n",
       "      <th>count</th>\n",
       "      <td>1.708167e+06</td>\n",
       "      <td>1.708167e+06</td>\n",
       "      <td>1.708167e+06</td>\n",
       "      <td>1.708167e+06</td>\n",
       "      <td>1.708167e+06</td>\n",
       "      <td>1.708167e+06</td>\n",
       "    </tr>\n",
       "    <tr>\n",
       "      <th>mean</th>\n",
       "      <td>1.322429e+06</td>\n",
       "      <td>3.604185e+00</td>\n",
       "      <td>9.078686e+03</td>\n",
       "      <td>6.729026e+00</td>\n",
       "      <td>2.004254e+03</td>\n",
       "      <td>1.993911e+03</td>\n",
       "    </tr>\n",
       "    <tr>\n",
       "      <th>std</th>\n",
       "      <td>7.650504e+05</td>\n",
       "      <td>1.085262e+00</td>\n",
       "      <td>5.131502e+03</td>\n",
       "      <td>3.367899e+00</td>\n",
       "      <td>1.022222e+00</td>\n",
       "      <td>1.239349e+01</td>\n",
       "    </tr>\n",
       "    <tr>\n",
       "      <th>min</th>\n",
       "      <td>6.000000e+00</td>\n",
       "      <td>1.000000e+00</td>\n",
       "      <td>1.000000e+00</td>\n",
       "      <td>1.000000e+00</td>\n",
       "      <td>1.999000e+03</td>\n",
       "      <td>1.896000e+03</td>\n",
       "    </tr>\n",
       "    <tr>\n",
       "      <th>25%</th>\n",
       "      <td>6.608370e+05</td>\n",
       "      <td>3.000000e+00</td>\n",
       "      <td>4.684000e+03</td>\n",
       "      <td>4.000000e+00</td>\n",
       "      <td>2.004000e+03</td>\n",
       "      <td>1.990000e+03</td>\n",
       "    </tr>\n",
       "    <tr>\n",
       "      <th>50%</th>\n",
       "      <td>1.318562e+06</td>\n",
       "      <td>4.000000e+00</td>\n",
       "      <td>9.061000e+03</td>\n",
       "      <td>7.000000e+00</td>\n",
       "      <td>2.005000e+03</td>\n",
       "      <td>1.998000e+03</td>\n",
       "    </tr>\n",
       "    <tr>\n",
       "      <th>75%</th>\n",
       "      <td>1.984954e+06</td>\n",
       "      <td>4.000000e+00</td>\n",
       "      <td>1.363600e+04</td>\n",
       "      <td>1.000000e+01</td>\n",
       "      <td>2.005000e+03</td>\n",
       "      <td>2.002000e+03</td>\n",
       "    </tr>\n",
       "    <tr>\n",
       "      <th>max</th>\n",
       "      <td>2.649429e+06</td>\n",
       "      <td>5.000000e+00</td>\n",
       "      <td>1.777000e+04</td>\n",
       "      <td>1.200000e+01</td>\n",
       "      <td>2.005000e+03</td>\n",
       "      <td>2.010000e+03</td>\n",
       "    </tr>\n",
       "  </tbody>\n",
       "</table>\n",
       "</div>"
      ],
      "text/plain": [
       "             CustId        Rating       MovieId   RatingMonth    RatingYear  \\\n",
       "count  1.708167e+06  1.708167e+06  1.708167e+06  1.708167e+06  1.708167e+06   \n",
       "mean   1.322429e+06  3.604185e+00  9.078686e+03  6.729026e+00  2.004254e+03   \n",
       "std    7.650504e+05  1.085262e+00  5.131502e+03  3.367899e+00  1.022222e+00   \n",
       "min    6.000000e+00  1.000000e+00  1.000000e+00  1.000000e+00  1.999000e+03   \n",
       "25%    6.608370e+05  3.000000e+00  4.684000e+03  4.000000e+00  2.004000e+03   \n",
       "50%    1.318562e+06  4.000000e+00  9.061000e+03  7.000000e+00  2.005000e+03   \n",
       "75%    1.984954e+06  4.000000e+00  1.363600e+04  1.000000e+01  2.005000e+03   \n",
       "max    2.649429e+06  5.000000e+00  1.777000e+04  1.200000e+01  2.005000e+03   \n",
       "\n",
       "        ReleaseYear  \n",
       "count  1.708167e+06  \n",
       "mean   1.993911e+03  \n",
       "std    1.239349e+01  \n",
       "min    1.896000e+03  \n",
       "25%    1.990000e+03  \n",
       "50%    1.998000e+03  \n",
       "75%    2.002000e+03  \n",
       "max    2.010000e+03  "
      ]
     },
     "execution_count": 20,
     "metadata": {},
     "output_type": "execute_result"
    }
   ],
   "source": [
    "# Numerical Summary\n",
    "netflix_rating.describe()"
   ]
  },
  {
   "cell_type": "markdown",
   "metadata": {},
   "source": [
    "<p>It seems we do not have any outliers presents here, as max data lies near to 75% of all data.</p>\n",
    "<p>Procedding with further analysis.</p>"
   ]
  },
  {
   "cell_type": "code",
   "execution_count": 21,
   "metadata": {},
   "outputs": [
    {
     "data": {
      "text/plain": [
       "Rating\n",
       "4    573101\n",
       "3    491030\n",
       "5    393936\n",
       "2    171276\n",
       "1     78824\n",
       "Name: count, dtype: int64"
      ]
     },
     "execution_count": 21,
     "metadata": {},
     "output_type": "execute_result"
    }
   ],
   "source": [
    "netflix_rating['Rating'].value_counts()"
   ]
  },
  {
   "cell_type": "code",
   "execution_count": 39,
   "metadata": {},
   "outputs": [
    {
     "data": {
      "image/png": "[encoded data removed]",
      "text/plain": [
       "<Figure size 640x480 with 1 Axes>"
      ]
     },
     "metadata": {},
     "output_type": "display_data"
    }
   ],
   "source": [
    "rating_count = netflix_rating['Rating'].value_counts().sort_index()\n",
    "ratings = rating_count.index\n",
    "count = rating_count.values\n",
    "sns.barplot(x=ratings,y=count,palette=\"husl\")\n",
    "plt.xlabel(\"Ratings\")\n",
    "plt.ylabel(\"Count\")\n",
    "plt.show()"
   ]
  },
  {
   "cell_type": "code",
   "execution_count": 53,
   "metadata": {},
   "outputs": [
    {
     "data": {
      "image/png": "[encoded data removed]",
      "text/plain": [
       "<Figure size 1500x800 with 2 Axes>"
      ]
     },
     "metadata": {},
     "output_type": "display_data"
    }
   ],
   "source": [
    "fig,ax = plt.subplots(1,2,figsize=(15,8))\n",
    "ax[0].set_title(\"Rating Year\")\n",
    "ax[0].set_xlabel(\"Year\")\n",
    "ax[0].set_ylabel('Density')\n",
    "sns.distplot(netflix_rating['RatingYear'],ax=ax[0])\n",
    "\n",
    "ax[1].set_title(\"Release Year\")\n",
    "ax[1].set_xlabel(\"Year\")\n",
    "ax[1].set_ylabel(\"Density\")\n",
    "sns.distplot(netflix_rating['ReleaseYear'],ax=ax[1])\n",
    "\n",
    "plt.show()\n"
   ]
  },
  {
   "cell_type": "code",
   "execution_count": 47,
   "metadata": {},
   "outputs": [
    {
     "name": "stdout",
     "output_type": "stream",
     "text": [
      "<class 'pandas.core.frame.DataFrame'>\n",
      "RangeIndex: 1708167 entries, 0 to 1708166\n",
      "Data columns (total 8 columns):\n",
      " #   Column       Dtype \n",
      "---  ------       ----- \n",
      " 0   CustId       int64 \n",
      " 1   Rating       int64 \n",
      " 2   RatingDate   object\n",
      " 3   MovieId      int64 \n",
      " 4   RatingMonth  int64 \n",
      " 5   RatingYear   int64 \n",
      " 6   ReleaseYear  int64 \n",
      " 7   MovieTitle   object\n",
      "dtypes: int64(6), object(2)\n",
      "memory usage: 104.3+ MB\n"
     ]
    }
   ],
   "source": [
    "netflix_rating.info()"
   ]
  },
  {
   "cell_type": "code",
   "execution_count": 48,
   "metadata": {},
   "outputs": [
    {
     "data": {
      "text/html": [
       "<div>\n",
       "<style scoped>\n",
       "    .dataframe tbody tr th:only-of-type {\n",
       "        vertical-align: middle;\n",
       "    }\n",
       "\n",
       "    .dataframe tbody tr th {\n",
       "        vertical-align: top;\n",
       "    }\n",
       "\n",
       "    .dataframe thead th {\n",
       "        text-align: right;\n",
       "    }\n",
       "</style>\n",
       "<table border=\"1\" class=\"dataframe\">\n",
       "  <thead>\n",
       "    <tr style=\"text-align: right;\">\n",
       "      <th></th>\n",
       "      <th>CustId</th>\n",
       "      <th>Rating</th>\n",
       "      <th>RatingDate</th>\n",
       "      <th>MovieId</th>\n",
       "      <th>RatingMonth</th>\n",
       "      <th>RatingYear</th>\n",
       "      <th>ReleaseYear</th>\n",
       "      <th>MovieTitle</th>\n",
       "    </tr>\n",
       "  </thead>\n",
       "  <tbody>\n",
       "    <tr>\n",
       "      <th>0</th>\n",
       "      <td>2004524</td>\n",
       "      <td>1</td>\n",
       "      <td>2004-03-20</td>\n",
       "      <td>5113</td>\n",
       "      <td>3</td>\n",
       "      <td>2004</td>\n",
       "      <td>1985</td>\n",
       "      <td>Subway</td>\n",
       "    </tr>\n",
       "  </tbody>\n",
       "</table>\n",
       "</div>"
      ],
      "text/plain": [
       "    CustId  Rating  RatingDate  MovieId  RatingMonth  RatingYear  ReleaseYear  \\\n",
       "0  2004524       1  2004-03-20     5113            3        2004         1985   \n",
       "\n",
       "  MovieTitle  \n",
       "0     Subway  "
      ]
     },
     "execution_count": 48,
     "metadata": {},
     "output_type": "execute_result"
    }
   ],
   "source": [
    "netflix_rating.head(1)"
   ]
  }
 ],
 "metadata": {
  "kernelspec": {
   "display_name": "new_env",
   "language": "python",
   "name": "python3"
  },
  "language_info": {
   "codemirror_mode": {
    "name": "ipython",
    "version": 3
   },
   "file_extension": ".py",
   "mimetype": "text/x-python",
   "name": "python",
   "nbconvert_exporter": "python",
   "pygments_lexer": "ipython3",
   "version": "3.11.6"
  }
 },
 "nbformat": 4,
 "nbformat_minor": 2
}
