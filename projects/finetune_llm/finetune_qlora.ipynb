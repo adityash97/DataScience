{
 "cells": [
  {
   "cell_type": "code",
   "execution_count": null,
   "metadata": {},
   "outputs": [],
   "source": [
    "!pip install bitsandbytes trl datasets transformers peft"
   ]
  },
  {
   "cell_type": "code",
   "execution_count": null,
   "metadata": {},
   "outputs": [],
   "source": [
    "from transformers import AutoModelForCausalLM, BitsAndBytesConfig\n",
    "from transformers import AutoTokenizer\n",
    "\n",
    "import torch\n",
    "from transformers import TrainingArguments\n",
    "from peft import LoraConfig, PeftModel,get_peft_model\n",
    "\n",
    "from trl import SFTTrainer,SFTConfig\n",
    "from datasets import load_dataset\n"
   ]
  },
  {
   "cell_type": "code",
   "execution_count": null,
   "metadata": {},
   "outputs": [],
   "source": [
    "def print_dataset_details(dataset):\n",
    "    print(\"Test : \",len(dataset['test']))\n",
    "    print(\"Train : \",len(dataset['train']))\n",
    "    print(\"Validation : \",len(dataset['validation']))"
   ]
  },
  {
   "cell_type": "code",
   "execution_count": null,
   "metadata": {},
   "outputs": [],
   "source": [
    "dataset = load_dataset(\"siddrao11/cs182-storytelling-dataset\")\n",
    "dataset[\"train\"] = dataset[\"train\"].select(range(1500))\n",
    "dataset[\"test\"] = dataset[\"test\"].select(range(500))\n",
    "dataset[\"validation\"] = dataset[\"validation\"].select(range(500))\n",
    "print_dataset_details(dataset)\n"
   ]
  },
  {
   "cell_type": "code",
   "execution_count": null,
   "metadata": {},
   "outputs": [],
   "source": [
    "model_name = \"NousResearch/Llama-2-7b-chat-hf\"\n"
   ]
  },
  {
   "cell_type": "markdown",
   "metadata": {},
   "source": [
    "Model Loading"
   ]
  },
  {
   "cell_type": "code",
   "execution_count": null,
   "metadata": {},
   "outputs": [],
   "source": [
    "def load_model():\n",
    "    config = BitsAndBytesConfig(\n",
    "        load_in_4bit=True,  # Enable 4-bit quantization\n",
    "        bnb_4bit_quant_type=\"nf4\",\n",
    "        bnb_4bit_use_double_quant=True,\n",
    "        bnb_4bit_compute_dtype=torch.bfloat16  # Use bfloat16 for reduced precision\n",
    "    )\n",
    "    model = AutoModelForCausalLM.from_pretrained(\n",
    "        model_name,\n",
    "        quantization_config=config\n",
    "    )\n",
    "    print(\"Model loaded successfully!\")\n",
    "    return model"
   ]
  },
  {
   "cell_type": "code",
   "execution_count": null,
   "metadata": {},
   "outputs": [],
   "source": [
    "def get_tokenizer():\n",
    "    tokenizer = AutoTokenizer.from_pretrained(model_name,trust_remote_code = True)\n",
    "    tokenizer.pad_token = tokenizer.eos_token\n",
    "    tokenizer.padding_side = \"right\"\n",
    "    return tokenizer"
   ]
  },
  {
   "cell_type": "code",
   "execution_count": null,
   "metadata": {},
   "outputs": [],
   "source": [
    "def get_trainer(model,tokenizer):\n",
    "    training_arguments = SFTConfig(\n",
    "        dataset_text_field=\"formatted_text\",  # Specify the field in your dataset\n",
    "        output_dir=\"./results\",  # Directory to save the model\n",
    "        overwrite_output_dir=True,\n",
    "        per_device_train_batch_size=1,\n",
    "        gradient_accumulation_steps=4,\n",
    "        num_train_epochs=1,\n",
    "        max_steps=-1,\n",
    "        logging_steps=25,\n",
    "        save_steps=1000,\n",
    "        group_by_length=True,\n",
    "        lr_scheduler_type=\"cosine\",\n",
    "        report_to=\"tensorboard\",\n",
    "        optim=\"paged_adamw_32bit\",\n",
    "        fp16=False,\n",
    "        bf16=False,\n",
    "        \n",
    "        \n",
    "    )\n",
    "\n",
    "    peft_config = LoraConfig(\n",
    "        lora_alpha=16,\n",
    "        lora_dropout=0.1,\n",
    "        r=64,\n",
    "        bias=\"none\",\n",
    "        task_type=\"CAUSAL_LM\",\n",
    "    )\n",
    "\n",
    "    peft_model = get_peft_model(model,peft_config)\n",
    "    trainer = SFTTrainer(\n",
    "        model=peft_model,\n",
    "        train_dataset=dataset[\"train\"],\n",
    "        eval_dataset=dataset[\"validation\"],\n",
    "        tokenizer=tokenizer,\n",
    "        peft_config = peft_config,\n",
    "        args=training_arguments,\n",
    "    )\n",
    "    \n",
    "    return trainer"
   ]
  },
  {
   "cell_type": "code",
   "execution_count": null,
   "metadata": {},
   "outputs": [],
   "source": [
    "cuda_flag  = torch.cuda.is_available()\n",
    "if cuda_flag:\n",
    "    model = load_model()\n",
    "    tokenizer = get_tokenizer()\n",
    "    trainer = get_trainer(model,tokenizer)\n",
    "    trainer.train()\n",
    "    \n",
    "else:\n",
    "    print(\"CUDA is required but not available for bitsandbytes.(Hint : GPU required.)\")"
   ]
  }
 ],
 "metadata": {
  "kernelspec": {
   "display_name": "new_env",
   "language": "python",
   "name": "python3"
  },
  "language_info": {
   "codemirror_mode": {
    "name": "ipython",
    "version": 3
   },
   "file_extension": ".py",
   "mimetype": "text/x-python",
   "name": "python",
   "nbconvert_exporter": "python",
   "pygments_lexer": "ipython3",
   "version": "3.11.6"
  }
 },
 "nbformat": 4,
 "nbformat_minor": 2
}
