{
 "cells": [
  {
   "cell_type": "markdown",
   "metadata": {},
   "source": [
    "### Preprocessing"
   ]
  },
  {
   "cell_type": "code",
   "execution_count": 182,
   "metadata": {},
   "outputs": [
    {
     "name": "stderr",
     "output_type": "stream",
     "text": [
      "[nltk_data] Downloading package stopwords to\n",
      "[nltk_data]     /Users/adityaanand/nltk_data...\n",
      "[nltk_data]   Package stopwords is already up-to-date!\n"
     ]
    }
   ],
   "source": [
    "import pandas as pd\n",
    "from gensim.models import Word2Vec\n",
    "import string\n",
    "import numpy as np\n",
    "import nltk\n",
    "nltk.download('stopwords')\n",
    "from nltk.corpus import stopwords\n",
    "import gensim\n",
    "from gensim.models import Word2Vec\n",
    "import pickle\n",
    "from sklearn.feature_extraction.text import TfidfVectorizer\n",
    "from sklearn.metrics.pairwise import cosine_similarity\n"
   ]
  },
  {
   "cell_type": "code",
   "execution_count": 183,
   "metadata": {},
   "outputs": [
    {
     "data": {
      "text/html": [
       "<div>\n",
       "<style scoped>\n",
       "    .dataframe tbody tr th:only-of-type {\n",
       "        vertical-align: middle;\n",
       "    }\n",
       "\n",
       "    .dataframe tbody tr th {\n",
       "        vertical-align: top;\n",
       "    }\n",
       "\n",
       "    .dataframe thead th {\n",
       "        text-align: right;\n",
       "    }\n",
       "</style>\n",
       "<table border=\"1\" class=\"dataframe\">\n",
       "  <thead>\n",
       "    <tr style=\"text-align: right;\">\n",
       "      <th></th>\n",
       "      <th>Srno</th>\n",
       "      <th>RecipeName</th>\n",
       "      <th>TranslatedRecipeName</th>\n",
       "      <th>Ingredients</th>\n",
       "      <th>TranslatedIngredients</th>\n",
       "      <th>PrepTimeInMins</th>\n",
       "      <th>CookTimeInMins</th>\n",
       "      <th>TotalTimeInMins</th>\n",
       "      <th>Servings</th>\n",
       "      <th>Cuisine</th>\n",
       "      <th>Course</th>\n",
       "      <th>Diet</th>\n",
       "      <th>Instructions</th>\n",
       "      <th>TranslatedInstructions</th>\n",
       "      <th>URL</th>\n",
       "    </tr>\n",
       "  </thead>\n",
       "  <tbody>\n",
       "    <tr>\n",
       "      <th>0</th>\n",
       "      <td>1</td>\n",
       "      <td>Masala Karela Recipe</td>\n",
       "      <td>Masala Karela Recipe</td>\n",
       "      <td>6 Karela (Bitter Gourd/ Pavakkai) - deseeded,Salt - to taste,1 Onion - thinly sliced,3 tablespoon Gram flour (besan),2 teaspoons Turmeric powder (Haldi),1 tablespoon Red Chilli powder,2 teaspoons Cumin seeds (Jeera),1 tablespoon Coriander Powder (Dhania),1 tablespoon Amchur (Dry Mango Powder),Sunflower Oil - as required</td>\n",
       "      <td>6 Karela (Bitter Gourd/ Pavakkai) - deseeded,Salt - to taste,1 Onion - thinly sliced,3 tablespoon Gram flour (besan),2 teaspoons Turmeric powder (Haldi),1 tablespoon Red Chilli powder,2 teaspoons Cumin seeds (Jeera),1 tablespoon Coriander Powder (Dhania),1 tablespoon Amchur (Dry Mango Powder),Sunflower Oil - as required</td>\n",
       "      <td>15</td>\n",
       "      <td>30</td>\n",
       "      <td>45</td>\n",
       "      <td>6</td>\n",
       "      <td>Indian</td>\n",
       "      <td>Side Dish</td>\n",
       "      <td>Diabetic Friendly</td>\n",
       "      <td>To begin making the Masala Karela Recipe,de-seed the karela and slice. Do not remove the skin as the skin has all the nutrients. Add the karela to the pressure cooker with 3 tablespoon of water, salt and turmeric powder and pressure cook for three whistles. Release the pressure immediately and open the lids. Keep aside.Heat oil in a heavy bottomed pan or a kadhai. Add cumin seeds and let it sizzle.Once the cumin seeds have sizzled, add onions and saute them till it turns golden brown in color.Add the karela, red chilli powder, amchur powder, coriander powder and besan. Stir to combine the masalas into the karela.Drizzle a little extra oil on the top and mix again. Cover the pan and simmer Masala Karela stirring occasionally until everything comes together well. Turn off the heat.Transfer Masala Karela into a serving bowl and serve.Serve Masala Karela along with Panchmel Dal and Phulka for a weekday meal with your family. \\n</td>\n",
       "      <td>To begin making the Masala Karela Recipe,de-seed the karela and slice. Do not remove the skin as the skin has all the nutrients. Add the karela to the pressure cooker with 3 tablespoon of water, salt and turmeric powder and pressure cook for three whistles. Release the pressure immediately and open the lids. Keep aside.Heat oil in a heavy bottomed pan or a kadhai. Add cumin seeds and let it sizzle.Once the cumin seeds have sizzled, add onions and saute them till it turns golden brown in color.Add the karela, red chilli powder, amchur powder, coriander powder and besan. Stir to combine the masalas into the karela.Drizzle a little extra oil on the top and mix again. Cover the pan and simmer Masala Karela stirring occasionally until everything comes together well. Turn off the heat.Transfer Masala Karela into a serving bowl and serve.Serve Masala Karela along with Panchmel Dal and Phulka for a weekday meal with your family.</td>\n",
       "      <td>https://www.archanaskitchen.com/masala-karela-recipe</td>\n",
       "    </tr>\n",
       "    <tr>\n",
       "      <th>1</th>\n",
       "      <td>2</td>\n",
       "      <td>टमाटर पुलियोगरे रेसिपी - Spicy Tomato Rice (Recipe In Hindi)</td>\n",
       "      <td>Spicy Tomato Rice (Recipe)</td>\n",
       "      <td>2-1/2 कप चावल - पका ले,3 टमाटर,3 छोटा चमच्च बीसी बेले भात पाउडर,नमक - स्वाद अनुसार,1 छोटा चमच्च चना दाल,1/2 छोटा चमच्च जीरा,1 छोटा चमच्च सफ़ेद उरद दाल,1/2 छोटा चमच्च राइ,1 हरी मिर्च,1 सुखी लाल मिर्च,2 छोटा चमच्च काजू - या मूंगफली,1-1/2 बड़े चमच्च तेल - प्रयोग अनुसार,1/2 छोटा चमच्च हींग</td>\n",
       "      <td>2-1 / 2 cups rice - cooked, 3 tomatoes, 3 teaspoons BC Belle Bhat powder, salt - as per taste, 1 teaspoon chickpea lentils, 1/2 teaspoon cumin seeds, 1 teaspoon white urad dal, 1/2 Teaspoon mustard, 1 green chilli, 1 dry red chilli, 2 teaspoon cashew - or peanuts, 1-1 / 2 tablespoon oil - 1/2 teaspoon asafoetida</td>\n",
       "      <td>5</td>\n",
       "      <td>10</td>\n",
       "      <td>15</td>\n",
       "      <td>3</td>\n",
       "      <td>South Indian Recipes</td>\n",
       "      <td>Main Course</td>\n",
       "      <td>Vegetarian</td>\n",
       "      <td>टमाटर पुलियोगरे बनाने के लिए सबसे पहले टमाटर को काट ले. अब एक मिक्सर ग्राइंडर में डाले और उसकी प्यूरी बना ले. अब एक कढ़ाई में तेल गरम करें। तेल के गरम होने के बाद इसमें चना दाल, उरद दाल, काजू डाले और 10 से 20 सेकण्ड्स तक पकने दे. 10 से 20 सेकण्ड्स के बाद इसमें जीरा, राइ, हरी मिर्च, सुखी लाल मिर्च और कढ़ी पत्ता डाले। 30 सेकण्ड्स बाद इसमें टमाटर की प्यूरी डाले और मिला ले. इसमें बीसी बेले भात पाउडर, नमक डाले और मिला ले. 7 से 8 मिनट के लिए पकने दे और फिर गैस बंद कर दे. इसे एक बाउल में निकाले, इसमें पके हुए चावल डाले और मिला ले. गरमा गरम परोसे। टमाटर पुलियोगरे को टमाटर ककड़ी रायता और पापड़ के साथ दिन के खाने के लिए परोसे।\\n</td>\n",
       "      <td>To make tomato puliogere, first cut the tomatoes. Now put in a mixer grinder and puree it. Now heat oil in a pan. After the oil is hot, add chana dal, urad dal, cashew and let it cook for 10 to 20 seconds. After 10 to 20 seconds, add cumin seeds, mustard seeds, green chillies, dry red chillies and curry leaves. After 30 seconds, add tomato puree to it and mix. Add BC Belle Bhat powder, salt and mix it. Allow to cook for 7 to 8 minutes and then turn off the gas. Take it out in a bowl, add cooked rice and mix it. Serve hot. Serve tomato puliogre with tomato cucumber raita and papad for dinner.</td>\n",
       "      <td>http://www.archanaskitchen.com/spicy-tomato-rice-recipe-in-hindi</td>\n",
       "    </tr>\n",
       "    <tr>\n",
       "      <th>2</th>\n",
       "      <td>3</td>\n",
       "      <td>Ragi Semiya Upma Recipe - Ragi Millet Vermicelli Breakfast</td>\n",
       "      <td>Ragi Semiya Upma Recipe - Ragi Millet Vermicelli Breakfast</td>\n",
       "      <td>1-1/2 cups Rice Vermicelli Noodles (Thin),1 Onion - sliced,1/2 cup Carrots (Gajjar) - chopped,1/3 cup Green peas (Matar),2 Green Chillies,1/4 teaspoon Asafoetida (hing),1 teaspoon Mustard seeds,1 teaspoon White Urad Dal (Split),1 teaspoon Ghee,1 sprig Curry leaves,Salt - to taste,1 teaspoon Lemon juice</td>\n",
       "      <td>1-1/2 cups Rice Vermicelli Noodles (Thin),1 Onion - sliced,1/2 cup Carrots (Gajjar) - chopped,1/3 cup Green peas (Matar),2 Green Chillies,1/4 teaspoon Asafoetida (hing),1 teaspoon Mustard seeds,1 teaspoon White Urad Dal (Split),1 teaspoon Ghee,1 sprig Curry leaves,Salt - to taste,1 teaspoon Lemon juice</td>\n",
       "      <td>20</td>\n",
       "      <td>30</td>\n",
       "      <td>50</td>\n",
       "      <td>4</td>\n",
       "      <td>South Indian Recipes</td>\n",
       "      <td>South Indian Breakfast</td>\n",
       "      <td>High Protein Vegetarian</td>\n",
       "      <td>To begin making the Ragi Vermicelli Recipe, first steam the ragi vermicelli in a rice cooker or a steamer for about 5-6 minutes or till it is cooked but firm.Keep aside this aside till later use. You can add a few drops of oil and mix it so that they don't stick to each other.Place a kadai on the heat, add the ghee or oil to it and when warm add hing and allow it to sizzle for 30 seconds. Then follow it up with mustard seeds, urad dal and curry leaves, and allow them to crackle.Saute for 1 minute or so till the urad dal is slightly browned.Then, add onions and fry till translucent and soft.Next, add the green chillies along with par boiled carrots and peas. Sprinkle some salt and cook for 2-3 minutes or until the vegetables are semi cooked.Then, add the steamed ragi vermicelli toss it together so the vegetables are all well combined.Switch off the heat, take the vermicelli out into a serving dish and to with lemon juice. Mix well and serve along with Coconut Chutney and a hot cup of coffee or tea for a wholesome breakfast.\\n</td>\n",
       "      <td>To begin making the Ragi Vermicelli Recipe, first steam the ragi vermicelli in a rice cooker or a steamer for about 5-6 minutes or till it is cooked but firm.Keep aside this aside till later use. You can add a few drops of oil and mix it so that they don't stick to each other.Place a kadai on the heat, add the ghee or oil to it and when warm add hing and allow it to sizzle for 30 seconds. Then follow it up with mustard seeds, urad dal and curry leaves, and allow them to crackle.Saute for 1 minute or so till the urad dal is slightly browned.Then, add onions and fry till translucent and soft.Next, add the green chillies along with par boiled carrots and peas. Sprinkle some salt and cook for 2-3 minutes or until the vegetables are semi cooked.Then, add the steamed ragi vermicelli toss it together so the vegetables are all well combined.Switch off the heat, take the vermicelli out into a serving dish and to with lemon juice. Mix well and serve along with Coconut Chutney and a hot cup of coffee or tea for a wholesome breakfast.</td>\n",
       "      <td>http://www.archanaskitchen.com/ragi-vermicelli-semiya-recipe-healthy-finger-millet-semiya-breakfast</td>\n",
       "    </tr>\n",
       "    <tr>\n",
       "      <th>3</th>\n",
       "      <td>4</td>\n",
       "      <td>Gongura Chicken Curry Recipe - Andhra Style Gongura Chicken</td>\n",
       "      <td>Gongura Chicken Curry Recipe - Andhra Style Gongura Chicken</td>\n",
       "      <td>500 grams Chicken,2 Onion - chopped,1 Tomato - chopped,4 Green Chillies - slit,1 inch Ginger - finely chopped,6 cloves Garlic - finely chopped,1/2 teaspoon Turmeric powder (Haldi),1 teaspoon Garam masala powder,2 tablespoon Sesame (Gingelly) Oil,Salt - to taste,1/4 teaspoon Methi Seeds (Fenugreek Seeds),1 tablespoon Coriander (Dhania) Seeds,4 Dry Red Chillies,1 teaspoon Fennel seeds (Saunf),1 teaspoon Sesame (Gingelly) Oil,4 cloves Garlic,2 cups Sorrel Leaves (Gongura) - picked and chopped,Salt - to taste</td>\n",
       "      <td>500 grams Chicken,2 Onion - chopped,1 Tomato - chopped,4 Green Chillies - slit,1 inch Ginger - finely chopped,6 cloves Garlic - finely chopped,1/2 teaspoon Turmeric powder (Haldi),1 teaspoon Garam masala powder,2 tablespoon Sesame (Gingelly) Oil,Salt - to taste,1/4 teaspoon Methi Seeds (Fenugreek Seeds),1 tablespoon Coriander (Dhania) Seeds,4 Dry Red Chillies,1 teaspoon Fennel seeds (Saunf),1 teaspoon Sesame (Gingelly) Oil,4 cloves Garlic,2 cups Sorrel Leaves (Gongura) - picked and chopped,Salt - to taste</td>\n",
       "      <td>15</td>\n",
       "      <td>30</td>\n",
       "      <td>45</td>\n",
       "      <td>4</td>\n",
       "      <td>Andhra</td>\n",
       "      <td>Lunch</td>\n",
       "      <td>Non Vegeterian</td>\n",
       "      <td>To begin making Gongura Chicken Curry Recipe first prep all the ingredients and keep them aside.In a small pan, dry roast the methi seeds, coriander seeds, fennel seeds and red chillies for about 3 to 4 minutes on medium heat, until you notice the seeds crackling. Once done, turn off the heat and allow it to cool a bit and blend it into a smooth powder.Heat oil in a pressure cooker over medium heat; add the chopped onions, ginger, garlic and green chillies and saute until the onions are lightly browned and tender.Add the tomatoes, and saute until the tomatoes become soft and mushy. Once done add the chicken, the garam masala and turmeric powder. Add 1/4 cup of water and pressure cook the chicken for 3 to 4 whistles and turn off the heat.Once done, allow the pressure to release naturally.Make sure there are no stems when you pick the gongura leaves. Wash and chop the gongura leaves and keep aside.In another pan,add some oil along garlic and saute the chopped gongura leaves along with a little salt and the ground masala. The gongura leaves will wilt almost instantly. Saute the gongura in the masala for about 3 to 4 minutes until it becomes like a mushy paste.Once done, add the cooked chicken curry into the Gongura masala and saute on high heat for another 2 minutes and turn off the heat.Check the salt and spices and adjust according to taste. Transfer the Gongura Chicken Curry to a serving bowl and serve hot.Serve Gongura Chicken with Ghee Rice Recipe | Neychoru , Tomato Onion Cucumber Raita Recipe and a Semiya Payasam for a delicious weekend lunch.\\n</td>\n",
       "      <td>To begin making Gongura Chicken Curry Recipe first prep all the ingredients and keep them aside.In a small pan, dry roast the methi seeds, coriander seeds, fennel seeds and red chillies for about 3 to 4 minutes on medium heat, until you notice the seeds crackling. Once done, turn off the heat and allow it to cool a bit and blend it into a smooth powder.Heat oil in a pressure cooker over medium heat; add the chopped onions, ginger, garlic and green chillies and saute until the onions are lightly browned and tender.Add the tomatoes, and saute until the tomatoes become soft and mushy. Once done add the chicken, the garam masala and turmeric powder. Add 1/4 cup of water and pressure cook the chicken for 3 to 4 whistles and turn off the heat.Once done, allow the pressure to release naturally.Make sure there are no stems when you pick the gongura leaves. Wash and chop the gongura leaves and keep aside.In another pan,add some oil along garlic and saute the chopped gongura leaves along with a little salt and the ground masala. The gongura leaves will wilt almost instantly. Saute the gongura in the masala for about 3 to 4 minutes until it becomes like a mushy paste.Once done, add the cooked chicken curry into the Gongura masala and saute on high heat for another 2 minutes and turn off the heat.Check the salt and spices and adjust according to taste. Transfer the Gongura Chicken Curry to a serving bowl and serve hot.Serve Gongura Chicken with Ghee Rice Recipe | Neychoru , Tomato Onion Cucumber Raita Recipe and a Semiya Payasam for a delicious weekend lunch.</td>\n",
       "      <td>http://www.archanaskitchen.com/gongura-chicken-curry-recipe-andhra-style-gongura-chicken</td>\n",
       "    </tr>\n",
       "    <tr>\n",
       "      <th>4</th>\n",
       "      <td>5</td>\n",
       "      <td>आंध्रा स्टाइल आलम पचड़ी रेसिपी - Adrak Chutney (Recipe In Hindi)</td>\n",
       "      <td>Andhra Style Alam Pachadi Recipe - Adrak Chutney (Recipe)</td>\n",
       "      <td>1 बड़ा चमच्च चना दाल,1 बड़ा चमच्च सफ़ेद उरद दाल,2 सुखी लाल मिर्च,1 बड़ा चमच्च धनिये के बीज,3 इंच अदरक - काट ले,1 प्याज - काट ले,1 टमाटर - काट ले,नमक - स्वाद अनुसार,1 छोटा चमच्च राइ,हींग - चुटकी भर,तेल - प्रयोग अनुसार,1 टहनी कढ़ी</td>\n",
       "      <td>1 tablespoon chana dal, 1 tablespoon white urad dal, 2 red chillies, 1 tablespoon coriander seeds, 3 inches ginger - chop, 1 onion - chop, 1 tomato - chop, salt - as per taste, 1 Teaspoon mustard, asafoetida - a pinch, oil - as per use, 1 sprig curry</td>\n",
       "      <td>10</td>\n",
       "      <td>20</td>\n",
       "      <td>30</td>\n",
       "      <td>4</td>\n",
       "      <td>Andhra</td>\n",
       "      <td>South Indian Breakfast</td>\n",
       "      <td>Vegetarian</td>\n",
       "      <td>आंध्रा स्टाइल आलम पचड़ी बनाने के लिए सबसे पहले एक कढ़ाई में तेल गरम करे ले. इसमें दाल डाले और भूरा होने तक पका ले.अब इसमें सुखी लाल मिर्च, धनिये के बीज, प्याज, अदरक डाले और प्याज के नरम होने तक पकाए। प्याज के पकने के बाद, इसमें टमाटर डाले और टमाटर के नरम होने तक पका ले. गैस बंद करें और ठंडा होने दे. ठंडा होने के बाद इसको एक मिक्सर ग्राइंडर में डाले और पेस्ट बना ले.  तड़के के लिए, एक छोटी कढ़ाई में तेल गरम करें। इसमें राइ डाले और 10 सेकण्ड्स तक पकने दे. अब इसमें कढ़ी पत्ता, हींग डाले और 10 सेकण्ड्स तक पकने दे. इसे चटनी में डाले और मिला ले. आंध्रा स्टाइल आलम पचड़ी को घी रोस्ट डोसा और किरई सांबर के साथ सुबह के नाश्ते के लिए परोसे।\\n</td>\n",
       "      <td>To make Andhra Style Alam Pachadi, first heat oil in a pan. Add lentils and cook till it turns brown. Now add dry red chillies, coriander seeds, onion, ginger and cook till the onion becomes soft. After the onion is cooked, add tomatoes and cook till the tomatoes become soft. Turn off the gas and allow it to cool. After it cools down, put it in a mixer grinder and make a paste. For tempering, heat the oil in a small pan. Add mustard seeds and let it cook for 10 seconds. Now add curry leaves, asafoetida and let it cook for 10 seconds. Add it to the chutney and mix. Serve Andhra Style Alam Pachadi with Ghee Roast Dosa and Kirai Sambar for breakfast.</td>\n",
       "      <td>https://www.archanaskitchen.com/andhra-style-allam-pachadi-ginger-chutney-recipe-in-hindi</td>\n",
       "    </tr>\n",
       "  </tbody>\n",
       "</table>\n",
       "</div>"
      ],
      "text/plain": [
       "   Srno                                                       RecipeName  \\\n",
       "0     1                                             Masala Karela Recipe   \n",
       "1     2     टमाटर पुलियोगरे रेसिपी - Spicy Tomato Rice (Recipe In Hindi)   \n",
       "2     3       Ragi Semiya Upma Recipe - Ragi Millet Vermicelli Breakfast   \n",
       "3     4      Gongura Chicken Curry Recipe - Andhra Style Gongura Chicken   \n",
       "4     5  आंध्रा स्टाइल आलम पचड़ी रेसिपी - Adrak Chutney (Recipe In Hindi)   \n",
       "\n",
       "                                          TranslatedRecipeName  \\\n",
       "0                                         Masala Karela Recipe   \n",
       "1                                   Spicy Tomato Rice (Recipe)   \n",
       "2   Ragi Semiya Upma Recipe - Ragi Millet Vermicelli Breakfast   \n",
       "3  Gongura Chicken Curry Recipe - Andhra Style Gongura Chicken   \n",
       "4    Andhra Style Alam Pachadi Recipe - Adrak Chutney (Recipe)   \n",
       "\n",
       "                                                                                                                                                                                                                                                                                                                                                                                                                                                                                                                      Ingredients  \\\n",
       "0                                                                                                                                                                                               6 Karela (Bitter Gourd/ Pavakkai) - deseeded,Salt - to taste,1 Onion - thinly sliced,3 tablespoon Gram flour (besan),2 teaspoons Turmeric powder (Haldi),1 tablespoon Red Chilli powder,2 teaspoons Cumin seeds (Jeera),1 tablespoon Coriander Powder (Dhania),1 tablespoon Amchur (Dry Mango Powder),Sunflower Oil - as required   \n",
       "1                                                                                                                                                                                                                                    2-1/2 कप चावल - पका ले,3 टमाटर,3 छोटा चमच्च बीसी बेले भात पाउडर,नमक - स्वाद अनुसार,1 छोटा चमच्च चना दाल,1/2 छोटा चमच्च जीरा,1 छोटा चमच्च सफ़ेद उरद दाल,1/2 छोटा चमच्च राइ,1 हरी मिर्च,1 सुखी लाल मिर्च,2 छोटा चमच्च काजू - या मूंगफली,1-1/2 बड़े चमच्च तेल - प्रयोग अनुसार,1/2 छोटा चमच्च हींग   \n",
       "2                                                                                                                                                                                                                 1-1/2 cups Rice Vermicelli Noodles (Thin),1 Onion - sliced,1/2 cup Carrots (Gajjar) - chopped,1/3 cup Green peas (Matar),2 Green Chillies,1/4 teaspoon Asafoetida (hing),1 teaspoon Mustard seeds,1 teaspoon White Urad Dal (Split),1 teaspoon Ghee,1 sprig Curry leaves,Salt - to taste,1 teaspoon Lemon juice   \n",
       "3  500 grams Chicken,2 Onion - chopped,1 Tomato - chopped,4 Green Chillies - slit,1 inch Ginger - finely chopped,6 cloves Garlic - finely chopped,1/2 teaspoon Turmeric powder (Haldi),1 teaspoon Garam masala powder,2 tablespoon Sesame (Gingelly) Oil,Salt - to taste,1/4 teaspoon Methi Seeds (Fenugreek Seeds),1 tablespoon Coriander (Dhania) Seeds,4 Dry Red Chillies,1 teaspoon Fennel seeds (Saunf),1 teaspoon Sesame (Gingelly) Oil,4 cloves Garlic,2 cups Sorrel Leaves (Gongura) - picked and chopped,Salt - to taste   \n",
       "4                                                                                                                                                                                                                                                                                                 1 बड़ा चमच्च चना दाल,1 बड़ा चमच्च सफ़ेद उरद दाल,2 सुखी लाल मिर्च,1 बड़ा चमच्च धनिये के बीज,3 इंच अदरक - काट ले,1 प्याज - काट ले,1 टमाटर - काट ले,नमक - स्वाद अनुसार,1 छोटा चमच्च राइ,हींग - चुटकी भर,तेल - प्रयोग अनुसार,1 टहनी कढ़ी   \n",
       "\n",
       "                                                                                                                                                                                                                                                                                                                                                                                                                                                                                                            TranslatedIngredients  \\\n",
       "0                                                                                                                                                                                               6 Karela (Bitter Gourd/ Pavakkai) - deseeded,Salt - to taste,1 Onion - thinly sliced,3 tablespoon Gram flour (besan),2 teaspoons Turmeric powder (Haldi),1 tablespoon Red Chilli powder,2 teaspoons Cumin seeds (Jeera),1 tablespoon Coriander Powder (Dhania),1 tablespoon Amchur (Dry Mango Powder),Sunflower Oil - as required   \n",
       "1                                                                                                                                                                                                       2-1 / 2 cups rice - cooked, 3 tomatoes, 3 teaspoons BC Belle Bhat powder, salt - as per taste, 1 teaspoon chickpea lentils, 1/2 teaspoon cumin seeds, 1 teaspoon white urad dal, 1/2 Teaspoon mustard, 1 green chilli, 1 dry red chilli, 2 teaspoon cashew - or peanuts, 1-1 / 2 tablespoon oil - 1/2 teaspoon asafoetida   \n",
       "2                                                                                                                                                                                                                 1-1/2 cups Rice Vermicelli Noodles (Thin),1 Onion - sliced,1/2 cup Carrots (Gajjar) - chopped,1/3 cup Green peas (Matar),2 Green Chillies,1/4 teaspoon Asafoetida (hing),1 teaspoon Mustard seeds,1 teaspoon White Urad Dal (Split),1 teaspoon Ghee,1 sprig Curry leaves,Salt - to taste,1 teaspoon Lemon juice   \n",
       "3  500 grams Chicken,2 Onion - chopped,1 Tomato - chopped,4 Green Chillies - slit,1 inch Ginger - finely chopped,6 cloves Garlic - finely chopped,1/2 teaspoon Turmeric powder (Haldi),1 teaspoon Garam masala powder,2 tablespoon Sesame (Gingelly) Oil,Salt - to taste,1/4 teaspoon Methi Seeds (Fenugreek Seeds),1 tablespoon Coriander (Dhania) Seeds,4 Dry Red Chillies,1 teaspoon Fennel seeds (Saunf),1 teaspoon Sesame (Gingelly) Oil,4 cloves Garlic,2 cups Sorrel Leaves (Gongura) - picked and chopped,Salt - to taste   \n",
       "4                                                                                                                                                                                                                                                                      1 tablespoon chana dal, 1 tablespoon white urad dal, 2 red chillies, 1 tablespoon coriander seeds, 3 inches ginger - chop, 1 onion - chop, 1 tomato - chop, salt - as per taste, 1 Teaspoon mustard, asafoetida - a pinch, oil - as per use, 1 sprig curry   \n",
       "\n",
       "   PrepTimeInMins  CookTimeInMins  TotalTimeInMins  Servings  \\\n",
       "0              15              30               45         6   \n",
       "1               5              10               15         3   \n",
       "2              20              30               50         4   \n",
       "3              15              30               45         4   \n",
       "4              10              20               30         4   \n",
       "\n",
       "                Cuisine                  Course                     Diet  \\\n",
       "0                Indian               Side Dish        Diabetic Friendly   \n",
       "1  South Indian Recipes             Main Course               Vegetarian   \n",
       "2  South Indian Recipes  South Indian Breakfast  High Protein Vegetarian   \n",
       "3                Andhra                   Lunch           Non Vegeterian   \n",
       "4                Andhra  South Indian Breakfast               Vegetarian   \n",
       "\n",
       "                                                                                                                                                                                                                                                                                                                                                                                                                                                                                                                                                                                                                                                                                                                                                                                                                                                                                                                                                                                                                                                                                                                                                                                                                                                                                                                                                                                                                                                                                                                                                                                                                              Instructions  \\\n",
       "0                                                                                                                                                                                                                                                                                                                                                                                                                                                                                                                                                                                                                                                                To begin making the Masala Karela Recipe,de-seed the karela and slice. Do not remove the skin as the skin has all the nutrients. Add the karela to the pressure cooker with 3 tablespoon of water, salt and turmeric powder and pressure cook for three whistles. Release the pressure immediately and open the lids. Keep aside.Heat oil in a heavy bottomed pan or a kadhai. Add cumin seeds and let it sizzle.Once the cumin seeds have sizzled, add onions and saute them till it turns golden brown in color.Add the karela, red chilli powder, amchur powder, coriander powder and besan. Stir to combine the masalas into the karela.Drizzle a little extra oil on the top and mix again. Cover the pan and simmer Masala Karela stirring occasionally until everything comes together well. Turn off the heat.Transfer Masala Karela into a serving bowl and serve.Serve Masala Karela along with Panchmel Dal and Phulka for a weekday meal with your family. \\n   \n",
       "1                                                                                                                                                                                                                                                                                                                                                                                                                                                                                                                                                                                                                                                                                                                                                                                                                                                                                                                                                                                           टमाटर पुलियोगरे बनाने के लिए सबसे पहले टमाटर को काट ले. अब एक मिक्सर ग्राइंडर में डाले और उसकी प्यूरी बना ले. अब एक कढ़ाई में तेल गरम करें। तेल के गरम होने के बाद इसमें चना दाल, उरद दाल, काजू डाले और 10 से 20 सेकण्ड्स तक पकने दे. 10 से 20 सेकण्ड्स के बाद इसमें जीरा, राइ, हरी मिर्च, सुखी लाल मिर्च और कढ़ी पत्ता डाले। 30 सेकण्ड्स बाद इसमें टमाटर की प्यूरी डाले और मिला ले. इसमें बीसी बेले भात पाउडर, नमक डाले और मिला ले. 7 से 8 मिनट के लिए पकने दे और फिर गैस बंद कर दे. इसे एक बाउल में निकाले, इसमें पके हुए चावल डाले और मिला ले. गरमा गरम परोसे। टमाटर पुलियोगरे को टमाटर ककड़ी रायता और पापड़ के साथ दिन के खाने के लिए परोसे।\\n   \n",
       "2                                                                                                                                                                                                                                                                                                                                                                                                                                                                                                                                                         To begin making the Ragi Vermicelli Recipe, first steam the ragi vermicelli in a rice cooker or a steamer for about 5-6 minutes or till it is cooked but firm.Keep aside this aside till later use. You can add a few drops of oil and mix it so that they don't stick to each other.Place a kadai on the heat, add the ghee or oil to it and when warm add hing and allow it to sizzle for 30 seconds. Then follow it up with mustard seeds, urad dal and curry leaves, and allow them to crackle.Saute for 1 minute or so till the urad dal is slightly browned.Then, add onions and fry till translucent and soft.Next, add the green chillies along with par boiled carrots and peas. Sprinkle some salt and cook for 2-3 minutes or until the vegetables are semi cooked.Then, add the steamed ragi vermicelli toss it together so the vegetables are all well combined.Switch off the heat, take the vermicelli out into a serving dish and to with lemon juice. Mix well and serve along with Coconut Chutney and a hot cup of coffee or tea for a wholesome breakfast.\\n   \n",
       "3  To begin making Gongura Chicken Curry Recipe first prep all the ingredients and keep them aside.In a small pan, dry roast the methi seeds, coriander seeds, fennel seeds and red chillies for about 3 to 4 minutes on medium heat, until you notice the seeds crackling. Once done, turn off the heat and allow it to cool a bit and blend it into a smooth powder.Heat oil in a pressure cooker over medium heat; add the chopped onions, ginger, garlic and green chillies and saute until the onions are lightly browned and tender.Add the tomatoes, and saute until the tomatoes become soft and mushy. Once done add the chicken, the garam masala and turmeric powder. Add 1/4 cup of water and pressure cook the chicken for 3 to 4 whistles and turn off the heat.Once done, allow the pressure to release naturally.Make sure there are no stems when you pick the gongura leaves. Wash and chop the gongura leaves and keep aside.In another pan,add some oil along garlic and saute the chopped gongura leaves along with a little salt and the ground masala. The gongura leaves will wilt almost instantly. Saute the gongura in the masala for about 3 to 4 minutes until it becomes like a mushy paste.Once done, add the cooked chicken curry into the Gongura masala and saute on high heat for another 2 minutes and turn off the heat.Check the salt and spices and adjust according to taste. Transfer the Gongura Chicken Curry to a serving bowl and serve hot.Serve Gongura Chicken with Ghee Rice Recipe | Neychoru , Tomato Onion Cucumber Raita Recipe and a Semiya Payasam for a delicious weekend lunch.\\n   \n",
       "4                                                                                                                                                                                                                                                                                                                                                                                                                                                                                                                                                                                                                                                                                                                                                                                                                                                                                                                                                                                  आंध्रा स्टाइल आलम पचड़ी बनाने के लिए सबसे पहले एक कढ़ाई में तेल गरम करे ले. इसमें दाल डाले और भूरा होने तक पका ले.अब इसमें सुखी लाल मिर्च, धनिये के बीज, प्याज, अदरक डाले और प्याज के नरम होने तक पकाए। प्याज के पकने के बाद, इसमें टमाटर डाले और टमाटर के नरम होने तक पका ले. गैस बंद करें और ठंडा होने दे. ठंडा होने के बाद इसको एक मिक्सर ग्राइंडर में डाले और पेस्ट बना ले.  तड़के के लिए, एक छोटी कढ़ाई में तेल गरम करें। इसमें राइ डाले और 10 सेकण्ड्स तक पकने दे. अब इसमें कढ़ी पत्ता, हींग डाले और 10 सेकण्ड्स तक पकने दे. इसे चटनी में डाले और मिला ले. आंध्रा स्टाइल आलम पचड़ी को घी रोस्ट डोसा और किरई सांबर के साथ सुबह के नाश्ते के लिए परोसे।\\n   \n",
       "\n",
       "                                                                                                                                                                                                                                                                                                                                                                                                                                                                                                                                                                                                                                                                                                                                                                                                                                                                                                                                                                                                                                                                                                                                                                                                                                                                                                                                                                                                                                                                                                                                                                                                                  TranslatedInstructions  \\\n",
       "0                                                                                                                                                                                                                                                                                                                                                                                                                                                                                                                                                                                                                                                                To begin making the Masala Karela Recipe,de-seed the karela and slice. Do not remove the skin as the skin has all the nutrients. Add the karela to the pressure cooker with 3 tablespoon of water, salt and turmeric powder and pressure cook for three whistles. Release the pressure immediately and open the lids. Keep aside.Heat oil in a heavy bottomed pan or a kadhai. Add cumin seeds and let it sizzle.Once the cumin seeds have sizzled, add onions and saute them till it turns golden brown in color.Add the karela, red chilli powder, amchur powder, coriander powder and besan. Stir to combine the masalas into the karela.Drizzle a little extra oil on the top and mix again. Cover the pan and simmer Masala Karela stirring occasionally until everything comes together well. Turn off the heat.Transfer Masala Karela into a serving bowl and serve.Serve Masala Karela along with Panchmel Dal and Phulka for a weekday meal with your family.    \n",
       "1                                                                                                                                                                                                                                                                                                                                                                                                                                                                                                                                                                                                                                                                                                                                                                                                                                                                                                                                                                                                                 To make tomato puliogere, first cut the tomatoes. Now put in a mixer grinder and puree it. Now heat oil in a pan. After the oil is hot, add chana dal, urad dal, cashew and let it cook for 10 to 20 seconds. After 10 to 20 seconds, add cumin seeds, mustard seeds, green chillies, dry red chillies and curry leaves. After 30 seconds, add tomato puree to it and mix. Add BC Belle Bhat powder, salt and mix it. Allow to cook for 7 to 8 minutes and then turn off the gas. Take it out in a bowl, add cooked rice and mix it. Serve hot. Serve tomato puliogre with tomato cucumber raita and papad for dinner.   \n",
       "2                                                                                                                                                                                                                                                                                                                                                                                                                                                                                                                                                         To begin making the Ragi Vermicelli Recipe, first steam the ragi vermicelli in a rice cooker or a steamer for about 5-6 minutes or till it is cooked but firm.Keep aside this aside till later use. You can add a few drops of oil and mix it so that they don't stick to each other.Place a kadai on the heat, add the ghee or oil to it and when warm add hing and allow it to sizzle for 30 seconds. Then follow it up with mustard seeds, urad dal and curry leaves, and allow them to crackle.Saute for 1 minute or so till the urad dal is slightly browned.Then, add onions and fry till translucent and soft.Next, add the green chillies along with par boiled carrots and peas. Sprinkle some salt and cook for 2-3 minutes or until the vegetables are semi cooked.Then, add the steamed ragi vermicelli toss it together so the vegetables are all well combined.Switch off the heat, take the vermicelli out into a serving dish and to with lemon juice. Mix well and serve along with Coconut Chutney and a hot cup of coffee or tea for a wholesome breakfast.   \n",
       "3  To begin making Gongura Chicken Curry Recipe first prep all the ingredients and keep them aside.In a small pan, dry roast the methi seeds, coriander seeds, fennel seeds and red chillies for about 3 to 4 minutes on medium heat, until you notice the seeds crackling. Once done, turn off the heat and allow it to cool a bit and blend it into a smooth powder.Heat oil in a pressure cooker over medium heat; add the chopped onions, ginger, garlic and green chillies and saute until the onions are lightly browned and tender.Add the tomatoes, and saute until the tomatoes become soft and mushy. Once done add the chicken, the garam masala and turmeric powder. Add 1/4 cup of water and pressure cook the chicken for 3 to 4 whistles and turn off the heat.Once done, allow the pressure to release naturally.Make sure there are no stems when you pick the gongura leaves. Wash and chop the gongura leaves and keep aside.In another pan,add some oil along garlic and saute the chopped gongura leaves along with a little salt and the ground masala. The gongura leaves will wilt almost instantly. Saute the gongura in the masala for about 3 to 4 minutes until it becomes like a mushy paste.Once done, add the cooked chicken curry into the Gongura masala and saute on high heat for another 2 minutes and turn off the heat.Check the salt and spices and adjust according to taste. Transfer the Gongura Chicken Curry to a serving bowl and serve hot.Serve Gongura Chicken with Ghee Rice Recipe | Neychoru , Tomato Onion Cucumber Raita Recipe and a Semiya Payasam for a delicious weekend lunch.   \n",
       "4                                                                                                                                                                                                                                                                                                                                                                                                                                                                                                                                                                                                                                                                                                                                                                                                                                                                                                                                                        To make Andhra Style Alam Pachadi, first heat oil in a pan. Add lentils and cook till it turns brown. Now add dry red chillies, coriander seeds, onion, ginger and cook till the onion becomes soft. After the onion is cooked, add tomatoes and cook till the tomatoes become soft. Turn off the gas and allow it to cool. After it cools down, put it in a mixer grinder and make a paste. For tempering, heat the oil in a small pan. Add mustard seeds and let it cook for 10 seconds. Now add curry leaves, asafoetida and let it cook for 10 seconds. Add it to the chutney and mix. Serve Andhra Style Alam Pachadi with Ghee Roast Dosa and Kirai Sambar for breakfast.   \n",
       "\n",
       "                                                                                                   URL  \n",
       "0                                                 https://www.archanaskitchen.com/masala-karela-recipe  \n",
       "1                                     http://www.archanaskitchen.com/spicy-tomato-rice-recipe-in-hindi  \n",
       "2  http://www.archanaskitchen.com/ragi-vermicelli-semiya-recipe-healthy-finger-millet-semiya-breakfast  \n",
       "3             http://www.archanaskitchen.com/gongura-chicken-curry-recipe-andhra-style-gongura-chicken  \n",
       "4            https://www.archanaskitchen.com/andhra-style-allam-pachadi-ginger-chutney-recipe-in-hindi  "
      ]
     },
     "execution_count": 183,
     "metadata": {},
     "output_type": "execute_result"
    }
   ],
   "source": [
    "path = \"../../resources/IndianFoodDatasetCSV.csv\"\n",
    "df = pd.read_csv(path)\n",
    "sampled_data = df\n",
    "df.head()"
   ]
  },
  {
   "cell_type": "code",
   "execution_count": 184,
   "metadata": {},
   "outputs": [
    {
     "data": {
      "text/plain": [
       "Index(['Srno', 'RecipeName', 'TranslatedRecipeName', 'Ingredients',\n",
       "       'TranslatedIngredients', 'PrepTimeInMins', 'CookTimeInMins',\n",
       "       'TotalTimeInMins', 'Servings', 'Cuisine', 'Course', 'Diet',\n",
       "       'Instructions', 'TranslatedInstructions', 'URL'],\n",
       "      dtype='object')"
      ]
     },
     "execution_count": 184,
     "metadata": {},
     "output_type": "execute_result"
    }
   ],
   "source": [
    "df.columns"
   ]
  },
  {
   "cell_type": "code",
   "execution_count": 185,
   "metadata": {},
   "outputs": [
    {
     "data": {
      "text/plain": [
       "(6871, 15)"
      ]
     },
     "execution_count": 185,
     "metadata": {},
     "output_type": "execute_result"
    }
   ],
   "source": [
    "df.shape"
   ]
  },
  {
   "cell_type": "markdown",
   "metadata": {},
   "source": [
    "Null Values check"
   ]
  },
  {
   "cell_type": "code",
   "execution_count": 186,
   "metadata": {},
   "outputs": [
    {
     "data": {
      "text/plain": [
       "Srno                      0\n",
       "RecipeName                0\n",
       "TranslatedRecipeName      0\n",
       "Ingredients               6\n",
       "TranslatedIngredients     6\n",
       "PrepTimeInMins            0\n",
       "CookTimeInMins            0\n",
       "TotalTimeInMins           0\n",
       "Servings                  0\n",
       "Cuisine                   0\n",
       "Course                    0\n",
       "Diet                      0\n",
       "Instructions              0\n",
       "TranslatedInstructions    0\n",
       "URL                       0\n",
       "dtype: int64"
      ]
     },
     "execution_count": 186,
     "metadata": {},
     "output_type": "execute_result"
    }
   ],
   "source": [
    "df.isnull().sum()"
   ]
  },
  {
   "cell_type": "code",
   "execution_count": 187,
   "metadata": {},
   "outputs": [
    {
     "data": {
      "text/html": [
       "<div>\n",
       "<style scoped>\n",
       "    .dataframe tbody tr th:only-of-type {\n",
       "        vertical-align: middle;\n",
       "    }\n",
       "\n",
       "    .dataframe tbody tr th {\n",
       "        vertical-align: top;\n",
       "    }\n",
       "\n",
       "    .dataframe thead th {\n",
       "        text-align: right;\n",
       "    }\n",
       "</style>\n",
       "<table border=\"1\" class=\"dataframe\">\n",
       "  <thead>\n",
       "    <tr style=\"text-align: right;\">\n",
       "      <th></th>\n",
       "      <th>Srno</th>\n",
       "      <th>RecipeName</th>\n",
       "      <th>TranslatedRecipeName</th>\n",
       "      <th>Ingredients</th>\n",
       "      <th>TranslatedIngredients</th>\n",
       "      <th>PrepTimeInMins</th>\n",
       "      <th>CookTimeInMins</th>\n",
       "      <th>TotalTimeInMins</th>\n",
       "      <th>Servings</th>\n",
       "      <th>Cuisine</th>\n",
       "      <th>Course</th>\n",
       "      <th>Diet</th>\n",
       "      <th>Instructions</th>\n",
       "      <th>TranslatedInstructions</th>\n",
       "      <th>URL</th>\n",
       "    </tr>\n",
       "  </thead>\n",
       "  <tbody>\n",
       "    <tr>\n",
       "      <th>287</th>\n",
       "      <td>306</td>\n",
       "      <td>Pear And Walnut Salad Recipe</td>\n",
       "      <td>Pear And Walnut Salad Recipe</td>\n",
       "      <td>NaN</td>\n",
       "      <td>NaN</td>\n",
       "      <td>10</td>\n",
       "      <td>30</td>\n",
       "      <td>40</td>\n",
       "      <td>2</td>\n",
       "      <td>Continental</td>\n",
       "      <td>Appetizer</td>\n",
       "      <td>Vegetarian</td>\n",
       "      <td>To begin making the Pear And Walnut Salad Recipe, first dry roast the walnuts in a pan or skillet for few seconds. Once the walnuts have become lightly crisp, turn off the heat and keep it aside.Tear the lettuce leaves into bite size pieces and keep aside.To prepare the dressing for the salad, in a small bowl whisk together olive oil, lemon juice, dijon mustard, tarragon leaves, salt and red chili.Next in a salad mixing bowl add the lettuce, diced cucumber, sliced pear. Pour the dressing and gently toss the salad in the dressing. Season with salt and pepper to taste. Finally toasted walnuts to the salad. Gently toss the salad.  Check the salt and seasonings and adjust to suit your taste.Serve Pear And Walnut Salad for the light weekday lunch or the summer healthy supper along with Spinach And Soya Sub (Sandwich) immediately after tossing in the dressing. If the salad is not consumed immediately the lettuce leaves and the walnuts will become soggy.\\n</td>\n",
       "      <td>To begin making the Pear And Walnut Salad Recipe, first dry roast the walnuts in a pan or skillet for few seconds. Once the walnuts have become lightly crisp, turn off the heat and keep it aside.Tear the lettuce leaves into bite size pieces and keep aside.To prepare the dressing for the salad, in a small bowl whisk together olive oil, lemon juice, dijon mustard, tarragon leaves, salt and red chili.Next in a salad mixing bowl add the lettuce, diced cucumber, sliced pear. Pour the dressing and gently toss the salad in the dressing. Season with salt and pepper to taste. Finally toasted walnuts to the salad. Gently toss the salad.  Check the salt and seasonings and adjust to suit your taste.Serve Pear And Walnut Salad for the light weekday lunch or the summer healthy supper along with Spinach And Soya Sub (Sandwich) immediately after tossing in the dressing. If the salad is not consumed immediately the lettuce leaves and the walnuts will become soggy.</td>\n",
       "      <td>https://www.archanaskitchen.com/pear-and-walnut-salad-recipe</td>\n",
       "    </tr>\n",
       "  </tbody>\n",
       "</table>\n",
       "</div>"
      ],
      "text/plain": [
       "     Srno                    RecipeName          TranslatedRecipeName  \\\n",
       "287   306  Pear And Walnut Salad Recipe  Pear And Walnut Salad Recipe   \n",
       "\n",
       "    Ingredients TranslatedIngredients  PrepTimeInMins  CookTimeInMins  \\\n",
       "287         NaN                   NaN              10              30   \n",
       "\n",
       "     TotalTimeInMins  Servings      Cuisine     Course        Diet  \\\n",
       "287               40         2  Continental  Appetizer  Vegetarian   \n",
       "\n",
       "                                                                                                                                                                                                                                                                                                                                                                                                                                                                                                                                                                                                                                                                                                                                                                                                                                                                                                                                                                                            Instructions  \\\n",
       "287  To begin making the Pear And Walnut Salad Recipe, first dry roast the walnuts in a pan or skillet for few seconds. Once the walnuts have become lightly crisp, turn off the heat and keep it aside.Tear the lettuce leaves into bite size pieces and keep aside.To prepare the dressing for the salad, in a small bowl whisk together olive oil, lemon juice, dijon mustard, tarragon leaves, salt and red chili.Next in a salad mixing bowl add the lettuce, diced cucumber, sliced pear. Pour the dressing and gently toss the salad in the dressing. Season with salt and pepper to taste. Finally toasted walnuts to the salad. Gently toss the salad.  Check the salt and seasonings and adjust to suit your taste.Serve Pear And Walnut Salad for the light weekday lunch or the summer healthy supper along with Spinach And Soya Sub (Sandwich) immediately after tossing in the dressing. If the salad is not consumed immediately the lettuce leaves and the walnuts will become soggy.\\n   \n",
       "\n",
       "                                                                                                                                                                                                                                                                                                                                                                                                                                                                                                                                                                                                                                                                                                                                                                                                                                                                                                                                                                                TranslatedInstructions  \\\n",
       "287  To begin making the Pear And Walnut Salad Recipe, first dry roast the walnuts in a pan or skillet for few seconds. Once the walnuts have become lightly crisp, turn off the heat and keep it aside.Tear the lettuce leaves into bite size pieces and keep aside.To prepare the dressing for the salad, in a small bowl whisk together olive oil, lemon juice, dijon mustard, tarragon leaves, salt and red chili.Next in a salad mixing bowl add the lettuce, diced cucumber, sliced pear. Pour the dressing and gently toss the salad in the dressing. Season with salt and pepper to taste. Finally toasted walnuts to the salad. Gently toss the salad.  Check the salt and seasonings and adjust to suit your taste.Serve Pear And Walnut Salad for the light weekday lunch or the summer healthy supper along with Spinach And Soya Sub (Sandwich) immediately after tossing in the dressing. If the salad is not consumed immediately the lettuce leaves and the walnuts will become soggy.   \n",
       "\n",
       "                                                              URL  \n",
       "287  https://www.archanaskitchen.com/pear-and-walnut-salad-recipe  "
      ]
     },
     "execution_count": 187,
     "metadata": {},
     "output_type": "execute_result"
    }
   ],
   "source": [
    "df[df['Ingredients'].isnull()][:1]"
   ]
  },
  {
   "cell_type": "code",
   "execution_count": 188,
   "metadata": {},
   "outputs": [
    {
     "data": {
      "text/html": [
       "<div>\n",
       "<style scoped>\n",
       "    .dataframe tbody tr th:only-of-type {\n",
       "        vertical-align: middle;\n",
       "    }\n",
       "\n",
       "    .dataframe tbody tr th {\n",
       "        vertical-align: top;\n",
       "    }\n",
       "\n",
       "    .dataframe thead th {\n",
       "        text-align: right;\n",
       "    }\n",
       "</style>\n",
       "<table border=\"1\" class=\"dataframe\">\n",
       "  <thead>\n",
       "    <tr style=\"text-align: right;\">\n",
       "      <th></th>\n",
       "      <th>RecipeName</th>\n",
       "      <th>Ingredients</th>\n",
       "      <th>URL</th>\n",
       "    </tr>\n",
       "  </thead>\n",
       "  <tbody>\n",
       "    <tr>\n",
       "      <th>287</th>\n",
       "      <td>Pear And Walnut Salad Recipe</td>\n",
       "      <td>NaN</td>\n",
       "      <td>https://www.archanaskitchen.com/pear-and-walnut-salad-recipe</td>\n",
       "    </tr>\n",
       "    <tr>\n",
       "      <th>1262</th>\n",
       "      <td>Spinach and Cottage Cheese Eggless Ravioli Recipe</td>\n",
       "      <td>NaN</td>\n",
       "      <td>http://www.archanaskitchen.com/spinach-and-cottage-cheese-eggless-ravioli-recipe</td>\n",
       "    </tr>\n",
       "    <tr>\n",
       "      <th>1809</th>\n",
       "      <td>Thai Jasmine Sticky Rice Recipe</td>\n",
       "      <td>NaN</td>\n",
       "      <td>https://www.archanaskitchen.com/thai-jasmine-sticky-rice-recipe</td>\n",
       "    </tr>\n",
       "    <tr>\n",
       "      <th>1827</th>\n",
       "      <td>Classic Pavakkai Stir Fry Recipe (Bitter Gourd Fry)</td>\n",
       "      <td>NaN</td>\n",
       "      <td>https://www.archanaskitchen.com/classic-pavakkai-stir-fry-recipe-bitter-gourd-fry</td>\n",
       "    </tr>\n",
       "    <tr>\n",
       "      <th>5386</th>\n",
       "      <td>Urulaikizhangu Puli Thokku Recipe (South Indian Style Potatoes with Tamarind)</td>\n",
       "      <td>NaN</td>\n",
       "      <td>https://www.archanaskitchen.com/urulaikizhangu-puli-thokku-recipe-south-indian-style-potatoes-with-tamarind</td>\n",
       "    </tr>\n",
       "    <tr>\n",
       "      <th>5586</th>\n",
       "      <td>Mashed Peas Recipe</td>\n",
       "      <td>NaN</td>\n",
       "      <td>http://www.archanaskitchen.com/mashed-peas-recipe</td>\n",
       "    </tr>\n",
       "  </tbody>\n",
       "</table>\n",
       "</div>"
      ],
      "text/plain": [
       "                                                                         RecipeName  \\\n",
       "287                                                    Pear And Walnut Salad Recipe   \n",
       "1262                              Spinach and Cottage Cheese Eggless Ravioli Recipe   \n",
       "1809                                                Thai Jasmine Sticky Rice Recipe   \n",
       "1827                            Classic Pavakkai Stir Fry Recipe (Bitter Gourd Fry)   \n",
       "5386  Urulaikizhangu Puli Thokku Recipe (South Indian Style Potatoes with Tamarind)   \n",
       "5586                                                             Mashed Peas Recipe   \n",
       "\n",
       "     Ingredients  \\\n",
       "287          NaN   \n",
       "1262         NaN   \n",
       "1809         NaN   \n",
       "1827         NaN   \n",
       "5386         NaN   \n",
       "5586         NaN   \n",
       "\n",
       "                                                                                                              URL  \n",
       "287                                                  https://www.archanaskitchen.com/pear-and-walnut-salad-recipe  \n",
       "1262                             http://www.archanaskitchen.com/spinach-and-cottage-cheese-eggless-ravioli-recipe  \n",
       "1809                                              https://www.archanaskitchen.com/thai-jasmine-sticky-rice-recipe  \n",
       "1827                            https://www.archanaskitchen.com/classic-pavakkai-stir-fry-recipe-bitter-gourd-fry  \n",
       "5386  https://www.archanaskitchen.com/urulaikizhangu-puli-thokku-recipe-south-indian-style-potatoes-with-tamarind  \n",
       "5586                                                            http://www.archanaskitchen.com/mashed-peas-recipe  "
      ]
     },
     "execution_count": 188,
     "metadata": {},
     "output_type": "execute_result"
    }
   ],
   "source": [
    "pd.set_option('display.max_colwidth',None)\n",
    "df[df['Ingredients'].isnull()][['RecipeName','Ingredients','URL']]"
   ]
  },
  {
   "cell_type": "markdown",
   "metadata": {},
   "source": [
    "drop NA"
   ]
  },
  {
   "cell_type": "code",
   "execution_count": 189,
   "metadata": {},
   "outputs": [],
   "source": [
    "df.dropna(inplace=True)"
   ]
  },
  {
   "cell_type": "code",
   "execution_count": 190,
   "metadata": {},
   "outputs": [
    {
     "data": {
      "text/plain": [
       "Srno                      0\n",
       "RecipeName                0\n",
       "TranslatedRecipeName      0\n",
       "Ingredients               0\n",
       "TranslatedIngredients     0\n",
       "PrepTimeInMins            0\n",
       "CookTimeInMins            0\n",
       "TotalTimeInMins           0\n",
       "Servings                  0\n",
       "Cuisine                   0\n",
       "Course                    0\n",
       "Diet                      0\n",
       "Instructions              0\n",
       "TranslatedInstructions    0\n",
       "URL                       0\n",
       "dtype: int64"
      ]
     },
     "execution_count": 190,
     "metadata": {},
     "output_type": "execute_result"
    }
   ],
   "source": [
    "df.isnull().sum()"
   ]
  },
  {
   "cell_type": "code",
   "execution_count": 191,
   "metadata": {},
   "outputs": [
    {
     "data": {
      "text/plain": [
       "(6865, 15)"
      ]
     },
     "execution_count": 191,
     "metadata": {},
     "output_type": "execute_result"
    }
   ],
   "source": [
    "df.shape"
   ]
  },
  {
   "cell_type": "code",
   "execution_count": 192,
   "metadata": {},
   "outputs": [
    {
     "data": {
      "text/plain": [
       "102975"
      ]
     },
     "execution_count": 192,
     "metadata": {},
     "output_type": "execute_result"
    }
   ],
   "source": [
    "df.size"
   ]
  },
  {
   "cell_type": "code",
   "execution_count": 193,
   "metadata": {},
   "outputs": [
    {
     "data": {
      "text/plain": [
       "Srno                      0\n",
       "RecipeName                0\n",
       "TranslatedRecipeName      0\n",
       "Ingredients               0\n",
       "TranslatedIngredients     0\n",
       "PrepTimeInMins            0\n",
       "CookTimeInMins            0\n",
       "TotalTimeInMins           0\n",
       "Servings                  0\n",
       "Cuisine                   0\n",
       "Course                    0\n",
       "Diet                      0\n",
       "Instructions              0\n",
       "TranslatedInstructions    0\n",
       "URL                       0\n",
       "dtype: int64"
      ]
     },
     "execution_count": 193,
     "metadata": {},
     "output_type": "execute_result"
    }
   ],
   "source": [
    "df.isna().sum()"
   ]
  },
  {
   "cell_type": "code",
   "execution_count": 194,
   "metadata": {},
   "outputs": [
    {
     "data": {
      "text/plain": [
       "Srno                      0\n",
       "RecipeName                0\n",
       "TranslatedRecipeName      0\n",
       "Ingredients               0\n",
       "TranslatedIngredients     0\n",
       "PrepTimeInMins            0\n",
       "CookTimeInMins            0\n",
       "TotalTimeInMins           0\n",
       "Servings                  0\n",
       "Cuisine                   0\n",
       "Course                    0\n",
       "Diet                      0\n",
       "Instructions              0\n",
       "TranslatedInstructions    0\n",
       "URL                       0\n",
       "dtype: int64"
      ]
     },
     "execution_count": 194,
     "metadata": {},
     "output_type": "execute_result"
    }
   ],
   "source": [
    "df.isnull().sum()"
   ]
  },
  {
   "cell_type": "code",
   "execution_count": 195,
   "metadata": {},
   "outputs": [],
   "source": [
    "pd.reset_option('display.max_colwidth')"
   ]
  },
  {
   "cell_type": "code",
   "execution_count": 196,
   "metadata": {},
   "outputs": [
    {
     "data": {
      "text/html": [
       "<div>\n",
       "<style scoped>\n",
       "    .dataframe tbody tr th:only-of-type {\n",
       "        vertical-align: middle;\n",
       "    }\n",
       "\n",
       "    .dataframe tbody tr th {\n",
       "        vertical-align: top;\n",
       "    }\n",
       "\n",
       "    .dataframe thead th {\n",
       "        text-align: right;\n",
       "    }\n",
       "</style>\n",
       "<table border=\"1\" class=\"dataframe\">\n",
       "  <thead>\n",
       "    <tr style=\"text-align: right;\">\n",
       "      <th></th>\n",
       "      <th>Srno</th>\n",
       "      <th>RecipeName</th>\n",
       "      <th>TranslatedRecipeName</th>\n",
       "      <th>Ingredients</th>\n",
       "      <th>TranslatedIngredients</th>\n",
       "      <th>PrepTimeInMins</th>\n",
       "      <th>CookTimeInMins</th>\n",
       "      <th>TotalTimeInMins</th>\n",
       "      <th>Servings</th>\n",
       "      <th>Cuisine</th>\n",
       "      <th>Course</th>\n",
       "      <th>Diet</th>\n",
       "      <th>Instructions</th>\n",
       "      <th>TranslatedInstructions</th>\n",
       "      <th>URL</th>\n",
       "    </tr>\n",
       "  </thead>\n",
       "  <tbody>\n",
       "    <tr>\n",
       "      <th>0</th>\n",
       "      <td>1</td>\n",
       "      <td>Masala Karela Recipe</td>\n",
       "      <td>Masala Karela Recipe</td>\n",
       "      <td>6 Karela (Bitter Gourd/ Pavakkai) - deseeded,S...</td>\n",
       "      <td>6 Karela (Bitter Gourd/ Pavakkai) - deseeded,S...</td>\n",
       "      <td>15</td>\n",
       "      <td>30</td>\n",
       "      <td>45</td>\n",
       "      <td>6</td>\n",
       "      <td>Indian</td>\n",
       "      <td>Side Dish</td>\n",
       "      <td>Diabetic Friendly</td>\n",
       "      <td>To begin making the Masala Karela Recipe,de-se...</td>\n",
       "      <td>To begin making the Masala Karela Recipe,de-se...</td>\n",
       "      <td>https://www.archanaskitchen.com/masala-karela-...</td>\n",
       "    </tr>\n",
       "    <tr>\n",
       "      <th>1</th>\n",
       "      <td>2</td>\n",
       "      <td>टमाटर पुलियोगरे रेसिपी - Spicy Tomato Rice (Re...</td>\n",
       "      <td>Spicy Tomato Rice (Recipe)</td>\n",
       "      <td>2-1/2 कप चावल - पका ले,3 टमाटर,3 छोटा चमच्च बी...</td>\n",
       "      <td>2-1 / 2 cups rice - cooked, 3 tomatoes, 3 teas...</td>\n",
       "      <td>5</td>\n",
       "      <td>10</td>\n",
       "      <td>15</td>\n",
       "      <td>3</td>\n",
       "      <td>South Indian Recipes</td>\n",
       "      <td>Main Course</td>\n",
       "      <td>Vegetarian</td>\n",
       "      <td>टमाटर पुलियोगरे बनाने के लिए सबसे पहले टमाटर क...</td>\n",
       "      <td>To make tomato puliogere, first cut the tomato...</td>\n",
       "      <td>http://www.archanaskitchen.com/spicy-tomato-ri...</td>\n",
       "    </tr>\n",
       "    <tr>\n",
       "      <th>2</th>\n",
       "      <td>3</td>\n",
       "      <td>Ragi Semiya Upma Recipe - Ragi Millet Vermicel...</td>\n",
       "      <td>Ragi Semiya Upma Recipe - Ragi Millet Vermicel...</td>\n",
       "      <td>1-1/2 cups Rice Vermicelli Noodles (Thin),1 On...</td>\n",
       "      <td>1-1/2 cups Rice Vermicelli Noodles (Thin),1 On...</td>\n",
       "      <td>20</td>\n",
       "      <td>30</td>\n",
       "      <td>50</td>\n",
       "      <td>4</td>\n",
       "      <td>South Indian Recipes</td>\n",
       "      <td>South Indian Breakfast</td>\n",
       "      <td>High Protein Vegetarian</td>\n",
       "      <td>To begin making the Ragi Vermicelli Recipe, fi...</td>\n",
       "      <td>To begin making the Ragi Vermicelli Recipe, fi...</td>\n",
       "      <td>http://www.archanaskitchen.com/ragi-vermicelli...</td>\n",
       "    </tr>\n",
       "    <tr>\n",
       "      <th>3</th>\n",
       "      <td>4</td>\n",
       "      <td>Gongura Chicken Curry Recipe - Andhra Style Go...</td>\n",
       "      <td>Gongura Chicken Curry Recipe - Andhra Style Go...</td>\n",
       "      <td>500 grams Chicken,2 Onion - chopped,1 Tomato -...</td>\n",
       "      <td>500 grams Chicken,2 Onion - chopped,1 Tomato -...</td>\n",
       "      <td>15</td>\n",
       "      <td>30</td>\n",
       "      <td>45</td>\n",
       "      <td>4</td>\n",
       "      <td>Andhra</td>\n",
       "      <td>Lunch</td>\n",
       "      <td>Non Vegeterian</td>\n",
       "      <td>To begin making Gongura Chicken Curry Recipe f...</td>\n",
       "      <td>To begin making Gongura Chicken Curry Recipe f...</td>\n",
       "      <td>http://www.archanaskitchen.com/gongura-chicken...</td>\n",
       "    </tr>\n",
       "    <tr>\n",
       "      <th>4</th>\n",
       "      <td>5</td>\n",
       "      <td>आंध्रा स्टाइल आलम पचड़ी रेसिपी - Adrak Chutney ...</td>\n",
       "      <td>Andhra Style Alam Pachadi Recipe - Adrak Chutn...</td>\n",
       "      <td>1 बड़ा चमच्च चना दाल,1 बड़ा चमच्च सफ़ेद उरद दाल,2...</td>\n",
       "      <td>1 tablespoon chana dal, 1 tablespoon white ura...</td>\n",
       "      <td>10</td>\n",
       "      <td>20</td>\n",
       "      <td>30</td>\n",
       "      <td>4</td>\n",
       "      <td>Andhra</td>\n",
       "      <td>South Indian Breakfast</td>\n",
       "      <td>Vegetarian</td>\n",
       "      <td>आंध्रा स्टाइल आलम पचड़ी बनाने के लिए सबसे पहले ...</td>\n",
       "      <td>To make Andhra Style Alam Pachadi, first heat ...</td>\n",
       "      <td>https://www.archanaskitchen.com/andhra-style-a...</td>\n",
       "    </tr>\n",
       "  </tbody>\n",
       "</table>\n",
       "</div>"
      ],
      "text/plain": [
       "   Srno                                         RecipeName  \\\n",
       "0     1                               Masala Karela Recipe   \n",
       "1     2  टमाटर पुलियोगरे रेसिपी - Spicy Tomato Rice (Re...   \n",
       "2     3  Ragi Semiya Upma Recipe - Ragi Millet Vermicel...   \n",
       "3     4  Gongura Chicken Curry Recipe - Andhra Style Go...   \n",
       "4     5  आंध्रा स्टाइल आलम पचड़ी रेसिपी - Adrak Chutney ...   \n",
       "\n",
       "                                TranslatedRecipeName  \\\n",
       "0                               Masala Karela Recipe   \n",
       "1                         Spicy Tomato Rice (Recipe)   \n",
       "2  Ragi Semiya Upma Recipe - Ragi Millet Vermicel...   \n",
       "3  Gongura Chicken Curry Recipe - Andhra Style Go...   \n",
       "4  Andhra Style Alam Pachadi Recipe - Adrak Chutn...   \n",
       "\n",
       "                                         Ingredients  \\\n",
       "0  6 Karela (Bitter Gourd/ Pavakkai) - deseeded,S...   \n",
       "1  2-1/2 कप चावल - पका ले,3 टमाटर,3 छोटा चमच्च बी...   \n",
       "2  1-1/2 cups Rice Vermicelli Noodles (Thin),1 On...   \n",
       "3  500 grams Chicken,2 Onion - chopped,1 Tomato -...   \n",
       "4  1 बड़ा चमच्च चना दाल,1 बड़ा चमच्च सफ़ेद उरद दाल,2...   \n",
       "\n",
       "                               TranslatedIngredients  PrepTimeInMins  \\\n",
       "0  6 Karela (Bitter Gourd/ Pavakkai) - deseeded,S...              15   \n",
       "1  2-1 / 2 cups rice - cooked, 3 tomatoes, 3 teas...               5   \n",
       "2  1-1/2 cups Rice Vermicelli Noodles (Thin),1 On...              20   \n",
       "3  500 grams Chicken,2 Onion - chopped,1 Tomato -...              15   \n",
       "4  1 tablespoon chana dal, 1 tablespoon white ura...              10   \n",
       "\n",
       "   CookTimeInMins  TotalTimeInMins  Servings               Cuisine  \\\n",
       "0              30               45         6                Indian   \n",
       "1              10               15         3  South Indian Recipes   \n",
       "2              30               50         4  South Indian Recipes   \n",
       "3              30               45         4                Andhra   \n",
       "4              20               30         4                Andhra   \n",
       "\n",
       "                   Course                     Diet  \\\n",
       "0               Side Dish        Diabetic Friendly   \n",
       "1             Main Course               Vegetarian   \n",
       "2  South Indian Breakfast  High Protein Vegetarian   \n",
       "3                   Lunch           Non Vegeterian   \n",
       "4  South Indian Breakfast               Vegetarian   \n",
       "\n",
       "                                        Instructions  \\\n",
       "0  To begin making the Masala Karela Recipe,de-se...   \n",
       "1  टमाटर पुलियोगरे बनाने के लिए सबसे पहले टमाटर क...   \n",
       "2  To begin making the Ragi Vermicelli Recipe, fi...   \n",
       "3  To begin making Gongura Chicken Curry Recipe f...   \n",
       "4  आंध्रा स्टाइल आलम पचड़ी बनाने के लिए सबसे पहले ...   \n",
       "\n",
       "                              TranslatedInstructions  \\\n",
       "0  To begin making the Masala Karela Recipe,de-se...   \n",
       "1  To make tomato puliogere, first cut the tomato...   \n",
       "2  To begin making the Ragi Vermicelli Recipe, fi...   \n",
       "3  To begin making Gongura Chicken Curry Recipe f...   \n",
       "4  To make Andhra Style Alam Pachadi, first heat ...   \n",
       "\n",
       "                                                 URL  \n",
       "0  https://www.archanaskitchen.com/masala-karela-...  \n",
       "1  http://www.archanaskitchen.com/spicy-tomato-ri...  \n",
       "2  http://www.archanaskitchen.com/ragi-vermicelli...  \n",
       "3  http://www.archanaskitchen.com/gongura-chicken...  \n",
       "4  https://www.archanaskitchen.com/andhra-style-a...  "
      ]
     },
     "execution_count": 196,
     "metadata": {},
     "output_type": "execute_result"
    }
   ],
   "source": [
    "df.head()\n"
   ]
  },
  {
   "cell_type": "code",
   "execution_count": 197,
   "metadata": {},
   "outputs": [
    {
     "data": {
      "text/plain": [
       "0"
      ]
     },
     "execution_count": 197,
     "metadata": {},
     "output_type": "execute_result"
    }
   ],
   "source": [
    "df.duplicated().sum()"
   ]
  },
  {
   "cell_type": "code",
   "execution_count": 198,
   "metadata": {},
   "outputs": [
    {
     "data": {
      "text/plain": [
       "Srno                       int64\n",
       "RecipeName                object\n",
       "TranslatedRecipeName      object\n",
       "Ingredients               object\n",
       "TranslatedIngredients     object\n",
       "PrepTimeInMins             int64\n",
       "CookTimeInMins             int64\n",
       "TotalTimeInMins            int64\n",
       "Servings                   int64\n",
       "Cuisine                   object\n",
       "Course                    object\n",
       "Diet                      object\n",
       "Instructions              object\n",
       "TranslatedInstructions    object\n",
       "URL                       object\n",
       "dtype: object"
      ]
     },
     "execution_count": 198,
     "metadata": {},
     "output_type": "execute_result"
    }
   ],
   "source": [
    "df.dtypes"
   ]
  },
  {
   "cell_type": "code",
   "execution_count": 199,
   "metadata": {},
   "outputs": [
    {
     "data": {
      "text/plain": [
       "array(['Indian', 'South Indian Recipes', 'Andhra', 'Udupi', 'Mexican',\n",
       "       'Fusion', 'Continental', 'Bengali Recipes', 'Punjabi', 'Chettinad',\n",
       "       'Tamil Nadu', 'Maharashtrian Recipes', 'North Indian Recipes',\n",
       "       'Italian Recipes', 'Sindhi', 'Thai', 'Chinese', 'Kerala Recipes',\n",
       "       'Gujarati Recipes\\ufeff', 'Coorg', 'Rajasthani', 'Asian',\n",
       "       'Middle Eastern', 'Coastal Karnataka', 'European', 'Kashmiri',\n",
       "       'Karnataka', 'Lucknowi', 'Hyderabadi', 'Side Dish', 'Goan Recipes',\n",
       "       'Arab', 'Assamese', 'Bihari', 'Malabar', 'Himachal', 'Awadhi',\n",
       "       'Cantonese', 'North East India Recipes', 'Sichuan', 'Mughlai',\n",
       "       'Japanese', 'Mangalorean', 'Vietnamese', 'British',\n",
       "       'North Karnataka', 'Parsi Recipes', 'Greek', 'Nepalese',\n",
       "       'Oriya Recipes', 'French', 'Indo Chinese', 'Konkan',\n",
       "       'Mediterranean', 'Sri Lankan', 'Haryana', 'Uttar Pradesh',\n",
       "       'Malvani', 'Indonesian', 'African', 'Shandong', 'Korean',\n",
       "       'American', 'Kongunadu', 'Pakistani', 'Caribbean',\n",
       "       'South Karnataka', 'Appetizer', 'Uttarakhand-North Kumaon',\n",
       "       'World Breakfast', 'Malaysian', 'Dessert', 'Hunan', 'Dinner',\n",
       "       'Snack', 'Jewish', 'Burmese', 'Afghan', 'Brunch', 'Jharkhand',\n",
       "       'Nagaland', 'Lunch'], dtype=object)"
      ]
     },
     "execution_count": 199,
     "metadata": {},
     "output_type": "execute_result"
    }
   ],
   "source": [
    "df['Cuisine'].unique()"
   ]
  },
  {
   "cell_type": "code",
   "execution_count": 200,
   "metadata": {},
   "outputs": [
    {
     "data": {
      "text/plain": [
       "0                                           Masala Karela Recipe\n",
       "1                                     Spicy Tomato Rice (Recipe)\n",
       "2     Ragi Semiya Upma Recipe - Ragi Millet Vermicelli Breakfast\n",
       "3    Gongura Chicken Curry Recipe - Andhra Style Gongura Chicken\n",
       "4      Andhra Style Alam Pachadi Recipe - Adrak Chutney (Recipe)\n",
       "Name: TranslatedRecipeName, dtype: object"
      ]
     },
     "execution_count": 200,
     "metadata": {},
     "output_type": "execute_result"
    }
   ],
   "source": [
    "pd.set_option('display.max_colwidth',None)\n",
    "df['TranslatedRecipeName'] = df['TranslatedRecipeName'].str.strip()\n",
    "df['TranslatedRecipeName'].head()"
   ]
  },
  {
   "cell_type": "markdown",
   "metadata": {},
   "source": [
    "Removing the word 'Recipe' from TranslatedRecipeName to make it more general"
   ]
  },
  {
   "cell_type": "code",
   "execution_count": 201,
   "metadata": {},
   "outputs": [
    {
     "data": {
      "text/plain": [
       "6353"
      ]
     },
     "execution_count": 201,
     "metadata": {},
     "output_type": "execute_result"
    }
   ],
   "source": [
    "df['TranslatedRecipeName'][df['TranslatedRecipeName'].str.contains('\\(Recipe\\) | Recipe')].size"
   ]
  },
  {
   "cell_type": "code",
   "execution_count": 202,
   "metadata": {},
   "outputs": [],
   "source": [
    "df['TranslatedRecipeName'] = df['TranslatedRecipeName'].str.replace(r'\\(Recipe\\)|Recipe', '', regex=True)"
   ]
  },
  {
   "cell_type": "code",
   "execution_count": 203,
   "metadata": {},
   "outputs": [
    {
     "data": {
      "text/plain": [
       "0"
      ]
     },
     "execution_count": 203,
     "metadata": {},
     "output_type": "execute_result"
    }
   ],
   "source": [
    "df['TranslatedRecipeName'][df['TranslatedRecipeName'].str.contains('Reciper')].size"
   ]
  },
  {
   "cell_type": "code",
   "execution_count": 204,
   "metadata": {},
   "outputs": [
    {
     "data": {
      "text/plain": [
       "0                                           Masala Karela \n",
       "1                                       Spicy Tomato Rice \n",
       "2     Ragi Semiya Upma  - Ragi Millet Vermicelli Breakfast\n",
       "3    Gongura Chicken Curry  - Andhra Style Gongura Chicken\n",
       "4              Andhra Style Alam Pachadi  - Adrak Chutney \n",
       "Name: TranslatedRecipeName, dtype: object"
      ]
     },
     "execution_count": 204,
     "metadata": {},
     "output_type": "execute_result"
    }
   ],
   "source": [
    "df['TranslatedRecipeName'].head()"
   ]
  },
  {
   "cell_type": "markdown",
   "metadata": {},
   "source": [
    "#### Creating Embedding"
   ]
  },
  {
   "cell_type": "code",
   "execution_count": 205,
   "metadata": {},
   "outputs": [],
   "source": [
    "dataToEmbed = df['TranslatedRecipeName']\n",
    "dataToEmbed = [data.split() for data in df['TranslatedRecipeName']]"
   ]
  },
  {
   "cell_type": "markdown",
   "metadata": {},
   "source": [
    "Each Input to the model must be a list of string."
   ]
  },
  {
   "cell_type": "code",
   "execution_count": 206,
   "metadata": {},
   "outputs": [],
   "source": [
    "w2v = Word2Vec(dataToEmbed,vector_size=100,window=5,workers=5,epochs=10,min_count=5)"
   ]
  },
  {
   "cell_type": "code",
   "execution_count": 207,
   "metadata": {},
   "outputs": [
    {
     "data": {
      "text/plain": [
       "[('Bhindi', 0.9943283200263977),\n",
       " ('Gobi', 0.9924203157424927),\n",
       " ('Arbi', 0.9914670586585999),\n",
       " ('Achari', 0.9909719824790955),\n",
       " ('Baingan', 0.9908280968666077),\n",
       " ('Ka', 0.9906718134880066),\n",
       " ('Parwal', 0.9903978109359741),\n",
       " ('Tamatar', 0.9903918504714966),\n",
       " ('Besan', 0.9897860288619995),\n",
       " ('Makhani', 0.9893636107444763)]"
      ]
     },
     "execution_count": 207,
     "metadata": {},
     "output_type": "execute_result"
    }
   ],
   "source": [
    "w2v.wv.most_similar('Masala')"
   ]
  },
  {
   "cell_type": "code",
   "execution_count": null,
   "metadata": {},
   "outputs": [
    {
     "name": "stdout",
     "output_type": "stream",
     "text": [
      "Word: Achari, Similarity: 0.9971821308135986\n",
      "Word: Besan, Similarity: 0.9966304898262024\n",
      "Word: Dum, Similarity: 0.9966135621070862\n",
      "Word: Mirch, Similarity: 0.9962526559829712\n",
      "Word: Ka, Similarity: 0.9959337115287781\n",
      "Word: Chole, Similarity: 0.99583500623703\n",
      "Word: Wali, Similarity: 0.9957400560379028\n",
      "Word: Wale, Similarity: 0.9955218434333801\n",
      "Word: Bharta, Similarity: 0.9953157901763916\n",
      "Word: Arbi, Similarity: 0.9952240586280823\n"
     ]
    }
   ],
   "source": [
    "words = ['Masala', 'Karela']  # Replace with your list of words\n",
    "similar_words = w2v.wv.most_similar(positive=words, topn=10)\n",
    "\n",
    "# Example: print top 10 similar words\n",
    "for word, similarity in similar_words:\n",
    "    print(f\"Word: {word}, Similarity: {similarity}\")"
   ]
  },
  {
   "cell_type": "code",
   "execution_count": 209,
   "metadata": {},
   "outputs": [
    {
     "data": {
      "text/plain": [
       "[('Chole', 0.9972859621047974),\n",
       " ('Bihari', 0.9972686767578125),\n",
       " ('Saag', 0.9967897534370422),\n",
       " ('Mirch', 0.9967010021209717),\n",
       " ('Amritsari', 0.9964016079902649),\n",
       " ('Mooli', 0.9962871670722961),\n",
       " ('Khatti', 0.9962379336357117),\n",
       " ('Papad', 0.9961793422698975),\n",
       " ('Bharta', 0.9960885643959045),\n",
       " ('Bharwa', 0.9960362315177917)]"
      ]
     },
     "execution_count": 209,
     "metadata": {},
     "output_type": "execute_result"
    }
   ],
   "source": [
    "w2v.wv.most_similar('Karela')"
   ]
  },
  {
   "cell_type": "code",
   "execution_count": 210,
   "metadata": {},
   "outputs": [
    {
     "data": {
      "text/plain": [
       "0                                                                              Masala Karela Recipe Indian\n",
       "1                        टमाटर पुलियोगरे रेसिपी - Spicy Tomato Rice (Recipe In Hindi) South Indian Recipes\n",
       "2                          Ragi Semiya Upma Recipe - Ragi Millet Vermicelli Breakfast South Indian Recipes\n",
       "3                                       Gongura Chicken Curry Recipe - Andhra Style Gongura Chicken Andhra\n",
       "4                                   आंध्रा स्टाइल आलम पचड़ी रेसिपी - Adrak Chutney (Recipe In Hindi) Andhra\n",
       "                                                       ...                                                \n",
       "6866                                    गोअन मशरुम जकुटी रेसिपी - Goan Mushroom Xacuti Recipe Goan Recipes\n",
       "6867    शकरकंदी और मेथी का पराठा रेसिपी - Sweet Potato & Methi Stuffed Paratha Recipe North Indian Recipes\n",
       "6868                                                  Ullikadala Pulusu Recipe | Spring Onion Curry Andhra\n",
       "6869                                  Kashmiri Style Kokur Yakhni Recipe-Chicken Cooked In Yogurt Kashmiri\n",
       "6870                                            नवरंग दाल रेसिपी - Navrang Dal Recipe North Indian Recipes\n",
       "Length: 6865, dtype: object"
      ]
     },
     "execution_count": 210,
     "metadata": {},
     "output_type": "execute_result"
    }
   ],
   "source": [
    "df[['RecipeName', 'Cuisine']].astype(str).agg(' '.join, axis=1)"
   ]
  },
  {
   "cell_type": "code",
   "execution_count": 211,
   "metadata": {},
   "outputs": [
    {
     "data": {
      "text/plain": [
       "Index(['Srno', 'RecipeName', 'TranslatedRecipeName', 'Ingredients',\n",
       "       'TranslatedIngredients', 'PrepTimeInMins', 'CookTimeInMins',\n",
       "       'TotalTimeInMins', 'Servings', 'Cuisine', 'Course', 'Diet',\n",
       "       'Instructions', 'TranslatedInstructions', 'URL'],\n",
       "      dtype='object')"
      ]
     },
     "execution_count": 211,
     "metadata": {},
     "output_type": "execute_result"
    }
   ],
   "source": [
    "df.columns"
   ]
  },
  {
   "cell_type": "code",
   "execution_count": 212,
   "metadata": {},
   "outputs": [],
   "source": [
    "stemmer_instance = nltk.stem.PorterStemmer()\n",
    "stop_words = stopwords.words('english')\n",
    "\n",
    "def tokenize_recipe(text):\n",
    "    text = str(text)\n",
    "    for punctuation_char in string.punctuation:\n",
    "        text = text.replace(punctuation_char, '').lower()\n",
    "    \n",
    "    words = text.split(' ')\n",
    "    stemmed_words = []\n",
    "    \n",
    "    for word in words:\n",
    "        if (word not in stop_words) and (word != ''):\n",
    "            stemmed_words.append(stemmer_instance.stem(word))\n",
    "    \n",
    "    return stemmed_words\n",
    "\n",
    "def generate_word_embeddings(dataframe, text_column):\n",
    "    tokenized_text = dataframe[text_column].apply(tokenize_recipe)\n",
    "    word2vec_model = Word2Vec(tokenized_text, vector_size=100, window=5, min_count=1, workers=4)\n",
    "    word_vectors = {key: word2vec_model.wv[key] for key in word2vec_model.wv.index_to_key}\n",
    "    \n",
    "    return word_vectors"
   ]
  },
  {
   "cell_type": "code",
   "execution_count": 213,
   "metadata": {},
   "outputs": [],
   "source": [
    "def compute_and_store_embeddings(data_frame):\n",
    "    ingredient_embeddings_model = generate_word_embeddings(data_frame, 'TranslatedIngredients')\n",
    "    data_frame['combined_text'] = data_frame[['TranslatedRecipeName', 'Diet', 'TranslatedInstructions']].astype(str).agg(' '.join, axis=1)\n",
    "    data_frame['combined_text'] = data_frame['combined_text'].str.lower()\n",
    "\n",
    "    tfidf_model = TfidfVectorizer(min_df=5, tokenizer=tokenize_recipe)\n",
    "    vectorized_text = tfidf_model.fit_transform(data_frame['combined_text'])\n",
    "\n",
    "    ingredient_vectors = [\n",
    "        np.mean([ingredient_embeddings_model[word] for word in tokenize_recipe(ingredient_list) if word in ingredient_embeddings_model] \n",
    "                or [np.zeros(100)], axis=0) \n",
    "        for ingredient_list in data_frame['TranslatedIngredients']\n",
    "    ]\n",
    "\n",
    "    final_embeddings = np.concatenate([vectorized_text.toarray(), np.array(ingredient_vectors)], axis=1)\n",
    "\n",
    "    with open('final_embeddings.pkl', 'wb') as embedding_file:\n",
    "        pickle.dump(final_embeddings, embedding_file)\n",
    "    \n",
    "    with open('tfidf_model.pkl', 'wb') as tfidf_file:\n",
    "        pickle.dump(tfidf_model, tfidf_file)\n",
    "    \n",
    "    print(\"Embeddings and TF-IDF vectorizer successfully saved!\")\n",
    "    "
   ]
  },
  {
   "cell_type": "code",
   "execution_count": 214,
   "metadata": {},
   "outputs": [],
   "source": [
    "embeddings = generate_word_embeddings(sampled_data, 'TranslatedIngredients')"
   ]
  },
  {
   "cell_type": "code",
   "execution_count": null,
   "metadata": {},
   "outputs": [],
   "source": []
  },
  {
   "cell_type": "code",
   "execution_count": 215,
   "metadata": {},
   "outputs": [
    {
     "name": "stderr",
     "output_type": "stream",
     "text": [
      "/Users/adityaanand/Desktop/Desktop/DataScience/env/lib/python3.11/site-packages/sklearn/feature_extraction/text.py:521: UserWarning: The parameter 'token_pattern' will not be used since 'tokenizer' is not None'\n",
      "  warnings.warn(\n"
     ]
    }
   ],
   "source": [
    "sampled_data['combined_text'] = sampled_data[['TranslatedRecipeName', 'Diet', 'TranslatedInstructions']].astype(str).agg(' '.join, axis=1)\n",
    "\n",
    "\n",
    "sampled_data['combined_text'] = sampled_data['combined_text'].str.lower()\n",
    "\n",
    "tfidf_vectorizer = TfidfVectorizer(min_df=5, tokenizer=tokenize_recipe)\n",
    "vectorized_text_data = tfidf_vectorizer.fit_transform(sampled_data['combined_text'])"
   ]
  },
  {
   "cell_type": "code",
   "execution_count": 216,
   "metadata": {},
   "outputs": [
    {
     "data": {
      "text/plain": [
       "(6865, 5721)"
      ]
     },
     "execution_count": 216,
     "metadata": {},
     "output_type": "execute_result"
    }
   ],
   "source": [
    "vectorized_text_data.toarray().shape\n"
   ]
  },
  {
   "cell_type": "code",
   "execution_count": 220,
   "metadata": {},
   "outputs": [],
   "source": [
    "\n",
    "def load_combined_data_and_model():\n",
    "    with open('final_embeddings.pkl', 'rb') as file:\n",
    "        combined_data = pickle.load(file)\n",
    "    with open('tfidf_model.pkl', 'rb') as file:\n",
    "        tfidf_model = pickle.load(file)\n",
    "    return combined_data, tfidf_model"
   ]
  },
  {
   "cell_type": "code",
   "execution_count": 225,
   "metadata": {},
   "outputs": [],
   "source": [
    "def search_similar_recipes(data_frame, user_query, top_n=5):\n",
    "    # try:\n",
    "    #     combined_data, tfidf_model = load_combined_data_and_model()\n",
    "    # except FileNotFoundError:\n",
    "    compute_and_store_embeddings(data_frame)\n",
    "    combined_data, tfidf_model = load_combined_data_and_model()\n",
    "\n",
    "    query_frame = pd.DataFrame({'combined_text': [user_query]})\n",
    "    query_frame['combined_text'] = query_frame['combined_text'].str.lower()\n",
    "    query_vectorized = tfidf_model.transform(query_frame['combined_text'])\n",
    "\n",
    "    feature_gap = combined_data.shape[1] - query_vectorized.shape[1]\n",
    "    if feature_gap > 0:\n",
    "        query_vectorized = np.pad(query_vectorized.toarray(), ((0, 0), (0, feature_gap)))\n",
    "\n",
    "    similarity_scores = cosine_similarity(query_vectorized, combined_data)\n",
    "    top_matches = similarity_scores[0].argsort()[::-1][:top_n]\n",
    "    matched_recipe_names = data_frame.iloc[top_matches]['TranslatedRecipeName'].tolist()\n",
    "\n",
    "    return matched_recipe_names"
   ]
  },
  {
   "cell_type": "code",
   "execution_count": 231,
   "metadata": {},
   "outputs": [
    {
     "name": "stderr",
     "output_type": "stream",
     "text": [
      "/Users/adityaanand/Desktop/Desktop/DataScience/env/lib/python3.11/site-packages/sklearn/feature_extraction/text.py:521: UserWarning: The parameter 'token_pattern' will not be used since 'tokenizer' is not None'\n",
      "  warnings.warn(\n"
     ]
    },
    {
     "name": "stdout",
     "output_type": "stream",
     "text": [
      "Embeddings and TF-IDF vectorizer successfully saved!\n"
     ]
    },
    {
     "data": {
      "text/plain": [
       "['Spicy Chicken Curry  In Naga Style',\n",
       " 'Chinese Fried Rice  With Chicken And Shredded Lettuce',\n",
       " 'Chinese Dragon Chicken With Vegetables ',\n",
       " 'Chinese Chicken Fried Rice ',\n",
       " 'Pan Fried Chinese Chilli Chicken recipe']"
      ]
     },
     "execution_count": 231,
     "metadata": {},
     "output_type": "execute_result"
    }
   ],
   "source": [
    "# Test\n",
    "similiar_receipe = search_similar_recipes(sampled_data, \"spicy chicken in chinese style\")\n",
    "similiar_receipe"
   ]
  },
  {
   "cell_type": "code",
   "execution_count": 232,
   "metadata": {},
   "outputs": [
    {
     "data": {
      "text/html": [
       "<div>\n",
       "<style scoped>\n",
       "    .dataframe tbody tr th:only-of-type {\n",
       "        vertical-align: middle;\n",
       "    }\n",
       "\n",
       "    .dataframe tbody tr th {\n",
       "        vertical-align: top;\n",
       "    }\n",
       "\n",
       "    .dataframe thead th {\n",
       "        text-align: right;\n",
       "    }\n",
       "</style>\n",
       "<table border=\"1\" class=\"dataframe\">\n",
       "  <thead>\n",
       "    <tr style=\"text-align: right;\">\n",
       "      <th></th>\n",
       "      <th>TranslatedRecipeName</th>\n",
       "      <th>Diet</th>\n",
       "      <th>Cuisine</th>\n",
       "      <th>TranslatedInstructions</th>\n",
       "      <th>CookTimeInMins</th>\n",
       "    </tr>\n",
       "  </thead>\n",
       "  <tbody>\n",
       "    <tr>\n",
       "      <th>1713</th>\n",
       "      <td>Chinese Chicken Fried Rice</td>\n",
       "      <td>Non Vegeterian</td>\n",
       "      <td>Chinese</td>\n",
       "      <td>To make Chinese Chicken Fried Rice, first heat the oil in a pan. Add chicken pieces to it and cook it well. After the chicken is cooked, add soy sauce, salt, pepper powder and cook it for a few seconds. Now add lettuce, mix and let it cook for 4 to 5 minutes. After 4 to 5 minutes, add cooked rice and mix it well. After cooking for 2 minutes, turn off the gas and serve. Serve Chinese Chicken Fried Rice Recipe with Soya Chunks Manchurian for dinner.</td>\n",
       "      <td>10</td>\n",
       "    </tr>\n",
       "    <tr>\n",
       "      <th>1756</th>\n",
       "      <td>Pan Fried Chinese Chilli Chicken recipe</td>\n",
       "      <td>Non Vegeterian</td>\n",
       "      <td>Chinese</td>\n",
       "      <td>To prepare Pan Fried Chinese Chilli Chicken recipe, wash the chicken breasts well with water and then cut them into vertical strips or small cubes.In a bowl, beat the egg and combine with soy sauce, black pepper powder, red chili powder, rice flour and the chicken strips, mix well.Heat a Skillet and drizzle oil.Place all the coated chicken pieces, well apart from each other.Let them fry on medium high heat till nice and soft on all the sides and are golden brown.Check with the toothpick if the chicken is cooked well.While chicken is cooking, prepare the sauce. In a mixing bowl, combine the soy sauce, red chili sauce, tomato ketchup, crushed black pepper and honey. Heat a tablespoon oil in a saucepan and add chopped garlic. Saute for few seconds and then add chilies, onions and bell pepper. Mix and cover. Let it cook on medium heat for 2-3 minutes.Pour in the prepared sauce and mix.Add the pan fried chicken and mix well.Sprinkle some chopped spring onions and mix.Simmer on low heat for 5 minutes and remove from heat.Serve this delicious Pan Fried Chinese Chilli Chicken as an appetizer or make a meal with plain rice/Chinese Vegetable Fried Rice and Black Sesame Nai Huang Bao Recipe.</td>\n",
       "      <td>35</td>\n",
       "    </tr>\n",
       "    <tr>\n",
       "      <th>1915</th>\n",
       "      <td>Chinese Fried Rice  With Chicken And Shredded Lettuce</td>\n",
       "      <td>Non Vegeterian</td>\n",
       "      <td>Chinese</td>\n",
       "      <td>To begin making Chinese Fried Rice Recipe With Chicken And Shredded Lettuce, heat oil in a chinese wok and add chicken pieces to it. Saute till chicken is soft and cooked.Now add soy sauce, salt, black pepper powder and saute for another few seconds.Add shredded lettuce and mix well and fry for 4-5 mins till lettuce is partially tender.Take 2 cups of cooked rice and add in the chicken mix. Toss for couple of minutes till everything incorporates well.Turn off the gas and transfer to a platter and serve. Serve Chinese Fried Rice Recipe With Chicken And Shredded Lettuce with Soy Chunks Manchurian Recipe and Chinese Darsaan Recipe With Ice Cream for dessert.\\n</td>\n",
       "      <td>10</td>\n",
       "    </tr>\n",
       "    <tr>\n",
       "      <th>3900</th>\n",
       "      <td>Chinese Dragon Chicken With Vegetables</td>\n",
       "      <td>Non Vegeterian</td>\n",
       "      <td>Chinese</td>\n",
       "      <td>To begin with Chinese Dragon Chicken With Vegetables Recipe, get prep with all the ingredients first. Add 1.5 tablespoons of ginger garlic paste to chicken and mix well. Leave it to marinate for an hour. (save the rest of the ginger garlic paste for later use).Add beaten egg to it along with corn flour, salt, pepper and red chili flakes. Set it aside.Heat some oil in a wok, saute all the vegetables - babycorn, red, yellow and green peppers, carrots, onions and mushrooms until tender but crunchy. Set it aside on a plate.In a shallow fry pan, shallow fry all the chicken pieces till cooked but crisp. You can alternately, deep fry the marinated chicken pieces, till crunchy.In the wok, heat about 2 teaspoons of oil. Add red chillies, remaining minced ginger garlic, sauté it well, till the raw smell disappears.Add the fried chicken pieces, sauteed vegetables and mushroom.Add Sichuan sauce, tomato ketchup, honey, salt. Add more pepper if you prefer. Mix well.Adjust with a little water if required.Saute for a couple of minutes till combined.Serve Chinese Dragon Chicken With Vegetables Recipe along with and Bao buns or  Chinese Vegetable Fried Rice and end it with a Toffee Banana Recipe (Classic Chinese Dessert).\\n</td>\n",
       "      <td>30</td>\n",
       "    </tr>\n",
       "    <tr>\n",
       "      <th>5996</th>\n",
       "      <td>Spicy Chicken Curry  In Naga Style</td>\n",
       "      <td>High Protein Non Vegetarian</td>\n",
       "      <td>Nagaland</td>\n",
       "      <td>To begin making Spicy Chicken Curry Recipe In Naga Style, get prep with all the ingredients first and thoroughly wash chicken.In a nonstick fry pan, roast  whole green chillies and tomatoes.Then crush green chillies and tomatoes in a mortar &amp; pestle. (do not blend it in grinder)Heat a wok on medium heat, add green chilli, tomato paste and chicken, mix nicely.Cook the chicken until the water of chicken evaporates, stirring occasionally.Add one cup of water and cover the lid and cook until chicken is well cooked and water dries up.Add red chilli powder and stir, cook for a bit and add garlic paste. Mix properly. Cook another 1 minute and spicy chicken curry in Naga style is ready to serve. Garnish Spicy Chicken Curry Recipe In Naga Style with coriander leaves.Serve Spicy Chicken Curry Recipe In Naga Style along with Steamed Rice and a chutney like Hmarcha rawt by the side for a simple comforting meal.</td>\n",
       "      <td>45</td>\n",
       "    </tr>\n",
       "  </tbody>\n",
       "</table>\n",
       "</div>"
      ],
      "text/plain": [
       "                                       TranslatedRecipeName  \\\n",
       "1713                            Chinese Chicken Fried Rice    \n",
       "1756                Pan Fried Chinese Chilli Chicken recipe   \n",
       "1915  Chinese Fried Rice  With Chicken And Shredded Lettuce   \n",
       "3900                Chinese Dragon Chicken With Vegetables    \n",
       "5996                     Spicy Chicken Curry  In Naga Style   \n",
       "\n",
       "                             Diet   Cuisine  \\\n",
       "1713               Non Vegeterian   Chinese   \n",
       "1756               Non Vegeterian   Chinese   \n",
       "1915               Non Vegeterian   Chinese   \n",
       "3900               Non Vegeterian   Chinese   \n",
       "5996  High Protein Non Vegetarian  Nagaland   \n",
       "\n",
       "                                                                                                                                                                                                                                                                                                                                                                                                                                                                                                                                                                                                                                                                                                                                                                                                                                                                                                                                                                                                                                                                                                                                                                                                                                                         TranslatedInstructions  \\\n",
       "1713                                                                                                                                                                                                                                                                                                                                                                                                                                                                                                                                                                                                                                                                                                                                                                                                        To make Chinese Chicken Fried Rice, first heat the oil in a pan. Add chicken pieces to it and cook it well. After the chicken is cooked, add soy sauce, salt, pepper powder and cook it for a few seconds. Now add lettuce, mix and let it cook for 4 to 5 minutes. After 4 to 5 minutes, add cooked rice and mix it well. After cooking for 2 minutes, turn off the gas and serve. Serve Chinese Chicken Fried Rice Recipe with Soya Chunks Manchurian for dinner.   \n",
       "1756                            To prepare Pan Fried Chinese Chilli Chicken recipe, wash the chicken breasts well with water and then cut them into vertical strips or small cubes.In a bowl, beat the egg and combine with soy sauce, black pepper powder, red chili powder, rice flour and the chicken strips, mix well.Heat a Skillet and drizzle oil.Place all the coated chicken pieces, well apart from each other.Let them fry on medium high heat till nice and soft on all the sides and are golden brown.Check with the toothpick if the chicken is cooked well.While chicken is cooking, prepare the sauce. In a mixing bowl, combine the soy sauce, red chili sauce, tomato ketchup, crushed black pepper and honey. Heat a tablespoon oil in a saucepan and add chopped garlic. Saute for few seconds and then add chilies, onions and bell pepper. Mix and cover. Let it cook on medium heat for 2-3 minutes.Pour in the prepared sauce and mix.Add the pan fried chicken and mix well.Sprinkle some chopped spring onions and mix.Simmer on low heat for 5 minutes and remove from heat.Serve this delicious Pan Fried Chinese Chilli Chicken as an appetizer or make a meal with plain rice/Chinese Vegetable Fried Rice and Black Sesame Nai Huang Bao Recipe.   \n",
       "1915                                                                                                                                                                                                                                                                                                                                                                                                                                                                                                                                                                                   To begin making Chinese Fried Rice Recipe With Chicken And Shredded Lettuce, heat oil in a chinese wok and add chicken pieces to it. Saute till chicken is soft and cooked.Now add soy sauce, salt, black pepper powder and saute for another few seconds.Add shredded lettuce and mix well and fry for 4-5 mins till lettuce is partially tender.Take 2 cups of cooked rice and add in the chicken mix. Toss for couple of minutes till everything incorporates well.Turn off the gas and transfer to a platter and serve. Serve Chinese Fried Rice Recipe With Chicken And Shredded Lettuce with Soy Chunks Manchurian Recipe and Chinese Darsaan Recipe With Ice Cream for dessert.\\n   \n",
       "3900  To begin with Chinese Dragon Chicken With Vegetables Recipe, get prep with all the ingredients first. Add 1.5 tablespoons of ginger garlic paste to chicken and mix well. Leave it to marinate for an hour. (save the rest of the ginger garlic paste for later use).Add beaten egg to it along with corn flour, salt, pepper and red chili flakes. Set it aside.Heat some oil in a wok, saute all the vegetables - babycorn, red, yellow and green peppers, carrots, onions and mushrooms until tender but crunchy. Set it aside on a plate.In a shallow fry pan, shallow fry all the chicken pieces till cooked but crisp. You can alternately, deep fry the marinated chicken pieces, till crunchy.In the wok, heat about 2 teaspoons of oil. Add red chillies, remaining minced ginger garlic, sauté it well, till the raw smell disappears.Add the fried chicken pieces, sauteed vegetables and mushroom.Add Sichuan sauce, tomato ketchup, honey, salt. Add more pepper if you prefer. Mix well.Adjust with a little water if required.Saute for a couple of minutes till combined.Serve Chinese Dragon Chicken With Vegetables Recipe along with and Bao buns or  Chinese Vegetable Fried Rice and end it with a Toffee Banana Recipe (Classic Chinese Dessert).\\n   \n",
       "5996                                                                                                                                                                                                                                                                                                                           To begin making Spicy Chicken Curry Recipe In Naga Style, get prep with all the ingredients first and thoroughly wash chicken.In a nonstick fry pan, roast  whole green chillies and tomatoes.Then crush green chillies and tomatoes in a mortar & pestle. (do not blend it in grinder)Heat a wok on medium heat, add green chilli, tomato paste and chicken, mix nicely.Cook the chicken until the water of chicken evaporates, stirring occasionally.Add one cup of water and cover the lid and cook until chicken is well cooked and water dries up.Add red chilli powder and stir, cook for a bit and add garlic paste. Mix properly. Cook another 1 minute and spicy chicken curry in Naga style is ready to serve. Garnish Spicy Chicken Curry Recipe In Naga Style with coriander leaves.Serve Spicy Chicken Curry Recipe In Naga Style along with Steamed Rice and a chutney like Hmarcha rawt by the side for a simple comforting meal.   \n",
       "\n",
       "      CookTimeInMins  \n",
       "1713              10  \n",
       "1756              35  \n",
       "1915              10  \n",
       "3900              30  \n",
       "5996              45  "
      ]
     },
     "execution_count": 232,
     "metadata": {},
     "output_type": "execute_result"
    }
   ],
   "source": [
    "sampled_data.loc[sampled_data['TranslatedRecipeName'].isin(similiar_receipe), ['TranslatedRecipeName', 'Diet','Cuisine','TranslatedInstructions','CookTimeInMins']]"
   ]
  },
  {
   "cell_type": "code",
   "execution_count": 233,
   "metadata": {},
   "outputs": [],
   "source": [
    "sampled_data.to_pickle('dataframe.pkl')"
   ]
  },
  {
   "cell_type": "code",
   "execution_count": null,
   "metadata": {},
   "outputs": [],
   "source": []
  }
 ],
 "metadata": {
  "kernelspec": {
   "display_name": "Python 3",
   "language": "python",
   "name": "python3"
  },
  "language_info": {
   "codemirror_mode": {
    "name": "ipython",
    "version": 3
   },
   "file_extension": ".py",
   "mimetype": "text/x-python",
   "name": "python",
   "nbconvert_exporter": "python",
   "pygments_lexer": "ipython3",
   "version": "3.11.7"
  }
 },
 "nbformat": 4,
 "nbformat_minor": 2
}
